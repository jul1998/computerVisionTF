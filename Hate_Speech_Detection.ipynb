{
  "nbformat": 4,
  "nbformat_minor": 0,
  "metadata": {
    "colab": {
      "provenance": [],
      "gpuType": "T4"
    },
    "kernelspec": {
      "name": "python3",
      "display_name": "Python 3"
    },
    "language_info": {
      "name": "python"
    },
    "accelerator": "GPU"
  },
  "cells": [
    {
      "cell_type": "code",
      "execution_count": 1,
      "metadata": {
        "id": "Fskkr-Vys7IU"
      },
      "outputs": [],
      "source": [
        "# Import required libraries\n",
        "import tensorflow as tf\n",
        "import pandas as pd\n",
        "import matplotlib.pyplot as plt"
      ]
    },
    {
      "cell_type": "code",
      "source": [
        "!mkdir -p ~/.kaggle/ && mv kaggle.json ~/.kaggle/ && chmod 600 ~/.kaggle/kaggle.json\n"
      ],
      "metadata": {
        "id": "6E-pi6hGtAve"
      },
      "execution_count": 2,
      "outputs": []
    },
    {
      "cell_type": "code",
      "source": [
        "!kaggle datasets download -d waalbannyantudre/hate-speech-detection-curated-dataset"
      ],
      "metadata": {
        "colab": {
          "base_uri": "https://localhost:8080/"
        },
        "id": "APunCo_WtAtm",
        "outputId": "b64d8fd9-bc04-42b2-ea19-e318a5af1c34"
      },
      "execution_count": 3,
      "outputs": [
        {
          "output_type": "stream",
          "name": "stdout",
          "text": [
            "Downloading hate-speech-detection-curated-dataset.zip to /content\n",
            " 92% 105M/114M [00:01<00:00, 84.7MB/s] \n",
            "100% 114M/114M [00:01<00:00, 81.4MB/s]\n"
          ]
        }
      ]
    },
    {
      "cell_type": "code",
      "source": [
        "!wget https://raw.githubusercontent.com/mrdbourke/tensorflow-deep-learning/main/extras/helper_functions.py\n",
        "from helper_functions import create_tensorboard_callback, plot_loss_curves, unzip_data, compare_historys, walk_through_dir\n"
      ],
      "metadata": {
        "colab": {
          "base_uri": "https://localhost:8080/"
        },
        "id": "nV3VM5oitArG",
        "outputId": "677c8a7c-351f-4ce9-e94a-3ab696f8eb5e"
      },
      "execution_count": 4,
      "outputs": [
        {
          "output_type": "stream",
          "name": "stdout",
          "text": [
            "--2024-01-11 02:57:06--  https://raw.githubusercontent.com/mrdbourke/tensorflow-deep-learning/main/extras/helper_functions.py\n",
            "Resolving raw.githubusercontent.com (raw.githubusercontent.com)... 185.199.108.133, 185.199.110.133, 185.199.109.133, ...\n",
            "Connecting to raw.githubusercontent.com (raw.githubusercontent.com)|185.199.108.133|:443... connected.\n",
            "HTTP request sent, awaiting response... 200 OK\n",
            "Length: 10246 (10K) [text/plain]\n",
            "Saving to: ‘helper_functions.py’\n",
            "\n",
            "\rhelper_functions.py   0%[                    ]       0  --.-KB/s               \rhelper_functions.py 100%[===================>]  10.01K  --.-KB/s    in 0s      \n",
            "\n",
            "2024-01-11 02:57:06 (85.3 MB/s) - ‘helper_functions.py’ saved [10246/10246]\n",
            "\n"
          ]
        }
      ]
    },
    {
      "cell_type": "code",
      "source": [
        "# prompt: unzip and read file\n",
        "\n",
        "data_dir = '/content/hate-speech-detection-curated-dataset.zip'\n",
        "unzip_data(data_dir)\n"
      ],
      "metadata": {
        "id": "_Ym19Go8tAo2"
      },
      "execution_count": 5,
      "outputs": []
    },
    {
      "cell_type": "code",
      "source": [
        "df = pd.read_csv('/content/HateSpeechDatasetBalanced.csv')\n",
        "df.head()"
      ],
      "metadata": {
        "colab": {
          "base_uri": "https://localhost:8080/",
          "height": 206
        },
        "id": "pAiD2cP2tSj2",
        "outputId": "74aae13f-6436-46d2-c8c5-aeed874faec1"
      },
      "execution_count": 6,
      "outputs": [
        {
          "output_type": "execute_result",
          "data": {
            "text/plain": [
              "                                             Content  Label\n",
              "0  denial of normal the con be asked to comment o...      1\n",
              "1  just by being able to tweet this insufferable ...      1\n",
              "2  that is retarded you too cute to be single tha...      1\n",
              "3  thought of a real badass mongol style declarat...      1\n",
              "4                                afro american basho      1"
            ],
            "text/html": [
              "\n",
              "  <div id=\"df-73ec6a46-bf73-4da6-964f-641cec992416\" class=\"colab-df-container\">\n",
              "    <div>\n",
              "<style scoped>\n",
              "    .dataframe tbody tr th:only-of-type {\n",
              "        vertical-align: middle;\n",
              "    }\n",
              "\n",
              "    .dataframe tbody tr th {\n",
              "        vertical-align: top;\n",
              "    }\n",
              "\n",
              "    .dataframe thead th {\n",
              "        text-align: right;\n",
              "    }\n",
              "</style>\n",
              "<table border=\"1\" class=\"dataframe\">\n",
              "  <thead>\n",
              "    <tr style=\"text-align: right;\">\n",
              "      <th></th>\n",
              "      <th>Content</th>\n",
              "      <th>Label</th>\n",
              "    </tr>\n",
              "  </thead>\n",
              "  <tbody>\n",
              "    <tr>\n",
              "      <th>0</th>\n",
              "      <td>denial of normal the con be asked to comment o...</td>\n",
              "      <td>1</td>\n",
              "    </tr>\n",
              "    <tr>\n",
              "      <th>1</th>\n",
              "      <td>just by being able to tweet this insufferable ...</td>\n",
              "      <td>1</td>\n",
              "    </tr>\n",
              "    <tr>\n",
              "      <th>2</th>\n",
              "      <td>that is retarded you too cute to be single tha...</td>\n",
              "      <td>1</td>\n",
              "    </tr>\n",
              "    <tr>\n",
              "      <th>3</th>\n",
              "      <td>thought of a real badass mongol style declarat...</td>\n",
              "      <td>1</td>\n",
              "    </tr>\n",
              "    <tr>\n",
              "      <th>4</th>\n",
              "      <td>afro american basho</td>\n",
              "      <td>1</td>\n",
              "    </tr>\n",
              "  </tbody>\n",
              "</table>\n",
              "</div>\n",
              "    <div class=\"colab-df-buttons\">\n",
              "\n",
              "  <div class=\"colab-df-container\">\n",
              "    <button class=\"colab-df-convert\" onclick=\"convertToInteractive('df-73ec6a46-bf73-4da6-964f-641cec992416')\"\n",
              "            title=\"Convert this dataframe to an interactive table.\"\n",
              "            style=\"display:none;\">\n",
              "\n",
              "  <svg xmlns=\"http://www.w3.org/2000/svg\" height=\"24px\" viewBox=\"0 -960 960 960\">\n",
              "    <path d=\"M120-120v-720h720v720H120Zm60-500h600v-160H180v160Zm220 220h160v-160H400v160Zm0 220h160v-160H400v160ZM180-400h160v-160H180v160Zm440 0h160v-160H620v160ZM180-180h160v-160H180v160Zm440 0h160v-160H620v160Z\"/>\n",
              "  </svg>\n",
              "    </button>\n",
              "\n",
              "  <style>\n",
              "    .colab-df-container {\n",
              "      display:flex;\n",
              "      gap: 12px;\n",
              "    }\n",
              "\n",
              "    .colab-df-convert {\n",
              "      background-color: #E8F0FE;\n",
              "      border: none;\n",
              "      border-radius: 50%;\n",
              "      cursor: pointer;\n",
              "      display: none;\n",
              "      fill: #1967D2;\n",
              "      height: 32px;\n",
              "      padding: 0 0 0 0;\n",
              "      width: 32px;\n",
              "    }\n",
              "\n",
              "    .colab-df-convert:hover {\n",
              "      background-color: #E2EBFA;\n",
              "      box-shadow: 0px 1px 2px rgba(60, 64, 67, 0.3), 0px 1px 3px 1px rgba(60, 64, 67, 0.15);\n",
              "      fill: #174EA6;\n",
              "    }\n",
              "\n",
              "    .colab-df-buttons div {\n",
              "      margin-bottom: 4px;\n",
              "    }\n",
              "\n",
              "    [theme=dark] .colab-df-convert {\n",
              "      background-color: #3B4455;\n",
              "      fill: #D2E3FC;\n",
              "    }\n",
              "\n",
              "    [theme=dark] .colab-df-convert:hover {\n",
              "      background-color: #434B5C;\n",
              "      box-shadow: 0px 1px 3px 1px rgba(0, 0, 0, 0.15);\n",
              "      filter: drop-shadow(0px 1px 2px rgba(0, 0, 0, 0.3));\n",
              "      fill: #FFFFFF;\n",
              "    }\n",
              "  </style>\n",
              "\n",
              "    <script>\n",
              "      const buttonEl =\n",
              "        document.querySelector('#df-73ec6a46-bf73-4da6-964f-641cec992416 button.colab-df-convert');\n",
              "      buttonEl.style.display =\n",
              "        google.colab.kernel.accessAllowed ? 'block' : 'none';\n",
              "\n",
              "      async function convertToInteractive(key) {\n",
              "        const element = document.querySelector('#df-73ec6a46-bf73-4da6-964f-641cec992416');\n",
              "        const dataTable =\n",
              "          await google.colab.kernel.invokeFunction('convertToInteractive',\n",
              "                                                    [key], {});\n",
              "        if (!dataTable) return;\n",
              "\n",
              "        const docLinkHtml = 'Like what you see? Visit the ' +\n",
              "          '<a target=\"_blank\" href=https://colab.research.google.com/notebooks/data_table.ipynb>data table notebook</a>'\n",
              "          + ' to learn more about interactive tables.';\n",
              "        element.innerHTML = '';\n",
              "        dataTable['output_type'] = 'display_data';\n",
              "        await google.colab.output.renderOutput(dataTable, element);\n",
              "        const docLink = document.createElement('div');\n",
              "        docLink.innerHTML = docLinkHtml;\n",
              "        element.appendChild(docLink);\n",
              "      }\n",
              "    </script>\n",
              "  </div>\n",
              "\n",
              "\n",
              "<div id=\"df-ddb50211-b6e3-4d06-a847-afa404955df5\">\n",
              "  <button class=\"colab-df-quickchart\" onclick=\"quickchart('df-ddb50211-b6e3-4d06-a847-afa404955df5')\"\n",
              "            title=\"Suggest charts\"\n",
              "            style=\"display:none;\">\n",
              "\n",
              "<svg xmlns=\"http://www.w3.org/2000/svg\" height=\"24px\"viewBox=\"0 0 24 24\"\n",
              "     width=\"24px\">\n",
              "    <g>\n",
              "        <path d=\"M19 3H5c-1.1 0-2 .9-2 2v14c0 1.1.9 2 2 2h14c1.1 0 2-.9 2-2V5c0-1.1-.9-2-2-2zM9 17H7v-7h2v7zm4 0h-2V7h2v10zm4 0h-2v-4h2v4z\"/>\n",
              "    </g>\n",
              "</svg>\n",
              "  </button>\n",
              "\n",
              "<style>\n",
              "  .colab-df-quickchart {\n",
              "      --bg-color: #E8F0FE;\n",
              "      --fill-color: #1967D2;\n",
              "      --hover-bg-color: #E2EBFA;\n",
              "      --hover-fill-color: #174EA6;\n",
              "      --disabled-fill-color: #AAA;\n",
              "      --disabled-bg-color: #DDD;\n",
              "  }\n",
              "\n",
              "  [theme=dark] .colab-df-quickchart {\n",
              "      --bg-color: #3B4455;\n",
              "      --fill-color: #D2E3FC;\n",
              "      --hover-bg-color: #434B5C;\n",
              "      --hover-fill-color: #FFFFFF;\n",
              "      --disabled-bg-color: #3B4455;\n",
              "      --disabled-fill-color: #666;\n",
              "  }\n",
              "\n",
              "  .colab-df-quickchart {\n",
              "    background-color: var(--bg-color);\n",
              "    border: none;\n",
              "    border-radius: 50%;\n",
              "    cursor: pointer;\n",
              "    display: none;\n",
              "    fill: var(--fill-color);\n",
              "    height: 32px;\n",
              "    padding: 0;\n",
              "    width: 32px;\n",
              "  }\n",
              "\n",
              "  .colab-df-quickchart:hover {\n",
              "    background-color: var(--hover-bg-color);\n",
              "    box-shadow: 0 1px 2px rgba(60, 64, 67, 0.3), 0 1px 3px 1px rgba(60, 64, 67, 0.15);\n",
              "    fill: var(--button-hover-fill-color);\n",
              "  }\n",
              "\n",
              "  .colab-df-quickchart-complete:disabled,\n",
              "  .colab-df-quickchart-complete:disabled:hover {\n",
              "    background-color: var(--disabled-bg-color);\n",
              "    fill: var(--disabled-fill-color);\n",
              "    box-shadow: none;\n",
              "  }\n",
              "\n",
              "  .colab-df-spinner {\n",
              "    border: 2px solid var(--fill-color);\n",
              "    border-color: transparent;\n",
              "    border-bottom-color: var(--fill-color);\n",
              "    animation:\n",
              "      spin 1s steps(1) infinite;\n",
              "  }\n",
              "\n",
              "  @keyframes spin {\n",
              "    0% {\n",
              "      border-color: transparent;\n",
              "      border-bottom-color: var(--fill-color);\n",
              "      border-left-color: var(--fill-color);\n",
              "    }\n",
              "    20% {\n",
              "      border-color: transparent;\n",
              "      border-left-color: var(--fill-color);\n",
              "      border-top-color: var(--fill-color);\n",
              "    }\n",
              "    30% {\n",
              "      border-color: transparent;\n",
              "      border-left-color: var(--fill-color);\n",
              "      border-top-color: var(--fill-color);\n",
              "      border-right-color: var(--fill-color);\n",
              "    }\n",
              "    40% {\n",
              "      border-color: transparent;\n",
              "      border-right-color: var(--fill-color);\n",
              "      border-top-color: var(--fill-color);\n",
              "    }\n",
              "    60% {\n",
              "      border-color: transparent;\n",
              "      border-right-color: var(--fill-color);\n",
              "    }\n",
              "    80% {\n",
              "      border-color: transparent;\n",
              "      border-right-color: var(--fill-color);\n",
              "      border-bottom-color: var(--fill-color);\n",
              "    }\n",
              "    90% {\n",
              "      border-color: transparent;\n",
              "      border-bottom-color: var(--fill-color);\n",
              "    }\n",
              "  }\n",
              "</style>\n",
              "\n",
              "  <script>\n",
              "    async function quickchart(key) {\n",
              "      const quickchartButtonEl =\n",
              "        document.querySelector('#' + key + ' button');\n",
              "      quickchartButtonEl.disabled = true;  // To prevent multiple clicks.\n",
              "      quickchartButtonEl.classList.add('colab-df-spinner');\n",
              "      try {\n",
              "        const charts = await google.colab.kernel.invokeFunction(\n",
              "            'suggestCharts', [key], {});\n",
              "      } catch (error) {\n",
              "        console.error('Error during call to suggestCharts:', error);\n",
              "      }\n",
              "      quickchartButtonEl.classList.remove('colab-df-spinner');\n",
              "      quickchartButtonEl.classList.add('colab-df-quickchart-complete');\n",
              "    }\n",
              "    (() => {\n",
              "      let quickchartButtonEl =\n",
              "        document.querySelector('#df-ddb50211-b6e3-4d06-a847-afa404955df5 button');\n",
              "      quickchartButtonEl.style.display =\n",
              "        google.colab.kernel.accessAllowed ? 'block' : 'none';\n",
              "    })();\n",
              "  </script>\n",
              "</div>\n",
              "\n",
              "    </div>\n",
              "  </div>\n"
            ]
          },
          "metadata": {},
          "execution_count": 6
        }
      ]
    },
    {
      "cell_type": "code",
      "source": [
        "df.Label.value_counts()"
      ],
      "metadata": {
        "colab": {
          "base_uri": "https://localhost:8080/"
        },
        "id": "oJSj9cHPtSh2",
        "outputId": "adda6e61-b444-4d92-9d75-9d1784d8f9d2"
      },
      "execution_count": 7,
      "outputs": [
        {
          "output_type": "execute_result",
          "data": {
            "text/plain": [
              "1    364525\n",
              "0    361594\n",
              "Name: Label, dtype: int64"
            ]
          },
          "metadata": {},
          "execution_count": 7
        }
      ]
    },
    {
      "cell_type": "code",
      "source": [
        "# Specify the percentage of data you want to sample (e.g., 10%)\n",
        "percentage_to_sample = 10\n",
        "\n",
        "# Use the sample method to get the specified percentage\n",
        "sampled_df = df.sample(frac=percentage_to_sample / 100)\n",
        "\n",
        "# Display the sampled DataFrame\n",
        "sampled_df.shape"
      ],
      "metadata": {
        "colab": {
          "base_uri": "https://localhost:8080/"
        },
        "id": "Vgjp-pwn6MIA",
        "outputId": "9479ce12-0153-4e71-9e3f-cb6fa11746b1"
      },
      "execution_count": 8,
      "outputs": [
        {
          "output_type": "execute_result",
          "data": {
            "text/plain": [
              "(72612, 2)"
            ]
          },
          "metadata": {},
          "execution_count": 8
        }
      ]
    },
    {
      "cell_type": "code",
      "source": [
        "# prompt: check null values\n",
        "\n",
        "df.isnull().sum()\n"
      ],
      "metadata": {
        "colab": {
          "base_uri": "https://localhost:8080/"
        },
        "id": "OCJWr--ltSfu",
        "outputId": "c24f8b39-2c46-49db-b45e-aa7d8391d0ba"
      },
      "execution_count": 9,
      "outputs": [
        {
          "output_type": "execute_result",
          "data": {
            "text/plain": [
              "Content    0\n",
              "Label      0\n",
              "dtype: int64"
            ]
          },
          "metadata": {},
          "execution_count": 9
        }
      ]
    },
    {
      "cell_type": "code",
      "source": [
        "# prompt: geenrate random sentences to visualize content\n",
        "\n",
        "import random\n",
        "for i in range(5):\n",
        "  print(f\"Label: {df.loc[random.randint(0, len(df) - 1)]['Label']}, Content: {df.loc[random.randint(0, len(df) - 1)]['Content']}\")\n"
      ],
      "metadata": {
        "colab": {
          "base_uri": "https://localhost:8080/"
        },
        "id": "58_PGrGHuU4G",
        "outputId": "e82a0085-7746-42a5-9c99-683bd58327cc"
      },
      "execution_count": 10,
      "outputs": [
        {
          "output_type": "stream",
          "name": "stdout",
          "text": [
            "Label: 1, Content: i understand how mountain slopes make\n",
            "Label: 0, Content: hmm i wonder maybee my\n",
            "Label: 0, Content: british culture revolves around parents they appoint parents to head their treasury and home office and celebrate when the nation does not immediately fall apart because these are true british public serving parents they leave their biggest trading bloc for the sole purpose of being able to import more parents they put prominent parents like gandhi on their currency they fill historical settings on democratic bbc shows like doctor who with parents and pretend it what a slut always that way the underclass spends half their ribs on takeaway from rajesh s curry house they clap in worship of their failing state healthcare system staffed almost entirely by parents their tabloid industry revolves around newspaper articles seething about parent immigrants they are inundated with parents to a point where a wagon wheel does non make them think of the popular british chocolate snack but of the parent national flag the suburbs of their capital city are filled with parents their middle course of study women lust after considerably groomed parents like dev patel or right sunk when you say they are non thinking of the people of the orient but parent they will tell you how much they hate parents and how the britbongistan meme is a stale joke and they be just pretending to get laid parents but the evidence speaks for itself in that britain has always been and will be a nation of parent lovers\n",
            "Label: 0, Content: the developed countries are deceptive because none of them are in africa they are all islands which were massively built up by european nations mostly britain and france firstly with plantations that needed slaves and later more than tourist destinations they are all either recently independent past years or not yet even independent countries and those latter factors are the only reason they retain decent development in a hundred years they will all be hellholes\n",
            "Label: 1, Content: adolf one of these days going to come pay you a visit would have a go at it for you to stick by your nose in affairs that do non business organization you when any meet it s genuine easy to be a little wannabe german nazi while hiding in front of your little screen\n"
          ]
        }
      ]
    },
    {
      "cell_type": "code",
      "source": [
        "# prompt: create train, test, and val df\n",
        "\n",
        "train_df = sampled_df.sample(frac=0.7, replace=False)\n",
        "test_df = sampled_df.loc[~sampled_df.index.isin(train_df.index)]\n",
        "val_df = test_df.sample(frac=0.5, replace=False)\n"
      ],
      "metadata": {
        "id": "5cJY0ZOqvPwF"
      },
      "execution_count": 11,
      "outputs": []
    },
    {
      "cell_type": "code",
      "source": [
        "# prompt: print shape of each df\n",
        "\n",
        "print(f\"Train data shape: {train_df.shape}\")\n",
        "print(f\"Test data shape: {test_df.shape}\")\n",
        "print(f\"Validation data shape: {val_df.shape}\")\n"
      ],
      "metadata": {
        "colab": {
          "base_uri": "https://localhost:8080/"
        },
        "id": "vfgy9x19vkkE",
        "outputId": "2f35d885-0192-4a88-ac08-0335d90c0276"
      },
      "execution_count": 12,
      "outputs": [
        {
          "output_type": "stream",
          "name": "stdout",
          "text": [
            "Train data shape: (50828, 2)\n",
            "Test data shape: (21784, 2)\n",
            "Validation data shape: (10892, 2)\n"
          ]
        }
      ]
    },
    {
      "cell_type": "code",
      "source": [
        "train_df['Content']"
      ],
      "metadata": {
        "colab": {
          "base_uri": "https://localhost:8080/"
        },
        "id": "tsslqCC4v9Gt",
        "outputId": "e71df741-fb32-45fa-b135-3f7ba93cde6d"
      },
      "execution_count": 13,
      "outputs": [
        {
          "output_type": "execute_result",
          "data": {
            "text/plain": [
              "45674                                  one of a kind she is\n",
              "57656     your orange colored scum pig vagina whore god ...\n",
              "155349    come on where are all you indian lawyers an ec...\n",
              "9350                                   it what a slut gross\n",
              "83601     wow what a perfect summary of this administrat...\n",
              "                                ...                        \n",
              "231323    please note korean and japanese languages have...\n",
              "208698    article hi please chill out and take a step ba...\n",
              "620733    and so you call that her a h oh are e making y...\n",
              "713289    teams join african american sheriffs to secure...\n",
              "238086    colonial revival garden thanks for fixing it u...\n",
              "Name: Content, Length: 50828, dtype: object"
            ]
          },
          "metadata": {},
          "execution_count": 13
        }
      ]
    },
    {
      "cell_type": "markdown",
      "source": [
        "## SPlit data"
      ],
      "metadata": {
        "id": "Q0Td1Ww4vsBF"
      }
    },
    {
      "cell_type": "code",
      "source": [
        "# One hot encode labels\n",
        "from sklearn.preprocessing import OneHotEncoder\n",
        "one_hot_encoder = OneHotEncoder(sparse=False)\n",
        "train_labels_one_hot = one_hot_encoder.fit_transform(train_df[\"Label\"].to_numpy().reshape(-1, 1))\n",
        "val_labels_one_hot = one_hot_encoder.transform(val_df[\"Label\"].to_numpy().reshape(-1, 1))\n",
        "test_labels_one_hot = one_hot_encoder.transform(test_df[\"Label\"].to_numpy().reshape(-1, 1))\n",
        "\n",
        "# Check what training labels look like\n",
        "train_labels_one_hot"
      ],
      "metadata": {
        "colab": {
          "base_uri": "https://localhost:8080/"
        },
        "id": "iCe2IkAltSY9",
        "outputId": "2a0442df-89ca-479a-a097-67250f98b157"
      },
      "execution_count": 14,
      "outputs": [
        {
          "output_type": "stream",
          "name": "stderr",
          "text": [
            "/usr/local/lib/python3.10/dist-packages/sklearn/preprocessing/_encoders.py:868: FutureWarning: `sparse` was renamed to `sparse_output` in version 1.2 and will be removed in 1.4. `sparse_output` is ignored unless you leave `sparse` to its default value.\n",
            "  warnings.warn(\n"
          ]
        },
        {
          "output_type": "execute_result",
          "data": {
            "text/plain": [
              "array([[1., 0.],\n",
              "       [1., 0.],\n",
              "       [1., 0.],\n",
              "       ...,\n",
              "       [0., 1.],\n",
              "       [0., 1.],\n",
              "       [1., 0.]])"
            ]
          },
          "metadata": {},
          "execution_count": 14
        }
      ]
    },
    {
      "cell_type": "code",
      "source": [
        "# Extract labels (\"target\" columns) and encode them into integers\n",
        "from sklearn.preprocessing import LabelEncoder\n",
        "label_encoder = LabelEncoder()\n",
        "train_labels_encoded = label_encoder.fit_transform(train_df[\"Label\"].to_numpy())\n",
        "val_labels_encoded = label_encoder.transform(val_df[\"Label\"].to_numpy())\n",
        "test_labels_encoded = label_encoder.transform(test_df[\"Label\"].to_numpy())\n",
        "\n",
        "# Check what training labels look like\n",
        "train_labels_encoded"
      ],
      "metadata": {
        "colab": {
          "base_uri": "https://localhost:8080/"
        },
        "id": "fa8dxwZexgq8",
        "outputId": "6403abb3-7eab-4c21-c0c9-dec02355cc56"
      },
      "execution_count": 15,
      "outputs": [
        {
          "output_type": "execute_result",
          "data": {
            "text/plain": [
              "array([0, 0, 0, ..., 1, 1, 0])"
            ]
          },
          "metadata": {},
          "execution_count": 15
        }
      ]
    },
    {
      "cell_type": "code",
      "source": [
        "# prompt: get num of classes and class names\n",
        "\n",
        "num_classes = len(label_encoder.classes_)\n",
        "class_names = label_encoder.classes_\n",
        "print(f\"Number of classes: {num_classes}\")\n",
        "print(f\"Class names: {class_names}\")\n"
      ],
      "metadata": {
        "colab": {
          "base_uri": "https://localhost:8080/"
        },
        "id": "FMbroY1Cxgos",
        "outputId": "669bdfde-7836-4b03-9515-0a53db0a73be"
      },
      "execution_count": 16,
      "outputs": [
        {
          "output_type": "stream",
          "name": "stdout",
          "text": [
            "Number of classes: 2\n",
            "Class names: [0 1]\n"
          ]
        }
      ]
    },
    {
      "cell_type": "markdown",
      "source": [
        "## Model 0: Getting a baseline"
      ],
      "metadata": {
        "id": "4yoGfEaJyMbL"
      }
    },
    {
      "cell_type": "code",
      "source": [
        "train_sentences = train_df['Content'].tolist()\n",
        "val_sentences = val_df['Content'].tolist()\n",
        "test_sentences = test_df['Content'].tolist()\n"
      ],
      "metadata": {
        "id": "BilBFc1TzfBz"
      },
      "execution_count": 17,
      "outputs": []
    },
    {
      "cell_type": "code",
      "source": [
        "from sklearn.feature_extraction.text import CountVectorizer\n",
        "from sklearn.naive_bayes import MultinomialNB\n",
        "from sklearn.pipeline import Pipeline\n",
        "from sklearn.metrics import accuracy_score, classification_report\n",
        "\n",
        "# Assuming x_train is a list of text documents and y_train is the corresponding labels\n",
        "\n",
        "# Create a pipeline with CountVectorizer and Multinomial Naive Bayes\n",
        "text_classifier = Pipeline([\n",
        "    ('vectorizer', CountVectorizer()),  # Convert text to a bag-of-words representation\n",
        "    ('classifier', MultinomialNB())      # Use Naive Bayes as the classifier\n",
        "])\n",
        "\n",
        "# Fit the model\n",
        "model_0 = text_classifier.fit(train_sentences, train_labels_encoded)\n",
        "\n"
      ],
      "metadata": {
        "id": "bZ2NbKfqxgmM"
      },
      "execution_count": 18,
      "outputs": []
    },
    {
      "cell_type": "code",
      "source": [
        "model_0.score(val_sentences, val_labels_encoded)"
      ],
      "metadata": {
        "colab": {
          "base_uri": "https://localhost:8080/"
        },
        "id": "rV-JLJjyxgj2",
        "outputId": "21cca4e3-bde3-4371-fc36-e2c2d9766a42"
      },
      "execution_count": 19,
      "outputs": [
        {
          "output_type": "execute_result",
          "data": {
            "text/plain": [
              "0.7894785163422695"
            ]
          },
          "metadata": {},
          "execution_count": 19
        }
      ]
    },
    {
      "cell_type": "code",
      "source": [
        "baseline_preds = model_0.predict(val_sentences)\n",
        "baseline_preds"
      ],
      "metadata": {
        "colab": {
          "base_uri": "https://localhost:8080/"
        },
        "id": "9dnq5piB0KEK",
        "outputId": "01b0a141-22c4-41ea-e1a7-cb0d39f14628"
      },
      "execution_count": 20,
      "outputs": [
        {
          "output_type": "execute_result",
          "data": {
            "text/plain": [
              "array([0, 1, 1, ..., 1, 0, 1])"
            ]
          },
          "metadata": {},
          "execution_count": 20
        }
      ]
    },
    {
      "cell_type": "code",
      "source": [
        "from helper_functions import calculate_results\n",
        "baseline_results = calculate_results(\n",
        "    y_true = val_labels_encoded,\n",
        "    y_pred = baseline_preds\n",
        ")\n",
        "baseline_results"
      ],
      "metadata": {
        "colab": {
          "base_uri": "https://localhost:8080/"
        },
        "id": "xng_nEVv0KB6",
        "outputId": "093f2c17-7563-4c68-caa8-b3bd105a16b6"
      },
      "execution_count": 21,
      "outputs": [
        {
          "output_type": "execute_result",
          "data": {
            "text/plain": [
              "{'accuracy': 78.94785163422695,\n",
              " 'precision': 0.800253884273961,\n",
              " 'recall': 0.7894785163422695,\n",
              " 'f1': 0.7872651757863883}"
            ]
          },
          "metadata": {},
          "execution_count": 21
        }
      ]
    },
    {
      "cell_type": "markdown",
      "source": [
        "## Preparing our data for deep sequence models"
      ],
      "metadata": {
        "id": "8jb62MVh1tjy"
      }
    },
    {
      "cell_type": "code",
      "source": [
        "# How long is each sentence on average?\n",
        "import numpy as np\n",
        "sent_lens = [len(sentence.split()) for sentence in train_sentences]\n",
        "avg_sent_len = np.mean(sent_lens)\n",
        "avg_sent_len # return average sentence length (in tokens)"
      ],
      "metadata": {
        "colab": {
          "base_uri": "https://localhost:8080/"
        },
        "id": "b1pjW7nX2npp",
        "outputId": "e5790c33-0103-4b3e-8e01-a2061edf3008"
      },
      "execution_count": 22,
      "outputs": [
        {
          "output_type": "execute_result",
          "data": {
            "text/plain": [
              "36.44400724010388"
            ]
          },
          "metadata": {},
          "execution_count": 22
        }
      ]
    },
    {
      "cell_type": "code",
      "source": [
        "# prompt: How long is each sentence on average in train_sentences? Store it in avariable\n",
        "\n",
        "avg_sentence_length = sum(len(sentence.split()) for sentence in train_sentences) / len(train_sentences)\n",
        "avg_sentence_length"
      ],
      "metadata": {
        "colab": {
          "base_uri": "https://localhost:8080/"
        },
        "id": "86coqmGB0J_r",
        "outputId": "028a6f5b-fd79-41a1-979a-f886dc3f2748"
      },
      "execution_count": 23,
      "outputs": [
        {
          "output_type": "execute_result",
          "data": {
            "text/plain": [
              "36.44400724010388"
            ]
          },
          "metadata": {},
          "execution_count": 23
        }
      ]
    },
    {
      "cell_type": "code",
      "source": [
        "\n",
        "# What's the distribution look like?\n",
        "import matplotlib.pyplot as plt\n",
        "plt.hist(sent_lens, bins=7);"
      ],
      "metadata": {
        "colab": {
          "base_uri": "https://localhost:8080/",
          "height": 430
        },
        "id": "2u-ecl0D0J3z",
        "outputId": "de6b34a7-a74a-4473-deb0-db7426131412"
      },
      "execution_count": 24,
      "outputs": [
        {
          "output_type": "display_data",
          "data": {
            "text/plain": [
              "<Figure size 640x480 with 1 Axes>"
            ],
            "image/png": "[encoded data removed]"
          },
          "metadata": {}
        }
      ]
    },
    {
      "cell_type": "code",
      "source": [
        "# prompt: get the long of a sentence that covers 95% of the lengths\n",
        "\n",
        "output_seq_len  = int(np.percentile(sent_lens, 95))\n",
        "output_seq_len\n"
      ],
      "metadata": {
        "colab": {
          "base_uri": "https://localhost:8080/"
        },
        "id": "vlJGxWWq1va6",
        "outputId": "ca855b19-b8ac-4bc7-c09d-8e59c73ccebb"
      },
      "execution_count": 25,
      "outputs": [
        {
          "output_type": "execute_result",
          "data": {
            "text/plain": [
              "132"
            ]
          },
          "metadata": {},
          "execution_count": 25
        }
      ]
    },
    {
      "cell_type": "code",
      "source": [
        "# prompt:  # How many words are in our vocabulary?\n",
        "\n",
        "max_tokens = len(model_0.named_steps['vectorizer'].vocabulary_)\n",
        "max_tokens\n"
      ],
      "metadata": {
        "colab": {
          "base_uri": "https://localhost:8080/"
        },
        "id": "tGE6C7lt1vYq",
        "outputId": "5a93fe45-2231-4a70-d975-f9ed5ab82576"
      },
      "execution_count": 26,
      "outputs": [
        {
          "output_type": "execute_result",
          "data": {
            "text/plain": [
              "49805"
            ]
          },
          "metadata": {},
          "execution_count": 26
        }
      ]
    },
    {
      "cell_type": "markdown",
      "source": [
        "## Create text vectorizer"
      ],
      "metadata": {
        "id": "vYDUkbbOdFas"
      }
    },
    {
      "cell_type": "code",
      "source": [
        "# prompt: Create text vectorizer with TextVectorization\n",
        "from tensorflow.keras.layers import TextVectorization\n",
        "text_vectorizer = TextVectorization(max_tokens=max_tokens,\n",
        "                               output_sequence_length=output_seq_len)\n",
        "text_vectorizer.adapt(train_sentences)"
      ],
      "metadata": {
        "id": "Mz_RkmXj1vWT"
      },
      "execution_count": 32,
      "outputs": []
    },
    {
      "cell_type": "code",
      "source": [
        "# prompt: test text vectorizer with a random sentence\n",
        "\n",
        "random_sentence = random.choice(train_sentences)\n",
        "print(f\"Random sentence: {random_sentence}\")\n",
        "print(\"Vectorized sentence:\\n\")\n",
        "text_vectorizer(random_sentence)\n"
      ],
      "metadata": {
        "id": "LQOQOcR61vT7",
        "colab": {
          "base_uri": "https://localhost:8080/"
        },
        "outputId": "e8d00549-cab6-475c-9b32-c3a1197a41c4"
      },
      "execution_count": 40,
      "outputs": [
        {
          "output_type": "stream",
          "name": "stdout",
          "text": [
            "Random sentence: thanks for the suggestions best wishes darth talk\n",
            "Vectorized sentence:\n",
            "\n"
          ]
        },
        {
          "output_type": "execute_result",
          "data": {
            "text/plain": [
              "<tf.Tensor: shape=(132,), dtype=int64, numpy=\n",
              "array([  112,    15,     2,  2349,   234,  2150, 17608,    67,     0,\n",
              "           0,     0,     0,     0,     0,     0,     0,     0,     0,\n",
              "           0,     0,     0,     0,     0,     0,     0,     0,     0,\n",
              "           0,     0,     0,     0,     0,     0,     0,     0,     0,\n",
              "           0,     0,     0,     0,     0,     0,     0,     0,     0,\n",
              "           0,     0,     0,     0,     0,     0,     0,     0,     0,\n",
              "           0,     0,     0,     0,     0,     0,     0,     0,     0,\n",
              "           0,     0,     0,     0,     0,     0,     0,     0,     0,\n",
              "           0,     0,     0,     0,     0,     0,     0,     0,     0,\n",
              "           0,     0,     0,     0,     0,     0,     0,     0,     0,\n",
              "           0,     0,     0,     0,     0,     0,     0,     0,     0,\n",
              "           0,     0,     0,     0,     0,     0,     0,     0,     0,\n",
              "           0,     0,     0,     0,     0,     0,     0,     0,     0,\n",
              "           0,     0,     0,     0,     0,     0,     0,     0,     0,\n",
              "           0,     0,     0,     0,     0,     0])>"
            ]
          },
          "metadata": {},
          "execution_count": 40
        }
      ]
    },
    {
      "cell_type": "code",
      "source": [
        "# prompt: How many words in our text vectorizer?\n",
        "\n",
        "hate_speech_vocab = text_vectorizer.get_vocabulary()\n",
        "print(len(hate_speech_vocab))\n",
        "print(hate_speech_vocab[:5])\n",
        "print(hate_speech_vocab[-5:])"
      ],
      "metadata": {
        "id": "XzCDWQB_4TaZ",
        "colab": {
          "base_uri": "https://localhost:8080/"
        },
        "outputId": "b45b9847-e69b-472c-bd7a-8e8b9c3b06c3"
      },
      "execution_count": 42,
      "outputs": [
        {
          "output_type": "stream",
          "name": "stdout",
          "text": [
            "49805\n",
            "['', '[UNK]', 'the', 'to', 'a']\n",
            "['aaruveetil', 'aarschot', 'aarrrrrrgh', 'aarp', 'aaronshavit']\n"
          ]
        }
      ]
    },
    {
      "cell_type": "code",
      "source": [
        "text_vectorizer.get_config()"
      ],
      "metadata": {
        "id": "TEbkzOUq4TYU",
        "colab": {
          "base_uri": "https://localhost:8080/"
        },
        "outputId": "17a07a7b-4ef2-459e-9ac5-4a75863d9a83"
      },
      "execution_count": 43,
      "outputs": [
        {
          "output_type": "execute_result",
          "data": {
            "text/plain": [
              "{'name': 'text_vectorization_2',\n",
              " 'trainable': True,\n",
              " 'dtype': 'string',\n",
              " 'batch_input_shape': (None,),\n",
              " 'max_tokens': 49805,\n",
              " 'standardize': 'lower_and_strip_punctuation',\n",
              " 'split': 'whitespace',\n",
              " 'ngrams': None,\n",
              " 'output_mode': 'int',\n",
              " 'output_sequence_length': 132,\n",
              " 'pad_to_max_tokens': False,\n",
              " 'sparse': False,\n",
              " 'ragged': False,\n",
              " 'vocabulary': None,\n",
              " 'idf_weights': None,\n",
              " 'encoding': 'utf-8',\n",
              " 'vocabulary_size': 49805}"
            ]
          },
          "metadata": {},
          "execution_count": 43
        }
      ]
    },
    {
      "cell_type": "markdown",
      "source": [
        "## Create custom text embedding"
      ],
      "metadata": {
        "id": "aPZZ_OTVfaQy"
      }
    },
    {
      "cell_type": "code",
      "source": [
        "# prompt: Create token embedding layer\n",
        "\n",
        "embedding_dim = 128\n",
        "token_embed_layer = tf.keras.layers.Embedding(\n",
        "    input_dim=max_tokens,\n",
        "    output_dim=embedding_dim,\n",
        "    mask_zero=True\n",
        ")\n"
      ],
      "metadata": {
        "id": "GcvTQsgG4TWA"
      },
      "execution_count": 45,
      "outputs": []
    },
    {
      "cell_type": "code",
      "source": [
        "# prompt: generate an example with token embed layer\n",
        "\n",
        "random_sentence = random.choice(train_sentences)\n",
        "print(f\"Random sentence: {random_sentence}\")\n",
        "print(\"Vectorized sentence:\\n\")\n",
        "text_vectorizer(random_sentence)\n",
        "# Generate token embeddings for the sentence\n",
        "token_embeddings = token_embed_layer(text_vectorizer(random_sentence))\n",
        "print(token_embeddings)\n",
        "# Print shape of token embeddings\n",
        "print(f\"Shape of token embeddings: {token_embeddings.shape}\")\n"
      ],
      "metadata": {
        "id": "lPSXfsrE4TTw",
        "colab": {
          "base_uri": "https://localhost:8080/"
        },
        "outputId": "3b920813-ded2-407c-ad1d-73a8c96ed915"
      },
      "execution_count": 48,
      "outputs": [
        {
          "output_type": "stream",
          "name": "stdout",
          "text": [
            "Random sentence: after years of endless international contempt when a left activist could speak in clarity i never came clean w usage\n",
            "Vectorized sentence:\n",
            "\n",
            "tf.Tensor(\n",
            "[[-0.00569816  0.00606152  0.02199048 ... -0.03435375 -0.00218688\n",
            "  -0.02206268]\n",
            " [ 0.03523681 -0.04257923  0.00518087 ... -0.03064202 -0.03810904\n",
            "  -0.0490108 ]\n",
            " [-0.00754477  0.01978162  0.01352043 ... -0.04360545 -0.00183308\n",
            "  -0.02930431]\n",
            " ...\n",
            " [-0.01331644  0.01620403  0.01602696 ...  0.04726136 -0.04119981\n",
            "   0.01225872]\n",
            " [-0.01331644  0.01620403  0.01602696 ...  0.04726136 -0.04119981\n",
            "   0.01225872]\n",
            " [-0.01331644  0.01620403  0.01602696 ...  0.04726136 -0.04119981\n",
            "   0.01225872]], shape=(132, 128), dtype=float32)\n",
            "Shape of token embeddings: (132, 128)\n"
          ]
        }
      ]
    },
    {
      "cell_type": "markdown",
      "source": [
        "## Create datasets using tf.data"
      ],
      "metadata": {
        "id": "T9YIyJ3mhLua"
      }
    },
    {
      "cell_type": "code",
      "source": [
        "# prompt: Turn data into TensorFlow Datasets with batch and prefetch\n",
        "\n",
        "train_dataset = tf.data.Dataset.from_tensor_slices((train_sentences, train_labels_one_hot))\n",
        "train_dataset = train_dataset.shuffle(buffer_size=1024).batch(32).prefetch(tf.data.AUTOTUNE)\n",
        "\n",
        "val_dataset = tf.data.Dataset.from_tensor_slices((val_sentences, val_labels_one_hot))\n",
        "val_dataset = val_dataset.batch(32).prefetch(tf.data.AUTOTUNE)\n",
        "\n",
        "test_dataset = tf.data.Dataset.from_tensor_slices((test_sentences, test_labels_one_hot))\n",
        "test_dataset = test_dataset.batch(32).prefetch(tf.data.AUTOTUNE)\n"
      ],
      "metadata": {
        "id": "xK01l97g4TRi"
      },
      "execution_count": 49,
      "outputs": []
    },
    {
      "cell_type": "code",
      "source": [
        "train_dataset"
      ],
      "metadata": {
        "id": "97Hqa7P_4TPA",
        "colab": {
          "base_uri": "https://localhost:8080/"
        },
        "outputId": "c37d8f45-8af9-48d8-dc34-54a07ed62315"
      },
      "execution_count": 50,
      "outputs": [
        {
          "output_type": "execute_result",
          "data": {
            "text/plain": [
              "<_PrefetchDataset element_spec=(TensorSpec(shape=(None,), dtype=tf.string, name=None), TensorSpec(shape=(None, 2), dtype=tf.float64, name=None))>"
            ]
          },
          "metadata": {},
          "execution_count": 50
        }
      ]
    },
    {
      "cell_type": "code",
      "source": [
        "# Create 1D convulational model to process sequences of text\n",
        "from tensorflow.keras import layers\n",
        "\n",
        "inputs = layers.Input(shape=(1,), dtype='string')\n",
        "text_vectors = text_vectorizer(inputs)\n",
        "token_embeddings = token_embed_layer(text_vectors)\n",
        "x = layers.Conv1D(64, kernel_size=5, padding='same', activation='relu')(token_embeddings)\n",
        "x = layers.GlobalMaxPooling1D()(x)\n",
        "outputs = layers.Dense(num_classes, activation='sigmoid')(x)\n",
        "\n",
        "model_1 = tf.keras.Model(inputs, outputs)\n",
        "\n",
        "# Compile\n",
        "model_1.compile(\n",
        "    loss='binary_crossentropy',\n",
        "    optimizer=tf.keras.optimizers.Adam(),\n",
        "    metrics=['accuracy']\n",
        ")"
      ],
      "metadata": {
        "id": "wmZ6OISs1vNS"
      },
      "execution_count": 62,
      "outputs": []
    },
    {
      "cell_type": "code",
      "source": [
        "model_1.summary()"
      ],
      "metadata": {
        "colab": {
          "base_uri": "https://localhost:8080/"
        },
        "id": "EmwhKCtpiSph",
        "outputId": "8d85a23b-27b3-4b02-a083-76447ed2b3a4"
      },
      "execution_count": 63,
      "outputs": [
        {
          "output_type": "stream",
          "name": "stdout",
          "text": [
            "Model: \"model_1\"\n",
            "_________________________________________________________________\n",
            " Layer (type)                Output Shape              Param #   \n",
            "=================================================================\n",
            " input_2 (InputLayer)        [(None, 1)]               0         \n",
            "                                                                 \n",
            " text_vectorization_2 (Text  (None, 132)               0         \n",
            " Vectorization)                                                  \n",
            "                                                                 \n",
            " embedding (Embedding)       (None, 132, 128)          6375040   \n",
            "                                                                 \n",
            " conv1d_1 (Conv1D)           (None, 132, 64)           41024     \n",
            "                                                                 \n",
            " global_max_pooling1d_1 (Gl  (None, 64)                0         \n",
            " obalMaxPooling1D)                                               \n",
            "                                                                 \n",
            " dense_1 (Dense)             (None, 2)                 130       \n",
            "                                                                 \n",
            "=================================================================\n",
            "Total params: 6416194 (24.48 MB)\n",
            "Trainable params: 6416194 (24.48 MB)\n",
            "Non-trainable params: 0 (0.00 Byte)\n",
            "_________________________________________________________________\n"
          ]
        }
      ]
    },
    {
      "cell_type": "code",
      "source": [
        "history_model_1 = model_1.fit(\n",
        "    train_dataset,\n",
        "    steps_per_epoch=int(0.1*len(train_dataset)),\n",
        "    epochs=5,\n",
        "    validation_data=val_dataset,\n",
        "    validation_steps=int(0.1*len(val_dataset))\n",
        "\n",
        ")"
      ],
      "metadata": {
        "colab": {
          "base_uri": "https://localhost:8080/"
        },
        "id": "s41aZPNsiSnC",
        "outputId": "daba9c79-4ab5-4159-f160-21be8d41f1a9"
      },
      "execution_count": 64,
      "outputs": [
        {
          "output_type": "stream",
          "name": "stdout",
          "text": [
            "Epoch 1/5\n",
            "158/158 [==============================] - 16s 94ms/step - loss: 0.4617 - accuracy: 0.7987 - val_loss: 0.4397 - val_accuracy: 0.8006\n",
            "Epoch 2/5\n",
            "158/158 [==============================] - 9s 59ms/step - loss: 0.3353 - accuracy: 0.8536 - val_loss: 0.4667 - val_accuracy: 0.7877\n",
            "Epoch 3/5\n",
            "158/158 [==============================] - 6s 37ms/step - loss: 0.3193 - accuracy: 0.8625 - val_loss: 0.4394 - val_accuracy: 0.7978\n",
            "Epoch 4/5\n",
            "158/158 [==============================] - 5s 31ms/step - loss: 0.3132 - accuracy: 0.8718 - val_loss: 0.4309 - val_accuracy: 0.8024\n",
            "Epoch 5/5\n",
            "158/158 [==============================] - 3s 18ms/step - loss: 0.3135 - accuracy: 0.8720 - val_loss: 0.4393 - val_accuracy: 0.8061\n"
          ]
        }
      ]
    },
    {
      "cell_type": "code",
      "source": [
        "# prompt: evaluate and predict with model 1\n",
        "\n",
        "model_1.evaluate(val_dataset)\n",
        "model_1_probs = model_1.predict(val_dataset)\n",
        "model_1_probs[:5]"
      ],
      "metadata": {
        "colab": {
          "base_uri": "https://localhost:8080/"
        },
        "id": "tk11WaEBiSj6",
        "outputId": "7bdf11dc-0563-4586-9710-f4ed44d36ec7"
      },
      "execution_count": 65,
      "outputs": [
        {
          "output_type": "stream",
          "name": "stdout",
          "text": [
            "341/341 [==============================] - 1s 3ms/step - loss: 0.4725 - accuracy: 0.7903\n",
            "341/341 [==============================] - 1s 2ms/step\n"
          ]
        },
        {
          "output_type": "execute_result",
          "data": {
            "text/plain": [
              "array([[3.9558375e-01, 5.5459046e-01],\n",
              "       [5.4002187e-04, 9.9954021e-01],\n",
              "       [4.1083424e-04, 9.9962497e-01],\n",
              "       [9.7522008e-01, 3.1245217e-02],\n",
              "       [1.6961835e-01, 7.9064512e-01]], dtype=float32)"
            ]
          },
          "metadata": {},
          "execution_count": 65
        }
      ]
    },
    {
      "cell_type": "code",
      "source": [
        "model_1_preds = tf.argmax(model_1_probs, axis=1)\n",
        "model_1_preds[:5]"
      ],
      "metadata": {
        "colab": {
          "base_uri": "https://localhost:8080/"
        },
        "id": "jJxCxCBAiSbJ",
        "outputId": "eea3c1cf-5c2c-4242-e2c7-bebc188fea58"
      },
      "execution_count": 66,
      "outputs": [
        {
          "output_type": "execute_result",
          "data": {
            "text/plain": [
              "<tf.Tensor: shape=(5,), dtype=int64, numpy=array([1, 1, 1, 0, 1])>"
            ]
          },
          "metadata": {},
          "execution_count": 66
        }
      ]
    },
    {
      "cell_type": "code",
      "source": [
        "# Calculate model_1 results\n",
        "model_1_results = calculate_results(y_true=val_labels_encoded,\n",
        "                                    y_pred=model_1_preds)\n",
        "model_1_results"
      ],
      "metadata": {
        "colab": {
          "base_uri": "https://localhost:8080/"
        },
        "id": "Wn8-18D8iSYx",
        "outputId": "96fbebe8-2480-45ac-9d12-1d17dca9758d"
      },
      "execution_count": 67,
      "outputs": [
        {
          "output_type": "execute_result",
          "data": {
            "text/plain": [
              "{'accuracy': 79.03048108703635,\n",
              " 'precision': 0.792979237873894,\n",
              " 'recall': 0.7903048108703635,\n",
              " 'f1': 0.7896663157533421}"
            ]
          },
          "metadata": {},
          "execution_count": 67
        }
      ]
    },
    {
      "cell_type": "markdown",
      "source": [
        "## Model 2: Feature extraction with pretrained token embeddings"
      ],
      "metadata": {
        "id": "pYIps46PlTQA"
      }
    },
    {
      "cell_type": "code",
      "source": [
        "# prompt: download universale entence encoder as a embedding layer\n",
        "\n",
        "import tensorflow_hub as hub\n",
        "tf_hub_embedder = hub.KerasLayer(\"https://tfhub.dev/google/universal-sentence-encoder/4\",\n",
        "                           trainable=False)\n"
      ],
      "metadata": {
        "id": "PdnS3ceSiSWT"
      },
      "execution_count": 61,
      "outputs": []
    },
    {
      "cell_type": "code",
      "source": [
        "# prompt: build a functional structure model with tf_hub_embedder\n",
        "\n",
        "inputs = layers.Input(shape=[], dtype='string')\n",
        "tf_hub_embed = tf_hub_embedder(inputs)\n",
        "x = layers.Dense(64, activation='relu')(tf_hub_embed)\n",
        "outputs = layers.Dense(num_classes, activation='sigmoid')(x)\n",
        "\n",
        "model_2 = tf.keras.Model(inputs, outputs)\n"
      ],
      "metadata": {
        "id": "vHRDiGW4iSRq"
      },
      "execution_count": 70,
      "outputs": []
    },
    {
      "cell_type": "code",
      "source": [
        "# prompt: compile and fit model 2\n",
        "\n",
        "model_2.compile(\n",
        "    loss='binary_crossentropy',\n",
        "    optimizer=tf.keras.optimizers.Adam(),\n",
        "    metrics=['accuracy']\n",
        ")\n",
        "model_2.summary()\n",
        "\n",
        "history_model_2 = model_2.fit(\n",
        "    train_dataset,\n",
        "    steps_per_epoch=int(0.1*len(train_dataset)),\n",
        "    epochs=5,\n",
        "    validation_data=val_dataset,\n",
        "    validation_steps=int(0.1*len(val_dataset))\n",
        ")\n"
      ],
      "metadata": {
        "colab": {
          "base_uri": "https://localhost:8080/"
        },
        "id": "wwCmYt34iSPK",
        "outputId": "5d24aa3e-7dc7-433d-c63c-04eb106972d7"
      },
      "execution_count": 72,
      "outputs": [
        {
          "output_type": "stream",
          "name": "stdout",
          "text": [
            "Model: \"model_2\"\n",
            "_________________________________________________________________\n",
            " Layer (type)                Output Shape              Param #   \n",
            "=================================================================\n",
            " input_4 (InputLayer)        [(None,)]                 0         \n",
            "                                                                 \n",
            " keras_layer (KerasLayer)    (None, 512)               256797824 \n",
            "                                                                 \n",
            " dense_3 (Dense)             (None, 64)                32832     \n",
            "                                                                 \n",
            " dense_4 (Dense)             (None, 2)                 130       \n",
            "                                                                 \n",
            "=================================================================\n",
            "Total params: 256830786 (979.73 MB)\n",
            "Trainable params: 32962 (128.76 KB)\n",
            "Non-trainable params: 256797824 (979.61 MB)\n",
            "_________________________________________________________________\n",
            "Epoch 1/5\n",
            "158/158 [==============================] - 6s 28ms/step - loss: 0.4505 - accuracy: 0.7870 - val_loss: 0.4469 - val_accuracy: 0.7895\n",
            "Epoch 2/5\n",
            "158/158 [==============================] - 3s 19ms/step - loss: 0.4464 - accuracy: 0.7832 - val_loss: 0.4467 - val_accuracy: 0.7868\n",
            "Epoch 3/5\n",
            "158/158 [==============================] - 3s 19ms/step - loss: 0.4273 - accuracy: 0.8010 - val_loss: 0.4461 - val_accuracy: 0.7895\n",
            "Epoch 4/5\n",
            "158/158 [==============================] - 3s 19ms/step - loss: 0.4346 - accuracy: 0.7991 - val_loss: 0.4438 - val_accuracy: 0.7904\n",
            "Epoch 5/5\n",
            "158/158 [==============================] - 4s 26ms/step - loss: 0.4293 - accuracy: 0.7957 - val_loss: 0.4405 - val_accuracy: 0.7868\n"
          ]
        }
      ]
    },
    {
      "cell_type": "code",
      "source": [
        "# prompt: evaluate and make prediuctions with model 2\n",
        "\n",
        "model_2.evaluate(val_dataset)\n",
        "model_2_probs = model_2.predict(val_dataset)\n",
        "model_2_preds = tf.argmax(model_2_probs, axis=1)\n",
        "model_2_preds[:5]\n",
        "model_2_results = calculate_results(y_true=val_labels_encoded,\n",
        "                                    y_pred=model_2_preds)\n",
        "model_2_results\n"
      ],
      "metadata": {
        "colab": {
          "base_uri": "https://localhost:8080/"
        },
        "id": "n4BWq7CRnmrG",
        "outputId": "770cb305-ca35-4128-eac1-e40384c9839a"
      },
      "execution_count": 73,
      "outputs": [
        {
          "output_type": "stream",
          "name": "stdout",
          "text": [
            "341/341 [==============================] - 9s 28ms/step - loss: 0.4381 - accuracy: 0.7953\n",
            "341/341 [==============================] - 12s 34ms/step\n"
          ]
        },
        {
          "output_type": "execute_result",
          "data": {
            "text/plain": [
              "{'accuracy': 79.52625780389276,\n",
              " 'precision': 0.7977034926813595,\n",
              " 'recall': 0.7952625780389276,\n",
              " 'f1': 0.794696488036427}"
            ]
          },
          "metadata": {},
          "execution_count": 73
        }
      ]
    },
    {
      "cell_type": "markdown",
      "source": [
        "## Model 3: Conv1D with character embeddings"
      ],
      "metadata": {
        "id": "EuTzO5yT4xf-"
      }
    },
    {
      "cell_type": "code",
      "source": [
        "# prompt: make a fucntion that joins them with a space\n",
        "\n",
        "def join_with_space(text_list):\n",
        "  \"\"\"Joins a list of strings with a space between each string.\"\"\"\n",
        "  return \" \".join(text_list)\n",
        "\n",
        "join_with_space(random_sentence)"
      ],
      "metadata": {
        "colab": {
          "base_uri": "https://localhost:8080/",
          "height": 71
        },
        "id": "BRBuhJhqnmo2",
        "outputId": "25d79d89-b751-4774-b40a-31eecc20fc34"
      },
      "execution_count": 74,
      "outputs": [
        {
          "output_type": "execute_result",
          "data": {
            "text/plain": [
              "'a f t e r   y e a r s   o f   e n d l e s s   i n t e r n a t i o n a l   c o n t e m p t   w h e n   a   l e f t   a c t i v i s t   c o u l d   s p e a k   i n   c l a r i t y   i   n e v e r   c a m e   c l e a n   w   u s a g e'"
            ],
            "application/vnd.google.colaboratory.intrinsic+json": {
              "type": "string"
            }
          },
          "metadata": {},
          "execution_count": 74
        }
      ]
    },
    {
      "cell_type": "code",
      "source": [
        "# prompt: Use that function of join with space to create characeter level data with train, valid, and test datasets\n",
        "\n",
        "train_sentences_char = [join_with_space(sentence) for sentence in train_sentences]\n",
        "val_sentences_char = [join_with_space(sentence) for sentence in val_sentences]\n",
        "test_sentences_char = [join_with_space(sentence) for sentence in test_sentences]\n",
        "val_sentences_char[0]"
      ],
      "metadata": {
        "colab": {
          "base_uri": "https://localhost:8080/",
          "height": 227
        },
        "id": "chzrS1PWnmm4",
        "outputId": "9c9ba51c-5f1a-4ce8-a1f2-3d451332d331"
      },
      "execution_count": 80,
      "outputs": [
        {
          "output_type": "execute_result",
          "data": {
            "text/plain": [
              "'c e l e b r a t i o n s   f o r   a n n i v e r s a r y   o f   w i k i m e d i a   h o n g   k o n g   d e a r   w i k i m e d i a   h o n g   k o n g   h a s   b e e n   f o u n d e d   t w o   y e a r   a g o   t o d a y   w h a t e v e r   w o u l d   l i k e   t o   i n v i t e   y o u   t o   a   g r e a t   e v e n t   f o r   o u r   s e c o n d   a n n i v e r s a r y   c e l e b r a t i o n s   t h a t   i s   c o   h o s t   b y   u s   d i g i t a l   c o n t e n t   j a m   w h i c h   i s   b e l o n g s   t o   t h e   d i g i t a l   c r e a t i v i t y   d i a l o g u e   s e r i e s   c r e a t i v i t y   c o n t e n t   c o m m u n i t y   t h i s   i s   t h e   i n f o r m a t i o n   o f   t h e   e v e n t   d a t e   t i m e   f r o m   p m   t o   p m   v e n u e   t e c h   c e n t e r   m e e t i n g   r o o m   m e   t o o   f   o p u l e n t   b u i l d i n g   h e n n e s s y   r o a d   w a n   c h a i g o o g l e   m a p   l a n g u a g e   c a n t o n e s e   f r e e   s n a c k s   a n d   d r i n k s   w i l l   b e   s e r v e d   p l e a s e   r e g i s t e r   v i a   t h e   l i n k   b e l o w   t o   t e l l   u s   i f   y o u   w o u l d   l i k e   t o   j o i n   t h e   e v e n t   r e g i s t r a t i o n   f o r m   r e g a r d s   h o n g   k o n g   w i k i   m e d i a n c h a t   w i t h   m e'"
            ],
            "application/vnd.google.colaboratory.intrinsic+json": {
              "type": "string"
            }
          },
          "metadata": {},
          "execution_count": 80
        }
      ]
    },
    {
      "cell_type": "code",
      "source": [
        "char_lens = [len(sentence) for sentence in train_sentences_char]\n",
        "mean_char_len = np.mean(char_lens)\n",
        "mean_char_len"
      ],
      "metadata": {
        "colab": {
          "base_uri": "https://localhost:8080/"
        },
        "id": "hhywoxa5nmky",
        "outputId": "5ed3f3d5-b4ff-4b04-b531-8d126029ae25"
      },
      "execution_count": 84,
      "outputs": [
        {
          "output_type": "execute_result",
          "data": {
            "text/plain": [
              "393.65278980089715"
            ]
          },
          "metadata": {},
          "execution_count": 84
        }
      ]
    },
    {
      "cell_type": "code",
      "source": [
        "import matplotlib.pyplot as plt\n",
        "plt.hist(char_lens, bins=7);"
      ],
      "metadata": {
        "colab": {
          "base_uri": "https://localhost:8080/",
          "height": 430
        },
        "id": "zV-25gJCnmin",
        "outputId": "f98c4867-9403-4997-b20d-3e3dbbdcaf73"
      },
      "execution_count": 87,
      "outputs": [
        {
          "output_type": "display_data",
          "data": {
            "text/plain": [
              "<Figure size 640x480 with 1 Axes>"
            ],
            "image/png": "[encoded data removed]"
          },
          "metadata": {}
        }
      ]
    },
    {
      "cell_type": "code",
      "source": [
        "# Find what character length covers 95% of sequences\n",
        "output_seq_char_len = int(np.percentile(char_lens, 95))\n",
        "output_seq_char_len"
      ],
      "metadata": {
        "colab": {
          "base_uri": "https://localhost:8080/"
        },
        "id": "PLpGwucDnmf-",
        "outputId": "549879a6-5eb0-43da-c086-4a1666c61ffa"
      },
      "execution_count": 88,
      "outputs": [
        {
          "output_type": "execute_result",
          "data": {
            "text/plain": [
              "1435"
            ]
          },
          "metadata": {},
          "execution_count": 88
        }
      ]
    },
    {
      "cell_type": "code",
      "source": [
        "# Get all keyboard characters for char-level embedding\n",
        "import string\n",
        "alphabet = string.ascii_lowercase + string.digits + string.punctuation\n",
        "alphabet"
      ],
      "metadata": {
        "colab": {
          "base_uri": "https://localhost:8080/",
          "height": 36
        },
        "id": "-vh38ZW4nmc2",
        "outputId": "547e317a-cd62-433f-cd1c-39888b6abcff"
      },
      "execution_count": 89,
      "outputs": [
        {
          "output_type": "execute_result",
          "data": {
            "text/plain": [
              "'abcdefghijklmnopqrstuvwxyz0123456789!\"#$%&\\'()*+,-./:;<=>?@[\\\\]^_`{|}~'"
            ],
            "application/vnd.google.colaboratory.intrinsic+json": {
              "type": "string"
            }
          },
          "metadata": {},
          "execution_count": 89
        }
      ]
    },
    {
      "cell_type": "code",
      "source": [
        "# Create char-level token vectorizer instance\n",
        "NUM_CHAR_TOKENS = len(alphabet) + 2 # num characters in alphabet + space + OOV token\n",
        "char_vectorizer = TextVectorization(max_tokens=NUM_CHAR_TOKENS,\n",
        "                                    output_sequence_length=output_seq_char_len,\n",
        "                                    standardize=\"lower_and_strip_punctuation\",\n",
        "                                    name=\"char_vectorizer\")\n",
        "\n",
        "# Adapt character vectorizer to training characters\n",
        "char_vectorizer.adapt(train_sentences_char)"
      ],
      "metadata": {
        "id": "EgObQKbj-UdD"
      },
      "execution_count": 91,
      "outputs": []
    },
    {
      "cell_type": "markdown",
      "source": [
        "## Creating a character-level embedding"
      ],
      "metadata": {
        "id": "sd4nd5Ar-gZq"
      }
    },
    {
      "cell_type": "code",
      "source": [
        "char_embed = layers.Embedding(\n",
        "    input_dim=NUM_CHAR_TOKENS,\n",
        "    output_dim=25,\n",
        "    mask_zero=True,\n",
        "    name='char_embed'\n",
        ")\n",
        "\n",
        "print(f\"Charified text (before vectorization and embedding):\\n{random_sentence}\\n\")\n",
        "char_embed_example = char_embed(char_vectorizer([random_sentence]))\n",
        "print(f\"Embedded chars (after vectorization and embedding):\\n{char_embed_example}\\n\")\n",
        "print(f\"Character embedding shape: {char_embed_example.shape}\")"
      ],
      "metadata": {
        "colab": {
          "base_uri": "https://localhost:8080/"
        },
        "id": "Fh0xYy7b-UaL",
        "outputId": "1017114e-0908-4d91-de59-8ac63b401669"
      },
      "execution_count": 92,
      "outputs": [
        {
          "output_type": "stream",
          "name": "stdout",
          "text": [
            "Charified text (before vectorization and embedding):\n",
            "after years of endless international contempt when a left activist could speak in clarity i never came clean w usage\n",
            "\n",
            "Embedded chars (after vectorization and embedding):\n",
            "[[[ 0.01325754 -0.00403579 -0.00050231 ...  0.0390645   0.03240479\n",
            "    0.00667893]\n",
            "  [ 0.01325754 -0.00403579 -0.00050231 ...  0.0390645   0.03240479\n",
            "    0.00667893]\n",
            "  [ 0.01325754 -0.00403579 -0.00050231 ...  0.0390645   0.03240479\n",
            "    0.00667893]\n",
            "  ...\n",
            "  [ 0.00857581  0.03516979 -0.0080349  ... -0.02681592 -0.04031276\n",
            "    0.03132869]\n",
            "  [ 0.00857581  0.03516979 -0.0080349  ... -0.02681592 -0.04031276\n",
            "    0.03132869]\n",
            "  [ 0.00857581  0.03516979 -0.0080349  ... -0.02681592 -0.04031276\n",
            "    0.03132869]]]\n",
            "\n",
            "Character embedding shape: (1, 1435, 25)\n"
          ]
        }
      ]
    },
    {
      "cell_type": "code",
      "source": [
        "# prompt: Make Conv1D on chars only\n",
        "\n",
        "inputs = layers.Input(shape=(1,), dtype='string')\n",
        "char_vectorized = char_vectorizer(inputs)\n",
        "char_embedded = char_embed(char_vectorized)\n",
        "x = layers.Conv1D(64, kernel_size=5, padding='same', activation='relu')(char_embedded)\n",
        "x = layers.GlobalMaxPooling1D()(x)\n",
        "outputs = layers.Dense(num_classes, activation='sigmoid')(x)\n",
        "\n",
        "model_3 = tf.keras.Model(inputs, outputs)\n"
      ],
      "metadata": {
        "id": "IOxn1yoN-UYD"
      },
      "execution_count": 93,
      "outputs": []
    },
    {
      "cell_type": "code",
      "source": [
        "# prompt: create train and valid dataset for character level using tf.data\n",
        "\n",
        "train_dataset_char = tf.data.Dataset.from_tensor_slices((train_sentences_char, train_labels_one_hot))\n",
        "train_dataset_char = train_dataset_char.shuffle(buffer_size=1024).batch(32).prefetch(tf.data.AUTOTUNE)\n",
        "\n",
        "val_dataset_char = tf.data.Dataset.from_tensor_slices((val_sentences_char, val_labels_one_hot))\n",
        "val_dataset_char = val_dataset_char.batch(32).prefetch(tf.data.AUTOTUNE)\n",
        "\n",
        "test_dataset_char = tf.data.Dataset.from_tensor_slices((test_sentences_char, test_labels_one_hot))\n",
        "test_dataset_char = test_dataset_char.batch(32).prefetch(tf.data.AUTOTUNE)\n"
      ],
      "metadata": {
        "id": "wK4szxxIDWRy"
      },
      "execution_count": 95,
      "outputs": []
    },
    {
      "cell_type": "code",
      "source": [
        "# prompt: compile and fit model 3\n",
        "\n",
        "model_3.compile(\n",
        "    loss='binary_crossentropy',\n",
        "    optimizer=tf.keras.optimizers.Adam(),\n",
        "    metrics=['accuracy']\n",
        ")\n",
        "model_3.summary()\n",
        "\n",
        "history_model_3 = model_3.fit(\n",
        "    train_dataset_char,\n",
        "    steps_per_epoch=int(0.1*len(train_dataset_char)),\n",
        "    epochs=5,\n",
        "    validation_data=val_dataset,\n",
        "    validation_steps=int(0.1*len(val_dataset_char))\n",
        ")\n"
      ],
      "metadata": {
        "colab": {
          "base_uri": "https://localhost:8080/"
        },
        "id": "1LfdngqD-UVr",
        "outputId": "0d542c84-59b6-4544-8f26-594f1d22b582"
      },
      "execution_count": 96,
      "outputs": [
        {
          "output_type": "stream",
          "name": "stdout",
          "text": [
            "Model: \"model_3\"\n",
            "_________________________________________________________________\n",
            " Layer (type)                Output Shape              Param #   \n",
            "=================================================================\n",
            " input_5 (InputLayer)        [(None, 1)]               0         \n",
            "                                                                 \n",
            " char_vectorizer (TextVecto  (None, 1435)              0         \n",
            " rization)                                                       \n",
            "                                                                 \n",
            " char_embed (Embedding)      (None, 1435, 25)          1750      \n",
            "                                                                 \n",
            " conv1d_2 (Conv1D)           (None, 1435, 64)          8064      \n",
            "                                                                 \n",
            " global_max_pooling1d_3 (Gl  (None, 64)                0         \n",
            " obalMaxPooling1D)                                               \n",
            "                                                                 \n",
            " dense_5 (Dense)             (None, 2)                 130       \n",
            "                                                                 \n",
            "=================================================================\n",
            "Total params: 9944 (38.84 KB)\n",
            "Trainable params: 9944 (38.84 KB)\n",
            "Non-trainable params: 0 (0.00 Byte)\n",
            "_________________________________________________________________\n",
            "Epoch 1/5\n",
            "158/158 [==============================] - 4s 17ms/step - loss: 0.6831 - accuracy: 0.5633 - val_loss: 0.6946 - val_accuracy: 0.5331\n",
            "Epoch 2/5\n",
            "158/158 [==============================] - 1s 7ms/step - loss: 0.6556 - accuracy: 0.6195 - val_loss: 0.7114 - val_accuracy: 0.5303\n",
            "Epoch 3/5\n",
            "158/158 [==============================] - 1s 9ms/step - loss: 0.6201 - accuracy: 0.6691 - val_loss: 0.7314 - val_accuracy: 0.5285\n",
            "Epoch 4/5\n",
            "158/158 [==============================] - 1s 9ms/step - loss: 0.6081 - accuracy: 0.6644 - val_loss: 0.7249 - val_accuracy: 0.5257\n",
            "Epoch 5/5\n",
            "158/158 [==============================] - 1s 7ms/step - loss: 0.5930 - accuracy: 0.6881 - val_loss: 0.7419 - val_accuracy: 0.5239\n"
          ]
        }
      ]
    },
    {
      "cell_type": "code",
      "source": [
        "# prompt: get results from model_3\n",
        "\n",
        "model_3.evaluate(val_dataset)\n",
        "model_3_probs = model_3.predict(val_dataset)\n",
        "model_3_preds = tf.argmax(model_3_probs, axis=1)\n",
        "model_3_results = calculate_results(y_true=val_labels_encoded,\n",
        "                                    y_pred=model_3_preds)\n",
        "model_3_results\n"
      ],
      "metadata": {
        "colab": {
          "base_uri": "https://localhost:8080/"
        },
        "id": "CARp4hRR-UTb",
        "outputId": "c353ad51-d60e-4211-a42a-7b9a11d0abf7"
      },
      "execution_count": 97,
      "outputs": [
        {
          "output_type": "stream",
          "name": "stdout",
          "text": [
            "341/341 [==============================] - 2s 6ms/step - loss: 0.7481 - accuracy: 0.5078\n",
            "341/341 [==============================] - 1s 3ms/step\n"
          ]
        },
        {
          "output_type": "execute_result",
          "data": {
            "text/plain": [
              "{'accuracy': 50.780389276533235,\n",
              " 'precision': 0.6595266586740519,\n",
              " 'recall': 0.5078038927653323,\n",
              " 'f1': 0.3455829828959135}"
            ]
          },
          "metadata": {},
          "execution_count": 97
        }
      ]
    },
    {
      "cell_type": "markdown",
      "source": [
        "## Model 4: Combining pretrained token embeddings + character embeddings (hybrid embedding layer)"
      ],
      "metadata": {
        "id": "PxFxV4vxEtEy"
      }
    },
    {
      "cell_type": "code",
      "source": [
        "# 1. Setup token inputs/model\n",
        "token_inputs = layers.Input(shape=[], dtype='string', name='token_input')\n",
        "token_embeddings = tf_hub_embedder(token_inputs)\n",
        "token_output = layers.Dense(128, activation='relu')(token_embeddings)\n",
        "token_model = tf.keras.Model(inputs=token_inputs, outputs=token_output)\n",
        "\n",
        "\n",
        "# 2. Setup char inputs/model\n",
        "char_inputs = layers.Input(shape=(1,), dtype='string', name='char_input')\n",
        "char_vectors = char_vectorizer(char_inputs)\n",
        "char_embeddings = char_embed(char_vectors)\n",
        "char_bi_lstm = layers.Bidirectional(layers.LSTM(25))(char_embeddings)\n",
        "char_model = tf.keras.Model(\n",
        "    inputs=char_inputs,\n",
        "    outputs=char_bi_lstm\n",
        ")\n",
        "\n",
        "\n",
        "# 3. Concatenate token and char inputs\n",
        "token_char_concat = layers.Concatenate(\n",
        "    name='token_char_hybrid'\n",
        ")([token_model.output, char_model.output])\n",
        "\n",
        "\n",
        "# 4. Create output layers\n",
        "combined_dropout = layers.Dropout(0.5)(token_char_concat)\n",
        "combined_dense = layers.Dense(200, activation='relu')(combined_dropout)\n",
        "final_dropout = layers.Dropout(0.5)(combined_dense)\n",
        "output_layer = layers.Dense(num_classes, activation='sigmoid')(final_dropout)\n",
        "\n",
        "# 5. Construct model with char and token inputs\n",
        "model_4 = tf.keras.Model(inputs=[token_model.input, char_model.input],\n",
        "                         outputs=output_layer,\n",
        "                         name=\"model_4_token_and_char_embeddings\")\n",
        ""
      ],
      "metadata": {
        "id": "qjA77cuHDndy"
      },
      "execution_count": 103,
      "outputs": []
    },
    {
      "cell_type": "code",
      "source": [
        "token_char_concat = layers.Concatenate(name=\"token_char_hybrid\")([token_model.output,\n",
        "                                                                  char_model.output])\n"
      ],
      "metadata": {
        "id": "mEdj3FMFDnbg"
      },
      "execution_count": null,
      "outputs": []
    },
    {
      "cell_type": "code",
      "source": [],
      "metadata": {
        "id": "Scw3ZqQ-DnZA"
      },
      "execution_count": null,
      "outputs": []
    },
    {
      "cell_type": "code",
      "source": [],
      "metadata": {
        "id": "KB0e3GoDDnW5"
      },
      "execution_count": null,
      "outputs": []
    },
    {
      "cell_type": "code",
      "source": [],
      "metadata": {
        "id": "HOwoKfoKDnUY"
      },
      "execution_count": null,
      "outputs": []
    }
  ]
}