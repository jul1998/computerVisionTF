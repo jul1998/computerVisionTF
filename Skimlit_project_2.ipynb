{
  "nbformat": 4,
  "nbformat_minor": 0,
  "metadata": {
    "colab": {
      "provenance": [],
      "gpuType": "T4"
    },
    "kernelspec": {
      "name": "python3",
      "display_name": "Python 3"
    },
    "language_info": {
      "name": "python"
    },
    "accelerator": "GPU"
  },
  "cells": [
    {
      "cell_type": "code",
      "source": [
        "import pandas as pd\n",
        "import tensorflow as tf\n",
        "import matplotlib.pyplot as plt\n",
        "import os\n"
      ],
      "metadata": {
        "id": "aivUuJvY2xwv"
      },
      "execution_count": 1,
      "outputs": []
    },
    {
      "cell_type": "code",
      "source": [
        "!wget https://raw.githubusercontent.com/mrdbourke/tensorflow-deep-learning/main/extras/helper_functions.py\n"
      ],
      "metadata": {
        "colab": {
          "base_uri": "https://localhost:8080/"
        },
        "id": "VLiINODv_cmZ",
        "outputId": "83925e42-447f-4e00-918f-b5cda6270abc"
      },
      "execution_count": 2,
      "outputs": [
        {
          "output_type": "stream",
          "name": "stdout",
          "text": [
            "--2024-01-16 02:30:54--  https://raw.githubusercontent.com/mrdbourke/tensorflow-deep-learning/main/extras/helper_functions.py\n",
            "Resolving raw.githubusercontent.com (raw.githubusercontent.com)... 185.199.108.133, 185.199.109.133, 185.199.110.133, ...\n",
            "Connecting to raw.githubusercontent.com (raw.githubusercontent.com)|185.199.108.133|:443... connected.\n",
            "HTTP request sent, awaiting response... 200 OK\n",
            "Length: 10246 (10K) [text/plain]\n",
            "Saving to: ‘helper_functions.py’\n",
            "\n",
            "\rhelper_functions.py   0%[                    ]       0  --.-KB/s               \rhelper_functions.py 100%[===================>]  10.01K  --.-KB/s    in 0s      \n",
            "\n",
            "2024-01-16 02:30:54 (64.8 MB/s) - ‘helper_functions.py’ saved [10246/10246]\n",
            "\n"
          ]
        }
      ]
    },
    {
      "cell_type": "code",
      "execution_count": 3,
      "metadata": {
        "colab": {
          "base_uri": "https://localhost:8080/"
        },
        "id": "GLEDyzTudVlf",
        "outputId": "030f83e6-55ed-448e-e57b-d4c2d4613336"
      },
      "outputs": [
        {
          "output_type": "stream",
          "name": "stdout",
          "text": [
            "Cloning into 'pubmed-rct'...\n",
            "remote: Enumerating objects: 39, done.\u001b[K\n",
            "remote: Counting objects: 100% (14/14), done.\u001b[K\n",
            "remote: Compressing objects: 100% (9/9), done.\u001b[K\n",
            "remote: Total 39 (delta 8), reused 5 (delta 5), pack-reused 25\u001b[K\n",
            "Receiving objects: 100% (39/39), 177.08 MiB | 16.00 MiB/s, done.\n",
            "Resolving deltas: 100% (15/15), done.\n",
            "Updating files: 100% (13/13), done.\n",
            "PubMed_200k_RCT\t\t\t\t       PubMed_20k_RCT_numbers_replaced_with_at_sign\n",
            "PubMed_200k_RCT_numbers_replaced_with_at_sign  README.md\n",
            "PubMed_20k_RCT\n"
          ]
        }
      ],
      "source": [
        "!git clone https://github.com/Franck-Dernoncourt/pubmed-rct.git\n",
        "!ls pubmed-rct"
      ]
    },
    {
      "cell_type": "code",
      "source": [
        "# prompt: save 20k dataset path into a variable\n",
        "\n",
        "data_dir = '/content/pubmed-rct/PubMed_20k_RCT_numbers_replaced_with_at_sign'"
      ],
      "metadata": {
        "id": "sGkaJMk3dkF1"
      },
      "execution_count": 4,
      "outputs": []
    },
    {
      "cell_type": "code",
      "source": [
        "import os\n",
        "filenames = [data_dir + \"/\" + filename for filename in os.listdir(data_dir)]\n",
        "filenames"
      ],
      "metadata": {
        "colab": {
          "base_uri": "https://localhost:8080/"
        },
        "id": "wh2ZJe41dkDU",
        "outputId": "1d65d9fb-cd0c-41e0-9d7d-d623c8b959bd"
      },
      "execution_count": 5,
      "outputs": [
        {
          "output_type": "execute_result",
          "data": {
            "text/plain": [
              "['/content/pubmed-rct/PubMed_20k_RCT_numbers_replaced_with_at_sign/dev.txt',\n",
              " '/content/pubmed-rct/PubMed_20k_RCT_numbers_replaced_with_at_sign/train.txt',\n",
              " '/content/pubmed-rct/PubMed_20k_RCT_numbers_replaced_with_at_sign/test.txt']"
            ]
          },
          "metadata": {},
          "execution_count": 5
        }
      ]
    },
    {
      "cell_type": "code",
      "source": [
        "# prompt: create a function to read lines of a documnet\n",
        "\n",
        "def read_lines(filename):\n",
        "  with open(filename, \"r\") as f:\n",
        "    lines = f.readlines()\n",
        "  return lines\n",
        "\n",
        "train_lines = read_lines(data_dir + '/train.txt')\n",
        "train_lines[:20]"
      ],
      "metadata": {
        "colab": {
          "base_uri": "https://localhost:8080/"
        },
        "id": "xjrf_Z7Gdj-L",
        "outputId": "0ef0a4e9-fb70-4c53-e252-eb69f61a0b03"
      },
      "execution_count": 6,
      "outputs": [
        {
          "output_type": "execute_result",
          "data": {
            "text/plain": [
              "['###24293578\\n',\n",
              " 'OBJECTIVE\\tTo investigate the efficacy of @ weeks of daily low-dose oral prednisolone in improving pain , mobility , and systemic low-grade inflammation in the short term and whether the effect would be sustained at @ weeks in older adults with moderate to severe knee osteoarthritis ( OA ) .\\n',\n",
              " 'METHODS\\tA total of @ patients with primary knee OA were randomized @:@ ; @ received @ mg/day of prednisolone and @ received placebo for @ weeks .\\n',\n",
              " 'METHODS\\tOutcome measures included pain reduction and improvement in function scores and systemic inflammation markers .\\n',\n",
              " 'METHODS\\tPain was assessed using the visual analog pain scale ( @-@ mm ) .\\n',\n",
              " 'METHODS\\tSecondary outcome measures included the Western Ontario and McMaster Universities Osteoarthritis Index scores , patient global assessment ( PGA ) of the severity of knee OA , and @-min walk distance ( @MWD ) .\\n',\n",
              " 'METHODS\\tSerum levels of interleukin @ ( IL-@ ) , IL-@ , tumor necrosis factor ( TNF ) - , and high-sensitivity C-reactive protein ( hsCRP ) were measured .\\n',\n",
              " 'RESULTS\\tThere was a clinically relevant reduction in the intervention group compared to the placebo group for knee pain , physical function , PGA , and @MWD at @ weeks .\\n',\n",
              " 'RESULTS\\tThe mean difference between treatment arms ( @ % CI ) was @ ( @-@ @ ) , p < @ ; @ ( @-@ @ ) , p < @ ; @ ( @-@ @ ) , p < @ ; and @ ( @-@ @ ) , p < @ , respectively .\\n',\n",
              " 'RESULTS\\tFurther , there was a clinically relevant reduction in the serum levels of IL-@ , IL-@ , TNF - , and hsCRP at @ weeks in the intervention group when compared to the placebo group .\\n',\n",
              " 'RESULTS\\tThese differences remained significant at @ weeks .\\n',\n",
              " 'RESULTS\\tThe Outcome Measures in Rheumatology Clinical Trials-Osteoarthritis Research Society International responder rate was @ % in the intervention group and @ % in the placebo group ( p < @ ) .\\n',\n",
              " 'CONCLUSIONS\\tLow-dose oral prednisolone had both a short-term and a longer sustained effect resulting in less knee pain , better physical function , and attenuation of systemic inflammation in older patients with knee OA ( ClinicalTrials.gov identifier NCT@ ) .\\n',\n",
              " '\\n',\n",
              " '###24854809\\n',\n",
              " 'BACKGROUND\\tEmotional eating is associated with overeating and the development of obesity .\\n',\n",
              " 'BACKGROUND\\tYet , empirical evidence for individual ( trait ) differences in emotional eating and cognitive mechanisms that contribute to eating during sad mood remain equivocal .\\n',\n",
              " 'OBJECTIVE\\tThe aim of this study was to test if attention bias for food moderates the effect of self-reported emotional eating during sad mood ( vs neutral mood ) on actual food intake .\\n',\n",
              " 'OBJECTIVE\\tIt was expected that emotional eating is predictive of elevated attention for food and higher food intake after an experimentally induced sad mood and that attentional maintenance on food predicts food intake during a sad versus a neutral mood .\\n',\n",
              " 'METHODS\\tParticipants ( N = @ ) were randomly assigned to one of the two experimental mood induction conditions ( sad/neutral ) .\\n']"
            ]
          },
          "metadata": {},
          "execution_count": 6
        }
      ]
    },
    {
      "cell_type": "markdown",
      "source": [
        "## Preprocess Data"
      ],
      "metadata": {
        "id": "pvdzRaeD2o4A"
      }
    },
    {
      "cell_type": "code",
      "source": [
        "def preprocess_abstracts(target_file):\n",
        "    with open(target_file, 'r') as file:\n",
        "        lines = file.readlines()\n",
        "\n",
        "    abstracts = []\n",
        "    current_abstract = {'sentences': []}\n",
        "    total_lines = 0\n",
        "    current_line_number = 0\n",
        "\n",
        "    for line in lines:\n",
        "        line = line.strip()\n",
        "\n",
        "        if line.startswith('###'):\n",
        "            # New abstract\n",
        "            if current_abstract['sentences']:\n",
        "                current_abstract['total_lines'] = total_lines\n",
        "                abstracts.append(current_abstract)\n",
        "                current_abstract = {'sentences': []}\n",
        "                total_lines = 0\n",
        "                current_line_number = 0\n",
        "        elif line:\n",
        "            # Non-empty line\n",
        "            parts = line.split('\\t')\n",
        "            target = parts[0]\n",
        "            text = parts[1]\n",
        "\n",
        "            # Record the line information\n",
        "            current_line_number += 1\n",
        "            current_abstract['sentences'].append({\n",
        "                'line_number': current_line_number,\n",
        "                'target': target,\n",
        "                'text': text\n",
        "            })\n",
        "\n",
        "            total_lines += 1\n",
        "\n",
        "    # Add the last abstract\n",
        "    if current_abstract['sentences']:\n",
        "        current_abstract['total_lines'] = total_lines\n",
        "        abstracts.append(current_abstract)\n",
        "\n",
        "    return abstracts\n",
        "\n",
        "# Example usage\n",
        "target_file = data_dir + '/train.txt'\n",
        "preprocessed_data = preprocess_abstracts(target_file)\n",
        "\n",
        "# Print the preprocessed data\n",
        "for abstract in preprocessed_data[:20]:\n",
        "    for sentence in abstract['sentences']:\n",
        "        print(f\"Line {sentence['line_number']}: Target - {sentence['target']}, Text - {sentence['text']}\")\n",
        "    print(f\"Total Lines in Abstract: {abstract['total_lines']}\\n\")\n"
      ],
      "metadata": {
        "id": "d5Ru7PZ4dj7k",
        "colab": {
          "base_uri": "https://localhost:8080/"
        },
        "outputId": "24dedcb0-75ae-4734-86e2-8650e848aaa8"
      },
      "execution_count": 7,
      "outputs": [
        {
          "output_type": "stream",
          "name": "stdout",
          "text": [
            "Line 1: Target - OBJECTIVE, Text - To investigate the efficacy of @ weeks of daily low-dose oral prednisolone in improving pain , mobility , and systemic low-grade inflammation in the short term and whether the effect would be sustained at @ weeks in older adults with moderate to severe knee osteoarthritis ( OA ) .\n",
            "Line 2: Target - METHODS, Text - A total of @ patients with primary knee OA were randomized @:@ ; @ received @ mg/day of prednisolone and @ received placebo for @ weeks .\n",
            "Line 3: Target - METHODS, Text - Outcome measures included pain reduction and improvement in function scores and systemic inflammation markers .\n",
            "Line 4: Target - METHODS, Text - Pain was assessed using the visual analog pain scale ( @-@ mm ) .\n",
            "Line 5: Target - METHODS, Text - Secondary outcome measures included the Western Ontario and McMaster Universities Osteoarthritis Index scores , patient global assessment ( PGA ) of the severity of knee OA , and @-min walk distance ( @MWD ) .\n",
            "Line 6: Target - METHODS, Text - Serum levels of interleukin @ ( IL-@ ) , IL-@ , tumor necrosis factor ( TNF ) - , and high-sensitivity C-reactive protein ( hsCRP ) were measured .\n",
            "Line 7: Target - RESULTS, Text - There was a clinically relevant reduction in the intervention group compared to the placebo group for knee pain , physical function , PGA , and @MWD at @ weeks .\n",
            "Line 8: Target - RESULTS, Text - The mean difference between treatment arms ( @ % CI ) was @ ( @-@ @ ) , p < @ ; @ ( @-@ @ ) , p < @ ; @ ( @-@ @ ) , p < @ ; and @ ( @-@ @ ) , p < @ , respectively .\n",
            "Line 9: Target - RESULTS, Text - Further , there was a clinically relevant reduction in the serum levels of IL-@ , IL-@ , TNF - , and hsCRP at @ weeks in the intervention group when compared to the placebo group .\n",
            "Line 10: Target - RESULTS, Text - These differences remained significant at @ weeks .\n",
            "Line 11: Target - RESULTS, Text - The Outcome Measures in Rheumatology Clinical Trials-Osteoarthritis Research Society International responder rate was @ % in the intervention group and @ % in the placebo group ( p < @ ) .\n",
            "Line 12: Target - CONCLUSIONS, Text - Low-dose oral prednisolone had both a short-term and a longer sustained effect resulting in less knee pain , better physical function , and attenuation of systemic inflammation in older patients with knee OA ( ClinicalTrials.gov identifier NCT@ ) .\n",
            "Total Lines in Abstract: 12\n",
            "\n",
            "Line 1: Target - BACKGROUND, Text - Emotional eating is associated with overeating and the development of obesity .\n",
            "Line 2: Target - BACKGROUND, Text - Yet , empirical evidence for individual ( trait ) differences in emotional eating and cognitive mechanisms that contribute to eating during sad mood remain equivocal .\n",
            "Line 3: Target - OBJECTIVE, Text - The aim of this study was to test if attention bias for food moderates the effect of self-reported emotional eating during sad mood ( vs neutral mood ) on actual food intake .\n",
            "Line 4: Target - OBJECTIVE, Text - It was expected that emotional eating is predictive of elevated attention for food and higher food intake after an experimentally induced sad mood and that attentional maintenance on food predicts food intake during a sad versus a neutral mood .\n",
            "Line 5: Target - METHODS, Text - Participants ( N = @ ) were randomly assigned to one of the two experimental mood induction conditions ( sad/neutral ) .\n",
            "Line 6: Target - METHODS, Text - Attentional biases for high caloric foods were measured by eye tracking during a visual probe task with pictorial food and neutral stimuli .\n",
            "Line 7: Target - METHODS, Text - Self-reported emotional eating was assessed with the Dutch Eating Behavior Questionnaire ( DEBQ ) and ad libitum food intake was tested by a disguised food offer .\n",
            "Line 8: Target - RESULTS, Text - Hierarchical multivariate regression modeling showed that self-reported emotional eating did not account for changes in attention allocation for food or food intake in either condition .\n",
            "Line 9: Target - RESULTS, Text - Yet , attention maintenance on food cues was significantly related to increased intake specifically in the neutral condition , but not in the sad mood condition .\n",
            "Line 10: Target - CONCLUSIONS, Text - The current findings show that self-reported emotional eating ( based on the DEBQ ) might not validly predict who overeats when sad , at least not in a laboratory setting with healthy women .\n",
            "Line 11: Target - CONCLUSIONS, Text - Results further suggest that attention maintenance on food relates to eating motivation when in a neutral affective state , and might therefore be a cognitive mechanism contributing to increased food intake in general , but maybe not during sad mood .\n",
            "Total Lines in Abstract: 11\n",
            "\n",
            "Line 1: Target - BACKGROUND, Text - Although working smoke alarms halve deaths in residential fires , many households do not keep alarms operational .\n",
            "Line 2: Target - BACKGROUND, Text - We tested whether theory-based education increases alarm operability .\n",
            "Line 3: Target - METHODS, Text - Randomised multiarm trial , with a single arm randomly selected for use each day , in low-income neighbourhoods in Maryland , USA .\n",
            "Line 4: Target - METHODS, Text - Intervention arms : ( @ ) Full Education combining a health belief module with a social-cognitive theory module that provided hands-on practice installing alarm batteries and using the alarm 's hush button ; ( @ ) Hands-on Practice social-cognitive module supplemented by typical fire department education ; ( @ ) Current Norm receiving typical fire department education only .\n",
            "Line 5: Target - METHODS, Text - Four hundred and thirty-six homes recruited through churches or by knocking on doors in @-@ .\n",
            "Line 6: Target - METHODS, Text - Follow-up visits checked alarm operability in @ homes ( @ % ) @-@ @ years after installation .\n",
            "Line 7: Target - METHODS, Text - number of homes with working alarms defined as alarms with working batteries or hard-wired and number of working alarms per home .\n",
            "Line 8: Target - METHODS, Text - Regressions controlled for alarm status preintervention ; demographics and beliefs about fire risks and alarm effectiveness .\n",
            "Line 9: Target - RESULTS, Text - Homes in the Full Education and Practice arms were more likely to have a functioning smoke alarm at follow-up ( OR = @ , @ % CI @ to @ ) and had an average of @ more working alarms per home ( @ % CI @ to @ ) .\n",
            "Line 10: Target - RESULTS, Text - Working alarms per home rose @ % .\n",
            "Line 11: Target - RESULTS, Text - Full Education and Practice had similar effectiveness ( p = @ on both outcome measures ) .\n",
            "Line 12: Target - CONCLUSIONS, Text - Without exceeding typical fire department installation time , installers can achieve greater smoke alarm operability .\n",
            "Line 13: Target - CONCLUSIONS, Text - Hands-on practice is key .\n",
            "Line 14: Target - CONCLUSIONS, Text - Two years after installation , for every three homes that received hands-on practice , one had an additional working alarm .\n",
            "Line 15: Target - BACKGROUND, Text - http://www.clinicaltrials.gov number NCT@ .\n",
            "Total Lines in Abstract: 15\n",
            "\n",
            "Line 1: Target - OBJECTIVE, Text - To evaluate the performance ( efficacy , safety and acceptability ) of a new micro-adherent absorbent dressing ( UrgoClean ) compared with a hydrofiber dressing ( Aquacel ) in the local management of venous leg ulcers , in the debridement stage .\n",
            "Line 2: Target - METHODS, Text - A non-inferiority European randomised controlled clinical trial ( RCT ) was conducted in @ centres , on patients presenting with venous or predominantly venous , mixed aetiology leg ulcers at their sloughy stage ( with more than @ % of the wound bed covered with slough at baseline ) .\n",
            "Line 3: Target - METHODS, Text - Patients were followed over a @-week period and assessed weekly .\n",
            "Line 4: Target - METHODS, Text - The primary judgement criteria was the relative regression of the wound surface area after the @-week treatment period .\n",
            "Line 5: Target - METHODS, Text - Secondary endpoints were the relative reduction of sloughy tissue and the percentage of patients presenting with a debrided wound .\n",
            "Line 6: Target - RESULTS, Text - Altogether , @ patients were randomised to either UrgoClean ( test group ; n = @ ) or Aquacel ( control group ; n = @ ) dressings .\n",
            "Line 7: Target - RESULTS, Text - Regarding the wound healing process predictive factors ( wound area , duration , ABPI value , recurrence ) , at baseline , the two groups were well balanced , for both wound and patient characteristics .\n",
            "Line 8: Target - RESULTS, Text - Compression therapy was administered to both groups and after a median @-day treatment period , the percentage of relative reduction of the wound surface area was very similar ( -@ % vs -@ % in the UrgoClean and control groups , respectively ) .\n",
            "Line 9: Target - RESULTS, Text - When considering the secondary criteria at week @ , the relative reduction of sloughy tissue was significantly higher in the UrgoClean group than in the control group ( -@ % vs -@,@ % ; p = @ ) .\n",
            "Line 10: Target - RESULTS, Text - The percentage of debrided wounds was also significantly higher in the test group ( @ % vs @ % ; p = @ ) .\n",
            "Line 11: Target - CONCLUSIONS, Text - This ` EARTH ' RCT confirmed that the UrgoClean dressing has similar efficacy and safety compared to Aquacel .\n",
            "Line 12: Target - CONCLUSIONS, Text - However , UrgoClean also showed better autolytic properties than the control group in the management of venous leg ulcers at the sloughy stage .\n",
            "Line 13: Target - CONCLUSIONS, Text - The new UrgoClean dressing therefore represents a promising therapeutic option within the current range of autolytic dressings available .\n",
            "Line 14: Target - BACKGROUND, Text - This study was sponsored by a grant from the pharmaceutical company Laboratoires Urgo .\n",
            "Line 15: Target - BACKGROUND, Text - S. Bohbot and O. Tacca are employees of Laboratoires Urgo .\n",
            "Line 16: Target - BACKGROUND, Text - S. Meaume , J. Dissemond and G. Perceau have received monetary compensation as presenters for Laboratoires Urgo .\n",
            "Line 17: Target - BACKGROUND, Text - Data management and statistical analyses were conducted independently by Vertical ( Paris , France ) .\n",
            "Total Lines in Abstract: 17\n",
            "\n",
            "Line 1: Target - OBJECTIVE, Text - Eye movements ( EM ) during recall of an aversive memory is a treatment element unique to Eye Movement Desensitization and Reprocessing ( EMDR ) .\n",
            "Line 2: Target - OBJECTIVE, Text - Experimental studies have shown that EM reduce memory vividness and/or emotionality shortly after the intervention .\n",
            "Line 3: Target - OBJECTIVE, Text - However , it is unclear whether the immediate effects of the intervention reflect actual changes in memory .\n",
            "Line 4: Target - OBJECTIVE, Text - The aim of this study was to test whether immediate reductions in memory vividness and emotionality persist at a @h follow up and whether the magnitude of these effects is related to the duration of the intervention .\n",
            "Line 5: Target - METHODS, Text - Seventy-three undergraduates recalled two negative autobiographical memories , one with EM ( `` recall with EM '' ) and one without ( `` recall only '' ) .\n",
            "Line 6: Target - METHODS, Text - Half of participants recalled each memory for four periods of @s , the other half for eight periods of @s .\n",
            "Line 7: Target - METHODS, Text - Memory vividness/emotionality were self-rated at a pre-test , an immediate post-test , and a @h follow-up test .\n",
            "Line 8: Target - RESULTS, Text - In both duration groups , recall with EM , but not recall only , caused an immediate decrease in memory vividness .\n",
            "Line 9: Target - RESULTS, Text - There were no immediate reductions in memory emotionality .\n",
            "Line 10: Target - RESULTS, Text - Furthermore , only the ` eight periods ' group showed that recall with EM , but not recall only , caused a decrease in both memory emotionality and memory vividness from the pre-test to the follow-up .\n",
            "Line 11: Target - CONCLUSIONS, Text - Only self-report measures were used .\n",
            "Line 12: Target - CONCLUSIONS, Text - The findings suggest that recall with EM causes @-hchanges in memory vividness/emotionality , which may explain part of the EMDR treatment effect , and these effects are related to intervention duration .\n",
            "Total Lines in Abstract: 12\n",
            "\n",
            "Line 1: Target - OBJECTIVE, Text - Few studies have tested the impact of motivational interviewing ( MI ) delivered by primary care providers on pediatric obesity .\n",
            "Line 2: Target - OBJECTIVE, Text - This study tested the efficacy of MI delivered by providers and registered dietitians ( RDs ) to parents of overweight children aged @ through @ .\n",
            "Line 3: Target - METHODS, Text - Forty-two practices from the Pediatric Research in Office Settings Network of the American Academy of Pediatrics were randomly assigned to @ of @ groups .\n",
            "Line 4: Target - METHODS, Text - Group @ ( usual care ) measured BMI percentile at baseline and @ - and @-year follow-up .\n",
            "Line 5: Target - METHODS, Text - Group @ ( provider only ) delivered @ MI counseling sessions to parents of the index child over @ years .\n",
            "Line 6: Target - METHODS, Text - Group @ ( provider + RD ) delivered @ provider MI sessions plus @ MI sessions from a RD. .\n",
            "Line 7: Target - METHODS, Text - The primary outcome was child BMI percentile at @-year follow up .\n",
            "Line 8: Target - RESULTS, Text - At @-year follow-up , the adjusted BMI percentile was @ , @ , and @ for groups @ , @ , and @ , respectively .\n",
            "Line 9: Target - RESULTS, Text - The group @ mean was significantly ( P = @ ) lower than group @ .\n",
            "Line 10: Target - RESULTS, Text - Mean changes from baseline in BMI percentile were @ , @ , and @ across groups @ , @ , and @ .\n",
            "Line 11: Target - CONCLUSIONS, Text - MI delivered by providers and RDs ( group @ ) resulted in statistically significant reductions in BMI percentile .\n",
            "Line 12: Target - CONCLUSIONS, Text - Research is needed to determine the clinical significance and persistence of the BMI effects observed .\n",
            "Line 13: Target - CONCLUSIONS, Text - How the intervention can be brought to scale ( in particular , how to train physicians to use MI effectively and how best to train RDs and integrate them into primary care settings ) also merits future research .\n",
            "Total Lines in Abstract: 13\n",
            "\n",
            "Line 1: Target - BACKGROUND, Text - Antithrombin ( AT ) concentrations are reduced after cardiac surgery with cardiopulmonary bypass compared with the preoperative levels .\n",
            "Line 2: Target - BACKGROUND, Text - Low postoperative AT is associated with worse short - and mid-term clinical outcomes .\n",
            "Line 3: Target - BACKGROUND, Text - The aim of the study is to evaluate the effects of AT administration on activation of the coagulation and fibrinolytic systems , platelet function , and the inflammatory response in patients with low postoperative AT levels .\n",
            "Line 4: Target - METHODS, Text - Sixty patients with postoperative AT levels of less than @ % were randomly assigned to receive purified AT ( @ IU in three administrations ) or placebo in the postoperative intensive care unit .\n",
            "Line 5: Target - METHODS, Text - Thirty patients with postoperative AT levels greater than @ % were observed as controls .\n",
            "Line 6: Target - METHODS, Text - Interleukin @ ( a marker of inflammation ) , prothrombin fragment @-@ ( a marker of thrombin generation ) , plasmin-antiplasmin complex ( a marker of fibrinolysis ) , and platelet factor @ ( a marker of platelet activation ) were measured at six different times .\n",
            "Line 7: Target - RESULTS, Text - Compared with the no AT group and control patients , patients receiving AT showed significantly higher AT values until @ hours after the last administration .\n",
            "Line 8: Target - RESULTS, Text - Analysis of variance for repeated measures showed a significant effect of study treatment in reducing prothrombin fragment @-@ ( p = @ ; interaction with time sample , p = @ ) and plasmin-antiplasmin complex ( p < @ ; interaction with time sample , p < @ ) values but not interleukin @ ( p = @ ; interaction with time sample , p = @ ) and platelet factor @ ( p = @ ; interaction with time sample , p = @ ) .\n",
            "Line 9: Target - RESULTS, Text - No difference in chest tube drainage , reopening for bleeding , and blood transfusion was observed .\n",
            "Line 10: Target - CONCLUSIONS, Text - Antithrombin administration in patients with low AT activity after surgery with cardiopulmonary bypass reduces postoperative thrombin generation and fibrinolysis with no effects on platelet activation and inflammatory response .\n",
            "Total Lines in Abstract: 10\n",
            "\n",
            "Line 1: Target - OBJECTIVE, Text - We evaluated patients at tertiary -LSB- both percutaneous coronary intervention ( PCI ) and coronary artery bypass grafting ( CABG ) capable -RSB- and primary hospitals in the EARLY-ACS trial .\n",
            "Line 2: Target - BACKGROUND, Text - Early invasive management is recommended for high-risk non-ST-segment elevation acute coronary syndromes .\n",
            "Line 3: Target - METHODS, Text - We evaluated outcomes in @,@ patients presenting to : tertiary sites , primary sites with transfer to tertiary sites ( `` transferred '' ) and those who remained at primary sites ( `` non-transfer '' ) .\n",
            "Line 4: Target - RESULTS, Text - There were @ tertiary ( n = @,@ patients ) and @ primary hospitals -LSB- n = @,@ patients ( @ transferred ; @,@ non-transfer ) -RSB- .\n",
            "Line 5: Target - RESULTS, Text - Significant delays occurred in time from symptom onset to angiography ( @ hr ) , PCI ( @h ) , and CABG ( @ hr ) for transferred patients ( P < @ ) .\n",
            "Line 6: Target - RESULTS, Text - Non-transfer patients had less @-day death/myocardial infarction -LSB- @ % vs. @ % ( tertiary ) ; adjusted odds ratio ( OR ) : @ ( @-@ @ ) , P = @ -RSB- ; transferred ( @ % ) and tertiary patients were similar -LSB- adjusted OR : @ ( @-@ @ ) , P = @ -RSB- .\n",
            "Line 7: Target - RESULTS, Text - Non-transfer patients had lower @-year mortality -LSB- @ % vs. @ % ( tertiary ) ; adjusted hazard ratio ( HR ) : @ ( @-@ @ ) , P = @ -RSB- : there was no difference between transferred and tertiary patients -LSB- @ % vs. @ % ; adjusted HR : @ ( @-@ @ ) , P = @ -RSB- .\n",
            "Line 8: Target - RESULTS, Text - Despite similar rates of catheterization , GUSTO severe/moderate bleeding within @ hr was less in non-transfer -LSB- @ % vs. @ % ( tertiary ) ; adjusted OR : @ ( @-@ @ ) , P < @ -RSB- , whereas transferred ( @ % ) and tertiary patients were similar -LSB- adjusted OR : @ ( @-@ @ ) , P = @ -RSB- .\n",
            "Line 9: Target - RESULTS, Text - There was no difference in non-CABG bleeding .\n",
            "Line 10: Target - CONCLUSIONS, Text - Timely angiography and revascularization were often not achieved in transferred patients .\n",
            "Line 11: Target - CONCLUSIONS, Text - Non-transferred patients presenting to primary sites had the lowest event rates and the best long-term survival .\n",
            "Total Lines in Abstract: 11\n",
            "\n",
            "Line 1: Target - OBJECTIVE, Text - We hypothesized that a targeted temperature of @ C as compared to that of @ C would increase survival and reduce the severity of circulatory shock in patients with shock on admission after out-of-hospital cardiac arrest ( OHCA ) .\n",
            "Line 2: Target - METHODS, Text - The recently published Target Temperature Management trial ( TTM-trial ) randomized @ OHCA patients with no difference in outcome between groups and no difference in mortality at the end of the trial in a predefined subgroup of patients with shock at admission .\n",
            "Line 3: Target - METHODS, Text - Shock was defined as a systolic blood pressure of < @ mm Hg for > @ min or the need of supportive measures to maintain a blood pressure @ mmHg and/or clinical signs of end-organ hypoperfusion .\n",
            "Line 4: Target - METHODS, Text - In this post hoc analysis reported here , we further analyzed the @ patients with shock at admission ; all had been randomized to receive intervention at @ C ( TTM@ ; n = @ ) or @ C ( TTM@ ; n = @ ) .\n",
            "Line 5: Target - METHODS, Text - Primary outcome was @-day mortality .\n",
            "Line 6: Target - METHODS, Text - Secondary outcomes were intensive care unit ( ICU ) and @-day mortality , severity of circulatory shock assessed by mean arterial pressure , serum lactate , fluid balance and the extended Sequential Organ Failure assessment ( SOFA ) score .\n",
            "Line 7: Target - RESULTS, Text - There was no significance difference between targeted temperature management at @ C or @ C on @-day mortality -LSB- log-rank test , p = @ , hazard ratio @ , @ % confidence interval ( CI ) @-@ @ -RSB- or ICU mortality ( @ vs. @ % , p = @ ; relative risk @ , @ % CI @-@ @ ) .\n",
            "Line 8: Target - RESULTS, Text - Serum lactate and the extended cardiovascular SOFA score were higher in the TTM@ group ( p < @ ) .\n",
            "Line 9: Target - CONCLUSIONS, Text - We found no benefit in survival or severity of circulatory shock with targeted temperature management at @ C as compared to @ C in patients with shock on admission after OHCA .\n",
            "Total Lines in Abstract: 9\n",
            "\n",
            "Line 1: Target - BACKGROUND, Text - Youths with a family history of alcohol and other drug use disorders ( FH + ) are at a greater risk of developing substance use disorders than their peers with no such family histories ( FH - ) , and this increased risk may be related to impaired maturation of forebrain circuitry .\n",
            "Line 2: Target - BACKGROUND, Text - FH + individuals have shown altered forebrain activity at rest and while performing cognitive tasks .\n",
            "Line 3: Target - BACKGROUND, Text - However , it is not fully understood how forebrain activity is altered in FH + individuals , and ultimately how these alterations may contribute to substance use disorder risk .\n",
            "Line 4: Target - METHODS, Text - In this study , we tested @ FH + and @ FH - youths performing a go/no-go task and examined activations in blocks with only go trials ( Go Only ) , blocks with @ % go and @ % no-go trials ( Go/NoGo ) , and a contrast of those @ blocks .\n",
            "Line 5: Target - RESULTS, Text - FH + youths had significantly greater cerebral activations in both the Go and Go/NoGo blocks than FH - youths in regions including the posterior cingulate/precuneus , bilateral middle/superior temporal gyrus , and medial superior frontal gyrus with no significant group differences in the subtraction between Go Only and Go/NoGo blocks .\n",
            "Line 6: Target - RESULTS, Text - Additionally , FH + youths had moderately slower reaction times on go trials in the Go Only blocks .\n",
            "Line 7: Target - CONCLUSIONS, Text - Our findings suggest that global activation increase in FH + youths are modulated by FH density and are not specific to the inhibitory components of the task .\n",
            "Line 8: Target - CONCLUSIONS, Text - This pattern of increased activations in FH + youths may be at least partially due to impaired forebrain white matter development leading to greater activations/less efficient neural communication during task performance .\n",
            "Total Lines in Abstract: 8\n",
            "\n",
            "Line 1: Target - BACKGROUND, Text - Risk factors have been proposed for running injuries including ( a ) reduced muscular strength , ( b ) excessive joint movements and ( c ) excessive joint moments in the frontal and transverse planes .\n",
            "Line 2: Target - BACKGROUND, Text - To date , many running injury prevention programs have focused on a `` top down '' approach to strengthen the hip musculature in the attempt to reduce movements and moments at the hip , knee , and/or ankle joints .\n",
            "Line 3: Target - BACKGROUND, Text - However , running mechanics did not change when hip muscle strength increased .\n",
            "Line 4: Target - BACKGROUND, Text - It could be speculated that emphasis should be placed on increasing the strength of the ankle joint for a `` ground up '' approach .\n",
            "Line 5: Target - BACKGROUND, Text - Strengthening of the large and small muscles crossing the ankle joint is assumed to change the force distribution for these muscles and to increase the use of smaller muscles .\n",
            "Line 6: Target - BACKGROUND, Text - This would be associated with a reduction of joint and insertion forces , which could have a beneficial effect on injury prevention .\n",
            "Line 7: Target - BACKGROUND, Text - However , training of the ankle joint as an injury prevention strategy has not been studied .\n",
            "Line 8: Target - BACKGROUND, Text - Ankle strengthening techniques include isolated strengthening or movement-related strengthening such as functional balance training .\n",
            "Line 9: Target - BACKGROUND, Text - There is little knowledge about the efficacy of such training programs on strength alteration , gait or injury reduction .\n",
            "Line 10: Target - METHODS, Text - Novice runners will be randomly assigned to one of three groups : an isolated ankle strengthening group ( strength , n = @ ) , a functional balance training group ( balance , n = @ ) or an activity-matched control group ( control , n = @ ) .\n",
            "Line 11: Target - METHODS, Text - Isokinetic strength will be measured using a Biodex System @ dynamometer .\n",
            "Line 12: Target - METHODS, Text - Running kinematics and kinetics will be assessed using @D motion analysis and a force platform .\n",
            "Line 13: Target - METHODS, Text - Postural control will be assessed by quantifying the magnitude and temporal structure of the center of pressure trace during single leg stance on a force platform .\n",
            "Line 14: Target - METHODS, Text - The change pre - and post-training in isokinetic strength , running mechanics , and postural control variables will be compared following the interventions .\n",
            "Line 15: Target - METHODS, Text - Injuries rates will be compared between groups over @months .\n",
            "Line 16: Target - CONCLUSIONS, Text - Avoiding injury will allow individuals to enjoy the benefits of participating in aerobic activities and reduce the healthcare costs associated with running injuries .\n",
            "Line 17: Target - BACKGROUND, Text - Current Controlled Trial NCT@ .\n",
            "Total Lines in Abstract: 17\n",
            "\n",
            "Line 1: Target - BACKGROUND, Text - Vitamin B@ deficiency causes neurologic and psychiatric disease , especially in older adults .\n",
            "Line 2: Target - BACKGROUND, Text - Subacute combined degeneration is characterized by damage to the posterior and lateral spinal cord affecting the corticospinal tract .\n",
            "Line 3: Target - OBJECTIVE, Text - To test corticospinal tract projections using motor evoked potentials ( MEPs ) by transcranial magnetic stimulation ( TMS ) in asymptomatic older adults with low vitamin B@ ( B@ ) levels .\n",
            "Line 4: Target - METHODS, Text - Cross-sectional study of @ healthy older adults ( > @ years ) .\n",
            "Line 5: Target - METHODS, Text - MEPs were recorded in the abductor pollicis brevis and tibialis anterior muscles , at rest and during slight tonic contraction .\n",
            "Line 6: Target - METHODS, Text - Central motor conduction time ( CMCT ) was derived from the latency of MEPs and peripheral motor conduction time ( PMCT ) .\n",
            "Line 7: Target - METHODS, Text - Neurophysiological variables were analyzed statistically according to B@ status .\n",
            "Line 8: Target - RESULTS, Text - Median age was @ years ( @ % women ) .\n",
            "Line 9: Target - RESULTS, Text - Twenty-six out of the @ subjects had low vitamin B@ levels ( B@ < @pmol/l ) .\n",
            "Line 10: Target - RESULTS, Text - MEPs were recorded for all subjects in upper and lower extremities .\n",
            "Line 11: Target - RESULTS, Text - There were no significant differences in either latency or amplitude of MEPs and CMCT between low and normal B@ groups .\n",
            "Line 12: Target - RESULTS, Text - There was a significant PMCT delay in the lower extremities in the low B@ group ( p = @ ) .\n",
            "Line 13: Target - CONCLUSIONS, Text - No subclinical abnormality of the corticospinal tract is detected in asymptomatic B@-deficient older adults .\n",
            "Line 14: Target - CONCLUSIONS, Text - The peripheral nervous system appears to be more vulnerable to damage attributable to this vitamin deficit .\n",
            "Line 15: Target - CONCLUSIONS, Text - The neurophysiological evaluation of asymptomatic older adults with lower B@ levels should be focused mainly in peripheral nervous system evaluation .\n",
            "Total Lines in Abstract: 15\n",
            "\n",
            "Line 1: Target - BACKGROUND, Text - Uncontrolled hypertension ( HTN ) is a significant public health problem among blacks in the United States .\n",
            "Line 2: Target - BACKGROUND, Text - Despite the proven efficacy of therapeutic lifestyle change ( TLC ) on blood pressure ( BP ) reduction in clinical trials , few studies have examined their effectiveness in church-based settings-an influential institution for health promotion in black communities .\n",
            "Line 3: Target - METHODS, Text - Using a cluster-randomized , @-arm trial design , this study evaluates the effectiveness of a faith-based TLC intervention vs health education ( HE ) control on BP reduction among hypertensive black adults .\n",
            "Line 4: Target - METHODS, Text - The intervention is delivered by trained lay health advisors through group TLC sessions plus motivational interviewing in @ black churches .\n",
            "Line 5: Target - METHODS, Text - Participants in the intervention group receive @ weekly TLC sessions targeting weight loss , increasing physical activity , fruit , vegetable and low-fat dairy intake , and decreasing fat and sodium intake , plus @ monthly individual motivational interviewing sessions .\n",
            "Line 6: Target - METHODS, Text - Participants in the control group attend @ weekly classes on HTN and other health topics delivered by health care experts .\n",
            "Line 7: Target - METHODS, Text - The primary outcome is change in BP from baseline to @ months .\n",
            "Line 8: Target - METHODS, Text - Secondary outcomes include level of physical activity , percent change in weight , and fruit and vegetable consumption at @ months , and BP control at @ months .\n",
            "Line 9: Target - CONCLUSIONS, Text - If successful , this trial will provide an alternative and culturally appropriate model for HTN control through evidence-based lifestyle modification delivered in churches by lay health advisors .\n",
            "Total Lines in Abstract: 9\n",
            "\n",
            "Line 1: Target - BACKGROUND, Text - The classification of clinical severity of Ebstein anomaly still remains a challenge .\n",
            "Line 2: Target - BACKGROUND, Text - The aim of this study was to focus on the interaction of the pathologically altered right heart with the anatomically-supposedly-normal left heart and to derive from cardiac magnetic resonance ( CMR ) a simple imaging measure for the clinical severity of Ebstein anomaly .\n",
            "Line 3: Target - RESULTS, Text - Twenty-five patients at a mean age of @ years with unrepaired Ebstein anomaly were examined in a prospective study .\n",
            "Line 4: Target - RESULTS, Text - Disease severity was classified using CMR volumes and functional measurements in comparison with heart failure markers from clinical data , ECG , laboratory and cardiopulmonary exercise testing , and echocardiography .\n",
            "Line 5: Target - RESULTS, Text - All examinations were completed within @ hours .\n",
            "Line 6: Target - RESULTS, Text - A total right/left-volume index was defined from end-diastolic volume measurements in CMR : total right/left-volume index = ( RA + aRV + fRV ) / ( LA+LV ) .\n",
            "Line 7: Target - RESULTS, Text - Mean total right/left-volume index was @ ( normal values : @ ) .\n",
            "Line 8: Target - RESULTS, Text - This new total right/left-volume index correlated with almost all clinically used biomarkers of heart failure : brain natriuretic peptide ( r = @ ; P = @ ) , QRS ( r = @ ; P = @ ) , peak oxygen consumption/kg ( r = -@ ; P = @ ) , ventilatory response to carbon dioxide production at anaerobic threshold ( r = @ ; P = @ ) , the severity of tricuspid regurgitation ( r = @ ; P = @ ) , tricuspid valve offset ( r = @ ; P = @ ) , and tricuspid annular plane systolic excursion ( r = @ ; P = @ ) .\n",
            "Line 9: Target - RESULTS, Text - Previously described severity indices ( -LSB- RA + aRV -RSB- / -LSB- fRV + LA+LV -RSB- ) and fRV/LV end-diastolic volume corresponded only to some parameters .\n",
            "Line 10: Target - CONCLUSIONS, Text - In patients with Ebstein anomaly , the easily acquired index of right-sided to left-sided heart volumes from CMR correlated well with established heart failure markers .\n",
            "Line 11: Target - CONCLUSIONS, Text - Our data suggest that the total right/left-volume index should be used as a new and simplified CMR measure , allowing more accurate assessment of disease severity than previously described scoring systems .\n",
            "Total Lines in Abstract: 11\n",
            "\n",
            "Line 1: Target - OBJECTIVE, Text - This study sought to investigate the association of beta-blocker therapy at discharge with clinical outcomes in patients with ST-segment elevation myocardial infarction ( STEMI ) after primary percutaneous coronary intervention ( PCI ) .\n",
            "Line 2: Target - BACKGROUND, Text - Limited data are available on the efficacy of beta-blocker therapy for secondary prevention in STEMI patients .\n",
            "Line 3: Target - METHODS, Text - Between November @ , @ and September @ , @ , @,@ patients were enrolled in nationwide , prospective , multicenter registries .\n",
            "Line 4: Target - METHODS, Text - Among these , we studied STEMI patients undergoing primary PCI who were discharged alive ( n = @,@ ) .\n",
            "Line 5: Target - METHODS, Text - We classified patients into the beta-blocker group ( n = @,@ ) and no-beta-blocker group ( n = @,@ ) according to the use of beta-blockers at discharge .\n",
            "Line 6: Target - METHODS, Text - Propensity-score matching analysis was also performed in @,@ patient triplets .\n",
            "Line 7: Target - METHODS, Text - The primary outcome was all-cause death .\n",
            "Line 8: Target - RESULTS, Text - The median follow-up duration was @ days ( interquartile range : @ to @ days ) .\n",
            "Line 9: Target - RESULTS, Text - All-cause death occurred in @ patients ( @ % ) of the beta-blocker group versus @ patients ( @ % ) of the no-beta-blocker group ( p < @ ) .\n",
            "Line 10: Target - RESULTS, Text - After @:@ propensity-score matching , beta-blocker therapy was associated with a lower incidence of all-cause death ( @ % vs. @ % , adjusted hazard ratio : @ , @ % confidence interval : @ to @ , p = @ ) .\n",
            "Line 11: Target - RESULTS, Text - The association with better outcome of beta-blocker therapy in terms of all-cause death was consistent across various subgroups , including patients with relatively low-risk profiles such as ejection fraction > @ % or single-vessel disease .\n",
            "Line 12: Target - CONCLUSIONS, Text - Beta-blocker therapy at discharge was associated with improved survival in STEMI patients treated with primary PCI .\n",
            "Line 13: Target - CONCLUSIONS, Text - Our results support the current American College of Cardiology/American Heart Association guidelines , which recommend long-term beta-blocker therapy in all patients with STEMI regardless of reperfusion therapy or risk profile .\n",
            "Total Lines in Abstract: 13\n",
            "\n",
            "Line 1: Target - OBJECTIVE, Text - Local anesthetic wound infiltration is widely used as an effective adjunct during multimodal postoperative pain management .\n",
            "Line 2: Target - OBJECTIVE, Text - The aim of this study was to evaluate the effectiveness of continuous wound infusion of ropivacaine in postoperative pain relief , opioid sparing , incidence of nausea and vomiting , and bowel and liver function improvement in patients undergoing open hepatectomy .\n",
            "Line 3: Target - METHODS, Text - Forty patients undergoing open hepatectomy were enrolled in this prospective , randomized , double-blinded , placebo-controlled trial .\n",
            "Line 4: Target - METHODS, Text - Patients were divided into @ groups : the @ % saline continuous infusion group ( the control group ; n = @ ) and the ropivacaine continuous infusion group ( the Ropi group ; n = @ ) .\n",
            "Line 5: Target - METHODS, Text - Outcomes measured postoperatively were pain score at rest and on movement , sufentanil consumption , incidence of nausea and vomiting , and sedation score across @ postoperative hours .\n",
            "Line 6: Target - METHODS, Text - Time to bowel recovery , liver function change , mean length of hospitalization , patient satisfaction , and other data after @ postoperative hours were collected until hospital discharge .\n",
            "Line 7: Target - RESULTS, Text - Pain scores at rest were lower for the ropivacaine group and reached significance after @ and @ hours ( P < @ ) .\n",
            "Line 8: Target - RESULTS, Text - Sufentanil consumption ( @ vs. @ g ; P < @ ) after @ hours , time to bowel recovery ( @ vs. @ d ; P < @ ) , incidence of nausea and vomiting ( @ vs. @ ; P < @ ) , and mean length of hospitalization ( @ vs. @ d ; P < @ ) were significantly reduced , and the sedation score and liver function change were also comparable between the @ groups .\n",
            "Line 9: Target - RESULTS, Text - There was no difference with respect to pain scores on movement , nor with respect to patient satisfaction .\n",
            "Line 10: Target - CONCLUSIONS, Text - Surgical wound infusion with ropivacaine after hepatectomy can improve pain relief at rest and accelerate recovery and discharge .\n",
            "Total Lines in Abstract: 10\n",
            "\n",
            "Line 1: Target - OBJECTIVE, Text - Tuberculosis ( TB ) is highly prevalent among HIV-infected people , including those receiving combination antiretroviral therapy ( cART ) , necessitating a well tolerated and efficacious TB vaccine for these populations .\n",
            "Line 2: Target - OBJECTIVE, Text - We evaluated the safety and immunogenicity of the candidate TB vaccine M@/AS@ in adults with well controlled HIV infection on cART .\n",
            "Line 3: Target - METHODS, Text - A randomized , observer-blind , controlled trial ( NCT@ ) .\n",
            "Line 4: Target - METHODS, Text - HIV-infected adults on cART in Switzerland were randomized @:@:@ to receive two doses , @ month apart , of M@/AS@ , AS@ or @ % physiological saline ( N = @ , N = @ and N = @ , respectively ) and were followed up to @ months postdose @ ( D@ ) .\n",
            "Line 5: Target - METHODS, Text - Individuals with CD@ cell counts below @ cells/l were excluded .\n",
            "Line 6: Target - METHODS, Text - Adverse events ( AEs ) including HIV-specific and laboratory safety parameters were recorded .\n",
            "Line 7: Target - METHODS, Text - Cell-mediated ( ICS ) and humoral ( ELISA ) responses were evaluated before vaccination , @ month after each dose ( D@ , D@ ) and D@ .\n",
            "Line 8: Target - RESULTS, Text - Thirty-seven individuals -LSB- interquartile range ( IQR ) CD@ cell counts at screening : @-@ cells/l ; undetectable HIV-@ viremia -RSB- were enrolled ; @ % of individuals reported previous BCG vaccination , @ % tested negative for the QuantiFERON-TB assay .\n",
            "Line 9: Target - RESULTS, Text - For M@/AS@ recipients , no vaccine-related serious AEs or cART-regimen adjustments were recorded , and there were no clinically relevant effects on laboratory safety parameters , HIV-@ viral loads or CD@ cell counts .\n",
            "Line 10: Target - RESULTS, Text - M@/AS@ was immunogenic , inducing persistent and polyfunctional M@-specific CD@ T-cell responses -LSB- medians @ % ( IQR @-@ @ ) at D@ -RSB- and @ % ( @-@ @ ) at D@ , predominantly CD@LIL-@TNF - , CD@LIL-@ and CD@LIL-@TNF-IFN - -RSB- .\n",
            "Line 11: Target - RESULTS, Text - All M@/AS@ vaccines were seropositive for anti-M@ IgG after second vaccination until study end .\n",
            "Line 12: Target - CONCLUSIONS, Text - M@/AS@ was clinically well tolerated and immunogenic in this population , supporting further clinical evaluation in HIV-infected individuals in TB-endemic settings .\n",
            "Total Lines in Abstract: 12\n",
            "\n",
            "Line 1: Target - OBJECTIVE, Text - The aim of this study was to investigate whether remedial hydration ( RH ) reduces the incidence of contrast-induced nephropathy ( CIN ) and short-term adverse events in ST-elevation myocardial infarction ( STEMI ) patients undergoing primary percutaneous coronary intervention ( PCI ) .\n",
            "Line 2: Target - METHODS, Text - A total of @ consecutive STEMI patients were prospectively and randomly assigned into two groups : @ patients in the RH group and @ patients in the no RH ( control ) group .\n",
            "Line 3: Target - METHODS, Text - The serum creatinine ( SCr ) and creatinine clearance ( CCr ) levels were measured on admission and at @ , @ and @ hours after primary PCI .\n",
            "Line 4: Target - METHODS, Text - The rates of CIN and short-term adverse events were analyzed for each group .\n",
            "Line 5: Target - METHODS, Text - After surgery , the patients were categorized into four groups according to the Mehran risk score : low ( @ , n = @ ) , moderate ( @-@ , n = @ ) , high ( @-@ , n = @ ) or very high ( @ , n = @ ) .\n",
            "Line 6: Target - RESULTS, Text - The incidence of CIN in the RH group was lower than that observed in the control group ( @/@ ; @ % vs. @/@ ; @ % , p < @ ) .\n",
            "Line 7: Target - RESULTS, Text - The subgroup analysis showed that the rate of CIN was lower in the moderate ( @/@ ; @ % vs. @/@ ; @ % , p < @ ) and significantly lower in both the high ( @/@ ; @ % vs. @/@ ; @ % , p < @ ) and very high score groups ( @/@ ; @ % vs. @/@ ; @ % , p < @ ) among the RH patients compared to the controls .\n",
            "Line 8: Target - RESULTS, Text - At @ , @ and @ hours after PCI , the patients in the RH group exhibited lower SCr levels and higher CCr levels than the patients in the control group ( both p < @ ) .\n",
            "Line 9: Target - RESULTS, Text - A lower incidence of in-hospital clinical events was also observed in the RH group .\n",
            "Line 10: Target - CONCLUSIONS, Text - Remedial hydration decreases the occurrence of CIN and improves the short-term prognosis of STEMI patients undergoing primary PCI .\n",
            "Total Lines in Abstract: 10\n",
            "\n",
            "Line 1: Target - BACKGROUND, Text - An increased production of oxidizing species related to reactive oral diseases , such as chronic apical periodontitis , could have systemic implications such as an increase in cardiovascular morbidity .\n",
            "Line 2: Target - BACKGROUND, Text - Based on this consideration , we conducted a prospective study to assess whether subjects affected by chronic periodontitis presented with higher values of oxidative stress than reference values before endodontic treatment , and whether endodontic treatment can reduce the oxidative imbalance and bring it back to normal in these subjects .\n",
            "Line 3: Target - METHODS, Text - The authors recruited @ groups of patients from private studies and dental clinics : these patients were recruited randomly .\n",
            "Line 4: Target - METHODS, Text - The oxidative balance in both patients with chronic apical periodontitis ( CAP ) and healthy control patients was determined by measuring the oxidant status , using an identification of the reactive oxygen metabolites ( d-ROMs ) test , while the antioxidant status in these patients was determined using a biological antioxidant potential ( BAP ) test .\n",
            "Line 5: Target - METHODS, Text - Both these tests were carried on plasma samples taken from enrolled patients .\n",
            "Line 6: Target - METHODS, Text - Values were measured both before the endodontic treatment of the patients with chronic apical periodontitis , and @ and @ days after treatment , and compared to those obtained from healthy control patients .\n",
            "Line 7: Target - RESULTS, Text - It was found that , on recruitment , the patients with chronic apical periodontitis exhibited significantly higher levels of oxidative stress than control patients , as determined by the d-ROMs and BAP tests .\n",
            "Line 8: Target - RESULTS, Text - Furthermore , the d-ROMs test values were shown to decrease and the BAP test values to increase over time in patients with chronic apical periodontitis following endodontic therapy .\n",
            "Line 9: Target - RESULTS, Text - As the levels of oxidative stress in these patients tended to reduce and return to normal by @ days following treatment .\n",
            "Line 10: Target - CONCLUSIONS, Text - This study has demonstrated a positive association between chronic apical periodontitis and oxidative stress .\n",
            "Line 11: Target - CONCLUSIONS, Text - Subjects affected by chronic apical periodontitis are exposed to a condition of oxidative stress , which is extremely dangerous to general health .\n",
            "Line 12: Target - CONCLUSIONS, Text - Moreover , one can infer from these findings that through proper endodontic therapy , a good oxidative balance can be restored , thereby avoiding the risk of contracting the abovementioned diseases .\n",
            "Total Lines in Abstract: 12\n",
            "\n",
            "Line 1: Target - BACKGROUND, Text - Placebo effect has been largely studied and debated in medicine .\n",
            "Line 2: Target - BACKGROUND, Text - Research focused mainly on children and adults but not on newborns .\n",
            "Line 3: Target - BACKGROUND, Text - In osteopathy , few studies documented this effect and no research has been conducted in newborns .\n",
            "Line 4: Target - OBJECTIVE, Text - To assess the presence of placebo effect in newborns using sham osteopathic manipulative treatment .\n",
            "Line 5: Target - METHODS, Text - Randomized control trial .\n",
            "Line 6: Target - METHODS, Text - Neonatal Intensive Care Unit in Italy .\n",
            "Line 7: Target - METHODS, Text - Two groups ( @ patients each ) of preterm infants aged @-@ weeks without medical complications received routine pediatric care and osteopathic sham therapy was administrated to the study group only for the entire period of hospitalization .\n",
            "Line 8: Target - METHODS, Text - Primary end point was the mean reduction of length of stay at discharge .\n",
            "Line 9: Target - METHODS, Text - Secondary objective was the change in daily weight gain .\n",
            "Line 10: Target - RESULTS, Text - @ newborns entered the study .\n",
            "Line 11: Target - RESULTS, Text - No difference between sham and control group was found for the primary outcome length of stay ( @ ; @ ; p = @ ) .\n",
            "Line 12: Target - RESULTS, Text - Multivariate analysis showed no difference between study and control group on length of stay .\n",
            "Line 13: Target - RESULTS, Text - A negative association was found for gestational age ( -@ ; @ % CI -@ to -@ ; p = @ ) , birth weight ( -@ ; @ % CI -@ to -@ ; p < @ ) and milk volume at study enrollment ( -@ ; @ % CI -@ to -@ ; p = @ ) .\n",
            "Line 14: Target - CONCLUSIONS, Text - To the best of our knowledge , this study is the first in the field showing no placebo effect on newborns .\n",
            "Line 15: Target - CONCLUSIONS, Text - Further discussions are opened concerning the age when placebo effect starts .\n",
            "Total Lines in Abstract: 15\n",
            "\n"
          ]
        }
      ]
    },
    {
      "cell_type": "markdown",
      "source": [],
      "metadata": {
        "id": "VQ5t58xPrCoN"
      }
    },
    {
      "cell_type": "code",
      "source": [
        "preprocessed_data[1]['total_lines']"
      ],
      "metadata": {
        "colab": {
          "base_uri": "https://localhost:8080/"
        },
        "id": "5tG15R9gdj2j",
        "outputId": "7d978804-3398-4809-f8b8-5d6389ace4ed"
      },
      "execution_count": 8,
      "outputs": [
        {
          "output_type": "execute_result",
          "data": {
            "text/plain": [
              "11"
            ]
          },
          "metadata": {},
          "execution_count": 8
        }
      ]
    },
    {
      "cell_type": "code",
      "source": [
        "%%time\n",
        "train_samples = preprocess_abstracts(data_dir + '/train.txt')\n",
        "val_samples = preprocess_abstracts(data_dir + '/dev.txt')\n",
        "test_samples = preprocess_abstracts(data_dir + '/test.txt')\n",
        "len(train_samples), len(val_samples), len(test_samples)"
      ],
      "metadata": {
        "colab": {
          "base_uri": "https://localhost:8080/"
        },
        "id": "Naq8PW04dj0N",
        "outputId": "ba9f9011-c06e-4b87-f363-39b7fee75626"
      },
      "execution_count": 9,
      "outputs": [
        {
          "output_type": "stream",
          "name": "stdout",
          "text": [
            "CPU times: user 825 ms, sys: 124 ms, total: 949 ms\n",
            "Wall time: 2.56 s\n"
          ]
        },
        {
          "output_type": "execute_result",
          "data": {
            "text/plain": [
              "(15000, 2500, 2500)"
            ]
          },
          "metadata": {},
          "execution_count": 9
        }
      ]
    },
    {
      "cell_type": "markdown",
      "source": [
        "## Convert train, test, and val samples into dataframes"
      ],
      "metadata": {
        "id": "GgQGInx_2sTm"
      }
    },
    {
      "cell_type": "code",
      "source": [
        "# prompt: create a dataframe for each sample dataset above, include total_lines\n",
        "\n",
        "def create_dataframe(samples):\n",
        "    columns = ['line_number', 'target', 'text', 'total_lines']\n",
        "    data = []\n",
        "    for index,abstract in enumerate(samples):\n",
        "        for sentence in abstract['sentences']:\n",
        "            data.append([sentence['line_number'],sentence['target'], sentence['text'], abstract['total_lines']])\n",
        "    return pd.DataFrame(data, columns=columns)\n",
        "\n",
        "train_df = create_dataframe(train_samples)\n",
        "val_df = create_dataframe(val_samples)\n",
        "test_df = create_dataframe(test_samples)\n",
        "\n",
        "train_df.head(14)\n",
        "\n"
      ],
      "metadata": {
        "colab": {
          "base_uri": "https://localhost:8080/",
          "height": 714
        },
        "id": "jbbvkD7wdjtU",
        "outputId": "6df37979-e2c5-42ba-b040-a112084587de"
      },
      "execution_count": 10,
      "outputs": [
        {
          "output_type": "execute_result",
          "data": {
            "text/plain": [
              "    line_number       target  \\\n",
              "0             1    OBJECTIVE   \n",
              "1             2      METHODS   \n",
              "2             3      METHODS   \n",
              "3             4      METHODS   \n",
              "4             5      METHODS   \n",
              "5             6      METHODS   \n",
              "6             7      RESULTS   \n",
              "7             8      RESULTS   \n",
              "8             9      RESULTS   \n",
              "9            10      RESULTS   \n",
              "10           11      RESULTS   \n",
              "11           12  CONCLUSIONS   \n",
              "12            1   BACKGROUND   \n",
              "13            2   BACKGROUND   \n",
              "\n",
              "                                                 text  total_lines  \n",
              "0   To investigate the efficacy of @ weeks of dail...           12  \n",
              "1   A total of @ patients with primary knee OA wer...           12  \n",
              "2   Outcome measures included pain reduction and i...           12  \n",
              "3   Pain was assessed using the visual analog pain...           12  \n",
              "4   Secondary outcome measures included the Wester...           12  \n",
              "5   Serum levels of interleukin @ ( IL-@ ) , IL-@ ...           12  \n",
              "6   There was a clinically relevant reduction in t...           12  \n",
              "7   The mean difference between treatment arms ( @...           12  \n",
              "8   Further , there was a clinically relevant redu...           12  \n",
              "9   These differences remained significant at @ we...           12  \n",
              "10  The Outcome Measures in Rheumatology Clinical ...           12  \n",
              "11  Low-dose oral prednisolone had both a short-te...           12  \n",
              "12  Emotional eating is associated with overeating...           11  \n",
              "13  Yet , empirical evidence for individual ( trai...           11  "
            ],
            "text/html": [
              "\n",
              "  <div id=\"df-d8338605-d91b-473d-a63d-e70edc8a8555\" class=\"colab-df-container\">\n",
              "    <div>\n",
              "<style scoped>\n",
              "    .dataframe tbody tr th:only-of-type {\n",
              "        vertical-align: middle;\n",
              "    }\n",
              "\n",
              "    .dataframe tbody tr th {\n",
              "        vertical-align: top;\n",
              "    }\n",
              "\n",
              "    .dataframe thead th {\n",
              "        text-align: right;\n",
              "    }\n",
              "</style>\n",
              "<table border=\"1\" class=\"dataframe\">\n",
              "  <thead>\n",
              "    <tr style=\"text-align: right;\">\n",
              "      <th></th>\n",
              "      <th>line_number</th>\n",
              "      <th>target</th>\n",
              "      <th>text</th>\n",
              "      <th>total_lines</th>\n",
              "    </tr>\n",
              "  </thead>\n",
              "  <tbody>\n",
              "    <tr>\n",
              "      <th>0</th>\n",
              "      <td>1</td>\n",
              "      <td>OBJECTIVE</td>\n",
              "      <td>To investigate the efficacy of @ weeks of dail...</td>\n",
              "      <td>12</td>\n",
              "    </tr>\n",
              "    <tr>\n",
              "      <th>1</th>\n",
              "      <td>2</td>\n",
              "      <td>METHODS</td>\n",
              "      <td>A total of @ patients with primary knee OA wer...</td>\n",
              "      <td>12</td>\n",
              "    </tr>\n",
              "    <tr>\n",
              "      <th>2</th>\n",
              "      <td>3</td>\n",
              "      <td>METHODS</td>\n",
              "      <td>Outcome measures included pain reduction and i...</td>\n",
              "      <td>12</td>\n",
              "    </tr>\n",
              "    <tr>\n",
              "      <th>3</th>\n",
              "      <td>4</td>\n",
              "      <td>METHODS</td>\n",
              "      <td>Pain was assessed using the visual analog pain...</td>\n",
              "      <td>12</td>\n",
              "    </tr>\n",
              "    <tr>\n",
              "      <th>4</th>\n",
              "      <td>5</td>\n",
              "      <td>METHODS</td>\n",
              "      <td>Secondary outcome measures included the Wester...</td>\n",
              "      <td>12</td>\n",
              "    </tr>\n",
              "    <tr>\n",
              "      <th>5</th>\n",
              "      <td>6</td>\n",
              "      <td>METHODS</td>\n",
              "      <td>Serum levels of interleukin @ ( IL-@ ) , IL-@ ...</td>\n",
              "      <td>12</td>\n",
              "    </tr>\n",
              "    <tr>\n",
              "      <th>6</th>\n",
              "      <td>7</td>\n",
              "      <td>RESULTS</td>\n",
              "      <td>There was a clinically relevant reduction in t...</td>\n",
              "      <td>12</td>\n",
              "    </tr>\n",
              "    <tr>\n",
              "      <th>7</th>\n",
              "      <td>8</td>\n",
              "      <td>RESULTS</td>\n",
              "      <td>The mean difference between treatment arms ( @...</td>\n",
              "      <td>12</td>\n",
              "    </tr>\n",
              "    <tr>\n",
              "      <th>8</th>\n",
              "      <td>9</td>\n",
              "      <td>RESULTS</td>\n",
              "      <td>Further , there was a clinically relevant redu...</td>\n",
              "      <td>12</td>\n",
              "    </tr>\n",
              "    <tr>\n",
              "      <th>9</th>\n",
              "      <td>10</td>\n",
              "      <td>RESULTS</td>\n",
              "      <td>These differences remained significant at @ we...</td>\n",
              "      <td>12</td>\n",
              "    </tr>\n",
              "    <tr>\n",
              "      <th>10</th>\n",
              "      <td>11</td>\n",
              "      <td>RESULTS</td>\n",
              "      <td>The Outcome Measures in Rheumatology Clinical ...</td>\n",
              "      <td>12</td>\n",
              "    </tr>\n",
              "    <tr>\n",
              "      <th>11</th>\n",
              "      <td>12</td>\n",
              "      <td>CONCLUSIONS</td>\n",
              "      <td>Low-dose oral prednisolone had both a short-te...</td>\n",
              "      <td>12</td>\n",
              "    </tr>\n",
              "    <tr>\n",
              "      <th>12</th>\n",
              "      <td>1</td>\n",
              "      <td>BACKGROUND</td>\n",
              "      <td>Emotional eating is associated with overeating...</td>\n",
              "      <td>11</td>\n",
              "    </tr>\n",
              "    <tr>\n",
              "      <th>13</th>\n",
              "      <td>2</td>\n",
              "      <td>BACKGROUND</td>\n",
              "      <td>Yet , empirical evidence for individual ( trai...</td>\n",
              "      <td>11</td>\n",
              "    </tr>\n",
              "  </tbody>\n",
              "</table>\n",
              "</div>\n",
              "    <div class=\"colab-df-buttons\">\n",
              "\n",
              "  <div class=\"colab-df-container\">\n",
              "    <button class=\"colab-df-convert\" onclick=\"convertToInteractive('df-d8338605-d91b-473d-a63d-e70edc8a8555')\"\n",
              "            title=\"Convert this dataframe to an interactive table.\"\n",
              "            style=\"display:none;\">\n",
              "\n",
              "  <svg xmlns=\"http://www.w3.org/2000/svg\" height=\"24px\" viewBox=\"0 -960 960 960\">\n",
              "    <path d=\"M120-120v-720h720v720H120Zm60-500h600v-160H180v160Zm220 220h160v-160H400v160Zm0 220h160v-160H400v160ZM180-400h160v-160H180v160Zm440 0h160v-160H620v160ZM180-180h160v-160H180v160Zm440 0h160v-160H620v160Z\"/>\n",
              "  </svg>\n",
              "    </button>\n",
              "\n",
              "  <style>\n",
              "    .colab-df-container {\n",
              "      display:flex;\n",
              "      gap: 12px;\n",
              "    }\n",
              "\n",
              "    .colab-df-convert {\n",
              "      background-color: #E8F0FE;\n",
              "      border: none;\n",
              "      border-radius: 50%;\n",
              "      cursor: pointer;\n",
              "      display: none;\n",
              "      fill: #1967D2;\n",
              "      height: 32px;\n",
              "      padding: 0 0 0 0;\n",
              "      width: 32px;\n",
              "    }\n",
              "\n",
              "    .colab-df-convert:hover {\n",
              "      background-color: #E2EBFA;\n",
              "      box-shadow: 0px 1px 2px rgba(60, 64, 67, 0.3), 0px 1px 3px 1px rgba(60, 64, 67, 0.15);\n",
              "      fill: #174EA6;\n",
              "    }\n",
              "\n",
              "    .colab-df-buttons div {\n",
              "      margin-bottom: 4px;\n",
              "    }\n",
              "\n",
              "    [theme=dark] .colab-df-convert {\n",
              "      background-color: #3B4455;\n",
              "      fill: #D2E3FC;\n",
              "    }\n",
              "\n",
              "    [theme=dark] .colab-df-convert:hover {\n",
              "      background-color: #434B5C;\n",
              "      box-shadow: 0px 1px 3px 1px rgba(0, 0, 0, 0.15);\n",
              "      filter: drop-shadow(0px 1px 2px rgba(0, 0, 0, 0.3));\n",
              "      fill: #FFFFFF;\n",
              "    }\n",
              "  </style>\n",
              "\n",
              "    <script>\n",
              "      const buttonEl =\n",
              "        document.querySelector('#df-d8338605-d91b-473d-a63d-e70edc8a8555 button.colab-df-convert');\n",
              "      buttonEl.style.display =\n",
              "        google.colab.kernel.accessAllowed ? 'block' : 'none';\n",
              "\n",
              "      async function convertToInteractive(key) {\n",
              "        const element = document.querySelector('#df-d8338605-d91b-473d-a63d-e70edc8a8555');\n",
              "        const dataTable =\n",
              "          await google.colab.kernel.invokeFunction('convertToInteractive',\n",
              "                                                    [key], {});\n",
              "        if (!dataTable) return;\n",
              "\n",
              "        const docLinkHtml = 'Like what you see? Visit the ' +\n",
              "          '<a target=\"_blank\" href=https://colab.research.google.com/notebooks/data_table.ipynb>data table notebook</a>'\n",
              "          + ' to learn more about interactive tables.';\n",
              "        element.innerHTML = '';\n",
              "        dataTable['output_type'] = 'display_data';\n",
              "        await google.colab.output.renderOutput(dataTable, element);\n",
              "        const docLink = document.createElement('div');\n",
              "        docLink.innerHTML = docLinkHtml;\n",
              "        element.appendChild(docLink);\n",
              "      }\n",
              "    </script>\n",
              "  </div>\n",
              "\n",
              "\n",
              "<div id=\"df-4328d616-4fd1-4895-b0b2-a0d6fdb5fae9\">\n",
              "  <button class=\"colab-df-quickchart\" onclick=\"quickchart('df-4328d616-4fd1-4895-b0b2-a0d6fdb5fae9')\"\n",
              "            title=\"Suggest charts\"\n",
              "            style=\"display:none;\">\n",
              "\n",
              "<svg xmlns=\"http://www.w3.org/2000/svg\" height=\"24px\"viewBox=\"0 0 24 24\"\n",
              "     width=\"24px\">\n",
              "    <g>\n",
              "        <path d=\"M19 3H5c-1.1 0-2 .9-2 2v14c0 1.1.9 2 2 2h14c1.1 0 2-.9 2-2V5c0-1.1-.9-2-2-2zM9 17H7v-7h2v7zm4 0h-2V7h2v10zm4 0h-2v-4h2v4z\"/>\n",
              "    </g>\n",
              "</svg>\n",
              "  </button>\n",
              "\n",
              "<style>\n",
              "  .colab-df-quickchart {\n",
              "      --bg-color: #E8F0FE;\n",
              "      --fill-color: #1967D2;\n",
              "      --hover-bg-color: #E2EBFA;\n",
              "      --hover-fill-color: #174EA6;\n",
              "      --disabled-fill-color: #AAA;\n",
              "      --disabled-bg-color: #DDD;\n",
              "  }\n",
              "\n",
              "  [theme=dark] .colab-df-quickchart {\n",
              "      --bg-color: #3B4455;\n",
              "      --fill-color: #D2E3FC;\n",
              "      --hover-bg-color: #434B5C;\n",
              "      --hover-fill-color: #FFFFFF;\n",
              "      --disabled-bg-color: #3B4455;\n",
              "      --disabled-fill-color: #666;\n",
              "  }\n",
              "\n",
              "  .colab-df-quickchart {\n",
              "    background-color: var(--bg-color);\n",
              "    border: none;\n",
              "    border-radius: 50%;\n",
              "    cursor: pointer;\n",
              "    display: none;\n",
              "    fill: var(--fill-color);\n",
              "    height: 32px;\n",
              "    padding: 0;\n",
              "    width: 32px;\n",
              "  }\n",
              "\n",
              "  .colab-df-quickchart:hover {\n",
              "    background-color: var(--hover-bg-color);\n",
              "    box-shadow: 0 1px 2px rgba(60, 64, 67, 0.3), 0 1px 3px 1px rgba(60, 64, 67, 0.15);\n",
              "    fill: var(--button-hover-fill-color);\n",
              "  }\n",
              "\n",
              "  .colab-df-quickchart-complete:disabled,\n",
              "  .colab-df-quickchart-complete:disabled:hover {\n",
              "    background-color: var(--disabled-bg-color);\n",
              "    fill: var(--disabled-fill-color);\n",
              "    box-shadow: none;\n",
              "  }\n",
              "\n",
              "  .colab-df-spinner {\n",
              "    border: 2px solid var(--fill-color);\n",
              "    border-color: transparent;\n",
              "    border-bottom-color: var(--fill-color);\n",
              "    animation:\n",
              "      spin 1s steps(1) infinite;\n",
              "  }\n",
              "\n",
              "  @keyframes spin {\n",
              "    0% {\n",
              "      border-color: transparent;\n",
              "      border-bottom-color: var(--fill-color);\n",
              "      border-left-color: var(--fill-color);\n",
              "    }\n",
              "    20% {\n",
              "      border-color: transparent;\n",
              "      border-left-color: var(--fill-color);\n",
              "      border-top-color: var(--fill-color);\n",
              "    }\n",
              "    30% {\n",
              "      border-color: transparent;\n",
              "      border-left-color: var(--fill-color);\n",
              "      border-top-color: var(--fill-color);\n",
              "      border-right-color: var(--fill-color);\n",
              "    }\n",
              "    40% {\n",
              "      border-color: transparent;\n",
              "      border-right-color: var(--fill-color);\n",
              "      border-top-color: var(--fill-color);\n",
              "    }\n",
              "    60% {\n",
              "      border-color: transparent;\n",
              "      border-right-color: var(--fill-color);\n",
              "    }\n",
              "    80% {\n",
              "      border-color: transparent;\n",
              "      border-right-color: var(--fill-color);\n",
              "      border-bottom-color: var(--fill-color);\n",
              "    }\n",
              "    90% {\n",
              "      border-color: transparent;\n",
              "      border-bottom-color: var(--fill-color);\n",
              "    }\n",
              "  }\n",
              "</style>\n",
              "\n",
              "  <script>\n",
              "    async function quickchart(key) {\n",
              "      const quickchartButtonEl =\n",
              "        document.querySelector('#' + key + ' button');\n",
              "      quickchartButtonEl.disabled = true;  // To prevent multiple clicks.\n",
              "      quickchartButtonEl.classList.add('colab-df-spinner');\n",
              "      try {\n",
              "        const charts = await google.colab.kernel.invokeFunction(\n",
              "            'suggestCharts', [key], {});\n",
              "      } catch (error) {\n",
              "        console.error('Error during call to suggestCharts:', error);\n",
              "      }\n",
              "      quickchartButtonEl.classList.remove('colab-df-spinner');\n",
              "      quickchartButtonEl.classList.add('colab-df-quickchart-complete');\n",
              "    }\n",
              "    (() => {\n",
              "      let quickchartButtonEl =\n",
              "        document.querySelector('#df-4328d616-4fd1-4895-b0b2-a0d6fdb5fae9 button');\n",
              "      quickchartButtonEl.style.display =\n",
              "        google.colab.kernel.accessAllowed ? 'block' : 'none';\n",
              "    })();\n",
              "  </script>\n",
              "</div>\n",
              "\n",
              "    </div>\n",
              "  </div>\n"
            ]
          },
          "metadata": {},
          "execution_count": 10
        }
      ]
    },
    {
      "cell_type": "code",
      "source": [
        "train_df.target.value_counts()"
      ],
      "metadata": {
        "colab": {
          "base_uri": "https://localhost:8080/"
        },
        "id": "J8NYPahddjqs",
        "outputId": "e79d4899-7470-40de-fe28-0b3e6603d595"
      },
      "execution_count": 11,
      "outputs": [
        {
          "output_type": "execute_result",
          "data": {
            "text/plain": [
              "METHODS        59353\n",
              "RESULTS        57953\n",
              "CONCLUSIONS    27168\n",
              "BACKGROUND     21727\n",
              "OBJECTIVE      13839\n",
              "Name: target, dtype: int64"
            ]
          },
          "metadata": {},
          "execution_count": 11
        }
      ]
    },
    {
      "cell_type": "code",
      "source": [
        "train_df.total_lines.plot.hist()"
      ],
      "metadata": {
        "colab": {
          "base_uri": "https://localhost:8080/",
          "height": 448
        },
        "id": "LjUBGOOGdjob",
        "outputId": "3618c9ec-00dd-4e8b-b5b8-a826433c6277"
      },
      "execution_count": 12,
      "outputs": [
        {
          "output_type": "execute_result",
          "data": {
            "text/plain": [
              "<Axes: ylabel='Frequency'>"
            ]
          },
          "metadata": {},
          "execution_count": 12
        },
        {
          "output_type": "display_data",
          "data": {
            "text/plain": [
              "<Figure size 640x480 with 1 Axes>"
            ],
            "image/png": "[encoded data removed]"
          },
          "metadata": {}
        }
      ]
    },
    {
      "cell_type": "code",
      "source": [
        "train_sentences = train_df['text'].tolist()\n",
        "val_sentences = val_df['text'].tolist()\n",
        "test_sentences = test_df['text'].tolist()\n",
        "len(train_sentences), len(val_sentences), len(test_sentences)\n"
      ],
      "metadata": {
        "colab": {
          "base_uri": "https://localhost:8080/"
        },
        "id": "upkGd8KSdjmG",
        "outputId": "4efc9696-d2ad-4dea-e48f-4756b5622bff"
      },
      "execution_count": 13,
      "outputs": [
        {
          "output_type": "execute_result",
          "data": {
            "text/plain": [
              "(180040, 30212, 30135)"
            ]
          },
          "metadata": {},
          "execution_count": 13
        }
      ]
    },
    {
      "cell_type": "code",
      "source": [
        "train_sentences[:10]"
      ],
      "metadata": {
        "colab": {
          "base_uri": "https://localhost:8080/"
        },
        "id": "kaEUYoI4djj-",
        "outputId": "5cf54d54-9a11-4939-a730-738728611a4b"
      },
      "execution_count": 14,
      "outputs": [
        {
          "output_type": "execute_result",
          "data": {
            "text/plain": [
              "['To investigate the efficacy of @ weeks of daily low-dose oral prednisolone in improving pain , mobility , and systemic low-grade inflammation in the short term and whether the effect would be sustained at @ weeks in older adults with moderate to severe knee osteoarthritis ( OA ) .',\n",
              " 'A total of @ patients with primary knee OA were randomized @:@ ; @ received @ mg/day of prednisolone and @ received placebo for @ weeks .',\n",
              " 'Outcome measures included pain reduction and improvement in function scores and systemic inflammation markers .',\n",
              " 'Pain was assessed using the visual analog pain scale ( @-@ mm ) .',\n",
              " 'Secondary outcome measures included the Western Ontario and McMaster Universities Osteoarthritis Index scores , patient global assessment ( PGA ) of the severity of knee OA , and @-min walk distance ( @MWD ) .',\n",
              " 'Serum levels of interleukin @ ( IL-@ ) , IL-@ , tumor necrosis factor ( TNF ) - , and high-sensitivity C-reactive protein ( hsCRP ) were measured .',\n",
              " 'There was a clinically relevant reduction in the intervention group compared to the placebo group for knee pain , physical function , PGA , and @MWD at @ weeks .',\n",
              " 'The mean difference between treatment arms ( @ % CI ) was @ ( @-@ @ ) , p < @ ; @ ( @-@ @ ) , p < @ ; @ ( @-@ @ ) , p < @ ; and @ ( @-@ @ ) , p < @ , respectively .',\n",
              " 'Further , there was a clinically relevant reduction in the serum levels of IL-@ , IL-@ , TNF - , and hsCRP at @ weeks in the intervention group when compared to the placebo group .',\n",
              " 'These differences remained significant at @ weeks .']"
            ]
          },
          "metadata": {},
          "execution_count": 14
        }
      ]
    },
    {
      "cell_type": "markdown",
      "source": [
        "## Make numeric labels (ML models require numeric labels)"
      ],
      "metadata": {
        "id": "cMUX1jdE4lAF"
      }
    },
    {
      "cell_type": "code",
      "source": [
        "from sklearn.preprocessing import OneHotEncoder\n",
        "\n",
        "# Assuming you have a DataFrame with a 'target' column\n",
        "encoder = OneHotEncoder(sparse=False)\n",
        "\n",
        "# Reshape the target column to a 2D array\n",
        "train_labels_reshaped = train_df['target'].values.reshape(-1, 1)\n",
        "val_labels_reshaped = val_df['target'].values.reshape(-1, 1)\n",
        "test_labels_reshaped = test_df['target'].values.reshape(-1, 1)\n",
        "\n",
        "# Fit and transform the target column\n",
        "train_labels_one_hot = encoder.fit_transform(train_labels_reshaped)\n",
        "val_labels_one_hot = encoder.transform(val_labels_reshaped)\n",
        "test_labels_one_hot = encoder.transform(test_labels_reshaped)\n",
        "\n",
        "# Check the shapes\n",
        "print(\"Train labels shape:\", train_labels_one_hot.shape)\n",
        "print(\"Validation labels shape:\", val_labels_one_hot.shape)\n",
        "print(\"Test labels shape:\", test_labels_one_hot.shape)\n",
        "\n",
        "# Print the first 10 rows of train_labels\n",
        "print(\"Train labels (first 10 rows):\")\n",
        "print(train_labels_one_hot[:10])\n"
      ],
      "metadata": {
        "colab": {
          "base_uri": "https://localhost:8080/"
        },
        "id": "rIukpYPzdjhj",
        "outputId": "09d17de9-0685-4a04-a9b1-aecefbe50ccc"
      },
      "execution_count": 15,
      "outputs": [
        {
          "output_type": "stream",
          "name": "stdout",
          "text": [
            "Train labels shape: (180040, 5)\n",
            "Validation labels shape: (30212, 5)\n",
            "Test labels shape: (30135, 5)\n",
            "Train labels (first 10 rows):\n",
            "[[0. 0. 0. 1. 0.]\n",
            " [0. 0. 1. 0. 0.]\n",
            " [0. 0. 1. 0. 0.]\n",
            " [0. 0. 1. 0. 0.]\n",
            " [0. 0. 1. 0. 0.]\n",
            " [0. 0. 1. 0. 0.]\n",
            " [0. 0. 0. 0. 1.]\n",
            " [0. 0. 0. 0. 1.]\n",
            " [0. 0. 0. 0. 1.]\n",
            " [0. 0. 0. 0. 1.]]\n"
          ]
        },
        {
          "output_type": "stream",
          "name": "stderr",
          "text": [
            "/usr/local/lib/python3.10/dist-packages/sklearn/preprocessing/_encoders.py:868: FutureWarning: `sparse` was renamed to `sparse_output` in version 1.2 and will be removed in 1.4. `sparse_output` is ignored unless you leave `sparse` to its default value.\n",
            "  warnings.warn(\n"
          ]
        }
      ]
    },
    {
      "cell_type": "code",
      "source": [
        "# prompt: do the same as above, but use labelencoder\n",
        "\n",
        "from sklearn.preprocessing import LabelEncoder\n",
        "label_encoder = LabelEncoder()\n",
        "train_labels_encoder = label_encoder.fit_transform(train_df['target'])\n",
        "val_labels_encoder = label_encoder.transform(val_df['target'])\n",
        "test_labels_encoder = label_encoder.transform(test_df['target'])\n",
        "test_labels_encoder"
      ],
      "metadata": {
        "colab": {
          "base_uri": "https://localhost:8080/"
        },
        "id": "abF5g4lgdjfD",
        "outputId": "61fd4dbc-990f-47e9-9719-e8f1096bd7db"
      },
      "execution_count": 16,
      "outputs": [
        {
          "output_type": "execute_result",
          "data": {
            "text/plain": [
              "array([0, 4, 4, ..., 4, 4, 1])"
            ]
          },
          "metadata": {},
          "execution_count": 16
        }
      ]
    },
    {
      "cell_type": "code",
      "source": [
        "# Get class names and number of classes from LabelEncoder instance\n",
        "num_classes = len(label_encoder.classes_)\n",
        "class_names = label_encoder.classes_\n",
        "num_classes, class_names"
      ],
      "metadata": {
        "colab": {
          "base_uri": "https://localhost:8080/"
        },
        "id": "bGuQZRKJ7Po2",
        "outputId": "4a51d5a7-ac5d-4670-d0db-ce0f077446fc"
      },
      "execution_count": 17,
      "outputs": [
        {
          "output_type": "execute_result",
          "data": {
            "text/plain": [
              "(5,\n",
              " array(['BACKGROUND', 'CONCLUSIONS', 'METHODS', 'OBJECTIVE', 'RESULTS'],\n",
              "       dtype=object))"
            ]
          },
          "metadata": {},
          "execution_count": 17
        }
      ]
    },
    {
      "cell_type": "markdown",
      "source": [
        "## Creating a series of model experiments"
      ],
      "metadata": {
        "id": "VhOCWfBs8cQs"
      }
    },
    {
      "cell_type": "code",
      "source": [
        "from sklearn.feature_extraction.text import CountVectorizer\n",
        "from sklearn.naive_bayes import MultinomialNB\n",
        "from sklearn.pipeline import Pipeline\n",
        "from sklearn.metrics import accuracy_score, classification_report\n",
        "\n",
        "\n",
        "# Create a pipeline with CountVectorizer and Multinomial Naive Bayes\n",
        "model_0 = Pipeline([\n",
        "    ('vectorizer', CountVectorizer()),  # Convert text to a bag-of-words representation\n",
        "    ('classifier', MultinomialNB())      # Use Naive Bayes as the classifier\n",
        "])\n",
        "\n",
        "# Fit the model\n",
        "model_0.fit(train_sentences, train_labels_encoder)\n",
        "\n"
      ],
      "metadata": {
        "colab": {
          "base_uri": "https://localhost:8080/",
          "height": 125
        },
        "id": "0lxEX4j-djak",
        "outputId": "0c09f5ba-315b-4bb4-df71-b7f208d5b629"
      },
      "execution_count": 18,
      "outputs": [
        {
          "output_type": "execute_result",
          "data": {
            "text/plain": [
              "Pipeline(steps=[('vectorizer', CountVectorizer()),\n",
              "                ('classifier', MultinomialNB())])"
            ],
            "text/html": [
              "<style>#sk-container-id-1 {color: black;background-color: white;}#sk-container-id-1 pre{padding: 0;}#sk-container-id-1 div.sk-toggleable {background-color: white;}#sk-container-id-1 label.sk-toggleable__label {cursor: pointer;display: block;width: 100%;margin-bottom: 0;padding: 0.3em;box-sizing: border-box;text-align: center;}#sk-container-id-1 label.sk-toggleable__label-arrow:before {content: \"▸\";float: left;margin-right: 0.25em;color: #696969;}#sk-container-id-1 label.sk-toggleable__label-arrow:hover:before {color: black;}#sk-container-id-1 div.sk-estimator:hover label.sk-toggleable__label-arrow:before {color: black;}#sk-container-id-1 div.sk-toggleable__content {max-height: 0;max-width: 0;overflow: hidden;text-align: left;background-color: #f0f8ff;}#sk-container-id-1 div.sk-toggleable__content pre {margin: 0.2em;color: black;border-radius: 0.25em;background-color: #f0f8ff;}#sk-container-id-1 input.sk-toggleable__control:checked~div.sk-toggleable__content {max-height: 200px;max-width: 100%;overflow: auto;}#sk-container-id-1 input.sk-toggleable__control:checked~label.sk-toggleable__label-arrow:before {content: \"▾\";}#sk-container-id-1 div.sk-estimator input.sk-toggleable__control:checked~label.sk-toggleable__label {background-color: #d4ebff;}#sk-container-id-1 div.sk-label input.sk-toggleable__control:checked~label.sk-toggleable__label {background-color: #d4ebff;}#sk-container-id-1 input.sk-hidden--visually {border: 0;clip: rect(1px 1px 1px 1px);clip: rect(1px, 1px, 1px, 1px);height: 1px;margin: -1px;overflow: hidden;padding: 0;position: absolute;width: 1px;}#sk-container-id-1 div.sk-estimator {font-family: monospace;background-color: #f0f8ff;border: 1px dotted black;border-radius: 0.25em;box-sizing: border-box;margin-bottom: 0.5em;}#sk-container-id-1 div.sk-estimator:hover {background-color: #d4ebff;}#sk-container-id-1 div.sk-parallel-item::after {content: \"\";width: 100%;border-bottom: 1px solid gray;flex-grow: 1;}#sk-container-id-1 div.sk-label:hover label.sk-toggleable__label {background-color: #d4ebff;}#sk-container-id-1 div.sk-serial::before {content: \"\";position: absolute;border-left: 1px solid gray;box-sizing: border-box;top: 0;bottom: 0;left: 50%;z-index: 0;}#sk-container-id-1 div.sk-serial {display: flex;flex-direction: column;align-items: center;background-color: white;padding-right: 0.2em;padding-left: 0.2em;position: relative;}#sk-container-id-1 div.sk-item {position: relative;z-index: 1;}#sk-container-id-1 div.sk-parallel {display: flex;align-items: stretch;justify-content: center;background-color: white;position: relative;}#sk-container-id-1 div.sk-item::before, #sk-container-id-1 div.sk-parallel-item::before {content: \"\";position: absolute;border-left: 1px solid gray;box-sizing: border-box;top: 0;bottom: 0;left: 50%;z-index: -1;}#sk-container-id-1 div.sk-parallel-item {display: flex;flex-direction: column;z-index: 1;position: relative;background-color: white;}#sk-container-id-1 div.sk-parallel-item:first-child::after {align-self: flex-end;width: 50%;}#sk-container-id-1 div.sk-parallel-item:last-child::after {align-self: flex-start;width: 50%;}#sk-container-id-1 div.sk-parallel-item:only-child::after {width: 0;}#sk-container-id-1 div.sk-dashed-wrapped {border: 1px dashed gray;margin: 0 0.4em 0.5em 0.4em;box-sizing: border-box;padding-bottom: 0.4em;background-color: white;}#sk-container-id-1 div.sk-label label {font-family: monospace;font-weight: bold;display: inline-block;line-height: 1.2em;}#sk-container-id-1 div.sk-label-container {text-align: center;}#sk-container-id-1 div.sk-container {/* jupyter's `normalize.less` sets `[hidden] { display: none; }` but bootstrap.min.css set `[hidden] { display: none !important; }` so we also need the `!important` here to be able to override the default hidden behavior on the sphinx rendered scikit-learn.org. See: https://github.com/scikit-learn/scikit-learn/issues/21755 */display: inline-block !important;position: relative;}#sk-container-id-1 div.sk-text-repr-fallback {display: none;}</style><div id=\"sk-container-id-1\" class=\"sk-top-container\"><div class=\"sk-text-repr-fallback\"><pre>Pipeline(steps=[(&#x27;vectorizer&#x27;, CountVectorizer()),\n",
              "                (&#x27;classifier&#x27;, MultinomialNB())])</pre><b>In a Jupyter environment, please rerun this cell to show the HTML representation or trust the notebook. <br />On GitHub, the HTML representation is unable to render, please try loading this page with nbviewer.org.</b></div><div class=\"sk-container\" hidden><div class=\"sk-item sk-dashed-wrapped\"><div class=\"sk-label-container\"><div class=\"sk-label sk-toggleable\"><input class=\"sk-toggleable__control sk-hidden--visually\" id=\"sk-estimator-id-1\" type=\"checkbox\" ><label for=\"sk-estimator-id-1\" class=\"sk-toggleable__label sk-toggleable__label-arrow\">Pipeline</label><div class=\"sk-toggleable__content\"><pre>Pipeline(steps=[(&#x27;vectorizer&#x27;, CountVectorizer()),\n",
              "                (&#x27;classifier&#x27;, MultinomialNB())])</pre></div></div></div><div class=\"sk-serial\"><div class=\"sk-item\"><div class=\"sk-estimator sk-toggleable\"><input class=\"sk-toggleable__control sk-hidden--visually\" id=\"sk-estimator-id-2\" type=\"checkbox\" ><label for=\"sk-estimator-id-2\" class=\"sk-toggleable__label sk-toggleable__label-arrow\">CountVectorizer</label><div class=\"sk-toggleable__content\"><pre>CountVectorizer()</pre></div></div></div><div class=\"sk-item\"><div class=\"sk-estimator sk-toggleable\"><input class=\"sk-toggleable__control sk-hidden--visually\" id=\"sk-estimator-id-3\" type=\"checkbox\" ><label for=\"sk-estimator-id-3\" class=\"sk-toggleable__label sk-toggleable__label-arrow\">MultinomialNB</label><div class=\"sk-toggleable__content\"><pre>MultinomialNB()</pre></div></div></div></div></div></div></div>"
            ]
          },
          "metadata": {},
          "execution_count": 18
        }
      ]
    },
    {
      "cell_type": "code",
      "source": [
        "\n",
        "# Evaluate baseline on validation dataset\n",
        "model_0.score(X=val_sentences,\n",
        "              y=val_labels_encoder)"
      ],
      "metadata": {
        "colab": {
          "base_uri": "https://localhost:8080/"
        },
        "id": "SFgnFIqX7Xzc",
        "outputId": "35767823-87f7-4728-a6c0-89bf3c21994c"
      },
      "execution_count": 19,
      "outputs": [
        {
          "output_type": "execute_result",
          "data": {
            "text/plain": [
              "0.765126439825235"
            ]
          },
          "metadata": {},
          "execution_count": 19
        }
      ]
    },
    {
      "cell_type": "code",
      "source": [
        "baseline_preds = model_0.predict(val_sentences)\n",
        "baseline_preds"
      ],
      "metadata": {
        "colab": {
          "base_uri": "https://localhost:8080/"
        },
        "id": "oKoUW7Jd7Xxc",
        "outputId": "597036f4-0cab-4a41-b1f9-a5c185540b8a"
      },
      "execution_count": 20,
      "outputs": [
        {
          "output_type": "execute_result",
          "data": {
            "text/plain": [
              "array([0, 1, 3, ..., 4, 4, 0])"
            ]
          },
          "metadata": {},
          "execution_count": 20
        }
      ]
    },
    {
      "cell_type": "code",
      "source": [
        "from helper_functions import calculate_results\n",
        "baseline_results = calculate_results(\n",
        "    y_true=val_labels_encoder,\n",
        "    y_pred=baseline_preds\n",
        ")\n",
        "baseline_results"
      ],
      "metadata": {
        "colab": {
          "base_uri": "https://localhost:8080/"
        },
        "id": "PZb8l2BY7XvL",
        "outputId": "817f2662-5a4d-4ce7-9a01-469fb1e51cc6"
      },
      "execution_count": 21,
      "outputs": [
        {
          "output_type": "execute_result",
          "data": {
            "text/plain": [
              "{'accuracy': 76.5126439825235,\n",
              " 'precision': 0.7650764505306027,\n",
              " 'recall': 0.765126439825235,\n",
              " 'f1': 0.7649496950235074}"
            ]
          },
          "metadata": {},
          "execution_count": 21
        }
      ]
    },
    {
      "cell_type": "markdown",
      "source": [
        "## Preparing our data for deep sequence models"
      ],
      "metadata": {
        "id": "y49Wik9F_-rB"
      }
    },
    {
      "cell_type": "code",
      "source": [
        "from tensorflow.keras import layers\n",
        "\n"
      ],
      "metadata": {
        "id": "rHgAFYZA7Xsz"
      },
      "execution_count": 22,
      "outputs": []
    },
    {
      "cell_type": "code",
      "source": [
        "# prompt: check how long is each train_Sentences on average\n",
        "\n",
        "train_sentences_lengths = [len(sentence.split()) for sentence in train_sentences]\n",
        "avg_sent_len = sum(train_sentences_lengths) / len(train_sentences_lengths)\n",
        "print(f\"Average length of train sentences: {avg_sent_len}\")\n"
      ],
      "metadata": {
        "colab": {
          "base_uri": "https://localhost:8080/"
        },
        "id": "vRbqeAlz7Xqs",
        "outputId": "2a4c593f-08d8-4651-b8c6-a4fa036da479"
      },
      "execution_count": 23,
      "outputs": [
        {
          "output_type": "stream",
          "name": "stdout",
          "text": [
            "Average length of train sentences: 26.338269273494777\n"
          ]
        }
      ]
    },
    {
      "cell_type": "code",
      "source": [
        "# prompt: check the distribution of sentece lengths\n",
        "\n",
        "plt.hist(train_sentences_lengths)\n",
        "plt.xlabel(\"Sentence length\")\n",
        "plt.ylabel(\"Count\")\n",
        "plt.title(\"Distribution of sentence lengths in the training set\")\n",
        "plt.show()\n"
      ],
      "metadata": {
        "colab": {
          "base_uri": "https://localhost:8080/",
          "height": 472
        },
        "id": "gyJD_rlFAOjY",
        "outputId": "e7efb47c-9123-4517-be37-36e75adca106"
      },
      "execution_count": 24,
      "outputs": [
        {
          "output_type": "display_data",
          "data": {
            "text/plain": [
              "<Figure size 640x480 with 1 Axes>"
            ],
            "image/png": "[encoded data removed]"
          },
          "metadata": {}
        }
      ]
    },
    {
      "cell_type": "code",
      "source": [
        "# prompt:  use NumPy's percentile to find the value which covers 95% of the sentence lengths.\n",
        "\n",
        "import numpy as np\n",
        "output_seq_len = int(np.percentile(train_sentences_lengths, 95))\n",
        "output_seq_len"
      ],
      "metadata": {
        "colab": {
          "base_uri": "https://localhost:8080/"
        },
        "id": "9Mp9lcXWAgf4",
        "outputId": "7d58a06d-0b2b-498d-8f61-6406d31eb435"
      },
      "execution_count": 25,
      "outputs": [
        {
          "output_type": "execute_result",
          "data": {
            "text/plain": [
              "55"
            ]
          },
          "metadata": {},
          "execution_count": 25
        }
      ]
    },
    {
      "cell_type": "code",
      "source": [
        "train_sentences[:3]"
      ],
      "metadata": {
        "colab": {
          "base_uri": "https://localhost:8080/"
        },
        "id": "xbfqoldFAgdo",
        "outputId": "60c5aa68-e0c1-4bd1-d27a-e60a306a9b88"
      },
      "execution_count": 26,
      "outputs": [
        {
          "output_type": "execute_result",
          "data": {
            "text/plain": [
              "['To investigate the efficacy of @ weeks of daily low-dose oral prednisolone in improving pain , mobility , and systemic low-grade inflammation in the short term and whether the effect would be sustained at @ weeks in older adults with moderate to severe knee osteoarthritis ( OA ) .',\n",
              " 'A total of @ patients with primary knee OA were randomized @:@ ; @ received @ mg/day of prednisolone and @ received placebo for @ weeks .',\n",
              " 'Outcome measures included pain reduction and improvement in function scores and systemic inflammation markers .']"
            ]
          },
          "metadata": {},
          "execution_count": 26
        }
      ]
    },
    {
      "cell_type": "code",
      "source": [
        "train_sentences_lengths[:3]"
      ],
      "metadata": {
        "colab": {
          "base_uri": "https://localhost:8080/"
        },
        "id": "JKjCyoYpAgbg",
        "outputId": "a69b14c5-094c-4ffb-99bd-3009aece931d"
      },
      "execution_count": 27,
      "outputs": [
        {
          "output_type": "execute_result",
          "data": {
            "text/plain": [
              "[49, 27, 15]"
            ]
          },
          "metadata": {},
          "execution_count": 27
        }
      ]
    },
    {
      "cell_type": "code",
      "source": [
        "[sentence.split() for sentence in train_sentences][:3]"
      ],
      "metadata": {
        "colab": {
          "base_uri": "https://localhost:8080/"
        },
        "id": "4tmcf5LTAgZB",
        "outputId": "1dec556b-56d5-48a9-fc2c-082469d49ae3"
      },
      "execution_count": 28,
      "outputs": [
        {
          "output_type": "execute_result",
          "data": {
            "text/plain": [
              "[['To',\n",
              "  'investigate',\n",
              "  'the',\n",
              "  'efficacy',\n",
              "  'of',\n",
              "  '@',\n",
              "  'weeks',\n",
              "  'of',\n",
              "  'daily',\n",
              "  'low-dose',\n",
              "  'oral',\n",
              "  'prednisolone',\n",
              "  'in',\n",
              "  'improving',\n",
              "  'pain',\n",
              "  ',',\n",
              "  'mobility',\n",
              "  ',',\n",
              "  'and',\n",
              "  'systemic',\n",
              "  'low-grade',\n",
              "  'inflammation',\n",
              "  'in',\n",
              "  'the',\n",
              "  'short',\n",
              "  'term',\n",
              "  'and',\n",
              "  'whether',\n",
              "  'the',\n",
              "  'effect',\n",
              "  'would',\n",
              "  'be',\n",
              "  'sustained',\n",
              "  'at',\n",
              "  '@',\n",
              "  'weeks',\n",
              "  'in',\n",
              "  'older',\n",
              "  'adults',\n",
              "  'with',\n",
              "  'moderate',\n",
              "  'to',\n",
              "  'severe',\n",
              "  'knee',\n",
              "  'osteoarthritis',\n",
              "  '(',\n",
              "  'OA',\n",
              "  ')',\n",
              "  '.'],\n",
              " ['A',\n",
              "  'total',\n",
              "  'of',\n",
              "  '@',\n",
              "  'patients',\n",
              "  'with',\n",
              "  'primary',\n",
              "  'knee',\n",
              "  'OA',\n",
              "  'were',\n",
              "  'randomized',\n",
              "  '@:@',\n",
              "  ';',\n",
              "  '@',\n",
              "  'received',\n",
              "  '@',\n",
              "  'mg/day',\n",
              "  'of',\n",
              "  'prednisolone',\n",
              "  'and',\n",
              "  '@',\n",
              "  'received',\n",
              "  'placebo',\n",
              "  'for',\n",
              "  '@',\n",
              "  'weeks',\n",
              "  '.'],\n",
              " ['Outcome',\n",
              "  'measures',\n",
              "  'included',\n",
              "  'pain',\n",
              "  'reduction',\n",
              "  'and',\n",
              "  'improvement',\n",
              "  'in',\n",
              "  'function',\n",
              "  'scores',\n",
              "  'and',\n",
              "  'systemic',\n",
              "  'inflammation',\n",
              "  'markers',\n",
              "  '.']]"
            ]
          },
          "metadata": {},
          "execution_count": 28
        }
      ]
    },
    {
      "cell_type": "markdown",
      "source": [
        "## Create text vectorizer"
      ],
      "metadata": {
        "id": "9LD9S0v7D-xY"
      }
    },
    {
      "cell_type": "code",
      "source": [
        "max_tokens = 68000\n"
      ],
      "metadata": {
        "id": "Zf5udHyuAgWg"
      },
      "execution_count": 29,
      "outputs": []
    },
    {
      "cell_type": "code",
      "source": [
        "# prompt: create a text vectorizer using TextVectorization from tensorflow\n",
        "\n",
        "text_vectorizer = tf.keras.layers.TextVectorization(\n",
        "    max_tokens=max_tokens,\n",
        "    output_mode='int',\n",
        "    output_sequence_length=output_seq_len\n",
        ")\n",
        "text_vectorizer.adapt(train_sentences)"
      ],
      "metadata": {
        "id": "BRdsfmS9AgUp"
      },
      "execution_count": 30,
      "outputs": []
    },
    {
      "cell_type": "code",
      "source": [
        "import random\n",
        "target_sentence = random.choice(train_sentences)\n",
        "print(f\"Text:\\n{target_sentence}\")\n",
        "print(f\"\\nLength of text: {len(target_sentence.split())}\")\n",
        "print(f\"\\nVectorized text:\\n{text_vectorizer([target_sentence])}\")\n"
      ],
      "metadata": {
        "colab": {
          "base_uri": "https://localhost:8080/"
        },
        "id": "8O5PKGvJI3Xk",
        "outputId": "b63edc68-7ac7-43e4-8cd4-196655eb8d4a"
      },
      "execution_count": 31,
      "outputs": [
        {
          "output_type": "stream",
          "name": "stdout",
          "text": [
            "Text:\n",
            "Model-estimated probability of meeting physical-activity guidelines was @ % in the health-promotion intervention and @ % in attention-matched control ( OR = @ ; @ % CI , @-@ @ ) , adjusting for baseline prevalence and clustering from @ neighborhoods .\n",
            "\n",
            "Length of text: 42\n",
            "\n",
            "Vectorized text:\n",
            "[[52148  1641     4  2314 29317   979    10     5     2 20526    38     3\n",
            "      5 19141    35    16    50  1515    11    49   650     3  3827    27\n",
            "  11495     0     0     0     0     0     0     0     0     0     0     0\n",
            "      0     0     0     0     0     0     0     0     0     0     0     0\n",
            "      0     0     0     0     0     0     0]]\n"
          ]
        }
      ]
    },
    {
      "cell_type": "code",
      "source": [
        "# prompt: How many words in our training vocabulary?\\\n",
        "\n",
        "rct_20k_text_vocab = text_vectorizer.get_vocabulary()\n",
        "\n",
        "rct_20k_text_vocab[-5:], rct_20k_text_vocab[:5]"
      ],
      "metadata": {
        "id": "yynpUY-yI3VN",
        "colab": {
          "base_uri": "https://localhost:8080/"
        },
        "outputId": "a8d6fcfc-a6aa-4469-8213-c608dea7a5a2"
      },
      "execution_count": 32,
      "outputs": [
        {
          "output_type": "execute_result",
          "data": {
            "text/plain": [
              "(['aainduced', 'aaigroup', 'aachener', 'aachen', 'aaacp'],\n",
              " ['', '[UNK]', 'the', 'and', 'of'])"
            ]
          },
          "metadata": {},
          "execution_count": 32
        }
      ]
    },
    {
      "cell_type": "code",
      "source": [
        "text_vectorizer.get_config()"
      ],
      "metadata": {
        "colab": {
          "base_uri": "https://localhost:8080/"
        },
        "id": "o15O4F1kZ1qF",
        "outputId": "2592edcc-e78e-4577-8907-4699cacda2eb"
      },
      "execution_count": 33,
      "outputs": [
        {
          "output_type": "execute_result",
          "data": {
            "text/plain": [
              "{'name': 'text_vectorization',\n",
              " 'trainable': True,\n",
              " 'dtype': 'string',\n",
              " 'batch_input_shape': (None,),\n",
              " 'max_tokens': 68000,\n",
              " 'standardize': 'lower_and_strip_punctuation',\n",
              " 'split': 'whitespace',\n",
              " 'ngrams': None,\n",
              " 'output_mode': 'int',\n",
              " 'output_sequence_length': 55,\n",
              " 'pad_to_max_tokens': False,\n",
              " 'sparse': False,\n",
              " 'ragged': False,\n",
              " 'vocabulary': None,\n",
              " 'idf_weights': None,\n",
              " 'encoding': 'utf-8',\n",
              " 'vocabulary_size': 64841}"
            ]
          },
          "metadata": {},
          "execution_count": 33
        }
      ]
    },
    {
      "cell_type": "markdown",
      "source": [
        "## Create custom text embedding"
      ],
      "metadata": {
        "id": "cklgPOitanGQ"
      }
    },
    {
      "cell_type": "code",
      "source": [
        "# prompt: Create token embedding layer\n",
        "\n",
        "embedding_dimension = 128\n",
        "\n",
        "token_embed = tf.keras.layers.Embedding(\n",
        "    input_dim=max_tokens,\n",
        "    output_dim=embedding_dimension,\n",
        "    embeddings_initializer='uniform',\n",
        "    mask_zero=True,\n",
        "    trainable=True\n",
        ")\n"
      ],
      "metadata": {
        "id": "KRYWdEGiZ1oC"
      },
      "execution_count": 34,
      "outputs": []
    },
    {
      "cell_type": "code",
      "source": [
        "# prompt: Showm embedding example with random sentence\n",
        "\n",
        "example_sentence = random.choice(train_sentences)\n",
        "print(f\"Example sentence: {example_sentence}\")\n",
        "example_sentence_vectors = text_vectorizer([example_sentence])\n",
        "print(f\"\\nExample sentence vectors: {example_sentence_vectors}\")\n",
        "example_sentence_embeddings = token_embed(example_sentence_vectors)\n",
        "print(f\"\\nExample sentence embeddings: {example_sentence_embeddings}\")\n"
      ],
      "metadata": {
        "colab": {
          "base_uri": "https://localhost:8080/"
        },
        "id": "5PJuOVjxZ1l8",
        "outputId": "8e50397d-d034-4ae9-f250-857bbb15bbd0"
      },
      "execution_count": 35,
      "outputs": [
        {
          "output_type": "stream",
          "name": "stdout",
          "text": [
            "Example sentence: The primary aim of this study will be to assess the effectiveness of the laryngeal mask airway over the face mask in preventing the need for endotracheal intubation .\n",
            "\n",
            "Example sentence vectors: [[   2   56  267    4   23   17   95   36    6  216    2  257    4    2\n",
            "  2924 2184  840  145    2 2388 2184    5 1126    2  483   11 2867  847\n",
            "     0    0    0    0    0    0    0    0    0    0    0    0    0    0\n",
            "     0    0    0    0    0    0    0    0    0    0    0    0    0]]\n",
            "\n",
            "Example sentence embeddings: [[[-0.03692     0.03356013  0.00511962 ... -0.0330158   0.02255425\n",
            "   -0.02552018]\n",
            "  [ 0.00232992  0.01023203 -0.02413172 ... -0.03463336  0.03022391\n",
            "   -0.03715141]\n",
            "  [ 0.04998131  0.00705097  0.04120655 ... -0.00884801 -0.02522708\n",
            "    0.02786369]\n",
            "  ...\n",
            "  [ 0.03945413 -0.03297129  0.04460836 ...  0.00314013  0.04178018\n",
            "    0.02082184]\n",
            "  [ 0.03945413 -0.03297129  0.04460836 ...  0.00314013  0.04178018\n",
            "    0.02082184]\n",
            "  [ 0.03945413 -0.03297129  0.04460836 ...  0.00314013  0.04178018\n",
            "    0.02082184]]]\n"
          ]
        }
      ]
    },
    {
      "cell_type": "code",
      "source": [
        "# prompt: create datasets using tf.data from tensorflow with prefecth and batch\n",
        "batch_size = 32\n",
        "\n",
        "train_dataset = tf.data.Dataset.from_tensor_slices((train_sentences, train_labels_one_hot))\n",
        "train_dataset = train_dataset.shuffle(buffer_size=1024)\n",
        "train_dataset = train_dataset.batch(batch_size=batch_size)\n",
        "train_dataset = train_dataset.prefetch(buffer_size=tf.data.experimental.AUTOTUNE)\n",
        "\n",
        "val_dataset = tf.data.Dataset.from_tensor_slices((val_sentences, val_labels_one_hot))\n",
        "val_dataset = val_dataset.batch(batch_size=batch_size)\n",
        "val_dataset = val_dataset.prefetch(buffer_size=tf.data.experimental.AUTOTUNE)\n",
        "\n",
        "test_dataset = tf.data.Dataset.from_tensor_slices((test_sentences, test_labels_one_hot))\n",
        "test_dataset = test_dataset.batch(batch_size=batch_size)\n",
        "test_dataset = test_dataset.prefetch(buffer_size=tf.data.experimental.AUTOTUNE)\n"
      ],
      "metadata": {
        "id": "WvNV1IHbZ1jk"
      },
      "execution_count": 36,
      "outputs": []
    },
    {
      "cell_type": "markdown",
      "source": [
        "## Model 1: Conv1D with token embeddings"
      ],
      "metadata": {
        "id": "uumcTPgadFm3"
      }
    },
    {
      "cell_type": "code",
      "source": [
        "# prompt: Create 1D convolutional model to process sequences with functiona API\n",
        "\n",
        "inputs = layers.Input(shape=(1,), dtype=tf.string)\n",
        "text_vectors = text_vectorizer(inputs)\n",
        "token_embeddings = token_embed(text_vectors)\n",
        "x = layers.Conv1D(64, kernel_size=5, padding='same')(token_embeddings)\n",
        "x = layers.GlobalAveragePooling1D()(x)\n",
        "outputs = layers.Dense(num_classes, activation='softmax')(x)\n",
        "model_1 = tf.keras.Model(inputs, outputs)\n",
        "\n",
        "model_1.compile(\n",
        "    loss='categorical_crossentropy',\n",
        "    optimizer=tf.keras.optimizers.Adam(),\n",
        "    metrics=['accuracy']\n",
        ")\n"
      ],
      "metadata": {
        "id": "qzwEUW1jZ1hS"
      },
      "execution_count": 37,
      "outputs": []
    },
    {
      "cell_type": "code",
      "source": [
        "# Get summary of Conv1D model\n",
        "model_1.summary()"
      ],
      "metadata": {
        "colab": {
          "base_uri": "https://localhost:8080/"
        },
        "id": "rvXlEMbjZ1fF",
        "outputId": "ad1b34f5-ccde-44e9-9911-62ac3bc6e888"
      },
      "execution_count": 38,
      "outputs": [
        {
          "output_type": "stream",
          "name": "stdout",
          "text": [
            "Model: \"model\"\n",
            "_________________________________________________________________\n",
            " Layer (type)                Output Shape              Param #   \n",
            "=================================================================\n",
            " input_1 (InputLayer)        [(None, 1)]               0         \n",
            "                                                                 \n",
            " text_vectorization (TextVe  (None, 55)                0         \n",
            " ctorization)                                                    \n",
            "                                                                 \n",
            " embedding (Embedding)       (None, 55, 128)           8704000   \n",
            "                                                                 \n",
            " conv1d (Conv1D)             (None, 55, 64)            41024     \n",
            "                                                                 \n",
            " global_average_pooling1d (  (None, 64)                0         \n",
            " GlobalAveragePooling1D)                                         \n",
            "                                                                 \n",
            " dense (Dense)               (None, 5)                 325       \n",
            "                                                                 \n",
            "=================================================================\n",
            "Total params: 8745349 (33.36 MB)\n",
            "Trainable params: 8745349 (33.36 MB)\n",
            "Non-trainable params: 0 (0.00 Byte)\n",
            "_________________________________________________________________\n"
          ]
        }
      ]
    },
    {
      "cell_type": "code",
      "source": [
        "model_1_history = model_1.fit(\n",
        "    train_dataset,\n",
        "    steps_per_epoch=int(0.1*len(train_dataset)),\n",
        "    epochs=5,\n",
        "    validation_data=val_dataset,\n",
        "    validation_steps=int(0.1*len(val_dataset))\n",
        ")\n"
      ],
      "metadata": {
        "colab": {
          "base_uri": "https://localhost:8080/"
        },
        "id": "oG0EiVWAZ1cj",
        "outputId": "ac4e52c8-cb6a-41d6-aa76-6e064e59967a"
      },
      "execution_count": 39,
      "outputs": [
        {
          "output_type": "stream",
          "name": "stdout",
          "text": [
            "Epoch 1/5\n",
            "562/562 [==============================] - 19s 29ms/step - loss: 0.8913 - accuracy: 0.6403 - val_loss: 0.6963 - val_accuracy: 0.7271\n",
            "Epoch 2/5\n",
            "562/562 [==============================] - 6s 11ms/step - loss: 0.6423 - accuracy: 0.7647 - val_loss: 0.6115 - val_accuracy: 0.7676\n",
            "Epoch 3/5\n",
            "562/562 [==============================] - 4s 8ms/step - loss: 0.6096 - accuracy: 0.7799 - val_loss: 0.5923 - val_accuracy: 0.7769\n",
            "Epoch 4/5\n",
            "562/562 [==============================] - 5s 9ms/step - loss: 0.5822 - accuracy: 0.7903 - val_loss: 0.5716 - val_accuracy: 0.7849\n",
            "Epoch 5/5\n",
            "562/562 [==============================] - 4s 8ms/step - loss: 0.5894 - accuracy: 0.7868 - val_loss: 0.5689 - val_accuracy: 0.7902\n"
          ]
        }
      ]
    },
    {
      "cell_type": "code",
      "source": [
        "# prompt: evaluate model and make predicitons\n",
        "\n",
        "model_1.evaluate(val_dataset)\n",
        "\n",
        "\n"
      ],
      "metadata": {
        "colab": {
          "base_uri": "https://localhost:8080/"
        },
        "id": "LfmyqiQlZ1ab",
        "outputId": "7d90b098-a0d6-436d-985d-c887b0227474"
      },
      "execution_count": 40,
      "outputs": [
        {
          "output_type": "stream",
          "name": "stdout",
          "text": [
            "945/945 [==============================] - 5s 5ms/step - loss: 0.5643 - accuracy: 0.7982\n"
          ]
        },
        {
          "output_type": "execute_result",
          "data": {
            "text/plain": [
              "[0.5642679333686829, 0.798159658908844]"
            ]
          },
          "metadata": {},
          "execution_count": 40
        }
      ]
    },
    {
      "cell_type": "code",
      "source": [
        "model_1_probs =  model_1.predict(val_dataset)\n",
        "model_1_probs"
      ],
      "metadata": {
        "colab": {
          "base_uri": "https://localhost:8080/"
        },
        "id": "8RcX6noci3hj",
        "outputId": "7af0fe40-dff5-4929-ab80-f320ff4d0bcd"
      },
      "execution_count": 41,
      "outputs": [
        {
          "output_type": "stream",
          "name": "stdout",
          "text": [
            "945/945 [==============================] - 3s 3ms/step\n"
          ]
        },
        {
          "output_type": "execute_result",
          "data": {
            "text/plain": [
              "array([[4.8408699e-01, 2.0576975e-01, 7.1971387e-02, 1.3828592e-01,\n",
              "        9.9885993e-02],\n",
              "       [3.6197621e-01, 4.5410597e-01, 1.4998922e-02, 9.2296362e-02,\n",
              "        7.6622546e-02],\n",
              "       [1.4207308e-01, 8.2688313e-03, 2.2439756e-03, 8.4734988e-01,\n",
              "        6.4272055e-05],\n",
              "       ...,\n",
              "       [1.6351902e-05, 4.6762684e-04, 4.9433555e-03, 2.6650976e-05,\n",
              "        9.9454606e-01],\n",
              "       [9.2793174e-02, 2.5271901e-01, 1.3171986e-01, 2.9580709e-02,\n",
              "        4.9318725e-01],\n",
              "       [7.9980157e-02, 8.4511483e-01, 5.3004488e-02, 2.5813151e-03,\n",
              "        1.9319192e-02]], dtype=float32)"
            ]
          },
          "metadata": {},
          "execution_count": 41
        }
      ]
    },
    {
      "cell_type": "code",
      "source": [
        "model_1_preds = tf.argmax(model_1_probs, axis=1)\n",
        "model_1_preds"
      ],
      "metadata": {
        "colab": {
          "base_uri": "https://localhost:8080/"
        },
        "id": "AZf3edZlZ1YY",
        "outputId": "42c07f2c-8dd4-4f8d-cc47-ba798e3c737f"
      },
      "execution_count": 42,
      "outputs": [
        {
          "output_type": "execute_result",
          "data": {
            "text/plain": [
              "<tf.Tensor: shape=(30212,), dtype=int64, numpy=array([0, 1, 3, ..., 4, 4, 1])>"
            ]
          },
          "metadata": {},
          "execution_count": 42
        }
      ]
    },
    {
      "cell_type": "code",
      "source": [
        "# Calculate model_1 results\n",
        "model_1_results = calculate_results(y_true=val_labels_encoder,\n",
        "                                    y_pred=model_1_preds)\n",
        "model_1_results"
      ],
      "metadata": {
        "colab": {
          "base_uri": "https://localhost:8080/"
        },
        "id": "aczALWOUjfM9",
        "outputId": "0b5d5677-7cba-432b-e0a5-1c8c19e5e0a2"
      },
      "execution_count": 43,
      "outputs": [
        {
          "output_type": "execute_result",
          "data": {
            "text/plain": [
              "{'accuracy': 79.81596716536475,\n",
              " 'precision': 0.7937253918481812,\n",
              " 'recall': 0.7981596716536475,\n",
              " 'f1': 0.7938942151698593}"
            ]
          },
          "metadata": {},
          "execution_count": 43
        }
      ]
    },
    {
      "cell_type": "markdown",
      "source": [
        "## Model 2: Feature extraction with pretrained token embeddings"
      ],
      "metadata": {
        "id": "1ynwWb5fkC0d"
      }
    },
    {
      "cell_type": "code",
      "source": [
        "import tensorflow_hub  as hub\n",
        "\n",
        "tf_hub_embedding_layer = hub.KerasLayer(\"https://tfhub.dev/google/universal-sentence-encoder/4\",\n",
        "                                     trainable=False,\n",
        "                                     name='universal_sentence_encoder')\n"
      ],
      "metadata": {
        "id": "_uMOxf1cjfK-"
      },
      "execution_count": 44,
      "outputs": []
    },
    {
      "cell_type": "code",
      "source": [
        "_# prompt: test tf_hub_embedding_layer  with random sentecens\n",
        "\n",
        "sentences = ['The quick brown fox jumps over the lazy dog',\n",
        "             'The cow jumped over the moon',\n",
        "             'The man ate the apple',\n",
        "             'The dog chased the cat',\n",
        "             'The bird flew across the sky']\n",
        "\n",
        "# Convert sentences to vectors\n",
        "sentence_vectors = tf_hub_embedding_layer(sentences)\n",
        "sentence_vectors\n"
      ],
      "metadata": {
        "colab": {
          "base_uri": "https://localhost:8080/"
        },
        "id": "6VSKvqRsjfIr",
        "outputId": "446597f8-94a3-47d2-8f8a-628a6a3cbe3f"
      },
      "execution_count": 45,
      "outputs": [
        {
          "output_type": "execute_result",
          "data": {
            "text/plain": [
              "<tf.Tensor: shape=(5, 512), dtype=float32, numpy=\n",
              "array([[-0.03133016, -0.06338634, -0.01607502, ..., -0.03242781,\n",
              "        -0.0457574 ,  0.05370456],\n",
              "       [-0.0358599 , -0.0085492 , -0.01949548, ..., -0.03503276,\n",
              "        -0.02458061, -0.01660721],\n",
              "       [-0.0393524 , -0.00093045, -0.01300262, ..., -0.01198967,\n",
              "         0.03388174, -0.05399775],\n",
              "       [-0.00519574,  0.01867533,  0.05785012, ...,  0.01643884,\n",
              "         0.0637878 ,  0.04247545],\n",
              "       [-0.04715706,  0.05727269,  0.06124469, ...,  0.01410193,\n",
              "        -0.01786573,  0.02743582]], dtype=float32)>"
            ]
          },
          "metadata": {},
          "execution_count": 45
        }
      ]
    },
    {
      "cell_type": "code",
      "source": [
        "# prompt: build a model 2 with tf_hub_embedding_layer as a functional strucure\n",
        "\n",
        "\n",
        "inputs = layers.Input(shape=[], dtype=tf.string)\n",
        "x = tf_hub_embedding_layer(inputs)\n",
        "x = layers.Dense(64, activation='relu')(x)\n",
        "outputs = layers.Dense(num_classes, activation='softmax')(x)\n",
        "model_2 = tf.keras.Model(inputs, outputs)\n"
      ],
      "metadata": {
        "id": "5MforwvwjfGn"
      },
      "execution_count": 46,
      "outputs": []
    },
    {
      "cell_type": "code",
      "source": [
        "# prompt: compile and fit molde 2\n",
        "\n",
        "model_2.compile(\n",
        "    loss='categorical_crossentropy',\n",
        "    optimizer=tf.keras.optimizers.Adam(),\n",
        "    metrics=['accuracy']\n",
        ")\n",
        "\n",
        "model_2_history = model_2.fit(\n",
        "    train_dataset,\n",
        "    steps_per_epoch=int(0.1*len(train_dataset)),\n",
        "    epochs=5,\n",
        "    validation_data=val_dataset,\n",
        "    validation_steps=int(0.1*len(val_dataset))\n",
        ")\n"
      ],
      "metadata": {
        "colab": {
          "base_uri": "https://localhost:8080/"
        },
        "id": "ukox5vJljfEj",
        "outputId": "29ef5029-b92f-4b69-bd3f-1da194c0cbf2"
      },
      "execution_count": 47,
      "outputs": [
        {
          "output_type": "stream",
          "name": "stdout",
          "text": [
            "Epoch 1/5\n",
            "562/562 [==============================] - 10s 13ms/step - loss: 0.9489 - accuracy: 0.6381 - val_loss: 0.8058 - val_accuracy: 0.6862\n",
            "Epoch 2/5\n",
            "562/562 [==============================] - 8s 14ms/step - loss: 0.7792 - accuracy: 0.6959 - val_loss: 0.7633 - val_accuracy: 0.7038\n",
            "Epoch 3/5\n",
            "562/562 [==============================] - 7s 13ms/step - loss: 0.7685 - accuracy: 0.7051 - val_loss: 0.7522 - val_accuracy: 0.7101\n",
            "Epoch 4/5\n",
            "562/562 [==============================] - 7s 13ms/step - loss: 0.7345 - accuracy: 0.7193 - val_loss: 0.7337 - val_accuracy: 0.7164\n",
            "Epoch 5/5\n",
            "562/562 [==============================] - 8s 15ms/step - loss: 0.7508 - accuracy: 0.7115 - val_loss: 0.7166 - val_accuracy: 0.7231\n"
          ]
        }
      ]
    },
    {
      "cell_type": "code",
      "source": [
        "# prompt: evaluate and make predictions with model 2\n",
        "\n",
        "model_2.evaluate(val_dataset)\n",
        "\n",
        "\n",
        "\n",
        "model_2_probs = model_2.predict(val_dataset)\n",
        "model_2_probs\n",
        "model_2_preds = tf.argmax(model_2_probs, axis=1)\n",
        "model_2_preds\n",
        "# Calculate model_2 results\n",
        "model_2_results = calculate_results(y_true=val_labels_encoder,\n",
        "                                    y_pred=model_2_preds)\n",
        "model_2_results\n"
      ],
      "metadata": {
        "colab": {
          "base_uri": "https://localhost:8080/"
        },
        "id": "9Sa-nqzVjfBz",
        "outputId": "a84c678b-7927-4e22-8124-8256f6f06f80"
      },
      "execution_count": 48,
      "outputs": [
        {
          "output_type": "stream",
          "name": "stdout",
          "text": [
            "945/945 [==============================] - 9s 10ms/step - loss: 0.7223 - accuracy: 0.7253\n",
            "945/945 [==============================] - 10s 10ms/step\n"
          ]
        },
        {
          "output_type": "execute_result",
          "data": {
            "text/plain": [
              "{'accuracy': 72.53078247054151,\n",
              " 'precision': 0.7237037608570566,\n",
              " 'recall': 0.7253078247054151,\n",
              " 'f1': 0.7216517188057064}"
            ]
          },
          "metadata": {},
          "execution_count": 48
        }
      ]
    },
    {
      "cell_type": "markdown",
      "source": [
        "## Model 3: Conv1D with character embeddings"
      ],
      "metadata": {
        "id": "Z-IzxXnsr763"
      }
    },
    {
      "cell_type": "code",
      "source": [
        "# prompt: Make function to split sentences into characters vand join them with a space\n",
        "\n",
        "def sentence_to_characters(sentence):\n",
        "  \"\"\"\n",
        "  Split a sentence into characters and join them with a space.\n",
        "  This is to make the sentence compatible with the character embedding layer.\n",
        "  \"\"\"\n",
        "  return ' '.join(list(sentence))\n",
        "\n",
        "\n",
        "sentence_to_characters(target_sentence)"
      ],
      "metadata": {
        "id": "z6H-8vG9r6-o",
        "colab": {
          "base_uri": "https://localhost:8080/",
          "height": 123
        },
        "outputId": "02dfb34e-be70-4dde-c32a-c38a90643f02"
      },
      "execution_count": 49,
      "outputs": [
        {
          "output_type": "execute_result",
          "data": {
            "text/plain": [
              "'M o d e l - e s t i m a t e d   p r o b a b i l i t y   o f   m e e t i n g   p h y s i c a l - a c t i v i t y   g u i d e l i n e s   w a s   @   %   i n   t h e   h e a l t h - p r o m o t i o n   i n t e r v e n t i o n   a n d   @   %   i n   a t t e n t i o n - m a t c h e d   c o n t r o l   (   O R   =   @   ;   @   %   C I   ,   @ - @   @   )   ,   a d j u s t i n g   f o r   b a s e l i n e   p r e v a l e n c e   a n d   c l u s t e r i n g   f r o m   @   n e i g h b o r h o o d s   .'"
            ],
            "application/vnd.google.colaboratory.intrinsic+json": {
              "type": "string"
            }
          },
          "metadata": {},
          "execution_count": 49
        }
      ]
    },
    {
      "cell_type": "code",
      "source": [
        "# prompt: split sequence level data splits into character level data splits\n",
        "\n",
        "train_sentences_characters = [sentence_to_characters(sentence) for sentence in train_sentences]\n",
        "val_sentences_characters = [sentence_to_characters(sentence) for sentence in val_sentences]\n",
        "test_sentences_characters = [sentence_to_characters(sentence) for sentence in test_sentences]\n"
      ],
      "metadata": {
        "id": "9BNjhxtDnjkf"
      },
      "execution_count": 50,
      "outputs": []
    },
    {
      "cell_type": "code",
      "source": [
        "test_sentences_characters[1]"
      ],
      "metadata": {
        "colab": {
          "base_uri": "https://localhost:8080/",
          "height": 88
        },
        "id": "qoj4oCtonjhf",
        "outputId": "6ebb3e27-33a3-461b-f57a-d02bb590b545"
      },
      "execution_count": 51,
      "outputs": [
        {
          "output_type": "execute_result",
          "data": {
            "text/plain": [
              "'A   p o s t   h o c   a n a l y s i s   w a s   c o n d u c t e d   w i t h   t h e   u s e   o f   d a t a   f r o m   t h e   E v a l u a t i o n   S t u d y   o f   C o n g e s t i v e   H e a r t   F a i l u r e   a n d   P u l m o n a r y   A r t e r y   C a t h e t e r i z a t i o n   E f f e c t i v e n e s s   (   E S C A P E   )   .'"
            ],
            "application/vnd.google.colaboratory.intrinsic+json": {
              "type": "string"
            }
          },
          "metadata": {},
          "execution_count": 51
        }
      ]
    },
    {
      "cell_type": "code",
      "source": [
        "char_lens = [len(sentence) for sentence in train_sentences]\n",
        "mean_char_len = np.mean(char_lens)\n",
        "mean_char_len"
      ],
      "metadata": {
        "colab": {
          "base_uri": "https://localhost:8080/"
        },
        "id": "TiWqeKlfnje4",
        "outputId": "dd7aef63-9e4b-4069-9fc3-c1409a814ed1"
      },
      "execution_count": 52,
      "outputs": [
        {
          "output_type": "execute_result",
          "data": {
            "text/plain": [
              "149.3662574983337"
            ]
          },
          "metadata": {},
          "execution_count": 52
        }
      ]
    },
    {
      "cell_type": "code",
      "source": [
        "char_lens[:3]"
      ],
      "metadata": {
        "colab": {
          "base_uri": "https://localhost:8080/"
        },
        "id": "OgDYOOTBo_zH",
        "outputId": "e9172e9a-8c90-4f75-bb7e-0b3b94ee11aa"
      },
      "execution_count": 53,
      "outputs": [
        {
          "output_type": "execute_result",
          "data": {
            "text/plain": [
              "[281, 137, 111]"
            ]
          },
          "metadata": {},
          "execution_count": 53
        }
      ]
    },
    {
      "cell_type": "code",
      "source": [
        "# prompt: check the distibution of our sequences at character level\n",
        "\n",
        "plt.hist(char_lens)\n",
        "plt.xlabel(\"Character length\")\n",
        "plt.ylabel(\"Count\")\n",
        "plt.title(\"Distribution of character lengths in the training set\")\n",
        "plt.show()\n"
      ],
      "metadata": {
        "colab": {
          "base_uri": "https://localhost:8080/",
          "height": 472
        },
        "id": "OEL5unFOnjco",
        "outputId": "9cc4a0d1-e878-41b4-ac28-be703af52faf"
      },
      "execution_count": 54,
      "outputs": [
        {
          "output_type": "display_data",
          "data": {
            "text/plain": [
              "<Figure size 640x480 with 1 Axes>"
            ],
            "image/png": "[encoded data removed]"
          },
          "metadata": {}
        }
      ]
    },
    {
      "cell_type": "code",
      "source": [
        "# prompt: get the 95 percent\n",
        "\n",
        "output_seq_char_len = int(np.percentile(char_lens, 95))\n",
        "output_seq_char_len"
      ],
      "metadata": {
        "colab": {
          "base_uri": "https://localhost:8080/"
        },
        "id": "7XUk-gFlnjaA",
        "outputId": "ea44441c-c05a-45aa-f601-4ff284f5dd8f"
      },
      "execution_count": 55,
      "outputs": [
        {
          "output_type": "execute_result",
          "data": {
            "text/plain": [
              "290"
            ]
          },
          "metadata": {},
          "execution_count": 55
        }
      ]
    },
    {
      "cell_type": "code",
      "source": [
        "# prompt: Get all keyboard characters for char-level embedding\n",
        "\n",
        "import string\n",
        "all_characters = list(string.ascii_lowercase + string.punctuation +string.digits + ' ')\n",
        "all_characters"
      ],
      "metadata": {
        "colab": {
          "base_uri": "https://localhost:8080/"
        },
        "id": "g-nGeybxnjXn",
        "outputId": "dc904641-855c-4270-cd83-f22afbf651a9"
      },
      "execution_count": 56,
      "outputs": [
        {
          "output_type": "execute_result",
          "data": {
            "text/plain": [
              "['a',\n",
              " 'b',\n",
              " 'c',\n",
              " 'd',\n",
              " 'e',\n",
              " 'f',\n",
              " 'g',\n",
              " 'h',\n",
              " 'i',\n",
              " 'j',\n",
              " 'k',\n",
              " 'l',\n",
              " 'm',\n",
              " 'n',\n",
              " 'o',\n",
              " 'p',\n",
              " 'q',\n",
              " 'r',\n",
              " 's',\n",
              " 't',\n",
              " 'u',\n",
              " 'v',\n",
              " 'w',\n",
              " 'x',\n",
              " 'y',\n",
              " 'z',\n",
              " '!',\n",
              " '\"',\n",
              " '#',\n",
              " '$',\n",
              " '%',\n",
              " '&',\n",
              " \"'\",\n",
              " '(',\n",
              " ')',\n",
              " '*',\n",
              " '+',\n",
              " ',',\n",
              " '-',\n",
              " '.',\n",
              " '/',\n",
              " ':',\n",
              " ';',\n",
              " '<',\n",
              " '=',\n",
              " '>',\n",
              " '?',\n",
              " '@',\n",
              " '[',\n",
              " '\\\\',\n",
              " ']',\n",
              " '^',\n",
              " '_',\n",
              " '`',\n",
              " '{',\n",
              " '|',\n",
              " '}',\n",
              " '~',\n",
              " '0',\n",
              " '1',\n",
              " '2',\n",
              " '3',\n",
              " '4',\n",
              " '5',\n",
              " '6',\n",
              " '7',\n",
              " '8',\n",
              " '9',\n",
              " ' ']"
            ]
          },
          "metadata": {},
          "execution_count": 56
        }
      ]
    },
    {
      "cell_type": "code",
      "source": [
        "NUM_CHAR_TOKENS = len(all_characters) + 1\n",
        "char_vectorizer = tf.keras.layers.TextVectorization(\n",
        "    max_tokens=NUM_CHAR_TOKENS,\n",
        "    output_sequence_length=output_seq_char_len,\n",
        "    standardize='lower_and_strip_punctuation',\n",
        "    name='char_vectorizer'\n",
        ")\n",
        "\n",
        "char_vectorizer.adapt(train_sentences_characters)"
      ],
      "metadata": {
        "id": "e_eFFARZnjVQ"
      },
      "execution_count": 57,
      "outputs": []
    },
    {
      "cell_type": "code",
      "source": [
        "# prompt: Check character vocabulary characteristics\n",
        "\n",
        "char_vocab = char_vectorizer.get_vocabulary()\n",
        "char_vocab[:5], char_vocab[-5:]"
      ],
      "metadata": {
        "colab": {
          "base_uri": "https://localhost:8080/"
        },
        "id": "IMYda4Pfrlb1",
        "outputId": "59df65ff-1056-4848-cf43-275db82ac6b5"
      },
      "execution_count": 58,
      "outputs": [
        {
          "output_type": "execute_result",
          "data": {
            "text/plain": [
              "(['', '[UNK]', 'e', 't', 'i'], ['k', 'x', 'z', 'q', 'j'])"
            ]
          },
          "metadata": {},
          "execution_count": 58
        }
      ]
    },
    {
      "cell_type": "code",
      "source": [
        "# prompt: test a random senteces\n",
        "\n",
        "random_sentence = random.choice(train_sentences)\n",
        "print(f\"Example sentence: {random_sentence}\")\n",
        "example_sentence_characters = sentence_to_characters(random_sentence)\n",
        "print(f\"\\nExample sentence characters: {example_sentence_characters}\")\n",
        "example_sentence_char_vectors = char_vectorizer(example_sentence_characters)\n",
        "print(f\"\\nExample sentence character vectors: {example_sentence_char_vectors}\")\n"
      ],
      "metadata": {
        "colab": {
          "base_uri": "https://localhost:8080/"
        },
        "id": "wp8zjyllrlZl",
        "outputId": "ff6e21f2-4a59-41ed-caed-8b1b468ab715"
      },
      "execution_count": 59,
      "outputs": [
        {
          "output_type": "stream",
          "name": "stdout",
          "text": [
            "Example sentence: We recommend the use of PCN tube if the stone size is > @cm , as there was a greater risk of possible iatrogenic ureteric injury during stenting with these larger ureteric stones in addition to prolongation of operative time with an increased incidence of failure .\n",
            "\n",
            "Example sentence characters: W e   r e c o m m e n d   t h e   u s e   o f   P C N   t u b e   i f   t h e   s t o n e   s i z e   i s   >   @ c m   ,   a s   t h e r e   w a s   a   g r e a t e r   r i s k   o f   p o s s i b l e   i a t r o g e n i c   u r e t e r i c   i n j u r y   d u r i n g   s t e n t i n g   w i t h   t h e s e   l a r g e r   u r e t e r i c   s t o n e s   i n   a d d i t i o n   t o   p r o l o n g a t i o n   o f   o p e r a t i v e   t i m e   w i t h   a n   i n c r e a s e d   i n c i d e n c e   o f   f a i l u r e   .\n",
            "\n",
            "Example sentence character vectors: [20  2  8  2 11  7 15 15  2  6 10  3 13  2 16  9  2  7 17 14 11  6  3 16\n",
            " 22  2  4 17  3 13  2  9  3  7  6  2  9  4 25  2  4  9 11 15  5  9  3 13\n",
            "  2  8  2 20  5  9  5 18  8  2  5  3  2  8  8  4  9 23  7 17 14  7  9  9\n",
            "  4 22 12  2  4  5  3  8  7 18  2  6  4 11 16  8  2  3  2  8  4 11  4  6\n",
            " 27 16  8 19 10 16  8  4  6 18  9  3  2  6  3  4  6 18 20  4  3 13  3 13\n",
            "  2  9  2 12  5  8 18  2  8 16  8  2  3  2  8  4 11  9  3  7  6  2  9  4\n",
            "  6  5 10 10  4  3  4  7  6  3  7 14  8  7 12  7  6 18  5  3  4  7  6  7\n",
            " 17  7 14  2  8  5  3  4 21  2  3  4 15  2 20  4  3 13  5  6  4  6 11  8\n",
            "  2  5  9  2 10  4  6 11  4 10  2  6 11  2  7 17 17  5  4 12 16  8  2  0\n",
            "  0  0  0  0  0  0  0  0  0  0  0  0  0  0  0  0  0  0  0  0  0  0  0  0\n",
            "  0  0  0  0  0  0  0  0  0  0  0  0  0  0  0  0  0  0  0  0  0  0  0  0\n",
            "  0  0  0  0  0  0  0  0  0  0  0  0  0  0  0  0  0  0  0  0  0  0  0  0\n",
            "  0  0]\n"
          ]
        }
      ]
    },
    {
      "cell_type": "markdown",
      "source": [
        "## Creating a character-level embedding\n"
      ],
      "metadata": {
        "id": "LPFZAc41uxJU"
      }
    },
    {
      "cell_type": "code",
      "source": [
        "# prompt: create a character level embedding\n",
        "\n",
        "char_embed = layers.Embedding(input_dim=NUM_CHAR_TOKENS,\n",
        "                                output_dim=25,\n",
        "                              mask_zero=True,\n",
        "                                name='char_embed')\n"
      ],
      "metadata": {
        "id": "4lnN-tx4rlXl"
      },
      "execution_count": 60,
      "outputs": []
    },
    {
      "cell_type": "code",
      "source": [
        "# prompt: test out char_embed with a random sentence and use prints to see each stage\n",
        "\n",
        "random_sentence = random.choice(train_sentences)\n",
        "print(f\"Example sentence: {random_sentence}\")\n",
        "example_sentence_characters = sentence_to_characters(random_sentence)\n",
        "print(f\"\\nExample sentence characters: {example_sentence_characters}\")\n",
        "example_sentence_char_vectors = char_vectorizer(example_sentence_characters)\n",
        "print(f\"\\nExample sentence character vectors: {example_sentence_char_vectors}\")\n",
        "example_char_embed_output = char_embed(example_sentence_char_vectors)\n",
        "print(f\"\\nExample sentence character embedding output: {example_char_embed_output}\")\n",
        "example_char_embed_output.shape"
      ],
      "metadata": {
        "colab": {
          "base_uri": "https://localhost:8080/"
        },
        "id": "4zbIqJtRrlU-",
        "outputId": "2f07b618-855e-4443-e02c-7f60d5784507"
      },
      "execution_count": 61,
      "outputs": [
        {
          "output_type": "stream",
          "name": "stdout",
          "text": [
            "Example sentence: In this randomized trial of patients with Barrett esophagus and a confirmed diagnosis of low-grade dysplasia , radiofrequency ablation resulted in a reduced risk of neoplastic progression over @ years of follow-up .\n",
            "\n",
            "Example sentence characters: I n   t h i s   r a n d o m i z e d   t r i a l   o f   p a t i e n t s   w i t h   B a r r e t t   e s o p h a g u s   a n d   a   c o n f i r m e d   d i a g n o s i s   o f   l o w - g r a d e   d y s p l a s i a   ,   r a d i o f r e q u e n c y   a b l a t i o n   r e s u l t e d   i n   a   r e d u c e d   r i s k   o f   n e o p l a s t i c   p r o g r e s s i o n   o v e r   @   y e a r s   o f   f o l l o w - u p   .\n",
            "\n",
            "Example sentence character vectors: [ 4  6  3 13  4  9  8  5  6 10  7 15  4 25  2 10  3  8  4  5 12  7 17 14\n",
            "  5  3  4  2  6  3  9 20  4  3 13 22  5  8  8  2  3  3  2  9  7 14 13  5\n",
            " 18 16  9  5  6 10  5 11  7  6 17  4  8 15  2 10 10  4  5 18  6  7  9  4\n",
            "  9  7 17 12  7 20 18  8  5 10  2 10 19  9 14 12  5  9  4  5  8  5 10  4\n",
            "  7 17  8  2 26 16  2  6 11 19  5 22 12  5  3  4  7  6  8  2  9 16 12  3\n",
            "  2 10  4  6  5  8  2 10 16 11  2 10  8  4  9 23  7 17  6  2  7 14 12  5\n",
            "  9  3  4 11 14  8  7 18  8  2  9  9  4  7  6  7 21  2  8 19  2  5  8  9\n",
            "  7 17 17  7 12 12  7 20 16 14  0  0  0  0  0  0  0  0  0  0  0  0  0  0\n",
            "  0  0  0  0  0  0  0  0  0  0  0  0  0  0  0  0  0  0  0  0  0  0  0  0\n",
            "  0  0  0  0  0  0  0  0  0  0  0  0  0  0  0  0  0  0  0  0  0  0  0  0\n",
            "  0  0  0  0  0  0  0  0  0  0  0  0  0  0  0  0  0  0  0  0  0  0  0  0\n",
            "  0  0  0  0  0  0  0  0  0  0  0  0  0  0  0  0  0  0  0  0  0  0  0  0\n",
            "  0  0]\n",
            "\n",
            "Example sentence character embedding output: [[ 0.03960086 -0.03096182  0.01499656 ... -0.02023082 -0.02834631\n",
            "   0.0414155 ]\n",
            " [-0.02630087  0.03010986 -0.0396692  ... -0.03645635  0.01612851\n",
            "   0.00386305]\n",
            " [-0.00962102  0.02498532  0.04006227 ...  0.00169809 -0.04641352\n",
            "  -0.01462455]\n",
            " ...\n",
            " [ 0.00346514 -0.00933741  0.04858955 ...  0.00663024  0.04277532\n",
            "   0.03126539]\n",
            " [ 0.00346514 -0.00933741  0.04858955 ...  0.00663024  0.04277532\n",
            "   0.03126539]\n",
            " [ 0.00346514 -0.00933741  0.04858955 ...  0.00663024  0.04277532\n",
            "   0.03126539]]\n"
          ]
        },
        {
          "output_type": "execute_result",
          "data": {
            "text/plain": [
              "TensorShape([290, 25])"
            ]
          },
          "metadata": {},
          "execution_count": 61
        }
      ]
    },
    {
      "cell_type": "markdown",
      "source": [
        "## Building a Conv1D model to fit on character embeddings\n"
      ],
      "metadata": {
        "id": "hn0KJFPtwDpD"
      }
    },
    {
      "cell_type": "code",
      "source": [
        "# prompt: make a conv1d model only using chars\n",
        "\n",
        "inputs = layers.Input(shape=(1,), dtype=tf.string)\n",
        "char_vectors = char_vectorizer(inputs)\n",
        "char_embeddings = char_embed(char_vectors)\n",
        "x = layers.Conv1D(64, kernel_size=5, padding='same')(char_embeddings)\n",
        "x = layers.GlobalMaxPool1D()(x)\n",
        "outputs = layers.Dense(num_classes, activation='softmax')(x)\n",
        "model_3 = tf.keras.Model(inputs, outputs)\n",
        "\n",
        "model_3.compile(\n",
        "    loss='categorical_crossentropy',\n",
        "    optimizer=tf.keras.optimizers.Adam(),\n",
        "    metrics=['accuracy']\n",
        ")\n",
        "\n",
        "model_3.summary()\n"
      ],
      "metadata": {
        "colab": {
          "base_uri": "https://localhost:8080/"
        },
        "id": "lPaZt-ItrlQw",
        "outputId": "aa604962-7761-4ad2-ebf3-6094dbc1ba3c"
      },
      "execution_count": 62,
      "outputs": [
        {
          "output_type": "stream",
          "name": "stdout",
          "text": [
            "Model: \"model_2\"\n",
            "_________________________________________________________________\n",
            " Layer (type)                Output Shape              Param #   \n",
            "=================================================================\n",
            " input_3 (InputLayer)        [(None, 1)]               0         \n",
            "                                                                 \n",
            " char_vectorizer (TextVecto  (None, 290)               0         \n",
            " rization)                                                       \n",
            "                                                                 \n",
            " char_embed (Embedding)      (None, 290, 25)           1750      \n",
            "                                                                 \n",
            " conv1d_1 (Conv1D)           (None, 290, 64)           8064      \n",
            "                                                                 \n",
            " global_max_pooling1d (Glob  (None, 64)                0         \n",
            " alMaxPooling1D)                                                 \n",
            "                                                                 \n",
            " dense_3 (Dense)             (None, 5)                 325       \n",
            "                                                                 \n",
            "=================================================================\n",
            "Total params: 10139 (39.61 KB)\n",
            "Trainable params: 10139 (39.61 KB)\n",
            "Non-trainable params: 0 (0.00 Byte)\n",
            "_________________________________________________________________\n"
          ]
        }
      ]
    },
    {
      "cell_type": "code",
      "source": [
        "# prompt: now create a character level batched and prefetched dataset using tf.Data\n",
        "\n",
        "char_batch = 32\n",
        "train_char_dataset  = tf.data.Dataset.from_tensor_slices((train_sentences_characters, train_labels_one_hot))\n",
        "train_char_dataset  = train_char_dataset.shuffle(buffer_size=1024).batch(char_batch).prefetch(tf.data.AUTOTUNE)\n",
        "\n",
        "val_char_dataset = tf.data.Dataset.from_tensor_slices((val_sentences_characters, val_labels_one_hot))\n",
        "val_char_dataset = val_char_dataset.batch(char_batch).prefetch(tf.data.AUTOTUNE)\n",
        "\n",
        "test_char_dataset = tf.data.Dataset.from_tensor_slices((test_sentences_characters, test_labels_one_hot))\n",
        "test_char_dataset = test_char_dataset.batch(char_batch).prefetch(tf.data.AUTOTUNE)\n"
      ],
      "metadata": {
        "id": "g9EVZ9hiwrb6"
      },
      "execution_count": 63,
      "outputs": []
    },
    {
      "cell_type": "code",
      "source": [
        "model_3_history = model_3.fit(\n",
        "    train_char_dataset,\n",
        "    steps_per_epoch=int(0.1*len(train_char_dataset)),\n",
        "    epochs=5,\n",
        "    validation_data=val_char_dataset,\n",
        "    validation_steps=int(0.1*len(val_char_dataset))\n",
        ")\n"
      ],
      "metadata": {
        "colab": {
          "base_uri": "https://localhost:8080/"
        },
        "id": "A4FduiDzwmVr",
        "outputId": "49797b34-586c-40ed-bc11-32f1277e5fac"
      },
      "execution_count": 64,
      "outputs": [
        {
          "output_type": "stream",
          "name": "stdout",
          "text": [
            "Epoch 1/5\n",
            "562/562 [==============================] - 4s 6ms/step - loss: 1.2449 - accuracy: 0.4921 - val_loss: 1.0259 - val_accuracy: 0.5851\n",
            "Epoch 2/5\n",
            "562/562 [==============================] - 3s 5ms/step - loss: 0.9962 - accuracy: 0.5998 - val_loss: 0.9159 - val_accuracy: 0.6463\n",
            "Epoch 3/5\n",
            "562/562 [==============================] - 4s 7ms/step - loss: 0.9102 - accuracy: 0.6423 - val_loss: 0.8699 - val_accuracy: 0.6579\n",
            "Epoch 4/5\n",
            "562/562 [==============================] - 3s 5ms/step - loss: 0.8602 - accuracy: 0.6668 - val_loss: 0.8302 - val_accuracy: 0.6799\n",
            "Epoch 5/5\n",
            "562/562 [==============================] - 3s 5ms/step - loss: 0.8509 - accuracy: 0.6670 - val_loss: 0.8067 - val_accuracy: 0.6868\n"
          ]
        }
      ]
    },
    {
      "cell_type": "code",
      "source": [
        "model_3.evaluate(val_char_dataset)\n"
      ],
      "metadata": {
        "colab": {
          "base_uri": "https://localhost:8080/"
        },
        "id": "_Kai-MlTrlMN",
        "outputId": "d788e471-2d11-4f91-bc4e-cbde1ff860c9"
      },
      "execution_count": 65,
      "outputs": [
        {
          "output_type": "stream",
          "name": "stdout",
          "text": [
            "945/945 [==============================] - 3s 4ms/step - loss: 0.8277 - accuracy: 0.6777\n"
          ]
        },
        {
          "output_type": "execute_result",
          "data": {
            "text/plain": [
              "[0.8277420401573181, 0.6776777505874634]"
            ]
          },
          "metadata": {},
          "execution_count": 65
        }
      ]
    },
    {
      "cell_type": "code",
      "source": [
        "\n",
        "model_3_probs = model_3.predict(val_char_dataset)\n",
        "model_3_probs\n",
        "model_3_preds = tf.argmax(model_3_probs, axis=1)\n",
        "model_3_preds\n",
        "# Calculate model_3 results\n",
        "model_3_results = calculate_results(y_true=val_labels_encoder,\n",
        "                                    y_pred=model_3_preds)\n",
        "model_3_results"
      ],
      "metadata": {
        "colab": {
          "base_uri": "https://localhost:8080/"
        },
        "id": "QeWSr0QPz3ah",
        "outputId": "7312fecf-d5ff-475e-d8d8-ba8e4e45c993"
      },
      "execution_count": 66,
      "outputs": [
        {
          "output_type": "stream",
          "name": "stdout",
          "text": [
            "945/945 [==============================] - 2s 3ms/step\n"
          ]
        },
        {
          "output_type": "execute_result",
          "data": {
            "text/plain": [
              "{'accuracy': 67.76777439428042,\n",
              " 'precision': 0.6725430708703979,\n",
              " 'recall': 0.6776777439428042,\n",
              " 'f1': 0.6709031100156964}"
            ]
          },
          "metadata": {},
          "execution_count": 66
        }
      ]
    },
    {
      "cell_type": "markdown",
      "source": [
        "## Model 4: Combining pretrained token embeddings + character embeddings (hybrid embedding layer)"
      ],
      "metadata": {
        "id": "Bn23PpCg0ReS"
      }
    },
    {
      "cell_type": "code",
      "source": [
        "#1. Set up token inputs/model\n",
        "token_inputs = layers.Input(shape=[], dtype=tf.string, name='token_inputs')\n",
        "token_embeddings = tf_hub_embedding_layer(token_inputs)\n",
        "token_output = layers.Dense(128, activation='relu')(token_embeddings)\n",
        "token_model = tf.keras.Model(inputs=token_inputs,\n",
        "                             outputs=token_output)\n",
        "\n",
        "#2. Set up char inputs/model\n",
        "char_inputs = layers.Input(shape=(1,), dtype=tf.string, name='char_inputs')\n",
        "char_vectors = char_vectorizer(char_inputs)\n",
        "char_embeddings = char_embed(char_vectors)\n",
        "char_bi_lstm = layers.Bidirectional(layers.LSTM(25))(char_embeddings)\n",
        "\n",
        "char_model = tf.keras.Model(inputs=char_inputs,\n",
        "                            outputs=char_bi_lstm)\n",
        "\n",
        "from tensorflow.keras import layers\n",
        "\n",
        "# Assuming token_output and char_bi_lstm are your input layers or tensors\n",
        "token_char_concat = layers.Concatenate(name='token_char_hybrid')([token_model.output, char_model.output])\n",
        "\n",
        "#4. Create output layers\n",
        "combine_dropout = layers.Dropout(0.5)(token_char_concat)\n",
        "combined_dense = layers.Dense(200, activation='relu')(combine_dropout)\n",
        "final_dropout = layers.Dropout(0.5)(combined_dense)\n",
        "output_layer = layers.Dense(num_classes, activation='softmax')(final_dropout)\n",
        "\n",
        "#5. Construct model with char and token inputs\n",
        "model_4 = tf.keras.Model(inputs=[token_model.input, char_model.input],\n",
        "                         outputs=output_layer,\n",
        "                         name='model_4_token_and_char_embedding')\n"
      ],
      "metadata": {
        "id": "GTqU4dXNwGyr"
      },
      "execution_count": 67,
      "outputs": []
    },
    {
      "cell_type": "code",
      "source": [
        "model_4.summary()"
      ],
      "metadata": {
        "colab": {
          "base_uri": "https://localhost:8080/"
        },
        "id": "y_Oa7gnswGwj",
        "outputId": "fc2f00db-825b-4902-d4f7-1660f93cd854"
      },
      "execution_count": 68,
      "outputs": [
        {
          "output_type": "stream",
          "name": "stdout",
          "text": [
            "Model: \"model_4_token_and_char_embedding\"\n",
            "__________________________________________________________________________________________________\n",
            " Layer (type)                Output Shape                 Param #   Connected to                  \n",
            "==================================================================================================\n",
            " char_inputs (InputLayer)    [(None, 1)]                  0         []                            \n",
            "                                                                                                  \n",
            " token_inputs (InputLayer)   [(None,)]                    0         []                            \n",
            "                                                                                                  \n",
            " char_vectorizer (TextVecto  (None, 290)                  0         ['char_inputs[0][0]']         \n",
            " rization)                                                                                        \n",
            "                                                                                                  \n",
            " universal_sentence_encoder  (None, 512)                  2567978   ['token_inputs[0][0]']        \n",
            "  (KerasLayer)                                            24                                      \n",
            "                                                                                                  \n",
            " char_embed (Embedding)      (None, 290, 25)              1750      ['char_vectorizer[1][0]']     \n",
            "                                                                                                  \n",
            " dense_4 (Dense)             (None, 128)                  65664     ['universal_sentence_encoder[1\n",
            "                                                                    ][0]']                        \n",
            "                                                                                                  \n",
            " bidirectional (Bidirection  (None, 50)                   10200     ['char_embed[1][0]']          \n",
            " al)                                                                                              \n",
            "                                                                                                  \n",
            " token_char_hybrid (Concate  (None, 178)                  0         ['dense_4[0][0]',             \n",
            " nate)                                                               'bidirectional[0][0]']       \n",
            "                                                                                                  \n",
            " dropout (Dropout)           (None, 178)                  0         ['token_char_hybrid[0][0]']   \n",
            "                                                                                                  \n",
            " dense_5 (Dense)             (None, 200)                  35800     ['dropout[0][0]']             \n",
            "                                                                                                  \n",
            " dropout_1 (Dropout)         (None, 200)                  0         ['dense_5[0][0]']             \n",
            "                                                                                                  \n",
            " dense_6 (Dense)             (None, 5)                    1005      ['dropout_1[0][0]']           \n",
            "                                                                                                  \n",
            "==================================================================================================\n",
            "Total params: 256912243 (980.04 MB)\n",
            "Trainable params: 114419 (446.95 KB)\n",
            "Non-trainable params: 256797824 (979.61 MB)\n",
            "__________________________________________________________________________________________________\n"
          ]
        }
      ]
    },
    {
      "cell_type": "code",
      "source": [
        "# Plot hybrid token and character model\n",
        "from keras.utils import plot_model\n",
        "plot_model(model_4)"
      ],
      "metadata": {
        "colab": {
          "base_uri": "https://localhost:8080/",
          "height": 856
        },
        "id": "x7F_2tdpwGuL",
        "outputId": "9643d3d3-b376-4af8-e8d7-34aa3eae9150"
      },
      "execution_count": 69,
      "outputs": [
        {
          "output_type": "execute_result",
          "data": {
            "image/png": "[encoded data removed]",
            "text/plain": [
              "<IPython.core.display.Image object>"
            ]
          },
          "metadata": {},
          "execution_count": 69
        }
      ]
    },
    {
      "cell_type": "code",
      "source": [
        "# prompt: compile model 4\n",
        "\n",
        "model_4.compile(\n",
        "    loss='categorical_crossentropy',\n",
        "    optimizer=tf.keras.optimizers.Adam(),\n",
        "    metrics=['accuracy']\n",
        ")\n"
      ],
      "metadata": {
        "id": "CfmDrs7nOz_T"
      },
      "execution_count": 70,
      "outputs": []
    },
    {
      "cell_type": "code",
      "source": [
        "\n",
        "# Combine chars and tokens into a dataset\n",
        "train_char_token_data = tf.data.Dataset.from_tensor_slices((train_sentences, train_sentences_characters)) # make data\n",
        "train_char_token_labels = tf.data.Dataset.from_tensor_slices(train_labels_one_hot) # make labels\n",
        "train_char_token_dataset = tf.data.Dataset.zip((train_char_token_data, train_char_token_labels)) # combine data and labels\n",
        "\n",
        "\n",
        "\n",
        "# Prefetch and batch train data\n",
        "train_char_token_dataset = train_char_token_dataset.batch(32)"
      ],
      "metadata": {
        "id": "1bFbIXF4Oz9m"
      },
      "execution_count": 71,
      "outputs": []
    },
    {
      "cell_type": "code",
      "source": [
        "# Repeat same steps validation data\n",
        "val_char_token_data = tf.data.Dataset.from_tensor_slices((val_sentences, val_sentences_characters))\n",
        "val_char_token_labels = tf.data.Dataset.from_tensor_slices(val_labels_one_hot)\n",
        "val_char_token_dataset = tf.data.Dataset.zip((val_char_token_data, val_char_token_labels))\n",
        "val_char_token_dataset = val_char_token_dataset.batch(32).prefetch(tf.data.AUTOTUNE)\n"
      ],
      "metadata": {
        "id": "aa0QWrQ8Oz7m"
      },
      "execution_count": 72,
      "outputs": []
    },
    {
      "cell_type": "code",
      "source": [
        "\n",
        "# Check out training char and token embedding dataset\n",
        "train_char_token_dataset, val_char_token_dataset"
      ],
      "metadata": {
        "colab": {
          "base_uri": "https://localhost:8080/"
        },
        "id": "gYyI7Ej11vGH",
        "outputId": "7b9723e5-3584-408a-9dd7-cb9e021cda39"
      },
      "execution_count": 73,
      "outputs": [
        {
          "output_type": "execute_result",
          "data": {
            "text/plain": [
              "(<_BatchDataset element_spec=((TensorSpec(shape=(None,), dtype=tf.string, name=None), TensorSpec(shape=(None,), dtype=tf.string, name=None)), TensorSpec(shape=(None, 5), dtype=tf.float64, name=None))>,\n",
              " <_PrefetchDataset element_spec=((TensorSpec(shape=(None,), dtype=tf.string, name=None), TensorSpec(shape=(None,), dtype=tf.string, name=None)), TensorSpec(shape=(None, 5), dtype=tf.float64, name=None))>)"
            ]
          },
          "metadata": {},
          "execution_count": 73
        }
      ]
    },
    {
      "cell_type": "code",
      "source": [
        "# prompt: fit model 4\n",
        "\n",
        "history_4 = model_4.fit(\n",
        "    train_char_token_dataset,\n",
        "    steps_per_epoch=int(0.1*len(train_char_token_dataset)),\n",
        "    epochs=5,\n",
        "    validation_data=val_char_token_dataset,\n",
        "    validation_steps=int(0.1*len(val_char_token_dataset))\n",
        ")\n"
      ],
      "metadata": {
        "colab": {
          "base_uri": "https://localhost:8080/"
        },
        "id": "E4SuLNZY1vCN",
        "outputId": "62d71eeb-e918-49e3-efb5-2c3ed3b19948"
      },
      "execution_count": 74,
      "outputs": [
        {
          "output_type": "stream",
          "name": "stdout",
          "text": [
            "Epoch 1/5\n",
            "562/562 [==============================] - 41s 53ms/step - loss: 0.9594 - accuracy: 0.6179 - val_loss: 0.7709 - val_accuracy: 0.7031\n",
            "Epoch 2/5\n",
            "562/562 [==============================] - 27s 48ms/step - loss: 0.7874 - accuracy: 0.6945 - val_loss: 0.7092 - val_accuracy: 0.7284\n",
            "Epoch 3/5\n",
            "562/562 [==============================] - 25s 44ms/step - loss: 0.7620 - accuracy: 0.7104 - val_loss: 0.6850 - val_accuracy: 0.7360\n",
            "Epoch 4/5\n",
            "562/562 [==============================] - 28s 50ms/step - loss: 0.7340 - accuracy: 0.7239 - val_loss: 0.6633 - val_accuracy: 0.7550\n",
            "Epoch 5/5\n",
            "562/562 [==============================] - 25s 45ms/step - loss: 0.7375 - accuracy: 0.7183 - val_loss: 0.6433 - val_accuracy: 0.7573\n"
          ]
        }
      ]
    },
    {
      "cell_type": "code",
      "source": [
        "# prompt: evaluate and make predictions with model 4\n",
        "\n",
        "model_4.evaluate(val_char_token_dataset)\n",
        "\n"
      ],
      "metadata": {
        "colab": {
          "base_uri": "https://localhost:8080/"
        },
        "id": "Kmg8KRz71vAI",
        "outputId": "91f14634-d7c0-419f-ff62-b2eb11babd71"
      },
      "execution_count": 75,
      "outputs": [
        {
          "output_type": "stream",
          "name": "stdout",
          "text": [
            "945/945 [==============================] - 19s 20ms/step - loss: 0.6516 - accuracy: 0.7513\n"
          ]
        },
        {
          "output_type": "execute_result",
          "data": {
            "text/plain": [
              "[0.6515534520149231, 0.7512908577919006]"
            ]
          },
          "metadata": {},
          "execution_count": 75
        }
      ]
    },
    {
      "cell_type": "code",
      "source": [
        "model_4_probs = model_4.predict(val_char_token_dataset)\n",
        "model_4_preds = tf.argmax(model_4_probs, axis=1)\n",
        "model_4_results = calculate_results(y_true=val_labels_encoder,\n",
        "                                    y_pred=model_4_preds)\n",
        "model_4_results"
      ],
      "metadata": {
        "colab": {
          "base_uri": "https://localhost:8080/"
        },
        "id": "GQyX9bwU1u93",
        "outputId": "0ba77b33-960b-45e6-ec31-055e6e580948"
      },
      "execution_count": 76,
      "outputs": [
        {
          "output_type": "stream",
          "name": "stdout",
          "text": [
            "945/945 [==============================] - 22s 19ms/step\n"
          ]
        },
        {
          "output_type": "execute_result",
          "data": {
            "text/plain": [
              "{'accuracy': 75.12908777969018,\n",
              " 'precision': 0.7474889402028483,\n",
              " 'recall': 0.7512908777969018,\n",
              " 'f1': 0.7470376490750633}"
            ]
          },
          "metadata": {},
          "execution_count": 76
        }
      ]
    },
    {
      "cell_type": "markdown",
      "source": [
        "## Model 5: Transfer Learning with pretrained token embeddings + character embeddings + positional embeddings"
      ],
      "metadata": {
        "id": "NcMcW0GN7kF9"
      }
    },
    {
      "cell_type": "code",
      "source": [
        "train_df.head()"
      ],
      "metadata": {
        "colab": {
          "base_uri": "https://localhost:8080/",
          "height": 258
        },
        "id": "cSiUreSJ1u7Z",
        "outputId": "26920b1b-8a65-4422-b519-516cd8974dd6"
      },
      "execution_count": 77,
      "outputs": [
        {
          "output_type": "execute_result",
          "data": {
            "text/plain": [
              "   line_number     target                                               text  \\\n",
              "0            1  OBJECTIVE  To investigate the efficacy of @ weeks of dail...   \n",
              "1            2    METHODS  A total of @ patients with primary knee OA wer...   \n",
              "2            3    METHODS  Outcome measures included pain reduction and i...   \n",
              "3            4    METHODS  Pain was assessed using the visual analog pain...   \n",
              "4            5    METHODS  Secondary outcome measures included the Wester...   \n",
              "\n",
              "   total_lines  \n",
              "0           12  \n",
              "1           12  \n",
              "2           12  \n",
              "3           12  \n",
              "4           12  "
            ],
            "text/html": [
              "\n",
              "  <div id=\"df-c79fe3e6-8e9a-472d-8a1c-1637e299bcf8\" class=\"colab-df-container\">\n",
              "    <div>\n",
              "<style scoped>\n",
              "    .dataframe tbody tr th:only-of-type {\n",
              "        vertical-align: middle;\n",
              "    }\n",
              "\n",
              "    .dataframe tbody tr th {\n",
              "        vertical-align: top;\n",
              "    }\n",
              "\n",
              "    .dataframe thead th {\n",
              "        text-align: right;\n",
              "    }\n",
              "</style>\n",
              "<table border=\"1\" class=\"dataframe\">\n",
              "  <thead>\n",
              "    <tr style=\"text-align: right;\">\n",
              "      <th></th>\n",
              "      <th>line_number</th>\n",
              "      <th>target</th>\n",
              "      <th>text</th>\n",
              "      <th>total_lines</th>\n",
              "    </tr>\n",
              "  </thead>\n",
              "  <tbody>\n",
              "    <tr>\n",
              "      <th>0</th>\n",
              "      <td>1</td>\n",
              "      <td>OBJECTIVE</td>\n",
              "      <td>To investigate the efficacy of @ weeks of dail...</td>\n",
              "      <td>12</td>\n",
              "    </tr>\n",
              "    <tr>\n",
              "      <th>1</th>\n",
              "      <td>2</td>\n",
              "      <td>METHODS</td>\n",
              "      <td>A total of @ patients with primary knee OA wer...</td>\n",
              "      <td>12</td>\n",
              "    </tr>\n",
              "    <tr>\n",
              "      <th>2</th>\n",
              "      <td>3</td>\n",
              "      <td>METHODS</td>\n",
              "      <td>Outcome measures included pain reduction and i...</td>\n",
              "      <td>12</td>\n",
              "    </tr>\n",
              "    <tr>\n",
              "      <th>3</th>\n",
              "      <td>4</td>\n",
              "      <td>METHODS</td>\n",
              "      <td>Pain was assessed using the visual analog pain...</td>\n",
              "      <td>12</td>\n",
              "    </tr>\n",
              "    <tr>\n",
              "      <th>4</th>\n",
              "      <td>5</td>\n",
              "      <td>METHODS</td>\n",
              "      <td>Secondary outcome measures included the Wester...</td>\n",
              "      <td>12</td>\n",
              "    </tr>\n",
              "  </tbody>\n",
              "</table>\n",
              "</div>\n",
              "    <div class=\"colab-df-buttons\">\n",
              "\n",
              "  <div class=\"colab-df-container\">\n",
              "    <button class=\"colab-df-convert\" onclick=\"convertToInteractive('df-c79fe3e6-8e9a-472d-8a1c-1637e299bcf8')\"\n",
              "            title=\"Convert this dataframe to an interactive table.\"\n",
              "            style=\"display:none;\">\n",
              "\n",
              "  <svg xmlns=\"http://www.w3.org/2000/svg\" height=\"24px\" viewBox=\"0 -960 960 960\">\n",
              "    <path d=\"M120-120v-720h720v720H120Zm60-500h600v-160H180v160Zm220 220h160v-160H400v160Zm0 220h160v-160H400v160ZM180-400h160v-160H180v160Zm440 0h160v-160H620v160ZM180-180h160v-160H180v160Zm440 0h160v-160H620v160Z\"/>\n",
              "  </svg>\n",
              "    </button>\n",
              "\n",
              "  <style>\n",
              "    .colab-df-container {\n",
              "      display:flex;\n",
              "      gap: 12px;\n",
              "    }\n",
              "\n",
              "    .colab-df-convert {\n",
              "      background-color: #E8F0FE;\n",
              "      border: none;\n",
              "      border-radius: 50%;\n",
              "      cursor: pointer;\n",
              "      display: none;\n",
              "      fill: #1967D2;\n",
              "      height: 32px;\n",
              "      padding: 0 0 0 0;\n",
              "      width: 32px;\n",
              "    }\n",
              "\n",
              "    .colab-df-convert:hover {\n",
              "      background-color: #E2EBFA;\n",
              "      box-shadow: 0px 1px 2px rgba(60, 64, 67, 0.3), 0px 1px 3px 1px rgba(60, 64, 67, 0.15);\n",
              "      fill: #174EA6;\n",
              "    }\n",
              "\n",
              "    .colab-df-buttons div {\n",
              "      margin-bottom: 4px;\n",
              "    }\n",
              "\n",
              "    [theme=dark] .colab-df-convert {\n",
              "      background-color: #3B4455;\n",
              "      fill: #D2E3FC;\n",
              "    }\n",
              "\n",
              "    [theme=dark] .colab-df-convert:hover {\n",
              "      background-color: #434B5C;\n",
              "      box-shadow: 0px 1px 3px 1px rgba(0, 0, 0, 0.15);\n",
              "      filter: drop-shadow(0px 1px 2px rgba(0, 0, 0, 0.3));\n",
              "      fill: #FFFFFF;\n",
              "    }\n",
              "  </style>\n",
              "\n",
              "    <script>\n",
              "      const buttonEl =\n",
              "        document.querySelector('#df-c79fe3e6-8e9a-472d-8a1c-1637e299bcf8 button.colab-df-convert');\n",
              "      buttonEl.style.display =\n",
              "        google.colab.kernel.accessAllowed ? 'block' : 'none';\n",
              "\n",
              "      async function convertToInteractive(key) {\n",
              "        const element = document.querySelector('#df-c79fe3e6-8e9a-472d-8a1c-1637e299bcf8');\n",
              "        const dataTable =\n",
              "          await google.colab.kernel.invokeFunction('convertToInteractive',\n",
              "                                                    [key], {});\n",
              "        if (!dataTable) return;\n",
              "\n",
              "        const docLinkHtml = 'Like what you see? Visit the ' +\n",
              "          '<a target=\"_blank\" href=https://colab.research.google.com/notebooks/data_table.ipynb>data table notebook</a>'\n",
              "          + ' to learn more about interactive tables.';\n",
              "        element.innerHTML = '';\n",
              "        dataTable['output_type'] = 'display_data';\n",
              "        await google.colab.output.renderOutput(dataTable, element);\n",
              "        const docLink = document.createElement('div');\n",
              "        docLink.innerHTML = docLinkHtml;\n",
              "        element.appendChild(docLink);\n",
              "      }\n",
              "    </script>\n",
              "  </div>\n",
              "\n",
              "\n",
              "<div id=\"df-398d5ae5-558c-4064-9444-3630bb64403e\">\n",
              "  <button class=\"colab-df-quickchart\" onclick=\"quickchart('df-398d5ae5-558c-4064-9444-3630bb64403e')\"\n",
              "            title=\"Suggest charts\"\n",
              "            style=\"display:none;\">\n",
              "\n",
              "<svg xmlns=\"http://www.w3.org/2000/svg\" height=\"24px\"viewBox=\"0 0 24 24\"\n",
              "     width=\"24px\">\n",
              "    <g>\n",
              "        <path d=\"M19 3H5c-1.1 0-2 .9-2 2v14c0 1.1.9 2 2 2h14c1.1 0 2-.9 2-2V5c0-1.1-.9-2-2-2zM9 17H7v-7h2v7zm4 0h-2V7h2v10zm4 0h-2v-4h2v4z\"/>\n",
              "    </g>\n",
              "</svg>\n",
              "  </button>\n",
              "\n",
              "<style>\n",
              "  .colab-df-quickchart {\n",
              "      --bg-color: #E8F0FE;\n",
              "      --fill-color: #1967D2;\n",
              "      --hover-bg-color: #E2EBFA;\n",
              "      --hover-fill-color: #174EA6;\n",
              "      --disabled-fill-color: #AAA;\n",
              "      --disabled-bg-color: #DDD;\n",
              "  }\n",
              "\n",
              "  [theme=dark] .colab-df-quickchart {\n",
              "      --bg-color: #3B4455;\n",
              "      --fill-color: #D2E3FC;\n",
              "      --hover-bg-color: #434B5C;\n",
              "      --hover-fill-color: #FFFFFF;\n",
              "      --disabled-bg-color: #3B4455;\n",
              "      --disabled-fill-color: #666;\n",
              "  }\n",
              "\n",
              "  .colab-df-quickchart {\n",
              "    background-color: var(--bg-color);\n",
              "    border: none;\n",
              "    border-radius: 50%;\n",
              "    cursor: pointer;\n",
              "    display: none;\n",
              "    fill: var(--fill-color);\n",
              "    height: 32px;\n",
              "    padding: 0;\n",
              "    width: 32px;\n",
              "  }\n",
              "\n",
              "  .colab-df-quickchart:hover {\n",
              "    background-color: var(--hover-bg-color);\n",
              "    box-shadow: 0 1px 2px rgba(60, 64, 67, 0.3), 0 1px 3px 1px rgba(60, 64, 67, 0.15);\n",
              "    fill: var(--button-hover-fill-color);\n",
              "  }\n",
              "\n",
              "  .colab-df-quickchart-complete:disabled,\n",
              "  .colab-df-quickchart-complete:disabled:hover {\n",
              "    background-color: var(--disabled-bg-color);\n",
              "    fill: var(--disabled-fill-color);\n",
              "    box-shadow: none;\n",
              "  }\n",
              "\n",
              "  .colab-df-spinner {\n",
              "    border: 2px solid var(--fill-color);\n",
              "    border-color: transparent;\n",
              "    border-bottom-color: var(--fill-color);\n",
              "    animation:\n",
              "      spin 1s steps(1) infinite;\n",
              "  }\n",
              "\n",
              "  @keyframes spin {\n",
              "    0% {\n",
              "      border-color: transparent;\n",
              "      border-bottom-color: var(--fill-color);\n",
              "      border-left-color: var(--fill-color);\n",
              "    }\n",
              "    20% {\n",
              "      border-color: transparent;\n",
              "      border-left-color: var(--fill-color);\n",
              "      border-top-color: var(--fill-color);\n",
              "    }\n",
              "    30% {\n",
              "      border-color: transparent;\n",
              "      border-left-color: var(--fill-color);\n",
              "      border-top-color: var(--fill-color);\n",
              "      border-right-color: var(--fill-color);\n",
              "    }\n",
              "    40% {\n",
              "      border-color: transparent;\n",
              "      border-right-color: var(--fill-color);\n",
              "      border-top-color: var(--fill-color);\n",
              "    }\n",
              "    60% {\n",
              "      border-color: transparent;\n",
              "      border-right-color: var(--fill-color);\n",
              "    }\n",
              "    80% {\n",
              "      border-color: transparent;\n",
              "      border-right-color: var(--fill-color);\n",
              "      border-bottom-color: var(--fill-color);\n",
              "    }\n",
              "    90% {\n",
              "      border-color: transparent;\n",
              "      border-bottom-color: var(--fill-color);\n",
              "    }\n",
              "  }\n",
              "</style>\n",
              "\n",
              "  <script>\n",
              "    async function quickchart(key) {\n",
              "      const quickchartButtonEl =\n",
              "        document.querySelector('#' + key + ' button');\n",
              "      quickchartButtonEl.disabled = true;  // To prevent multiple clicks.\n",
              "      quickchartButtonEl.classList.add('colab-df-spinner');\n",
              "      try {\n",
              "        const charts = await google.colab.kernel.invokeFunction(\n",
              "            'suggestCharts', [key], {});\n",
              "      } catch (error) {\n",
              "        console.error('Error during call to suggestCharts:', error);\n",
              "      }\n",
              "      quickchartButtonEl.classList.remove('colab-df-spinner');\n",
              "      quickchartButtonEl.classList.add('colab-df-quickchart-complete');\n",
              "    }\n",
              "    (() => {\n",
              "      let quickchartButtonEl =\n",
              "        document.querySelector('#df-398d5ae5-558c-4064-9444-3630bb64403e button');\n",
              "      quickchartButtonEl.style.display =\n",
              "        google.colab.kernel.accessAllowed ? 'block' : 'none';\n",
              "    })();\n",
              "  </script>\n",
              "</div>\n",
              "\n",
              "    </div>\n",
              "  </div>\n"
            ]
          },
          "metadata": {},
          "execution_count": 77
        }
      ]
    },
    {
      "cell_type": "code",
      "source": [
        "train_df[\"line_number\"].value_counts()"
      ],
      "metadata": {
        "colab": {
          "base_uri": "https://localhost:8080/"
        },
        "id": "ufcXbwE-1u43",
        "outputId": "45985df8-e792-40a5-a0ae-98b5b8971297"
      },
      "execution_count": 78,
      "outputs": [
        {
          "output_type": "execute_result",
          "data": {
            "text/plain": [
              "1     15000\n",
              "2     15000\n",
              "3     15000\n",
              "4     15000\n",
              "5     14992\n",
              "6     14949\n",
              "7     14758\n",
              "8     14279\n",
              "9     13346\n",
              "10    11981\n",
              "11    10041\n",
              "12     7892\n",
              "13     5853\n",
              "14     4152\n",
              "15     2835\n",
              "16     1861\n",
              "17     1188\n",
              "18      751\n",
              "19      462\n",
              "20      286\n",
              "21      162\n",
              "22      101\n",
              "23       66\n",
              "24       33\n",
              "25       22\n",
              "26       14\n",
              "27        7\n",
              "28        4\n",
              "29        3\n",
              "30        1\n",
              "31        1\n",
              "Name: line_number, dtype: int64"
            ]
          },
          "metadata": {},
          "execution_count": 78
        }
      ]
    },
    {
      "cell_type": "code",
      "source": [
        "train_line_numbers_one_hot = tf.one_hot(train_df[\"line_number\"].to_numpy(), depth=15)\n",
        "val_line_numbers_one_hot = tf.one_hot(val_df[\"line_number\"].to_numpy(), depth=15)\n",
        "test_line_numbers_one_hot = tf.one_hot(test_df[\"line_number\"].to_numpy(), depth=15)\n"
      ],
      "metadata": {
        "id": "otDQ38dJOz5d"
      },
      "execution_count": 79,
      "outputs": []
    },
    {
      "cell_type": "code",
      "source": [
        "train_line_numbers_one_hot"
      ],
      "metadata": {
        "colab": {
          "base_uri": "https://localhost:8080/"
        },
        "id": "vWnme1u49ymc",
        "outputId": "9b153b93-b0e7-4e60-e341-2506c05771b5"
      },
      "execution_count": 80,
      "outputs": [
        {
          "output_type": "execute_result",
          "data": {
            "text/plain": [
              "<tf.Tensor: shape=(180040, 15), dtype=float32, numpy=\n",
              "array([[0., 1., 0., ..., 0., 0., 0.],\n",
              "       [0., 0., 1., ..., 0., 0., 0.],\n",
              "       [0., 0., 0., ..., 0., 0., 0.],\n",
              "       ...,\n",
              "       [0., 0., 0., ..., 0., 0., 0.],\n",
              "       [0., 0., 0., ..., 0., 0., 0.],\n",
              "       [0., 0., 0., ..., 1., 0., 0.]], dtype=float32)>"
            ]
          },
          "metadata": {},
          "execution_count": 80
        }
      ]
    },
    {
      "cell_type": "code",
      "source": [
        "# Use TensorFlow to create one-hot-encoded tensors of our \"total_lines\" column\n",
        "train_total_lines_one_hot = tf.one_hot(train_df[\"total_lines\"].to_numpy(), depth=20)\n",
        "val_total_lines_one_hot = tf.one_hot(val_df[\"total_lines\"].to_numpy(), depth=20)\n",
        "test_total_lines_one_hot = tf.one_hot(test_df[\"total_lines\"].to_numpy(), depth=20)\n",
        "\n",
        "# Check shape and samples of total lines one-hot tensor\n",
        "train_total_lines_one_hot.shape, train_total_lines_one_hot[:10]\n"
      ],
      "metadata": {
        "colab": {
          "base_uri": "https://localhost:8080/"
        },
        "id": "mqI2Z3Pk9ykM",
        "outputId": "afc2c905-744e-475a-ec0c-47618af58156"
      },
      "execution_count": 81,
      "outputs": [
        {
          "output_type": "execute_result",
          "data": {
            "text/plain": [
              "(TensorShape([180040, 20]),\n",
              " <tf.Tensor: shape=(10, 20), dtype=float32, numpy=\n",
              " array([[0., 0., 0., 0., 0., 0., 0., 0., 0., 0., 0., 0., 1., 0., 0., 0.,\n",
              "         0., 0., 0., 0.],\n",
              "        [0., 0., 0., 0., 0., 0., 0., 0., 0., 0., 0., 0., 1., 0., 0., 0.,\n",
              "         0., 0., 0., 0.],\n",
              "        [0., 0., 0., 0., 0., 0., 0., 0., 0., 0., 0., 0., 1., 0., 0., 0.,\n",
              "         0., 0., 0., 0.],\n",
              "        [0., 0., 0., 0., 0., 0., 0., 0., 0., 0., 0., 0., 1., 0., 0., 0.,\n",
              "         0., 0., 0., 0.],\n",
              "        [0., 0., 0., 0., 0., 0., 0., 0., 0., 0., 0., 0., 1., 0., 0., 0.,\n",
              "         0., 0., 0., 0.],\n",
              "        [0., 0., 0., 0., 0., 0., 0., 0., 0., 0., 0., 0., 1., 0., 0., 0.,\n",
              "         0., 0., 0., 0.],\n",
              "        [0., 0., 0., 0., 0., 0., 0., 0., 0., 0., 0., 0., 1., 0., 0., 0.,\n",
              "         0., 0., 0., 0.],\n",
              "        [0., 0., 0., 0., 0., 0., 0., 0., 0., 0., 0., 0., 1., 0., 0., 0.,\n",
              "         0., 0., 0., 0.],\n",
              "        [0., 0., 0., 0., 0., 0., 0., 0., 0., 0., 0., 0., 1., 0., 0., 0.,\n",
              "         0., 0., 0., 0.],\n",
              "        [0., 0., 0., 0., 0., 0., 0., 0., 0., 0., 0., 0., 1., 0., 0., 0.,\n",
              "         0., 0., 0., 0.]], dtype=float32)>)"
            ]
          },
          "metadata": {},
          "execution_count": 81
        }
      ]
    },
    {
      "cell_type": "markdown",
      "source": [
        "## Building a tribrid embedding model\n"
      ],
      "metadata": {
        "id": "8yFQ7UIbKHCc"
      }
    },
    {
      "cell_type": "code",
      "source": [
        "# Token inputs\n",
        "token_inputs = layers.Input(shape=[], dtype='string', name='token_inputs')\n",
        "token_embeddings = tf_hub_embedding_layer(token_inputs)\n",
        "token_outputs = layers.Dense(128, activation='relu')(token_embeddings)\n",
        "token_model = tf.keras.Model(token_inputs, token_embeddings)\n",
        "\n",
        "# 2. Char inputs\n",
        "char_inputs = layers.Input(shape=(1,), dtype='string', name='char_inputs')\n",
        "char_vectors = char_vectorizer(char_inputs)\n",
        "char_embeddings = char_embed(char_vectors)\n",
        "char_bi_lstm = layers.Bidirectional(layers.LSTM(32))(char_embeddings)\n",
        "char_model = tf.keras.Model(char_inputs, char_bi_lstm)\n",
        "\n",
        "# 3. Line number inputs\n",
        "line_number_inputs = layers.Input(shape=(15), dtype=tf.int32, name='line_number_inputs')\n",
        "x = layers.Dense(32, activation='relu')(line_number_inputs)\n",
        "line_number_model = tf.keras.Model(inputs=line_number_inputs, outputs=x)\n",
        "\n",
        "# 4. Total lines inputs\n",
        "total_lines_inputs = layers.Input(shape=(20,), dtype=tf.int32, name='total_lines_inputs')\n",
        "y = layers.Dense(32, activation = 'relu')(total_lines_inputs)\n",
        "total_line_model = tf.keras.Model(total_lines_inputs, y)\n",
        "\n",
        "# 5. Combine token and char embeddings into a hybrid embedding\n",
        "combined_embeddings = layers.Concatenate(name='token_char_hybrid')([\n",
        "    token_model.output,\n",
        "    char_model.output\n",
        "])\n",
        "\n",
        "z = layers.Dense(256, activation='relu')(combined_embeddings)\n",
        "z = layers.Dropout(0.5)(z)\n",
        "\n",
        "# 6. Combine positional embeddings with combined token and char models\n",
        "z = layers.Concatenate(name='token_char_positional_embedding')([\n",
        "    line_number_model.output,\n",
        "    total_line_model.output,\n",
        "    z\n",
        "])\n",
        "\n",
        "# 7. Create output layers\n",
        "output_layer = layers.Dense(5, activation='softmax', name='output_layer')(z)\n",
        "\n",
        "\n",
        "# 8. Put together model\n",
        "model_5 = tf.keras.Model(inputs=[line_number_model.input,\n",
        "                                 total_line_model.input,\n",
        "                                 token_model.input,\n",
        "                                 char_model.input],\n",
        "                         outputs=output_layer)\n"
      ],
      "metadata": {
        "id": "ShYS2fCg9yhr"
      },
      "execution_count": 87,
      "outputs": []
    },
    {
      "cell_type": "code",
      "source": [
        "model_5.summary()\n"
      ],
      "metadata": {
        "colab": {
          "base_uri": "https://localhost:8080/"
        },
        "id": "boQV9JcEKggy",
        "outputId": "ced7b133-f5a1-43a2-b433-a70747a58737"
      },
      "execution_count": 88,
      "outputs": [
        {
          "output_type": "stream",
          "name": "stdout",
          "text": [
            "Model: \"model_27\"\n",
            "__________________________________________________________________________________________________\n",
            " Layer (type)                Output Shape                 Param #   Connected to                  \n",
            "==================================================================================================\n",
            " char_inputs (InputLayer)    [(None, 1)]                  0         []                            \n",
            "                                                                                                  \n",
            " char_vectorizer (TextVecto  (None, 290)                  0         ['char_inputs[0][0]']         \n",
            " rization)                                                                                        \n",
            "                                                                                                  \n",
            " token_inputs (InputLayer)   [(None,)]                    0         []                            \n",
            "                                                                                                  \n",
            " char_embed (Embedding)      (None, 290, 25)              1750      ['char_vectorizer[7][0]']     \n",
            "                                                                                                  \n",
            " universal_sentence_encoder  (None, 512)                  2567978   ['token_inputs[0][0]']        \n",
            "  (KerasLayer)                                            24                                      \n",
            "                                                                                                  \n",
            " bidirectional_6 (Bidirecti  (None, 64)                   14848     ['char_embed[7][0]']          \n",
            " onal)                                                                                            \n",
            "                                                                                                  \n",
            " token_char_hybrid (Concate  (None, 576)                  0         ['universal_sentence_encoder[7\n",
            " nate)                                                              ][0]',                        \n",
            "                                                                     'bidirectional_6[0][0]']     \n",
            "                                                                                                  \n",
            " line_number_inputs (InputL  [(None, 15)]                 0         []                            \n",
            " ayer)                                                                                            \n",
            "                                                                                                  \n",
            " total_lines_inputs (InputL  [(None, 20)]                 0         []                            \n",
            " ayer)                                                                                            \n",
            "                                                                                                  \n",
            " dense_25 (Dense)            (None, 256)                  147712    ['token_char_hybrid[0][0]']   \n",
            "                                                                                                  \n",
            " dense_23 (Dense)            (None, 32)                   512       ['line_number_inputs[0][0]']  \n",
            "                                                                                                  \n",
            " dense_24 (Dense)            (None, 32)                   672       ['total_lines_inputs[0][0]']  \n",
            "                                                                                                  \n",
            " dropout_4 (Dropout)         (None, 256)                  0         ['dense_25[0][0]']            \n",
            "                                                                                                  \n",
            " token_char_positional_embe  (None, 320)                  0         ['dense_23[0][0]',            \n",
            " dding (Concatenate)                                                 'dense_24[0][0]',            \n",
            "                                                                     'dropout_4[0][0]']           \n",
            "                                                                                                  \n",
            " output_layer (Dense)        (None, 5)                    1605      ['token_char_positional_embedd\n",
            "                                                                    ing[0][0]']                   \n",
            "                                                                                                  \n",
            "==================================================================================================\n",
            "Total params: 256964923 (980.24 MB)\n",
            "Trainable params: 167099 (652.73 KB)\n",
            "Non-trainable params: 256797824 (979.61 MB)\n",
            "__________________________________________________________________________________________________\n"
          ]
        }
      ]
    },
    {
      "cell_type": "code",
      "source": [
        "# Plot the token, char, positional embedding model\n",
        "from tensorflow.keras.utils import plot_model\n",
        "plot_model(model_5)"
      ],
      "metadata": {
        "colab": {
          "base_uri": "https://localhost:8080/",
          "height": 567
        },
        "id": "wVpeEjpVKge7",
        "outputId": "04a3c555-530c-45ad-cc70-500f967d8b24"
      },
      "execution_count": 89,
      "outputs": [
        {
          "output_type": "execute_result",
          "data": {
            "image/png": "[encoded data removed]",
            "text/plain": [
              "<IPython.core.display.Image object>"
            ]
          },
          "metadata": {},
          "execution_count": 89
        }
      ]
    },
    {
      "cell_type": "code",
      "source": [
        "# Compile token, char, positional embedding model\n",
        "model_5.compile(loss=tf.keras.losses.CategoricalCrossentropy(label_smoothing=0.2), # add label smoothing (examples which are really confident get smoothed a little)\n",
        "                optimizer=tf.keras.optimizers.Adam(),\n",
        "                metrics=[\"accuracy\"])"
      ],
      "metadata": {
        "id": "KfGahiyrKgbl"
      },
      "execution_count": 100,
      "outputs": []
    },
    {
      "cell_type": "code",
      "source": [
        "\n",
        "# Create training and validation datasets (all four kinds of inputs)\n",
        "train_pos_char_token_data = tf.data.Dataset.from_tensor_slices((train_line_numbers_one_hot, # line numbers\n",
        "                                                                train_total_lines_one_hot, # total lines\n",
        "                                                                train_sentences, # train tokens\n",
        "                                                                train_sentences_characters)) # train chars\n",
        "train_pos_char_token_labels = tf.data.Dataset.from_tensor_slices(train_labels_one_hot) # train labels\n",
        "train_pos_char_token_dataset = tf.data.Dataset.zip((train_pos_char_token_data, train_pos_char_token_labels)) # combine data and labels\n",
        "train_pos_char_token_dataset = train_pos_char_token_dataset.batch(32).prefetch(tf.data.AUTOTUNE) # turn into batches and prefetch appropriately\n",
        "\n",
        "# Validation dataset\n",
        "val_pos_char_token_data = tf.data.Dataset.from_tensor_slices((val_line_numbers_one_hot,\n",
        "                                                              val_total_lines_one_hot,\n",
        "                                                              val_sentences,\n",
        "                                                              val_sentences_characters))\n",
        "val_pos_char_token_labels = tf.data.Dataset.from_tensor_slices(val_labels_one_hot)\n",
        "val_pos_char_token_dataset = tf.data.Dataset.zip((val_pos_char_token_data, val_pos_char_token_labels))\n",
        "val_pos_char_token_dataset = val_pos_char_token_dataset.batch(32).prefetch(tf.data.AUTOTUNE) # turn into batches and prefetch appropriately\n",
        "\n",
        "# Check input shapes\n",
        "train_pos_char_token_dataset, val_pos_char_token_dataset"
      ],
      "metadata": {
        "colab": {
          "base_uri": "https://localhost:8080/"
        },
        "id": "67LLDOVTPWx6",
        "outputId": "ff24d402-a2c5-401e-b7be-a6d76cab95cf"
      },
      "execution_count": 99,
      "outputs": [
        {
          "output_type": "execute_result",
          "data": {
            "text/plain": [
              "(<_PrefetchDataset element_spec=((TensorSpec(shape=(None, 15), dtype=tf.float32, name=None), TensorSpec(shape=(None, 20), dtype=tf.float32, name=None), TensorSpec(shape=(None,), dtype=tf.string, name=None), TensorSpec(shape=(None,), dtype=tf.string, name=None)), TensorSpec(shape=(None, 5), dtype=tf.float64, name=None))>,\n",
              " <_PrefetchDataset element_spec=((TensorSpec(shape=(None, 15), dtype=tf.float32, name=None), TensorSpec(shape=(None, 20), dtype=tf.float32, name=None), TensorSpec(shape=(None,), dtype=tf.string, name=None), TensorSpec(shape=(None,), dtype=tf.string, name=None)), TensorSpec(shape=(None, 5), dtype=tf.float64, name=None))>)"
            ]
          },
          "metadata": {},
          "execution_count": 99
        }
      ]
    },
    {
      "cell_type": "code",
      "source": [
        "train_pos_char_token_dataset, val_pos_char_token_dataset"
      ],
      "metadata": {
        "colab": {
          "base_uri": "https://localhost:8080/"
        },
        "id": "M8cTm27JPWvu",
        "outputId": "1b5201f5-f1e6-4639-8228-6ab0b6267efb"
      },
      "execution_count": 101,
      "outputs": [
        {
          "output_type": "execute_result",
          "data": {
            "text/plain": [
              "(<_PrefetchDataset element_spec=((TensorSpec(shape=(None, 15), dtype=tf.float32, name=None), TensorSpec(shape=(None, 20), dtype=tf.float32, name=None), TensorSpec(shape=(None,), dtype=tf.string, name=None), TensorSpec(shape=(None,), dtype=tf.string, name=None)), TensorSpec(shape=(None, 5), dtype=tf.float64, name=None))>,\n",
              " <_PrefetchDataset element_spec=((TensorSpec(shape=(None, 15), dtype=tf.float32, name=None), TensorSpec(shape=(None, 20), dtype=tf.float32, name=None), TensorSpec(shape=(None,), dtype=tf.string, name=None), TensorSpec(shape=(None,), dtype=tf.string, name=None)), TensorSpec(shape=(None, 5), dtype=tf.float64, name=None))>)"
            ]
          },
          "metadata": {},
          "execution_count": 101
        }
      ]
    },
    {
      "cell_type": "code",
      "source": [
        "# Fit the token, char and positional embedding model\n",
        "history_model_5 = model_5.fit(train_pos_char_token_dataset,\n",
        "                              steps_per_epoch=int(0.1 * len(train_pos_char_token_dataset)),\n",
        "                              epochs=5,\n",
        "                              validation_data=val_pos_char_token_dataset,\n",
        "                              validation_steps=int(0.1 * len(val_pos_char_token_dataset)))\n",
        ""
      ],
      "metadata": {
        "colab": {
          "base_uri": "https://localhost:8080/"
        },
        "id": "fVfCyqbVPWtg",
        "outputId": "650bd079-4b9d-4ea0-b3e3-df897ca17534"
      },
      "execution_count": 103,
      "outputs": [
        {
          "output_type": "stream",
          "name": "stdout",
          "text": [
            "Epoch 1/5\n",
            "562/562 [==============================] - 30s 53ms/step - loss: 1.0091 - accuracy: 0.7917 - val_loss: 0.9734 - val_accuracy: 0.8122\n",
            "Epoch 2/5\n",
            "562/562 [==============================] - 29s 52ms/step - loss: 0.9673 - accuracy: 0.8164 - val_loss: 0.9501 - val_accuracy: 0.8285\n",
            "Epoch 3/5\n",
            "562/562 [==============================] - 24s 43ms/step - loss: 0.9543 - accuracy: 0.8227 - val_loss: 0.9440 - val_accuracy: 0.8351\n",
            "Epoch 4/5\n",
            "562/562 [==============================] - 28s 50ms/step - loss: 0.9466 - accuracy: 0.8329 - val_loss: 0.9376 - val_accuracy: 0.8281\n",
            "Epoch 5/5\n",
            "562/562 [==============================] - 26s 46ms/step - loss: 0.9438 - accuracy: 0.8330 - val_loss: 0.9317 - val_accuracy: 0.8398\n"
          ]
        }
      ]
    },
    {
      "cell_type": "code",
      "source": [
        "# prompt: evaluate and predict with model 5\n",
        "\n",
        "history_model_5.history\n",
        "# Evaluate the model on the test set\n",
        "model_5.evaluate(val_pos_char_token_dataset)\n",
        "\n"
      ],
      "metadata": {
        "colab": {
          "base_uri": "https://localhost:8080/"
        },
        "id": "36hBbBrZPWq4",
        "outputId": "72d21925-42e5-4d54-ba14-58057a6c3acf"
      },
      "execution_count": 106,
      "outputs": [
        {
          "output_type": "stream",
          "name": "stdout",
          "text": [
            "945/945 [==============================] - 20s 21ms/step - loss: 0.9289 - accuracy: 0.8397\n"
          ]
        },
        {
          "output_type": "execute_result",
          "data": {
            "text/plain": [
              "[0.9289374351501465, 0.8397325277328491]"
            ]
          },
          "metadata": {},
          "execution_count": 106
        }
      ]
    },
    {
      "cell_type": "code",
      "source": [
        "# Make predictions on the test set\n",
        "model_5_probs = model_5.predict(val_pos_char_token_dataset)\n",
        "\n"
      ],
      "metadata": {
        "colab": {
          "base_uri": "https://localhost:8080/",
          "height": 460
        },
        "id": "z9KlX5-WPWnQ",
        "outputId": "8b16fd6c-e01c-44a0-ce64-458c6cb46c9b"
      },
      "execution_count": 108,
      "outputs": [
        {
          "output_type": "stream",
          "name": "stdout",
          "text": [
            "945/945 [==============================] - 21s 23ms/step\n"
          ]
        },
        {
          "output_type": "error",
          "ename": "ValueError",
          "evalue": "Classification metrics can't handle a mix of multilabel-indicator and multiclass targets",
          "traceback": [
            "\u001b[0;31m---------------------------------------------------------------------------\u001b[0m",
            "\u001b[0;31mValueError\u001b[0m                                Traceback (most recent call last)",
            "\u001b[0;32m<ipython-input-108-2dbad7ef9917>\u001b[0m in \u001b[0;36m<cell line: 7>\u001b[0;34m()\u001b[0m\n\u001b[1;32m      5\u001b[0m \u001b[0mmodel_5_preds\u001b[0m\u001b[0;34m\u001b[0m\u001b[0;34m\u001b[0m\u001b[0m\n\u001b[1;32m      6\u001b[0m \u001b[0;34m\u001b[0m\u001b[0m\n\u001b[0;32m----> 7\u001b[0;31m model_5_results = calculate_results(\n\u001b[0m\u001b[1;32m      8\u001b[0m     \u001b[0mval_labels_one_hot\u001b[0m\u001b[0;34m,\u001b[0m\u001b[0;34m\u001b[0m\u001b[0;34m\u001b[0m\u001b[0m\n\u001b[1;32m      9\u001b[0m     \u001b[0mmodel_5_preds\u001b[0m\u001b[0;34m\u001b[0m\u001b[0;34m\u001b[0m\u001b[0m\n",
            "\u001b[0;32m/content/helper_functions.py\u001b[0m in \u001b[0;36mcalculate_results\u001b[0;34m(y_true, y_pred)\u001b[0m\n\u001b[1;32m    279\u001b[0m   \"\"\"\n\u001b[1;32m    280\u001b[0m   \u001b[0;31m# Calculate model accuracy\u001b[0m\u001b[0;34m\u001b[0m\u001b[0;34m\u001b[0m\u001b[0m\n\u001b[0;32m--> 281\u001b[0;31m   \u001b[0mmodel_accuracy\u001b[0m \u001b[0;34m=\u001b[0m \u001b[0maccuracy_score\u001b[0m\u001b[0;34m(\u001b[0m\u001b[0my_true\u001b[0m\u001b[0;34m,\u001b[0m \u001b[0my_pred\u001b[0m\u001b[0;34m)\u001b[0m \u001b[0;34m*\u001b[0m \u001b[0;36m100\u001b[0m\u001b[0;34m\u001b[0m\u001b[0;34m\u001b[0m\u001b[0m\n\u001b[0m\u001b[1;32m    282\u001b[0m   \u001b[0;31m# Calculate model precision, recall and f1 score using \"weighted average\u001b[0m\u001b[0;34m\u001b[0m\u001b[0;34m\u001b[0m\u001b[0m\n\u001b[1;32m    283\u001b[0m   \u001b[0mmodel_precision\u001b[0m\u001b[0;34m,\u001b[0m \u001b[0mmodel_recall\u001b[0m\u001b[0;34m,\u001b[0m \u001b[0mmodel_f1\u001b[0m\u001b[0;34m,\u001b[0m \u001b[0m_\u001b[0m \u001b[0;34m=\u001b[0m \u001b[0mprecision_recall_fscore_support\u001b[0m\u001b[0;34m(\u001b[0m\u001b[0my_true\u001b[0m\u001b[0;34m,\u001b[0m \u001b[0my_pred\u001b[0m\u001b[0;34m,\u001b[0m \u001b[0maverage\u001b[0m\u001b[0;34m=\u001b[0m\u001b[0;34m\"weighted\"\u001b[0m\u001b[0;34m)\u001b[0m\u001b[0;34m\u001b[0m\u001b[0;34m\u001b[0m\u001b[0m\n",
            "\u001b[0;32m/usr/local/lib/python3.10/dist-packages/sklearn/utils/_param_validation.py\u001b[0m in \u001b[0;36mwrapper\u001b[0;34m(*args, **kwargs)\u001b[0m\n\u001b[1;32m    190\u001b[0m \u001b[0;34m\u001b[0m\u001b[0m\n\u001b[1;32m    191\u001b[0m             \u001b[0;32mtry\u001b[0m\u001b[0;34m:\u001b[0m\u001b[0;34m\u001b[0m\u001b[0;34m\u001b[0m\u001b[0m\n\u001b[0;32m--> 192\u001b[0;31m                 \u001b[0;32mreturn\u001b[0m \u001b[0mfunc\u001b[0m\u001b[0;34m(\u001b[0m\u001b[0;34m*\u001b[0m\u001b[0margs\u001b[0m\u001b[0;34m,\u001b[0m \u001b[0;34m**\u001b[0m\u001b[0mkwargs\u001b[0m\u001b[0;34m)\u001b[0m\u001b[0;34m\u001b[0m\u001b[0;34m\u001b[0m\u001b[0m\n\u001b[0m\u001b[1;32m    193\u001b[0m             \u001b[0;32mexcept\u001b[0m \u001b[0mInvalidParameterError\u001b[0m \u001b[0;32mas\u001b[0m \u001b[0me\u001b[0m\u001b[0;34m:\u001b[0m\u001b[0;34m\u001b[0m\u001b[0;34m\u001b[0m\u001b[0m\n\u001b[1;32m    194\u001b[0m                 \u001b[0;31m# When the function is just a wrapper around an estimator, we allow\u001b[0m\u001b[0;34m\u001b[0m\u001b[0;34m\u001b[0m\u001b[0m\n",
            "\u001b[0;32m/usr/local/lib/python3.10/dist-packages/sklearn/metrics/_classification.py\u001b[0m in \u001b[0;36maccuracy_score\u001b[0;34m(y_true, y_pred, normalize, sample_weight)\u001b[0m\n\u001b[1;32m    219\u001b[0m \u001b[0;34m\u001b[0m\u001b[0m\n\u001b[1;32m    220\u001b[0m     \u001b[0;31m# Compute accuracy for each possible representation\u001b[0m\u001b[0;34m\u001b[0m\u001b[0;34m\u001b[0m\u001b[0m\n\u001b[0;32m--> 221\u001b[0;31m     \u001b[0my_type\u001b[0m\u001b[0;34m,\u001b[0m \u001b[0my_true\u001b[0m\u001b[0;34m,\u001b[0m \u001b[0my_pred\u001b[0m \u001b[0;34m=\u001b[0m \u001b[0m_check_targets\u001b[0m\u001b[0;34m(\u001b[0m\u001b[0my_true\u001b[0m\u001b[0;34m,\u001b[0m \u001b[0my_pred\u001b[0m\u001b[0;34m)\u001b[0m\u001b[0;34m\u001b[0m\u001b[0;34m\u001b[0m\u001b[0m\n\u001b[0m\u001b[1;32m    222\u001b[0m     \u001b[0mcheck_consistent_length\u001b[0m\u001b[0;34m(\u001b[0m\u001b[0my_true\u001b[0m\u001b[0;34m,\u001b[0m \u001b[0my_pred\u001b[0m\u001b[0;34m,\u001b[0m \u001b[0msample_weight\u001b[0m\u001b[0;34m)\u001b[0m\u001b[0;34m\u001b[0m\u001b[0;34m\u001b[0m\u001b[0m\n\u001b[1;32m    223\u001b[0m     \u001b[0;32mif\u001b[0m \u001b[0my_type\u001b[0m\u001b[0;34m.\u001b[0m\u001b[0mstartswith\u001b[0m\u001b[0;34m(\u001b[0m\u001b[0;34m\"multilabel\"\u001b[0m\u001b[0;34m)\u001b[0m\u001b[0;34m:\u001b[0m\u001b[0;34m\u001b[0m\u001b[0;34m\u001b[0m\u001b[0m\n",
            "\u001b[0;32m/usr/local/lib/python3.10/dist-packages/sklearn/metrics/_classification.py\u001b[0m in \u001b[0;36m_check_targets\u001b[0;34m(y_true, y_pred)\u001b[0m\n\u001b[1;32m     93\u001b[0m \u001b[0;34m\u001b[0m\u001b[0m\n\u001b[1;32m     94\u001b[0m     \u001b[0;32mif\u001b[0m \u001b[0mlen\u001b[0m\u001b[0;34m(\u001b[0m\u001b[0my_type\u001b[0m\u001b[0;34m)\u001b[0m \u001b[0;34m>\u001b[0m \u001b[0;36m1\u001b[0m\u001b[0;34m:\u001b[0m\u001b[0;34m\u001b[0m\u001b[0;34m\u001b[0m\u001b[0m\n\u001b[0;32m---> 95\u001b[0;31m         raise ValueError(\n\u001b[0m\u001b[1;32m     96\u001b[0m             \"Classification metrics can't handle a mix of {0} and {1} targets\".format(\n\u001b[1;32m     97\u001b[0m                 \u001b[0mtype_true\u001b[0m\u001b[0;34m,\u001b[0m \u001b[0mtype_pred\u001b[0m\u001b[0;34m\u001b[0m\u001b[0;34m\u001b[0m\u001b[0m\n",
            "\u001b[0;31mValueError\u001b[0m: Classification metrics can't handle a mix of multilabel-indicator and multiclass targets"
          ]
        }
      ]
    },
    {
      "cell_type": "code",
      "source": [
        "model_5_preds = tf.argmax(model_5_probs, axis=1)\n",
        "model_5_preds\n",
        "\n",
        "model_5_results = calculate_results(\n",
        "    val_labels_encoder,\n",
        "    model_5_preds\n",
        ")"
      ],
      "metadata": {
        "id": "djS5w8LPKgWz"
      },
      "execution_count": 109,
      "outputs": []
    },
    {
      "cell_type": "code",
      "source": [
        "model_5_results"
      ],
      "metadata": {
        "colab": {
          "base_uri": "https://localhost:8080/"
        },
        "id": "mU7z3jsjKgUz",
        "outputId": "6253bb74-30e0-4b7b-9cb0-e6d19e62d47a"
      },
      "execution_count": 110,
      "outputs": [
        {
          "output_type": "execute_result",
          "data": {
            "text/plain": [
              "{'accuracy': 83.97325566000265,\n",
              " 'precision': 0.8427231461245152,\n",
              " 'recall': 0.8397325566000264,\n",
              " 'f1': 0.8351055022620955}"
            ]
          },
          "metadata": {},
          "execution_count": 110
        }
      ]
    },
    {
      "cell_type": "markdown",
      "source": [
        "## Compare model results"
      ],
      "metadata": {
        "id": "YmMdrrJjV13N"
      }
    },
    {
      "cell_type": "code",
      "source": [
        "# prompt: # Combine model resuls from variable calculate_results for each model into a dataframe\n",
        "\n",
        "models = ['baseline_model',\"Model 1\", \"Model 2\", \"Model 3\", \"Model 4\", \"Model 5\"]\n",
        "results = [baseline_results,model_1_results, model_2_results, model_3_results, model_4_results, model_5_results]\n",
        "all_model_results = pd.DataFrame(results, index=models)\n",
        "all_model_results.index.name = \"Model\"\n",
        "all_model_results.columns = [\"Accuracy\", \"F1 Score\", \"Precision\", \"Recall\"]\n",
        "all_model_results['Accuracy'] = all_model_results['Accuracy'] / 100\n",
        "all_model_results"
      ],
      "metadata": {
        "colab": {
          "base_uri": "https://localhost:8080/",
          "height": 269
        },
        "id": "lqsDjjS0V4wv",
        "outputId": "3e55fc29-fb2c-4f2c-c00c-2355cfeb2b3e"
      },
      "execution_count": 115,
      "outputs": [
        {
          "output_type": "execute_result",
          "data": {
            "text/plain": [
              "                Accuracy  F1 Score  Precision    Recall\n",
              "Model                                                  \n",
              "baseline_model  0.765126  0.765076   0.765126  0.764950\n",
              "Model 1         0.798160  0.793725   0.798160  0.793894\n",
              "Model 2         0.725308  0.723704   0.725308  0.721652\n",
              "Model 3         0.677678  0.672543   0.677678  0.670903\n",
              "Model 4         0.751291  0.747489   0.751291  0.747038\n",
              "Model 5         0.839733  0.842723   0.839733  0.835106"
            ],
            "text/html": [
              "\n",
              "  <div id=\"df-49625769-8c3e-418f-ab73-63a35d5d87c1\" class=\"colab-df-container\">\n",
              "    <div>\n",
              "<style scoped>\n",
              "    .dataframe tbody tr th:only-of-type {\n",
              "        vertical-align: middle;\n",
              "    }\n",
              "\n",
              "    .dataframe tbody tr th {\n",
              "        vertical-align: top;\n",
              "    }\n",
              "\n",
              "    .dataframe thead th {\n",
              "        text-align: right;\n",
              "    }\n",
              "</style>\n",
              "<table border=\"1\" class=\"dataframe\">\n",
              "  <thead>\n",
              "    <tr style=\"text-align: right;\">\n",
              "      <th></th>\n",
              "      <th>Accuracy</th>\n",
              "      <th>F1 Score</th>\n",
              "      <th>Precision</th>\n",
              "      <th>Recall</th>\n",
              "    </tr>\n",
              "    <tr>\n",
              "      <th>Model</th>\n",
              "      <th></th>\n",
              "      <th></th>\n",
              "      <th></th>\n",
              "      <th></th>\n",
              "    </tr>\n",
              "  </thead>\n",
              "  <tbody>\n",
              "    <tr>\n",
              "      <th>baseline_model</th>\n",
              "      <td>0.765126</td>\n",
              "      <td>0.765076</td>\n",
              "      <td>0.765126</td>\n",
              "      <td>0.764950</td>\n",
              "    </tr>\n",
              "    <tr>\n",
              "      <th>Model 1</th>\n",
              "      <td>0.798160</td>\n",
              "      <td>0.793725</td>\n",
              "      <td>0.798160</td>\n",
              "      <td>0.793894</td>\n",
              "    </tr>\n",
              "    <tr>\n",
              "      <th>Model 2</th>\n",
              "      <td>0.725308</td>\n",
              "      <td>0.723704</td>\n",
              "      <td>0.725308</td>\n",
              "      <td>0.721652</td>\n",
              "    </tr>\n",
              "    <tr>\n",
              "      <th>Model 3</th>\n",
              "      <td>0.677678</td>\n",
              "      <td>0.672543</td>\n",
              "      <td>0.677678</td>\n",
              "      <td>0.670903</td>\n",
              "    </tr>\n",
              "    <tr>\n",
              "      <th>Model 4</th>\n",
              "      <td>0.751291</td>\n",
              "      <td>0.747489</td>\n",
              "      <td>0.751291</td>\n",
              "      <td>0.747038</td>\n",
              "    </tr>\n",
              "    <tr>\n",
              "      <th>Model 5</th>\n",
              "      <td>0.839733</td>\n",
              "      <td>0.842723</td>\n",
              "      <td>0.839733</td>\n",
              "      <td>0.835106</td>\n",
              "    </tr>\n",
              "  </tbody>\n",
              "</table>\n",
              "</div>\n",
              "    <div class=\"colab-df-buttons\">\n",
              "\n",
              "  <div class=\"colab-df-container\">\n",
              "    <button class=\"colab-df-convert\" onclick=\"convertToInteractive('df-49625769-8c3e-418f-ab73-63a35d5d87c1')\"\n",
              "            title=\"Convert this dataframe to an interactive table.\"\n",
              "            style=\"display:none;\">\n",
              "\n",
              "  <svg xmlns=\"http://www.w3.org/2000/svg\" height=\"24px\" viewBox=\"0 -960 960 960\">\n",
              "    <path d=\"M120-120v-720h720v720H120Zm60-500h600v-160H180v160Zm220 220h160v-160H400v160Zm0 220h160v-160H400v160ZM180-400h160v-160H180v160Zm440 0h160v-160H620v160ZM180-180h160v-160H180v160Zm440 0h160v-160H620v160Z\"/>\n",
              "  </svg>\n",
              "    </button>\n",
              "\n",
              "  <style>\n",
              "    .colab-df-container {\n",
              "      display:flex;\n",
              "      gap: 12px;\n",
              "    }\n",
              "\n",
              "    .colab-df-convert {\n",
              "      background-color: #E8F0FE;\n",
              "      border: none;\n",
              "      border-radius: 50%;\n",
              "      cursor: pointer;\n",
              "      display: none;\n",
              "      fill: #1967D2;\n",
              "      height: 32px;\n",
              "      padding: 0 0 0 0;\n",
              "      width: 32px;\n",
              "    }\n",
              "\n",
              "    .colab-df-convert:hover {\n",
              "      background-color: #E2EBFA;\n",
              "      box-shadow: 0px 1px 2px rgba(60, 64, 67, 0.3), 0px 1px 3px 1px rgba(60, 64, 67, 0.15);\n",
              "      fill: #174EA6;\n",
              "    }\n",
              "\n",
              "    .colab-df-buttons div {\n",
              "      margin-bottom: 4px;\n",
              "    }\n",
              "\n",
              "    [theme=dark] .colab-df-convert {\n",
              "      background-color: #3B4455;\n",
              "      fill: #D2E3FC;\n",
              "    }\n",
              "\n",
              "    [theme=dark] .colab-df-convert:hover {\n",
              "      background-color: #434B5C;\n",
              "      box-shadow: 0px 1px 3px 1px rgba(0, 0, 0, 0.15);\n",
              "      filter: drop-shadow(0px 1px 2px rgba(0, 0, 0, 0.3));\n",
              "      fill: #FFFFFF;\n",
              "    }\n",
              "  </style>\n",
              "\n",
              "    <script>\n",
              "      const buttonEl =\n",
              "        document.querySelector('#df-49625769-8c3e-418f-ab73-63a35d5d87c1 button.colab-df-convert');\n",
              "      buttonEl.style.display =\n",
              "        google.colab.kernel.accessAllowed ? 'block' : 'none';\n",
              "\n",
              "      async function convertToInteractive(key) {\n",
              "        const element = document.querySelector('#df-49625769-8c3e-418f-ab73-63a35d5d87c1');\n",
              "        const dataTable =\n",
              "          await google.colab.kernel.invokeFunction('convertToInteractive',\n",
              "                                                    [key], {});\n",
              "        if (!dataTable) return;\n",
              "\n",
              "        const docLinkHtml = 'Like what you see? Visit the ' +\n",
              "          '<a target=\"_blank\" href=https://colab.research.google.com/notebooks/data_table.ipynb>data table notebook</a>'\n",
              "          + ' to learn more about interactive tables.';\n",
              "        element.innerHTML = '';\n",
              "        dataTable['output_type'] = 'display_data';\n",
              "        await google.colab.output.renderOutput(dataTable, element);\n",
              "        const docLink = document.createElement('div');\n",
              "        docLink.innerHTML = docLinkHtml;\n",
              "        element.appendChild(docLink);\n",
              "      }\n",
              "    </script>\n",
              "  </div>\n",
              "\n",
              "\n",
              "<div id=\"df-34654b10-f404-443d-b13c-6c387e2b7b76\">\n",
              "  <button class=\"colab-df-quickchart\" onclick=\"quickchart('df-34654b10-f404-443d-b13c-6c387e2b7b76')\"\n",
              "            title=\"Suggest charts\"\n",
              "            style=\"display:none;\">\n",
              "\n",
              "<svg xmlns=\"http://www.w3.org/2000/svg\" height=\"24px\"viewBox=\"0 0 24 24\"\n",
              "     width=\"24px\">\n",
              "    <g>\n",
              "        <path d=\"M19 3H5c-1.1 0-2 .9-2 2v14c0 1.1.9 2 2 2h14c1.1 0 2-.9 2-2V5c0-1.1-.9-2-2-2zM9 17H7v-7h2v7zm4 0h-2V7h2v10zm4 0h-2v-4h2v4z\"/>\n",
              "    </g>\n",
              "</svg>\n",
              "  </button>\n",
              "\n",
              "<style>\n",
              "  .colab-df-quickchart {\n",
              "      --bg-color: #E8F0FE;\n",
              "      --fill-color: #1967D2;\n",
              "      --hover-bg-color: #E2EBFA;\n",
              "      --hover-fill-color: #174EA6;\n",
              "      --disabled-fill-color: #AAA;\n",
              "      --disabled-bg-color: #DDD;\n",
              "  }\n",
              "\n",
              "  [theme=dark] .colab-df-quickchart {\n",
              "      --bg-color: #3B4455;\n",
              "      --fill-color: #D2E3FC;\n",
              "      --hover-bg-color: #434B5C;\n",
              "      --hover-fill-color: #FFFFFF;\n",
              "      --disabled-bg-color: #3B4455;\n",
              "      --disabled-fill-color: #666;\n",
              "  }\n",
              "\n",
              "  .colab-df-quickchart {\n",
              "    background-color: var(--bg-color);\n",
              "    border: none;\n",
              "    border-radius: 50%;\n",
              "    cursor: pointer;\n",
              "    display: none;\n",
              "    fill: var(--fill-color);\n",
              "    height: 32px;\n",
              "    padding: 0;\n",
              "    width: 32px;\n",
              "  }\n",
              "\n",
              "  .colab-df-quickchart:hover {\n",
              "    background-color: var(--hover-bg-color);\n",
              "    box-shadow: 0 1px 2px rgba(60, 64, 67, 0.3), 0 1px 3px 1px rgba(60, 64, 67, 0.15);\n",
              "    fill: var(--button-hover-fill-color);\n",
              "  }\n",
              "\n",
              "  .colab-df-quickchart-complete:disabled,\n",
              "  .colab-df-quickchart-complete:disabled:hover {\n",
              "    background-color: var(--disabled-bg-color);\n",
              "    fill: var(--disabled-fill-color);\n",
              "    box-shadow: none;\n",
              "  }\n",
              "\n",
              "  .colab-df-spinner {\n",
              "    border: 2px solid var(--fill-color);\n",
              "    border-color: transparent;\n",
              "    border-bottom-color: var(--fill-color);\n",
              "    animation:\n",
              "      spin 1s steps(1) infinite;\n",
              "  }\n",
              "\n",
              "  @keyframes spin {\n",
              "    0% {\n",
              "      border-color: transparent;\n",
              "      border-bottom-color: var(--fill-color);\n",
              "      border-left-color: var(--fill-color);\n",
              "    }\n",
              "    20% {\n",
              "      border-color: transparent;\n",
              "      border-left-color: var(--fill-color);\n",
              "      border-top-color: var(--fill-color);\n",
              "    }\n",
              "    30% {\n",
              "      border-color: transparent;\n",
              "      border-left-color: var(--fill-color);\n",
              "      border-top-color: var(--fill-color);\n",
              "      border-right-color: var(--fill-color);\n",
              "    }\n",
              "    40% {\n",
              "      border-color: transparent;\n",
              "      border-right-color: var(--fill-color);\n",
              "      border-top-color: var(--fill-color);\n",
              "    }\n",
              "    60% {\n",
              "      border-color: transparent;\n",
              "      border-right-color: var(--fill-color);\n",
              "    }\n",
              "    80% {\n",
              "      border-color: transparent;\n",
              "      border-right-color: var(--fill-color);\n",
              "      border-bottom-color: var(--fill-color);\n",
              "    }\n",
              "    90% {\n",
              "      border-color: transparent;\n",
              "      border-bottom-color: var(--fill-color);\n",
              "    }\n",
              "  }\n",
              "</style>\n",
              "\n",
              "  <script>\n",
              "    async function quickchart(key) {\n",
              "      const quickchartButtonEl =\n",
              "        document.querySelector('#' + key + ' button');\n",
              "      quickchartButtonEl.disabled = true;  // To prevent multiple clicks.\n",
              "      quickchartButtonEl.classList.add('colab-df-spinner');\n",
              "      try {\n",
              "        const charts = await google.colab.kernel.invokeFunction(\n",
              "            'suggestCharts', [key], {});\n",
              "      } catch (error) {\n",
              "        console.error('Error during call to suggestCharts:', error);\n",
              "      }\n",
              "      quickchartButtonEl.classList.remove('colab-df-spinner');\n",
              "      quickchartButtonEl.classList.add('colab-df-quickchart-complete');\n",
              "    }\n",
              "    (() => {\n",
              "      let quickchartButtonEl =\n",
              "        document.querySelector('#df-34654b10-f404-443d-b13c-6c387e2b7b76 button');\n",
              "      quickchartButtonEl.style.display =\n",
              "        google.colab.kernel.accessAllowed ? 'block' : 'none';\n",
              "    })();\n",
              "  </script>\n",
              "</div>\n",
              "\n",
              "  <div id=\"id_e36857b5-e9d2-4f32-a5a1-25008ac03810\">\n",
              "    <style>\n",
              "      .colab-df-generate {\n",
              "        background-color: #E8F0FE;\n",
              "        border: none;\n",
              "        border-radius: 50%;\n",
              "        cursor: pointer;\n",
              "        display: none;\n",
              "        fill: #1967D2;\n",
              "        height: 32px;\n",
              "        padding: 0 0 0 0;\n",
              "        width: 32px;\n",
              "      }\n",
              "\n",
              "      .colab-df-generate:hover {\n",
              "        background-color: #E2EBFA;\n",
              "        box-shadow: 0px 1px 2px rgba(60, 64, 67, 0.3), 0px 1px 3px 1px rgba(60, 64, 67, 0.15);\n",
              "        fill: #174EA6;\n",
              "      }\n",
              "\n",
              "      [theme=dark] .colab-df-generate {\n",
              "        background-color: #3B4455;\n",
              "        fill: #D2E3FC;\n",
              "      }\n",
              "\n",
              "      [theme=dark] .colab-df-generate:hover {\n",
              "        background-color: #434B5C;\n",
              "        box-shadow: 0px 1px 3px 1px rgba(0, 0, 0, 0.15);\n",
              "        filter: drop-shadow(0px 1px 2px rgba(0, 0, 0, 0.3));\n",
              "        fill: #FFFFFF;\n",
              "      }\n",
              "    </style>\n",
              "    <button class=\"colab-df-generate\" onclick=\"generateWithVariable('all_model_results')\"\n",
              "            title=\"Generate code using this dataframe.\"\n",
              "            style=\"display:none;\">\n",
              "\n",
              "  <svg xmlns=\"http://www.w3.org/2000/svg\" height=\"24px\"viewBox=\"0 0 24 24\"\n",
              "       width=\"24px\">\n",
              "    <path d=\"M7,19H8.4L18.45,9,17,7.55,7,17.6ZM5,21V16.75L18.45,3.32a2,2,0,0,1,2.83,0l1.4,1.43a1.91,1.91,0,0,1,.58,1.4,1.91,1.91,0,0,1-.58,1.4L9.25,21ZM18.45,9,17,7.55Zm-12,3A5.31,5.31,0,0,0,4.9,8.1,5.31,5.31,0,0,0,1,6.5,5.31,5.31,0,0,0,4.9,4.9,5.31,5.31,0,0,0,6.5,1,5.31,5.31,0,0,0,8.1,4.9,5.31,5.31,0,0,0,12,6.5,5.46,5.46,0,0,0,6.5,12Z\"/>\n",
              "  </svg>\n",
              "    </button>\n",
              "    <script>\n",
              "      (() => {\n",
              "      const buttonEl =\n",
              "        document.querySelector('#id_e36857b5-e9d2-4f32-a5a1-25008ac03810 button.colab-df-generate');\n",
              "      buttonEl.style.display =\n",
              "        google.colab.kernel.accessAllowed ? 'block' : 'none';\n",
              "\n",
              "      buttonEl.onclick = () => {\n",
              "        google.colab.notebook.generateWithVariable('all_model_results');\n",
              "      }\n",
              "      })();\n",
              "    </script>\n",
              "  </div>\n",
              "\n",
              "    </div>\n",
              "  </div>\n"
            ]
          },
          "metadata": {},
          "execution_count": 115
        }
      ]
    },
    {
      "cell_type": "code",
      "source": [
        "all_model_results.plot(kind=\"bar\", figsize=(10, 7)).legend(bbox_to_anchor=(1.0, 1.0));\n"
      ],
      "metadata": {
        "colab": {
          "base_uri": "https://localhost:8080/",
          "height": 514
        },
        "id": "81E7sxiwV5D3",
        "outputId": "b9a343ea-5859-4d5e-d6f1-690758f88780"
      },
      "execution_count": 116,
      "outputs": [
        {
          "output_type": "display_data",
          "data": {
            "text/plain": [
              "<Figure size 1000x700 with 1 Axes>"
            ],
            "image/png": "[encoded data removed]"
          },
          "metadata": {}
        }
      ]
    },
    {
      "cell_type": "code",
      "source": [
        "all_model_results.sort_values(\"F1 Score\", ascending=False)[\"F1 Score\"].plot(kind=\"bar\", figsize=(10, 7));\n"
      ],
      "metadata": {
        "colab": {
          "base_uri": "https://localhost:8080/",
          "height": 587
        },
        "id": "Hd7HN2ssV5Bv",
        "outputId": "f08d2ff1-4d8e-4069-c332-089346470a7e"
      },
      "execution_count": 118,
      "outputs": [
        {
          "output_type": "display_data",
          "data": {
            "text/plain": [
              "<Figure size 1000x700 with 1 Axes>"
            ],
            "image/png": "[encoded data removed]"
          },
          "metadata": {}
        }
      ]
    },
    {
      "cell_type": "markdown",
      "source": [
        "## Save and load best perfrmoing model"
      ],
      "metadata": {
        "id": "Z_1XUWwlalUr"
      }
    },
    {
      "cell_type": "code",
      "source": [
        "model_5.save('skimlit_tribrid_model')"
      ],
      "metadata": {
        "id": "_9TaZl8FV4_d"
      },
      "execution_count": 119,
      "outputs": []
    },
    {
      "cell_type": "markdown",
      "source": [
        "## Test model 5"
      ],
      "metadata": {
        "id": "ELDyuiUDbLgl"
      }
    },
    {
      "cell_type": "code",
      "source": [
        "# Create test dataset batch and prefetched\n",
        "test_pos_char_token_data = tf.data.Dataset.from_tensor_slices((test_line_numbers_one_hot,\n",
        "                                                               test_total_lines_one_hot,\n",
        "                                                               test_sentences,\n",
        "                                                               test_sentences_characters))\n",
        "test_pos_char_token_labels = tf.data.Dataset.from_tensor_slices(test_labels_one_hot)\n",
        "test_pos_char_token_dataset = tf.data.Dataset.zip((test_pos_char_token_data, test_pos_char_token_labels))\n",
        "test_pos_char_token_dataset = test_pos_char_token_dataset.batch(32).prefetch(tf.data.AUTOTUNE)\n",
        "\n",
        "# Check shapes\n",
        "test_pos_char_token_dataset"
      ],
      "metadata": {
        "colab": {
          "base_uri": "https://localhost:8080/"
        },
        "id": "NOaZrDjeV44e",
        "outputId": "8c08b0aa-04c1-4432-a453-b00db0f60c55"
      },
      "execution_count": 120,
      "outputs": [
        {
          "output_type": "execute_result",
          "data": {
            "text/plain": [
              "<_PrefetchDataset element_spec=((TensorSpec(shape=(None, 15), dtype=tf.float32, name=None), TensorSpec(shape=(None, 20), dtype=tf.float32, name=None), TensorSpec(shape=(None,), dtype=tf.string, name=None), TensorSpec(shape=(None,), dtype=tf.string, name=None)), TensorSpec(shape=(None, 5), dtype=tf.float64, name=None))>"
            ]
          },
          "metadata": {},
          "execution_count": 120
        }
      ]
    },
    {
      "cell_type": "code",
      "source": [
        "test_pred_probs = model_5.predict(test_pos_char_token_dataset,\n",
        "                                       verbose=1)\n",
        "test_preds = tf.argmax(test_pred_probs, axis=1)\n",
        "test_preds[:10]"
      ],
      "metadata": {
        "colab": {
          "base_uri": "https://localhost:8080/"
        },
        "id": "8XWFpi5eV42J",
        "outputId": "549fac80-76c1-4887-a22b-6ffc3b5773bf"
      },
      "execution_count": 122,
      "outputs": [
        {
          "output_type": "stream",
          "name": "stdout",
          "text": [
            "942/942 [==============================] - 21s 22ms/step\n"
          ]
        },
        {
          "output_type": "execute_result",
          "data": {
            "text/plain": [
              "<tf.Tensor: shape=(10,), dtype=int64, numpy=array([3, 2, 2, 2, 4, 4, 4, 1, 1, 0])>"
            ]
          },
          "metadata": {},
          "execution_count": 122
        }
      ]
    },
    {
      "cell_type": "code",
      "source": [],
      "metadata": {
        "id": "FLD5FikWV4zu"
      },
      "execution_count": null,
      "outputs": []
    },
    {
      "cell_type": "code",
      "source": [],
      "metadata": {
        "id": "BHURwiiJbX5a"
      },
      "execution_count": null,
      "outputs": []
    },
    {
      "cell_type": "code",
      "source": [],
      "metadata": {
        "id": "C908MxLubX2i"
      },
      "execution_count": null,
      "outputs": []
    },
    {
      "cell_type": "code",
      "source": [],
      "metadata": {
        "id": "nViVY26UbXzS"
      },
      "execution_count": null,
      "outputs": []
    }
  ]
}