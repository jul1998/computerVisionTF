{
  "nbformat": 4,
  "nbformat_minor": 0,
  "metadata": {
    "colab": {
      "provenance": [],
      "gpuType": "T4"
    },
    "kernelspec": {
      "name": "python3",
      "display_name": "Python 3"
    },
    "language_info": {
      "name": "python"
    },
    "accelerator": "GPU"
  },
  "cells": [
    {
      "cell_type": "code",
      "source": [
        "import pandas as pd\n",
        "import tensorflow as tf\n",
        "import matplotlib.pyplot as plt\n",
        "import os\n"
      ],
      "metadata": {
        "id": "aivUuJvY2xwv"
      },
      "execution_count": 1,
      "outputs": []
    },
    {
      "cell_type": "code",
      "source": [
        "!wget https://raw.githubusercontent.com/mrdbourke/tensorflow-deep-learning/main/extras/helper_functions.py\n"
      ],
      "metadata": {
        "colab": {
          "base_uri": "https://localhost:8080/"
        },
        "id": "VLiINODv_cmZ",
        "outputId": "b800be65-127e-4d9f-c591-d68554511ae8"
      },
      "execution_count": 2,
      "outputs": [
        {
          "output_type": "stream",
          "name": "stdout",
          "text": [
            "--2024-01-17 06:46:56--  https://raw.githubusercontent.com/mrdbourke/tensorflow-deep-learning/main/extras/helper_functions.py\n",
            "Resolving raw.githubusercontent.com (raw.githubusercontent.com)... 185.199.108.133, 185.199.109.133, 185.199.110.133, ...\n",
            "Connecting to raw.githubusercontent.com (raw.githubusercontent.com)|185.199.108.133|:443... connected.\n",
            "HTTP request sent, awaiting response... 200 OK\n",
            "Length: 10246 (10K) [text/plain]\n",
            "Saving to: ‘helper_functions.py’\n",
            "\n",
            "\rhelper_functions.py   0%[                    ]       0  --.-KB/s               \rhelper_functions.py 100%[===================>]  10.01K  --.-KB/s    in 0s      \n",
            "\n",
            "2024-01-17 06:46:56 (82.3 MB/s) - ‘helper_functions.py’ saved [10246/10246]\n",
            "\n"
          ]
        }
      ]
    },
    {
      "cell_type": "code",
      "execution_count": 3,
      "metadata": {
        "colab": {
          "base_uri": "https://localhost:8080/"
        },
        "id": "GLEDyzTudVlf",
        "outputId": "56f6d82e-5c78-4dd6-dd76-02ca5c6747ed"
      },
      "outputs": [
        {
          "output_type": "stream",
          "name": "stdout",
          "text": [
            "Cloning into 'pubmed-rct'...\n",
            "remote: Enumerating objects: 39, done.\u001b[K\n",
            "remote: Counting objects: 100% (14/14), done.\u001b[K\n",
            "remote: Compressing objects: 100% (9/9), done.\u001b[K\n",
            "remote: Total 39 (delta 8), reused 5 (delta 5), pack-reused 25\u001b[K\n",
            "Receiving objects: 100% (39/39), 177.08 MiB | 16.60 MiB/s, done.\n",
            "Resolving deltas: 100% (15/15), done.\n",
            "Updating files: 100% (13/13), done.\n",
            "PubMed_200k_RCT\t\t\t\t       PubMed_20k_RCT_numbers_replaced_with_at_sign\n",
            "PubMed_200k_RCT_numbers_replaced_with_at_sign  README.md\n",
            "PubMed_20k_RCT\n"
          ]
        }
      ],
      "source": [
        "!git clone https://github.com/Franck-Dernoncourt/pubmed-rct.git\n",
        "!ls pubmed-rct"
      ]
    },
    {
      "cell_type": "code",
      "source": [
        "# prompt: save 20k dataset path into a variable\n",
        "\n",
        "data_dir = '/content/pubmed-rct/PubMed_20k_RCT_numbers_replaced_with_at_sign'"
      ],
      "metadata": {
        "id": "sGkaJMk3dkF1"
      },
      "execution_count": 4,
      "outputs": []
    },
    {
      "cell_type": "code",
      "source": [
        "import os\n",
        "filenames = [data_dir + \"/\" + filename for filename in os.listdir(data_dir)]\n",
        "filenames"
      ],
      "metadata": {
        "colab": {
          "base_uri": "https://localhost:8080/"
        },
        "id": "wh2ZJe41dkDU",
        "outputId": "dab76561-478b-46fc-c628-ebfb29aff07a"
      },
      "execution_count": 5,
      "outputs": [
        {
          "output_type": "execute_result",
          "data": {
            "text/plain": [
              "['/content/pubmed-rct/PubMed_20k_RCT_numbers_replaced_with_at_sign/test.txt',\n",
              " '/content/pubmed-rct/PubMed_20k_RCT_numbers_replaced_with_at_sign/dev.txt',\n",
              " '/content/pubmed-rct/PubMed_20k_RCT_numbers_replaced_with_at_sign/train.txt']"
            ]
          },
          "metadata": {},
          "execution_count": 5
        }
      ]
    },
    {
      "cell_type": "code",
      "source": [
        "# prompt: create a function to read lines of a documnet\n",
        "\n",
        "def read_lines(filename):\n",
        "  with open(filename, \"r\") as f:\n",
        "    lines = f.readlines()\n",
        "  return lines\n",
        "\n",
        "train_lines = read_lines(data_dir + '/train.txt')\n",
        "train_lines[:20]"
      ],
      "metadata": {
        "colab": {
          "base_uri": "https://localhost:8080/"
        },
        "id": "xjrf_Z7Gdj-L",
        "outputId": "afd4da7d-b1d3-4d14-da95-c1a9d08b2c8f"
      },
      "execution_count": 6,
      "outputs": [
        {
          "output_type": "execute_result",
          "data": {
            "text/plain": [
              "['###24293578\\n',\n",
              " 'OBJECTIVE\\tTo investigate the efficacy of @ weeks of daily low-dose oral prednisolone in improving pain , mobility , and systemic low-grade inflammation in the short term and whether the effect would be sustained at @ weeks in older adults with moderate to severe knee osteoarthritis ( OA ) .\\n',\n",
              " 'METHODS\\tA total of @ patients with primary knee OA were randomized @:@ ; @ received @ mg/day of prednisolone and @ received placebo for @ weeks .\\n',\n",
              " 'METHODS\\tOutcome measures included pain reduction and improvement in function scores and systemic inflammation markers .\\n',\n",
              " 'METHODS\\tPain was assessed using the visual analog pain scale ( @-@ mm ) .\\n',\n",
              " 'METHODS\\tSecondary outcome measures included the Western Ontario and McMaster Universities Osteoarthritis Index scores , patient global assessment ( PGA ) of the severity of knee OA , and @-min walk distance ( @MWD ) .\\n',\n",
              " 'METHODS\\tSerum levels of interleukin @ ( IL-@ ) , IL-@ , tumor necrosis factor ( TNF ) - , and high-sensitivity C-reactive protein ( hsCRP ) were measured .\\n',\n",
              " 'RESULTS\\tThere was a clinically relevant reduction in the intervention group compared to the placebo group for knee pain , physical function , PGA , and @MWD at @ weeks .\\n',\n",
              " 'RESULTS\\tThe mean difference between treatment arms ( @ % CI ) was @ ( @-@ @ ) , p < @ ; @ ( @-@ @ ) , p < @ ; @ ( @-@ @ ) , p < @ ; and @ ( @-@ @ ) , p < @ , respectively .\\n',\n",
              " 'RESULTS\\tFurther , there was a clinically relevant reduction in the serum levels of IL-@ , IL-@ , TNF - , and hsCRP at @ weeks in the intervention group when compared to the placebo group .\\n',\n",
              " 'RESULTS\\tThese differences remained significant at @ weeks .\\n',\n",
              " 'RESULTS\\tThe Outcome Measures in Rheumatology Clinical Trials-Osteoarthritis Research Society International responder rate was @ % in the intervention group and @ % in the placebo group ( p < @ ) .\\n',\n",
              " 'CONCLUSIONS\\tLow-dose oral prednisolone had both a short-term and a longer sustained effect resulting in less knee pain , better physical function , and attenuation of systemic inflammation in older patients with knee OA ( ClinicalTrials.gov identifier NCT@ ) .\\n',\n",
              " '\\n',\n",
              " '###24854809\\n',\n",
              " 'BACKGROUND\\tEmotional eating is associated with overeating and the development of obesity .\\n',\n",
              " 'BACKGROUND\\tYet , empirical evidence for individual ( trait ) differences in emotional eating and cognitive mechanisms that contribute to eating during sad mood remain equivocal .\\n',\n",
              " 'OBJECTIVE\\tThe aim of this study was to test if attention bias for food moderates the effect of self-reported emotional eating during sad mood ( vs neutral mood ) on actual food intake .\\n',\n",
              " 'OBJECTIVE\\tIt was expected that emotional eating is predictive of elevated attention for food and higher food intake after an experimentally induced sad mood and that attentional maintenance on food predicts food intake during a sad versus a neutral mood .\\n',\n",
              " 'METHODS\\tParticipants ( N = @ ) were randomly assigned to one of the two experimental mood induction conditions ( sad/neutral ) .\\n']"
            ]
          },
          "metadata": {},
          "execution_count": 6
        }
      ]
    },
    {
      "cell_type": "markdown",
      "source": [
        "## Preprocess Data"
      ],
      "metadata": {
        "id": "pvdzRaeD2o4A"
      }
    },
    {
      "cell_type": "code",
      "source": [
        "def preprocess_abstracts(target_file):\n",
        "    with open(target_file, 'r') as file:\n",
        "        lines = file.readlines()\n",
        "\n",
        "    abstracts = []\n",
        "    current_abstract = {'sentences': []}\n",
        "    total_lines = 0\n",
        "    current_line_number = 0\n",
        "\n",
        "    for line in lines:\n",
        "        line = line.strip()\n",
        "\n",
        "        if line.startswith('###'):\n",
        "            # New abstract\n",
        "            if current_abstract['sentences']:\n",
        "                current_abstract['total_lines'] = total_lines\n",
        "                abstracts.append(current_abstract)\n",
        "                current_abstract = {'sentences': []}\n",
        "                total_lines = 0\n",
        "                current_line_number = 0\n",
        "        elif line:\n",
        "            # Non-empty line\n",
        "            parts = line.split('\\t')\n",
        "            target = parts[0]\n",
        "            text = parts[1]\n",
        "\n",
        "            # Record the line information\n",
        "            current_line_number += 1\n",
        "            current_abstract['sentences'].append({\n",
        "                'line_number': current_line_number,\n",
        "                'target': target,\n",
        "                'text': text\n",
        "            })\n",
        "\n",
        "            total_lines += 1\n",
        "\n",
        "    # Add the last abstract\n",
        "    if current_abstract['sentences']:\n",
        "        current_abstract['total_lines'] = total_lines\n",
        "        abstracts.append(current_abstract)\n",
        "\n",
        "    return abstracts\n",
        "\n",
        "# Example usage\n",
        "target_file = data_dir + '/train.txt'\n",
        "preprocessed_data = preprocess_abstracts(target_file)\n",
        "\n",
        "# Print the preprocessed data\n",
        "for abstract in preprocessed_data[:20]:\n",
        "    for sentence in abstract['sentences']:\n",
        "        print(f\"Line {sentence['line_number']}: Target - {sentence['target']}, Text - {sentence['text']}\")\n",
        "    print(f\"Total Lines in Abstract: {abstract['total_lines']}\\n\")\n"
      ],
      "metadata": {
        "id": "d5Ru7PZ4dj7k",
        "colab": {
          "base_uri": "https://localhost:8080/"
        },
        "outputId": "53c0f84a-87af-46f3-87ee-4ee43bc6a963"
      },
      "execution_count": 7,
      "outputs": [
        {
          "output_type": "stream",
          "name": "stdout",
          "text": [
            "Line 1: Target - OBJECTIVE, Text - To investigate the efficacy of @ weeks of daily low-dose oral prednisolone in improving pain , mobility , and systemic low-grade inflammation in the short term and whether the effect would be sustained at @ weeks in older adults with moderate to severe knee osteoarthritis ( OA ) .\n",
            "Line 2: Target - METHODS, Text - A total of @ patients with primary knee OA were randomized @:@ ; @ received @ mg/day of prednisolone and @ received placebo for @ weeks .\n",
            "Line 3: Target - METHODS, Text - Outcome measures included pain reduction and improvement in function scores and systemic inflammation markers .\n",
            "Line 4: Target - METHODS, Text - Pain was assessed using the visual analog pain scale ( @-@ mm ) .\n",
            "Line 5: Target - METHODS, Text - Secondary outcome measures included the Western Ontario and McMaster Universities Osteoarthritis Index scores , patient global assessment ( PGA ) of the severity of knee OA , and @-min walk distance ( @MWD ) .\n",
            "Line 6: Target - METHODS, Text - Serum levels of interleukin @ ( IL-@ ) , IL-@ , tumor necrosis factor ( TNF ) - , and high-sensitivity C-reactive protein ( hsCRP ) were measured .\n",
            "Line 7: Target - RESULTS, Text - There was a clinically relevant reduction in the intervention group compared to the placebo group for knee pain , physical function , PGA , and @MWD at @ weeks .\n",
            "Line 8: Target - RESULTS, Text - The mean difference between treatment arms ( @ % CI ) was @ ( @-@ @ ) , p < @ ; @ ( @-@ @ ) , p < @ ; @ ( @-@ @ ) , p < @ ; and @ ( @-@ @ ) , p < @ , respectively .\n",
            "Line 9: Target - RESULTS, Text - Further , there was a clinically relevant reduction in the serum levels of IL-@ , IL-@ , TNF - , and hsCRP at @ weeks in the intervention group when compared to the placebo group .\n",
            "Line 10: Target - RESULTS, Text - These differences remained significant at @ weeks .\n",
            "Line 11: Target - RESULTS, Text - The Outcome Measures in Rheumatology Clinical Trials-Osteoarthritis Research Society International responder rate was @ % in the intervention group and @ % in the placebo group ( p < @ ) .\n",
            "Line 12: Target - CONCLUSIONS, Text - Low-dose oral prednisolone had both a short-term and a longer sustained effect resulting in less knee pain , better physical function , and attenuation of systemic inflammation in older patients with knee OA ( ClinicalTrials.gov identifier NCT@ ) .\n",
            "Total Lines in Abstract: 12\n",
            "\n",
            "Line 1: Target - BACKGROUND, Text - Emotional eating is associated with overeating and the development of obesity .\n",
            "Line 2: Target - BACKGROUND, Text - Yet , empirical evidence for individual ( trait ) differences in emotional eating and cognitive mechanisms that contribute to eating during sad mood remain equivocal .\n",
            "Line 3: Target - OBJECTIVE, Text - The aim of this study was to test if attention bias for food moderates the effect of self-reported emotional eating during sad mood ( vs neutral mood ) on actual food intake .\n",
            "Line 4: Target - OBJECTIVE, Text - It was expected that emotional eating is predictive of elevated attention for food and higher food intake after an experimentally induced sad mood and that attentional maintenance on food predicts food intake during a sad versus a neutral mood .\n",
            "Line 5: Target - METHODS, Text - Participants ( N = @ ) were randomly assigned to one of the two experimental mood induction conditions ( sad/neutral ) .\n",
            "Line 6: Target - METHODS, Text - Attentional biases for high caloric foods were measured by eye tracking during a visual probe task with pictorial food and neutral stimuli .\n",
            "Line 7: Target - METHODS, Text - Self-reported emotional eating was assessed with the Dutch Eating Behavior Questionnaire ( DEBQ ) and ad libitum food intake was tested by a disguised food offer .\n",
            "Line 8: Target - RESULTS, Text - Hierarchical multivariate regression modeling showed that self-reported emotional eating did not account for changes in attention allocation for food or food intake in either condition .\n",
            "Line 9: Target - RESULTS, Text - Yet , attention maintenance on food cues was significantly related to increased intake specifically in the neutral condition , but not in the sad mood condition .\n",
            "Line 10: Target - CONCLUSIONS, Text - The current findings show that self-reported emotional eating ( based on the DEBQ ) might not validly predict who overeats when sad , at least not in a laboratory setting with healthy women .\n",
            "Line 11: Target - CONCLUSIONS, Text - Results further suggest that attention maintenance on food relates to eating motivation when in a neutral affective state , and might therefore be a cognitive mechanism contributing to increased food intake in general , but maybe not during sad mood .\n",
            "Total Lines in Abstract: 11\n",
            "\n",
            "Line 1: Target - BACKGROUND, Text - Although working smoke alarms halve deaths in residential fires , many households do not keep alarms operational .\n",
            "Line 2: Target - BACKGROUND, Text - We tested whether theory-based education increases alarm operability .\n",
            "Line 3: Target - METHODS, Text - Randomised multiarm trial , with a single arm randomly selected for use each day , in low-income neighbourhoods in Maryland , USA .\n",
            "Line 4: Target - METHODS, Text - Intervention arms : ( @ ) Full Education combining a health belief module with a social-cognitive theory module that provided hands-on practice installing alarm batteries and using the alarm 's hush button ; ( @ ) Hands-on Practice social-cognitive module supplemented by typical fire department education ; ( @ ) Current Norm receiving typical fire department education only .\n",
            "Line 5: Target - METHODS, Text - Four hundred and thirty-six homes recruited through churches or by knocking on doors in @-@ .\n",
            "Line 6: Target - METHODS, Text - Follow-up visits checked alarm operability in @ homes ( @ % ) @-@ @ years after installation .\n",
            "Line 7: Target - METHODS, Text - number of homes with working alarms defined as alarms with working batteries or hard-wired and number of working alarms per home .\n",
            "Line 8: Target - METHODS, Text - Regressions controlled for alarm status preintervention ; demographics and beliefs about fire risks and alarm effectiveness .\n",
            "Line 9: Target - RESULTS, Text - Homes in the Full Education and Practice arms were more likely to have a functioning smoke alarm at follow-up ( OR = @ , @ % CI @ to @ ) and had an average of @ more working alarms per home ( @ % CI @ to @ ) .\n",
            "Line 10: Target - RESULTS, Text - Working alarms per home rose @ % .\n",
            "Line 11: Target - RESULTS, Text - Full Education and Practice had similar effectiveness ( p = @ on both outcome measures ) .\n",
            "Line 12: Target - CONCLUSIONS, Text - Without exceeding typical fire department installation time , installers can achieve greater smoke alarm operability .\n",
            "Line 13: Target - CONCLUSIONS, Text - Hands-on practice is key .\n",
            "Line 14: Target - CONCLUSIONS, Text - Two years after installation , for every three homes that received hands-on practice , one had an additional working alarm .\n",
            "Line 15: Target - BACKGROUND, Text - http://www.clinicaltrials.gov number NCT@ .\n",
            "Total Lines in Abstract: 15\n",
            "\n",
            "Line 1: Target - OBJECTIVE, Text - To evaluate the performance ( efficacy , safety and acceptability ) of a new micro-adherent absorbent dressing ( UrgoClean ) compared with a hydrofiber dressing ( Aquacel ) in the local management of venous leg ulcers , in the debridement stage .\n",
            "Line 2: Target - METHODS, Text - A non-inferiority European randomised controlled clinical trial ( RCT ) was conducted in @ centres , on patients presenting with venous or predominantly venous , mixed aetiology leg ulcers at their sloughy stage ( with more than @ % of the wound bed covered with slough at baseline ) .\n",
            "Line 3: Target - METHODS, Text - Patients were followed over a @-week period and assessed weekly .\n",
            "Line 4: Target - METHODS, Text - The primary judgement criteria was the relative regression of the wound surface area after the @-week treatment period .\n",
            "Line 5: Target - METHODS, Text - Secondary endpoints were the relative reduction of sloughy tissue and the percentage of patients presenting with a debrided wound .\n",
            "Line 6: Target - RESULTS, Text - Altogether , @ patients were randomised to either UrgoClean ( test group ; n = @ ) or Aquacel ( control group ; n = @ ) dressings .\n",
            "Line 7: Target - RESULTS, Text - Regarding the wound healing process predictive factors ( wound area , duration , ABPI value , recurrence ) , at baseline , the two groups were well balanced , for both wound and patient characteristics .\n",
            "Line 8: Target - RESULTS, Text - Compression therapy was administered to both groups and after a median @-day treatment period , the percentage of relative reduction of the wound surface area was very similar ( -@ % vs -@ % in the UrgoClean and control groups , respectively ) .\n",
            "Line 9: Target - RESULTS, Text - When considering the secondary criteria at week @ , the relative reduction of sloughy tissue was significantly higher in the UrgoClean group than in the control group ( -@ % vs -@,@ % ; p = @ ) .\n",
            "Line 10: Target - RESULTS, Text - The percentage of debrided wounds was also significantly higher in the test group ( @ % vs @ % ; p = @ ) .\n",
            "Line 11: Target - CONCLUSIONS, Text - This ` EARTH ' RCT confirmed that the UrgoClean dressing has similar efficacy and safety compared to Aquacel .\n",
            "Line 12: Target - CONCLUSIONS, Text - However , UrgoClean also showed better autolytic properties than the control group in the management of venous leg ulcers at the sloughy stage .\n",
            "Line 13: Target - CONCLUSIONS, Text - The new UrgoClean dressing therefore represents a promising therapeutic option within the current range of autolytic dressings available .\n",
            "Line 14: Target - BACKGROUND, Text - This study was sponsored by a grant from the pharmaceutical company Laboratoires Urgo .\n",
            "Line 15: Target - BACKGROUND, Text - S. Bohbot and O. Tacca are employees of Laboratoires Urgo .\n",
            "Line 16: Target - BACKGROUND, Text - S. Meaume , J. Dissemond and G. Perceau have received monetary compensation as presenters for Laboratoires Urgo .\n",
            "Line 17: Target - BACKGROUND, Text - Data management and statistical analyses were conducted independently by Vertical ( Paris , France ) .\n",
            "Total Lines in Abstract: 17\n",
            "\n",
            "Line 1: Target - OBJECTIVE, Text - Eye movements ( EM ) during recall of an aversive memory is a treatment element unique to Eye Movement Desensitization and Reprocessing ( EMDR ) .\n",
            "Line 2: Target - OBJECTIVE, Text - Experimental studies have shown that EM reduce memory vividness and/or emotionality shortly after the intervention .\n",
            "Line 3: Target - OBJECTIVE, Text - However , it is unclear whether the immediate effects of the intervention reflect actual changes in memory .\n",
            "Line 4: Target - OBJECTIVE, Text - The aim of this study was to test whether immediate reductions in memory vividness and emotionality persist at a @h follow up and whether the magnitude of these effects is related to the duration of the intervention .\n",
            "Line 5: Target - METHODS, Text - Seventy-three undergraduates recalled two negative autobiographical memories , one with EM ( `` recall with EM '' ) and one without ( `` recall only '' ) .\n",
            "Line 6: Target - METHODS, Text - Half of participants recalled each memory for four periods of @s , the other half for eight periods of @s .\n",
            "Line 7: Target - METHODS, Text - Memory vividness/emotionality were self-rated at a pre-test , an immediate post-test , and a @h follow-up test .\n",
            "Line 8: Target - RESULTS, Text - In both duration groups , recall with EM , but not recall only , caused an immediate decrease in memory vividness .\n",
            "Line 9: Target - RESULTS, Text - There were no immediate reductions in memory emotionality .\n",
            "Line 10: Target - RESULTS, Text - Furthermore , only the ` eight periods ' group showed that recall with EM , but not recall only , caused a decrease in both memory emotionality and memory vividness from the pre-test to the follow-up .\n",
            "Line 11: Target - CONCLUSIONS, Text - Only self-report measures were used .\n",
            "Line 12: Target - CONCLUSIONS, Text - The findings suggest that recall with EM causes @-hchanges in memory vividness/emotionality , which may explain part of the EMDR treatment effect , and these effects are related to intervention duration .\n",
            "Total Lines in Abstract: 12\n",
            "\n",
            "Line 1: Target - OBJECTIVE, Text - Few studies have tested the impact of motivational interviewing ( MI ) delivered by primary care providers on pediatric obesity .\n",
            "Line 2: Target - OBJECTIVE, Text - This study tested the efficacy of MI delivered by providers and registered dietitians ( RDs ) to parents of overweight children aged @ through @ .\n",
            "Line 3: Target - METHODS, Text - Forty-two practices from the Pediatric Research in Office Settings Network of the American Academy of Pediatrics were randomly assigned to @ of @ groups .\n",
            "Line 4: Target - METHODS, Text - Group @ ( usual care ) measured BMI percentile at baseline and @ - and @-year follow-up .\n",
            "Line 5: Target - METHODS, Text - Group @ ( provider only ) delivered @ MI counseling sessions to parents of the index child over @ years .\n",
            "Line 6: Target - METHODS, Text - Group @ ( provider + RD ) delivered @ provider MI sessions plus @ MI sessions from a RD. .\n",
            "Line 7: Target - METHODS, Text - The primary outcome was child BMI percentile at @-year follow up .\n",
            "Line 8: Target - RESULTS, Text - At @-year follow-up , the adjusted BMI percentile was @ , @ , and @ for groups @ , @ , and @ , respectively .\n",
            "Line 9: Target - RESULTS, Text - The group @ mean was significantly ( P = @ ) lower than group @ .\n",
            "Line 10: Target - RESULTS, Text - Mean changes from baseline in BMI percentile were @ , @ , and @ across groups @ , @ , and @ .\n",
            "Line 11: Target - CONCLUSIONS, Text - MI delivered by providers and RDs ( group @ ) resulted in statistically significant reductions in BMI percentile .\n",
            "Line 12: Target - CONCLUSIONS, Text - Research is needed to determine the clinical significance and persistence of the BMI effects observed .\n",
            "Line 13: Target - CONCLUSIONS, Text - How the intervention can be brought to scale ( in particular , how to train physicians to use MI effectively and how best to train RDs and integrate them into primary care settings ) also merits future research .\n",
            "Total Lines in Abstract: 13\n",
            "\n",
            "Line 1: Target - BACKGROUND, Text - Antithrombin ( AT ) concentrations are reduced after cardiac surgery with cardiopulmonary bypass compared with the preoperative levels .\n",
            "Line 2: Target - BACKGROUND, Text - Low postoperative AT is associated with worse short - and mid-term clinical outcomes .\n",
            "Line 3: Target - BACKGROUND, Text - The aim of the study is to evaluate the effects of AT administration on activation of the coagulation and fibrinolytic systems , platelet function , and the inflammatory response in patients with low postoperative AT levels .\n",
            "Line 4: Target - METHODS, Text - Sixty patients with postoperative AT levels of less than @ % were randomly assigned to receive purified AT ( @ IU in three administrations ) or placebo in the postoperative intensive care unit .\n",
            "Line 5: Target - METHODS, Text - Thirty patients with postoperative AT levels greater than @ % were observed as controls .\n",
            "Line 6: Target - METHODS, Text - Interleukin @ ( a marker of inflammation ) , prothrombin fragment @-@ ( a marker of thrombin generation ) , plasmin-antiplasmin complex ( a marker of fibrinolysis ) , and platelet factor @ ( a marker of platelet activation ) were measured at six different times .\n",
            "Line 7: Target - RESULTS, Text - Compared with the no AT group and control patients , patients receiving AT showed significantly higher AT values until @ hours after the last administration .\n",
            "Line 8: Target - RESULTS, Text - Analysis of variance for repeated measures showed a significant effect of study treatment in reducing prothrombin fragment @-@ ( p = @ ; interaction with time sample , p = @ ) and plasmin-antiplasmin complex ( p < @ ; interaction with time sample , p < @ ) values but not interleukin @ ( p = @ ; interaction with time sample , p = @ ) and platelet factor @ ( p = @ ; interaction with time sample , p = @ ) .\n",
            "Line 9: Target - RESULTS, Text - No difference in chest tube drainage , reopening for bleeding , and blood transfusion was observed .\n",
            "Line 10: Target - CONCLUSIONS, Text - Antithrombin administration in patients with low AT activity after surgery with cardiopulmonary bypass reduces postoperative thrombin generation and fibrinolysis with no effects on platelet activation and inflammatory response .\n",
            "Total Lines in Abstract: 10\n",
            "\n",
            "Line 1: Target - OBJECTIVE, Text - We evaluated patients at tertiary -LSB- both percutaneous coronary intervention ( PCI ) and coronary artery bypass grafting ( CABG ) capable -RSB- and primary hospitals in the EARLY-ACS trial .\n",
            "Line 2: Target - BACKGROUND, Text - Early invasive management is recommended for high-risk non-ST-segment elevation acute coronary syndromes .\n",
            "Line 3: Target - METHODS, Text - We evaluated outcomes in @,@ patients presenting to : tertiary sites , primary sites with transfer to tertiary sites ( `` transferred '' ) and those who remained at primary sites ( `` non-transfer '' ) .\n",
            "Line 4: Target - RESULTS, Text - There were @ tertiary ( n = @,@ patients ) and @ primary hospitals -LSB- n = @,@ patients ( @ transferred ; @,@ non-transfer ) -RSB- .\n",
            "Line 5: Target - RESULTS, Text - Significant delays occurred in time from symptom onset to angiography ( @ hr ) , PCI ( @h ) , and CABG ( @ hr ) for transferred patients ( P < @ ) .\n",
            "Line 6: Target - RESULTS, Text - Non-transfer patients had less @-day death/myocardial infarction -LSB- @ % vs. @ % ( tertiary ) ; adjusted odds ratio ( OR ) : @ ( @-@ @ ) , P = @ -RSB- ; transferred ( @ % ) and tertiary patients were similar -LSB- adjusted OR : @ ( @-@ @ ) , P = @ -RSB- .\n",
            "Line 7: Target - RESULTS, Text - Non-transfer patients had lower @-year mortality -LSB- @ % vs. @ % ( tertiary ) ; adjusted hazard ratio ( HR ) : @ ( @-@ @ ) , P = @ -RSB- : there was no difference between transferred and tertiary patients -LSB- @ % vs. @ % ; adjusted HR : @ ( @-@ @ ) , P = @ -RSB- .\n",
            "Line 8: Target - RESULTS, Text - Despite similar rates of catheterization , GUSTO severe/moderate bleeding within @ hr was less in non-transfer -LSB- @ % vs. @ % ( tertiary ) ; adjusted OR : @ ( @-@ @ ) , P < @ -RSB- , whereas transferred ( @ % ) and tertiary patients were similar -LSB- adjusted OR : @ ( @-@ @ ) , P = @ -RSB- .\n",
            "Line 9: Target - RESULTS, Text - There was no difference in non-CABG bleeding .\n",
            "Line 10: Target - CONCLUSIONS, Text - Timely angiography and revascularization were often not achieved in transferred patients .\n",
            "Line 11: Target - CONCLUSIONS, Text - Non-transferred patients presenting to primary sites had the lowest event rates and the best long-term survival .\n",
            "Total Lines in Abstract: 11\n",
            "\n",
            "Line 1: Target - OBJECTIVE, Text - We hypothesized that a targeted temperature of @ C as compared to that of @ C would increase survival and reduce the severity of circulatory shock in patients with shock on admission after out-of-hospital cardiac arrest ( OHCA ) .\n",
            "Line 2: Target - METHODS, Text - The recently published Target Temperature Management trial ( TTM-trial ) randomized @ OHCA patients with no difference in outcome between groups and no difference in mortality at the end of the trial in a predefined subgroup of patients with shock at admission .\n",
            "Line 3: Target - METHODS, Text - Shock was defined as a systolic blood pressure of < @ mm Hg for > @ min or the need of supportive measures to maintain a blood pressure @ mmHg and/or clinical signs of end-organ hypoperfusion .\n",
            "Line 4: Target - METHODS, Text - In this post hoc analysis reported here , we further analyzed the @ patients with shock at admission ; all had been randomized to receive intervention at @ C ( TTM@ ; n = @ ) or @ C ( TTM@ ; n = @ ) .\n",
            "Line 5: Target - METHODS, Text - Primary outcome was @-day mortality .\n",
            "Line 6: Target - METHODS, Text - Secondary outcomes were intensive care unit ( ICU ) and @-day mortality , severity of circulatory shock assessed by mean arterial pressure , serum lactate , fluid balance and the extended Sequential Organ Failure assessment ( SOFA ) score .\n",
            "Line 7: Target - RESULTS, Text - There was no significance difference between targeted temperature management at @ C or @ C on @-day mortality -LSB- log-rank test , p = @ , hazard ratio @ , @ % confidence interval ( CI ) @-@ @ -RSB- or ICU mortality ( @ vs. @ % , p = @ ; relative risk @ , @ % CI @-@ @ ) .\n",
            "Line 8: Target - RESULTS, Text - Serum lactate and the extended cardiovascular SOFA score were higher in the TTM@ group ( p < @ ) .\n",
            "Line 9: Target - CONCLUSIONS, Text - We found no benefit in survival or severity of circulatory shock with targeted temperature management at @ C as compared to @ C in patients with shock on admission after OHCA .\n",
            "Total Lines in Abstract: 9\n",
            "\n",
            "Line 1: Target - BACKGROUND, Text - Youths with a family history of alcohol and other drug use disorders ( FH + ) are at a greater risk of developing substance use disorders than their peers with no such family histories ( FH - ) , and this increased risk may be related to impaired maturation of forebrain circuitry .\n",
            "Line 2: Target - BACKGROUND, Text - FH + individuals have shown altered forebrain activity at rest and while performing cognitive tasks .\n",
            "Line 3: Target - BACKGROUND, Text - However , it is not fully understood how forebrain activity is altered in FH + individuals , and ultimately how these alterations may contribute to substance use disorder risk .\n",
            "Line 4: Target - METHODS, Text - In this study , we tested @ FH + and @ FH - youths performing a go/no-go task and examined activations in blocks with only go trials ( Go Only ) , blocks with @ % go and @ % no-go trials ( Go/NoGo ) , and a contrast of those @ blocks .\n",
            "Line 5: Target - RESULTS, Text - FH + youths had significantly greater cerebral activations in both the Go and Go/NoGo blocks than FH - youths in regions including the posterior cingulate/precuneus , bilateral middle/superior temporal gyrus , and medial superior frontal gyrus with no significant group differences in the subtraction between Go Only and Go/NoGo blocks .\n",
            "Line 6: Target - RESULTS, Text - Additionally , FH + youths had moderately slower reaction times on go trials in the Go Only blocks .\n",
            "Line 7: Target - CONCLUSIONS, Text - Our findings suggest that global activation increase in FH + youths are modulated by FH density and are not specific to the inhibitory components of the task .\n",
            "Line 8: Target - CONCLUSIONS, Text - This pattern of increased activations in FH + youths may be at least partially due to impaired forebrain white matter development leading to greater activations/less efficient neural communication during task performance .\n",
            "Total Lines in Abstract: 8\n",
            "\n",
            "Line 1: Target - BACKGROUND, Text - Risk factors have been proposed for running injuries including ( a ) reduced muscular strength , ( b ) excessive joint movements and ( c ) excessive joint moments in the frontal and transverse planes .\n",
            "Line 2: Target - BACKGROUND, Text - To date , many running injury prevention programs have focused on a `` top down '' approach to strengthen the hip musculature in the attempt to reduce movements and moments at the hip , knee , and/or ankle joints .\n",
            "Line 3: Target - BACKGROUND, Text - However , running mechanics did not change when hip muscle strength increased .\n",
            "Line 4: Target - BACKGROUND, Text - It could be speculated that emphasis should be placed on increasing the strength of the ankle joint for a `` ground up '' approach .\n",
            "Line 5: Target - BACKGROUND, Text - Strengthening of the large and small muscles crossing the ankle joint is assumed to change the force distribution for these muscles and to increase the use of smaller muscles .\n",
            "Line 6: Target - BACKGROUND, Text - This would be associated with a reduction of joint and insertion forces , which could have a beneficial effect on injury prevention .\n",
            "Line 7: Target - BACKGROUND, Text - However , training of the ankle joint as an injury prevention strategy has not been studied .\n",
            "Line 8: Target - BACKGROUND, Text - Ankle strengthening techniques include isolated strengthening or movement-related strengthening such as functional balance training .\n",
            "Line 9: Target - BACKGROUND, Text - There is little knowledge about the efficacy of such training programs on strength alteration , gait or injury reduction .\n",
            "Line 10: Target - METHODS, Text - Novice runners will be randomly assigned to one of three groups : an isolated ankle strengthening group ( strength , n = @ ) , a functional balance training group ( balance , n = @ ) or an activity-matched control group ( control , n = @ ) .\n",
            "Line 11: Target - METHODS, Text - Isokinetic strength will be measured using a Biodex System @ dynamometer .\n",
            "Line 12: Target - METHODS, Text - Running kinematics and kinetics will be assessed using @D motion analysis and a force platform .\n",
            "Line 13: Target - METHODS, Text - Postural control will be assessed by quantifying the magnitude and temporal structure of the center of pressure trace during single leg stance on a force platform .\n",
            "Line 14: Target - METHODS, Text - The change pre - and post-training in isokinetic strength , running mechanics , and postural control variables will be compared following the interventions .\n",
            "Line 15: Target - METHODS, Text - Injuries rates will be compared between groups over @months .\n",
            "Line 16: Target - CONCLUSIONS, Text - Avoiding injury will allow individuals to enjoy the benefits of participating in aerobic activities and reduce the healthcare costs associated with running injuries .\n",
            "Line 17: Target - BACKGROUND, Text - Current Controlled Trial NCT@ .\n",
            "Total Lines in Abstract: 17\n",
            "\n",
            "Line 1: Target - BACKGROUND, Text - Vitamin B@ deficiency causes neurologic and psychiatric disease , especially in older adults .\n",
            "Line 2: Target - BACKGROUND, Text - Subacute combined degeneration is characterized by damage to the posterior and lateral spinal cord affecting the corticospinal tract .\n",
            "Line 3: Target - OBJECTIVE, Text - To test corticospinal tract projections using motor evoked potentials ( MEPs ) by transcranial magnetic stimulation ( TMS ) in asymptomatic older adults with low vitamin B@ ( B@ ) levels .\n",
            "Line 4: Target - METHODS, Text - Cross-sectional study of @ healthy older adults ( > @ years ) .\n",
            "Line 5: Target - METHODS, Text - MEPs were recorded in the abductor pollicis brevis and tibialis anterior muscles , at rest and during slight tonic contraction .\n",
            "Line 6: Target - METHODS, Text - Central motor conduction time ( CMCT ) was derived from the latency of MEPs and peripheral motor conduction time ( PMCT ) .\n",
            "Line 7: Target - METHODS, Text - Neurophysiological variables were analyzed statistically according to B@ status .\n",
            "Line 8: Target - RESULTS, Text - Median age was @ years ( @ % women ) .\n",
            "Line 9: Target - RESULTS, Text - Twenty-six out of the @ subjects had low vitamin B@ levels ( B@ < @pmol/l ) .\n",
            "Line 10: Target - RESULTS, Text - MEPs were recorded for all subjects in upper and lower extremities .\n",
            "Line 11: Target - RESULTS, Text - There were no significant differences in either latency or amplitude of MEPs and CMCT between low and normal B@ groups .\n",
            "Line 12: Target - RESULTS, Text - There was a significant PMCT delay in the lower extremities in the low B@ group ( p = @ ) .\n",
            "Line 13: Target - CONCLUSIONS, Text - No subclinical abnormality of the corticospinal tract is detected in asymptomatic B@-deficient older adults .\n",
            "Line 14: Target - CONCLUSIONS, Text - The peripheral nervous system appears to be more vulnerable to damage attributable to this vitamin deficit .\n",
            "Line 15: Target - CONCLUSIONS, Text - The neurophysiological evaluation of asymptomatic older adults with lower B@ levels should be focused mainly in peripheral nervous system evaluation .\n",
            "Total Lines in Abstract: 15\n",
            "\n",
            "Line 1: Target - BACKGROUND, Text - Uncontrolled hypertension ( HTN ) is a significant public health problem among blacks in the United States .\n",
            "Line 2: Target - BACKGROUND, Text - Despite the proven efficacy of therapeutic lifestyle change ( TLC ) on blood pressure ( BP ) reduction in clinical trials , few studies have examined their effectiveness in church-based settings-an influential institution for health promotion in black communities .\n",
            "Line 3: Target - METHODS, Text - Using a cluster-randomized , @-arm trial design , this study evaluates the effectiveness of a faith-based TLC intervention vs health education ( HE ) control on BP reduction among hypertensive black adults .\n",
            "Line 4: Target - METHODS, Text - The intervention is delivered by trained lay health advisors through group TLC sessions plus motivational interviewing in @ black churches .\n",
            "Line 5: Target - METHODS, Text - Participants in the intervention group receive @ weekly TLC sessions targeting weight loss , increasing physical activity , fruit , vegetable and low-fat dairy intake , and decreasing fat and sodium intake , plus @ monthly individual motivational interviewing sessions .\n",
            "Line 6: Target - METHODS, Text - Participants in the control group attend @ weekly classes on HTN and other health topics delivered by health care experts .\n",
            "Line 7: Target - METHODS, Text - The primary outcome is change in BP from baseline to @ months .\n",
            "Line 8: Target - METHODS, Text - Secondary outcomes include level of physical activity , percent change in weight , and fruit and vegetable consumption at @ months , and BP control at @ months .\n",
            "Line 9: Target - CONCLUSIONS, Text - If successful , this trial will provide an alternative and culturally appropriate model for HTN control through evidence-based lifestyle modification delivered in churches by lay health advisors .\n",
            "Total Lines in Abstract: 9\n",
            "\n",
            "Line 1: Target - BACKGROUND, Text - The classification of clinical severity of Ebstein anomaly still remains a challenge .\n",
            "Line 2: Target - BACKGROUND, Text - The aim of this study was to focus on the interaction of the pathologically altered right heart with the anatomically-supposedly-normal left heart and to derive from cardiac magnetic resonance ( CMR ) a simple imaging measure for the clinical severity of Ebstein anomaly .\n",
            "Line 3: Target - RESULTS, Text - Twenty-five patients at a mean age of @ years with unrepaired Ebstein anomaly were examined in a prospective study .\n",
            "Line 4: Target - RESULTS, Text - Disease severity was classified using CMR volumes and functional measurements in comparison with heart failure markers from clinical data , ECG , laboratory and cardiopulmonary exercise testing , and echocardiography .\n",
            "Line 5: Target - RESULTS, Text - All examinations were completed within @ hours .\n",
            "Line 6: Target - RESULTS, Text - A total right/left-volume index was defined from end-diastolic volume measurements in CMR : total right/left-volume index = ( RA + aRV + fRV ) / ( LA+LV ) .\n",
            "Line 7: Target - RESULTS, Text - Mean total right/left-volume index was @ ( normal values : @ ) .\n",
            "Line 8: Target - RESULTS, Text - This new total right/left-volume index correlated with almost all clinically used biomarkers of heart failure : brain natriuretic peptide ( r = @ ; P = @ ) , QRS ( r = @ ; P = @ ) , peak oxygen consumption/kg ( r = -@ ; P = @ ) , ventilatory response to carbon dioxide production at anaerobic threshold ( r = @ ; P = @ ) , the severity of tricuspid regurgitation ( r = @ ; P = @ ) , tricuspid valve offset ( r = @ ; P = @ ) , and tricuspid annular plane systolic excursion ( r = @ ; P = @ ) .\n",
            "Line 9: Target - RESULTS, Text - Previously described severity indices ( -LSB- RA + aRV -RSB- / -LSB- fRV + LA+LV -RSB- ) and fRV/LV end-diastolic volume corresponded only to some parameters .\n",
            "Line 10: Target - CONCLUSIONS, Text - In patients with Ebstein anomaly , the easily acquired index of right-sided to left-sided heart volumes from CMR correlated well with established heart failure markers .\n",
            "Line 11: Target - CONCLUSIONS, Text - Our data suggest that the total right/left-volume index should be used as a new and simplified CMR measure , allowing more accurate assessment of disease severity than previously described scoring systems .\n",
            "Total Lines in Abstract: 11\n",
            "\n",
            "Line 1: Target - OBJECTIVE, Text - This study sought to investigate the association of beta-blocker therapy at discharge with clinical outcomes in patients with ST-segment elevation myocardial infarction ( STEMI ) after primary percutaneous coronary intervention ( PCI ) .\n",
            "Line 2: Target - BACKGROUND, Text - Limited data are available on the efficacy of beta-blocker therapy for secondary prevention in STEMI patients .\n",
            "Line 3: Target - METHODS, Text - Between November @ , @ and September @ , @ , @,@ patients were enrolled in nationwide , prospective , multicenter registries .\n",
            "Line 4: Target - METHODS, Text - Among these , we studied STEMI patients undergoing primary PCI who were discharged alive ( n = @,@ ) .\n",
            "Line 5: Target - METHODS, Text - We classified patients into the beta-blocker group ( n = @,@ ) and no-beta-blocker group ( n = @,@ ) according to the use of beta-blockers at discharge .\n",
            "Line 6: Target - METHODS, Text - Propensity-score matching analysis was also performed in @,@ patient triplets .\n",
            "Line 7: Target - METHODS, Text - The primary outcome was all-cause death .\n",
            "Line 8: Target - RESULTS, Text - The median follow-up duration was @ days ( interquartile range : @ to @ days ) .\n",
            "Line 9: Target - RESULTS, Text - All-cause death occurred in @ patients ( @ % ) of the beta-blocker group versus @ patients ( @ % ) of the no-beta-blocker group ( p < @ ) .\n",
            "Line 10: Target - RESULTS, Text - After @:@ propensity-score matching , beta-blocker therapy was associated with a lower incidence of all-cause death ( @ % vs. @ % , adjusted hazard ratio : @ , @ % confidence interval : @ to @ , p = @ ) .\n",
            "Line 11: Target - RESULTS, Text - The association with better outcome of beta-blocker therapy in terms of all-cause death was consistent across various subgroups , including patients with relatively low-risk profiles such as ejection fraction > @ % or single-vessel disease .\n",
            "Line 12: Target - CONCLUSIONS, Text - Beta-blocker therapy at discharge was associated with improved survival in STEMI patients treated with primary PCI .\n",
            "Line 13: Target - CONCLUSIONS, Text - Our results support the current American College of Cardiology/American Heart Association guidelines , which recommend long-term beta-blocker therapy in all patients with STEMI regardless of reperfusion therapy or risk profile .\n",
            "Total Lines in Abstract: 13\n",
            "\n",
            "Line 1: Target - OBJECTIVE, Text - Local anesthetic wound infiltration is widely used as an effective adjunct during multimodal postoperative pain management .\n",
            "Line 2: Target - OBJECTIVE, Text - The aim of this study was to evaluate the effectiveness of continuous wound infusion of ropivacaine in postoperative pain relief , opioid sparing , incidence of nausea and vomiting , and bowel and liver function improvement in patients undergoing open hepatectomy .\n",
            "Line 3: Target - METHODS, Text - Forty patients undergoing open hepatectomy were enrolled in this prospective , randomized , double-blinded , placebo-controlled trial .\n",
            "Line 4: Target - METHODS, Text - Patients were divided into @ groups : the @ % saline continuous infusion group ( the control group ; n = @ ) and the ropivacaine continuous infusion group ( the Ropi group ; n = @ ) .\n",
            "Line 5: Target - METHODS, Text - Outcomes measured postoperatively were pain score at rest and on movement , sufentanil consumption , incidence of nausea and vomiting , and sedation score across @ postoperative hours .\n",
            "Line 6: Target - METHODS, Text - Time to bowel recovery , liver function change , mean length of hospitalization , patient satisfaction , and other data after @ postoperative hours were collected until hospital discharge .\n",
            "Line 7: Target - RESULTS, Text - Pain scores at rest were lower for the ropivacaine group and reached significance after @ and @ hours ( P < @ ) .\n",
            "Line 8: Target - RESULTS, Text - Sufentanil consumption ( @ vs. @ g ; P < @ ) after @ hours , time to bowel recovery ( @ vs. @ d ; P < @ ) , incidence of nausea and vomiting ( @ vs. @ ; P < @ ) , and mean length of hospitalization ( @ vs. @ d ; P < @ ) were significantly reduced , and the sedation score and liver function change were also comparable between the @ groups .\n",
            "Line 9: Target - RESULTS, Text - There was no difference with respect to pain scores on movement , nor with respect to patient satisfaction .\n",
            "Line 10: Target - CONCLUSIONS, Text - Surgical wound infusion with ropivacaine after hepatectomy can improve pain relief at rest and accelerate recovery and discharge .\n",
            "Total Lines in Abstract: 10\n",
            "\n",
            "Line 1: Target - OBJECTIVE, Text - Tuberculosis ( TB ) is highly prevalent among HIV-infected people , including those receiving combination antiretroviral therapy ( cART ) , necessitating a well tolerated and efficacious TB vaccine for these populations .\n",
            "Line 2: Target - OBJECTIVE, Text - We evaluated the safety and immunogenicity of the candidate TB vaccine M@/AS@ in adults with well controlled HIV infection on cART .\n",
            "Line 3: Target - METHODS, Text - A randomized , observer-blind , controlled trial ( NCT@ ) .\n",
            "Line 4: Target - METHODS, Text - HIV-infected adults on cART in Switzerland were randomized @:@:@ to receive two doses , @ month apart , of M@/AS@ , AS@ or @ % physiological saline ( N = @ , N = @ and N = @ , respectively ) and were followed up to @ months postdose @ ( D@ ) .\n",
            "Line 5: Target - METHODS, Text - Individuals with CD@ cell counts below @ cells/l were excluded .\n",
            "Line 6: Target - METHODS, Text - Adverse events ( AEs ) including HIV-specific and laboratory safety parameters were recorded .\n",
            "Line 7: Target - METHODS, Text - Cell-mediated ( ICS ) and humoral ( ELISA ) responses were evaluated before vaccination , @ month after each dose ( D@ , D@ ) and D@ .\n",
            "Line 8: Target - RESULTS, Text - Thirty-seven individuals -LSB- interquartile range ( IQR ) CD@ cell counts at screening : @-@ cells/l ; undetectable HIV-@ viremia -RSB- were enrolled ; @ % of individuals reported previous BCG vaccination , @ % tested negative for the QuantiFERON-TB assay .\n",
            "Line 9: Target - RESULTS, Text - For M@/AS@ recipients , no vaccine-related serious AEs or cART-regimen adjustments were recorded , and there were no clinically relevant effects on laboratory safety parameters , HIV-@ viral loads or CD@ cell counts .\n",
            "Line 10: Target - RESULTS, Text - M@/AS@ was immunogenic , inducing persistent and polyfunctional M@-specific CD@ T-cell responses -LSB- medians @ % ( IQR @-@ @ ) at D@ -RSB- and @ % ( @-@ @ ) at D@ , predominantly CD@LIL-@TNF - , CD@LIL-@ and CD@LIL-@TNF-IFN - -RSB- .\n",
            "Line 11: Target - RESULTS, Text - All M@/AS@ vaccines were seropositive for anti-M@ IgG after second vaccination until study end .\n",
            "Line 12: Target - CONCLUSIONS, Text - M@/AS@ was clinically well tolerated and immunogenic in this population , supporting further clinical evaluation in HIV-infected individuals in TB-endemic settings .\n",
            "Total Lines in Abstract: 12\n",
            "\n",
            "Line 1: Target - OBJECTIVE, Text - The aim of this study was to investigate whether remedial hydration ( RH ) reduces the incidence of contrast-induced nephropathy ( CIN ) and short-term adverse events in ST-elevation myocardial infarction ( STEMI ) patients undergoing primary percutaneous coronary intervention ( PCI ) .\n",
            "Line 2: Target - METHODS, Text - A total of @ consecutive STEMI patients were prospectively and randomly assigned into two groups : @ patients in the RH group and @ patients in the no RH ( control ) group .\n",
            "Line 3: Target - METHODS, Text - The serum creatinine ( SCr ) and creatinine clearance ( CCr ) levels were measured on admission and at @ , @ and @ hours after primary PCI .\n",
            "Line 4: Target - METHODS, Text - The rates of CIN and short-term adverse events were analyzed for each group .\n",
            "Line 5: Target - METHODS, Text - After surgery , the patients were categorized into four groups according to the Mehran risk score : low ( @ , n = @ ) , moderate ( @-@ , n = @ ) , high ( @-@ , n = @ ) or very high ( @ , n = @ ) .\n",
            "Line 6: Target - RESULTS, Text - The incidence of CIN in the RH group was lower than that observed in the control group ( @/@ ; @ % vs. @/@ ; @ % , p < @ ) .\n",
            "Line 7: Target - RESULTS, Text - The subgroup analysis showed that the rate of CIN was lower in the moderate ( @/@ ; @ % vs. @/@ ; @ % , p < @ ) and significantly lower in both the high ( @/@ ; @ % vs. @/@ ; @ % , p < @ ) and very high score groups ( @/@ ; @ % vs. @/@ ; @ % , p < @ ) among the RH patients compared to the controls .\n",
            "Line 8: Target - RESULTS, Text - At @ , @ and @ hours after PCI , the patients in the RH group exhibited lower SCr levels and higher CCr levels than the patients in the control group ( both p < @ ) .\n",
            "Line 9: Target - RESULTS, Text - A lower incidence of in-hospital clinical events was also observed in the RH group .\n",
            "Line 10: Target - CONCLUSIONS, Text - Remedial hydration decreases the occurrence of CIN and improves the short-term prognosis of STEMI patients undergoing primary PCI .\n",
            "Total Lines in Abstract: 10\n",
            "\n",
            "Line 1: Target - BACKGROUND, Text - An increased production of oxidizing species related to reactive oral diseases , such as chronic apical periodontitis , could have systemic implications such as an increase in cardiovascular morbidity .\n",
            "Line 2: Target - BACKGROUND, Text - Based on this consideration , we conducted a prospective study to assess whether subjects affected by chronic periodontitis presented with higher values of oxidative stress than reference values before endodontic treatment , and whether endodontic treatment can reduce the oxidative imbalance and bring it back to normal in these subjects .\n",
            "Line 3: Target - METHODS, Text - The authors recruited @ groups of patients from private studies and dental clinics : these patients were recruited randomly .\n",
            "Line 4: Target - METHODS, Text - The oxidative balance in both patients with chronic apical periodontitis ( CAP ) and healthy control patients was determined by measuring the oxidant status , using an identification of the reactive oxygen metabolites ( d-ROMs ) test , while the antioxidant status in these patients was determined using a biological antioxidant potential ( BAP ) test .\n",
            "Line 5: Target - METHODS, Text - Both these tests were carried on plasma samples taken from enrolled patients .\n",
            "Line 6: Target - METHODS, Text - Values were measured both before the endodontic treatment of the patients with chronic apical periodontitis , and @ and @ days after treatment , and compared to those obtained from healthy control patients .\n",
            "Line 7: Target - RESULTS, Text - It was found that , on recruitment , the patients with chronic apical periodontitis exhibited significantly higher levels of oxidative stress than control patients , as determined by the d-ROMs and BAP tests .\n",
            "Line 8: Target - RESULTS, Text - Furthermore , the d-ROMs test values were shown to decrease and the BAP test values to increase over time in patients with chronic apical periodontitis following endodontic therapy .\n",
            "Line 9: Target - RESULTS, Text - As the levels of oxidative stress in these patients tended to reduce and return to normal by @ days following treatment .\n",
            "Line 10: Target - CONCLUSIONS, Text - This study has demonstrated a positive association between chronic apical periodontitis and oxidative stress .\n",
            "Line 11: Target - CONCLUSIONS, Text - Subjects affected by chronic apical periodontitis are exposed to a condition of oxidative stress , which is extremely dangerous to general health .\n",
            "Line 12: Target - CONCLUSIONS, Text - Moreover , one can infer from these findings that through proper endodontic therapy , a good oxidative balance can be restored , thereby avoiding the risk of contracting the abovementioned diseases .\n",
            "Total Lines in Abstract: 12\n",
            "\n",
            "Line 1: Target - BACKGROUND, Text - Placebo effect has been largely studied and debated in medicine .\n",
            "Line 2: Target - BACKGROUND, Text - Research focused mainly on children and adults but not on newborns .\n",
            "Line 3: Target - BACKGROUND, Text - In osteopathy , few studies documented this effect and no research has been conducted in newborns .\n",
            "Line 4: Target - OBJECTIVE, Text - To assess the presence of placebo effect in newborns using sham osteopathic manipulative treatment .\n",
            "Line 5: Target - METHODS, Text - Randomized control trial .\n",
            "Line 6: Target - METHODS, Text - Neonatal Intensive Care Unit in Italy .\n",
            "Line 7: Target - METHODS, Text - Two groups ( @ patients each ) of preterm infants aged @-@ weeks without medical complications received routine pediatric care and osteopathic sham therapy was administrated to the study group only for the entire period of hospitalization .\n",
            "Line 8: Target - METHODS, Text - Primary end point was the mean reduction of length of stay at discharge .\n",
            "Line 9: Target - METHODS, Text - Secondary objective was the change in daily weight gain .\n",
            "Line 10: Target - RESULTS, Text - @ newborns entered the study .\n",
            "Line 11: Target - RESULTS, Text - No difference between sham and control group was found for the primary outcome length of stay ( @ ; @ ; p = @ ) .\n",
            "Line 12: Target - RESULTS, Text - Multivariate analysis showed no difference between study and control group on length of stay .\n",
            "Line 13: Target - RESULTS, Text - A negative association was found for gestational age ( -@ ; @ % CI -@ to -@ ; p = @ ) , birth weight ( -@ ; @ % CI -@ to -@ ; p < @ ) and milk volume at study enrollment ( -@ ; @ % CI -@ to -@ ; p = @ ) .\n",
            "Line 14: Target - CONCLUSIONS, Text - To the best of our knowledge , this study is the first in the field showing no placebo effect on newborns .\n",
            "Line 15: Target - CONCLUSIONS, Text - Further discussions are opened concerning the age when placebo effect starts .\n",
            "Total Lines in Abstract: 15\n",
            "\n"
          ]
        }
      ]
    },
    {
      "cell_type": "markdown",
      "source": [],
      "metadata": {
        "id": "VQ5t58xPrCoN"
      }
    },
    {
      "cell_type": "code",
      "source": [
        "preprocessed_data[1]['total_lines']"
      ],
      "metadata": {
        "colab": {
          "base_uri": "https://localhost:8080/"
        },
        "id": "5tG15R9gdj2j",
        "outputId": "29d793d9-89fc-42a3-b190-c774372a4032"
      },
      "execution_count": 8,
      "outputs": [
        {
          "output_type": "execute_result",
          "data": {
            "text/plain": [
              "11"
            ]
          },
          "metadata": {},
          "execution_count": 8
        }
      ]
    },
    {
      "cell_type": "code",
      "source": [
        "%%time\n",
        "train_samples = preprocess_abstracts(data_dir + '/train.txt')\n",
        "val_samples = preprocess_abstracts(data_dir + '/dev.txt')\n",
        "test_samples = preprocess_abstracts(data_dir + '/test.txt')\n",
        "len(train_samples), len(val_samples), len(test_samples)"
      ],
      "metadata": {
        "colab": {
          "base_uri": "https://localhost:8080/"
        },
        "id": "Naq8PW04dj0N",
        "outputId": "f05c2d32-c7e4-4cc9-a491-cce266ca71eb"
      },
      "execution_count": 9,
      "outputs": [
        {
          "output_type": "stream",
          "name": "stdout",
          "text": [
            "CPU times: user 825 ms, sys: 119 ms, total: 944 ms\n",
            "Wall time: 2.69 s\n"
          ]
        },
        {
          "output_type": "execute_result",
          "data": {
            "text/plain": [
              "(15000, 2500, 2500)"
            ]
          },
          "metadata": {},
          "execution_count": 9
        }
      ]
    },
    {
      "cell_type": "markdown",
      "source": [
        "## Convert train, test, and val samples into dataframes"
      ],
      "metadata": {
        "id": "GgQGInx_2sTm"
      }
    },
    {
      "cell_type": "code",
      "source": [
        "# prompt: create a dataframe for each sample dataset above, include total_lines\n",
        "\n",
        "def create_dataframe(samples):\n",
        "    columns = ['line_number', 'target', 'text', 'total_lines']\n",
        "    data = []\n",
        "    for index,abstract in enumerate(samples):\n",
        "        for sentence in abstract['sentences']:\n",
        "            data.append([sentence['line_number'],sentence['target'], sentence['text'], abstract['total_lines']])\n",
        "    return pd.DataFrame(data, columns=columns)\n",
        "\n",
        "train_df = create_dataframe(train_samples)\n",
        "val_df = create_dataframe(val_samples)\n",
        "test_df = create_dataframe(test_samples)\n",
        "\n",
        "train_df.head(14)\n",
        "\n"
      ],
      "metadata": {
        "colab": {
          "base_uri": "https://localhost:8080/",
          "height": 731
        },
        "id": "jbbvkD7wdjtU",
        "outputId": "685ff7e2-cbb3-427f-8541-0df2dce4d02d"
      },
      "execution_count": 10,
      "outputs": [
        {
          "output_type": "execute_result",
          "data": {
            "text/plain": [
              "    line_number       target  \\\n",
              "0             1    OBJECTIVE   \n",
              "1             2      METHODS   \n",
              "2             3      METHODS   \n",
              "3             4      METHODS   \n",
              "4             5      METHODS   \n",
              "5             6      METHODS   \n",
              "6             7      RESULTS   \n",
              "7             8      RESULTS   \n",
              "8             9      RESULTS   \n",
              "9            10      RESULTS   \n",
              "10           11      RESULTS   \n",
              "11           12  CONCLUSIONS   \n",
              "12            1   BACKGROUND   \n",
              "13            2   BACKGROUND   \n",
              "\n",
              "                                                 text  total_lines  \n",
              "0   To investigate the efficacy of @ weeks of dail...           12  \n",
              "1   A total of @ patients with primary knee OA wer...           12  \n",
              "2   Outcome measures included pain reduction and i...           12  \n",
              "3   Pain was assessed using the visual analog pain...           12  \n",
              "4   Secondary outcome measures included the Wester...           12  \n",
              "5   Serum levels of interleukin @ ( IL-@ ) , IL-@ ...           12  \n",
              "6   There was a clinically relevant reduction in t...           12  \n",
              "7   The mean difference between treatment arms ( @...           12  \n",
              "8   Further , there was a clinically relevant redu...           12  \n",
              "9   These differences remained significant at @ we...           12  \n",
              "10  The Outcome Measures in Rheumatology Clinical ...           12  \n",
              "11  Low-dose oral prednisolone had both a short-te...           12  \n",
              "12  Emotional eating is associated with overeating...           11  \n",
              "13  Yet , empirical evidence for individual ( trai...           11  "
            ],
            "text/html": [
              "\n",
              "  <div id=\"df-300e58c8-4dea-4206-8759-b322695dd1ca\" class=\"colab-df-container\">\n",
              "    <div>\n",
              "<style scoped>\n",
              "    .dataframe tbody tr th:only-of-type {\n",
              "        vertical-align: middle;\n",
              "    }\n",
              "\n",
              "    .dataframe tbody tr th {\n",
              "        vertical-align: top;\n",
              "    }\n",
              "\n",
              "    .dataframe thead th {\n",
              "        text-align: right;\n",
              "    }\n",
              "</style>\n",
              "<table border=\"1\" class=\"dataframe\">\n",
              "  <thead>\n",
              "    <tr style=\"text-align: right;\">\n",
              "      <th></th>\n",
              "      <th>line_number</th>\n",
              "      <th>target</th>\n",
              "      <th>text</th>\n",
              "      <th>total_lines</th>\n",
              "    </tr>\n",
              "  </thead>\n",
              "  <tbody>\n",
              "    <tr>\n",
              "      <th>0</th>\n",
              "      <td>1</td>\n",
              "      <td>OBJECTIVE</td>\n",
              "      <td>To investigate the efficacy of @ weeks of dail...</td>\n",
              "      <td>12</td>\n",
              "    </tr>\n",
              "    <tr>\n",
              "      <th>1</th>\n",
              "      <td>2</td>\n",
              "      <td>METHODS</td>\n",
              "      <td>A total of @ patients with primary knee OA wer...</td>\n",
              "      <td>12</td>\n",
              "    </tr>\n",
              "    <tr>\n",
              "      <th>2</th>\n",
              "      <td>3</td>\n",
              "      <td>METHODS</td>\n",
              "      <td>Outcome measures included pain reduction and i...</td>\n",
              "      <td>12</td>\n",
              "    </tr>\n",
              "    <tr>\n",
              "      <th>3</th>\n",
              "      <td>4</td>\n",
              "      <td>METHODS</td>\n",
              "      <td>Pain was assessed using the visual analog pain...</td>\n",
              "      <td>12</td>\n",
              "    </tr>\n",
              "    <tr>\n",
              "      <th>4</th>\n",
              "      <td>5</td>\n",
              "      <td>METHODS</td>\n",
              "      <td>Secondary outcome measures included the Wester...</td>\n",
              "      <td>12</td>\n",
              "    </tr>\n",
              "    <tr>\n",
              "      <th>5</th>\n",
              "      <td>6</td>\n",
              "      <td>METHODS</td>\n",
              "      <td>Serum levels of interleukin @ ( IL-@ ) , IL-@ ...</td>\n",
              "      <td>12</td>\n",
              "    </tr>\n",
              "    <tr>\n",
              "      <th>6</th>\n",
              "      <td>7</td>\n",
              "      <td>RESULTS</td>\n",
              "      <td>There was a clinically relevant reduction in t...</td>\n",
              "      <td>12</td>\n",
              "    </tr>\n",
              "    <tr>\n",
              "      <th>7</th>\n",
              "      <td>8</td>\n",
              "      <td>RESULTS</td>\n",
              "      <td>The mean difference between treatment arms ( @...</td>\n",
              "      <td>12</td>\n",
              "    </tr>\n",
              "    <tr>\n",
              "      <th>8</th>\n",
              "      <td>9</td>\n",
              "      <td>RESULTS</td>\n",
              "      <td>Further , there was a clinically relevant redu...</td>\n",
              "      <td>12</td>\n",
              "    </tr>\n",
              "    <tr>\n",
              "      <th>9</th>\n",
              "      <td>10</td>\n",
              "      <td>RESULTS</td>\n",
              "      <td>These differences remained significant at @ we...</td>\n",
              "      <td>12</td>\n",
              "    </tr>\n",
              "    <tr>\n",
              "      <th>10</th>\n",
              "      <td>11</td>\n",
              "      <td>RESULTS</td>\n",
              "      <td>The Outcome Measures in Rheumatology Clinical ...</td>\n",
              "      <td>12</td>\n",
              "    </tr>\n",
              "    <tr>\n",
              "      <th>11</th>\n",
              "      <td>12</td>\n",
              "      <td>CONCLUSIONS</td>\n",
              "      <td>Low-dose oral prednisolone had both a short-te...</td>\n",
              "      <td>12</td>\n",
              "    </tr>\n",
              "    <tr>\n",
              "      <th>12</th>\n",
              "      <td>1</td>\n",
              "      <td>BACKGROUND</td>\n",
              "      <td>Emotional eating is associated with overeating...</td>\n",
              "      <td>11</td>\n",
              "    </tr>\n",
              "    <tr>\n",
              "      <th>13</th>\n",
              "      <td>2</td>\n",
              "      <td>BACKGROUND</td>\n",
              "      <td>Yet , empirical evidence for individual ( trai...</td>\n",
              "      <td>11</td>\n",
              "    </tr>\n",
              "  </tbody>\n",
              "</table>\n",
              "</div>\n",
              "    <div class=\"colab-df-buttons\">\n",
              "\n",
              "  <div class=\"colab-df-container\">\n",
              "    <button class=\"colab-df-convert\" onclick=\"convertToInteractive('df-300e58c8-4dea-4206-8759-b322695dd1ca')\"\n",
              "            title=\"Convert this dataframe to an interactive table.\"\n",
              "            style=\"display:none;\">\n",
              "\n",
              "  <svg xmlns=\"http://www.w3.org/2000/svg\" height=\"24px\" viewBox=\"0 -960 960 960\">\n",
              "    <path d=\"M120-120v-720h720v720H120Zm60-500h600v-160H180v160Zm220 220h160v-160H400v160Zm0 220h160v-160H400v160ZM180-400h160v-160H180v160Zm440 0h160v-160H620v160ZM180-180h160v-160H180v160Zm440 0h160v-160H620v160Z\"/>\n",
              "  </svg>\n",
              "    </button>\n",
              "\n",
              "  <style>\n",
              "    .colab-df-container {\n",
              "      display:flex;\n",
              "      gap: 12px;\n",
              "    }\n",
              "\n",
              "    .colab-df-convert {\n",
              "      background-color: #E8F0FE;\n",
              "      border: none;\n",
              "      border-radius: 50%;\n",
              "      cursor: pointer;\n",
              "      display: none;\n",
              "      fill: #1967D2;\n",
              "      height: 32px;\n",
              "      padding: 0 0 0 0;\n",
              "      width: 32px;\n",
              "    }\n",
              "\n",
              "    .colab-df-convert:hover {\n",
              "      background-color: #E2EBFA;\n",
              "      box-shadow: 0px 1px 2px rgba(60, 64, 67, 0.3), 0px 1px 3px 1px rgba(60, 64, 67, 0.15);\n",
              "      fill: #174EA6;\n",
              "    }\n",
              "\n",
              "    .colab-df-buttons div {\n",
              "      margin-bottom: 4px;\n",
              "    }\n",
              "\n",
              "    [theme=dark] .colab-df-convert {\n",
              "      background-color: #3B4455;\n",
              "      fill: #D2E3FC;\n",
              "    }\n",
              "\n",
              "    [theme=dark] .colab-df-convert:hover {\n",
              "      background-color: #434B5C;\n",
              "      box-shadow: 0px 1px 3px 1px rgba(0, 0, 0, 0.15);\n",
              "      filter: drop-shadow(0px 1px 2px rgba(0, 0, 0, 0.3));\n",
              "      fill: #FFFFFF;\n",
              "    }\n",
              "  </style>\n",
              "\n",
              "    <script>\n",
              "      const buttonEl =\n",
              "        document.querySelector('#df-300e58c8-4dea-4206-8759-b322695dd1ca button.colab-df-convert');\n",
              "      buttonEl.style.display =\n",
              "        google.colab.kernel.accessAllowed ? 'block' : 'none';\n",
              "\n",
              "      async function convertToInteractive(key) {\n",
              "        const element = document.querySelector('#df-300e58c8-4dea-4206-8759-b322695dd1ca');\n",
              "        const dataTable =\n",
              "          await google.colab.kernel.invokeFunction('convertToInteractive',\n",
              "                                                    [key], {});\n",
              "        if (!dataTable) return;\n",
              "\n",
              "        const docLinkHtml = 'Like what you see? Visit the ' +\n",
              "          '<a target=\"_blank\" href=https://colab.research.google.com/notebooks/data_table.ipynb>data table notebook</a>'\n",
              "          + ' to learn more about interactive tables.';\n",
              "        element.innerHTML = '';\n",
              "        dataTable['output_type'] = 'display_data';\n",
              "        await google.colab.output.renderOutput(dataTable, element);\n",
              "        const docLink = document.createElement('div');\n",
              "        docLink.innerHTML = docLinkHtml;\n",
              "        element.appendChild(docLink);\n",
              "      }\n",
              "    </script>\n",
              "  </div>\n",
              "\n",
              "\n",
              "<div id=\"df-66fac597-3547-4606-9941-a212f9ed5b5e\">\n",
              "  <button class=\"colab-df-quickchart\" onclick=\"quickchart('df-66fac597-3547-4606-9941-a212f9ed5b5e')\"\n",
              "            title=\"Suggest charts\"\n",
              "            style=\"display:none;\">\n",
              "\n",
              "<svg xmlns=\"http://www.w3.org/2000/svg\" height=\"24px\"viewBox=\"0 0 24 24\"\n",
              "     width=\"24px\">\n",
              "    <g>\n",
              "        <path d=\"M19 3H5c-1.1 0-2 .9-2 2v14c0 1.1.9 2 2 2h14c1.1 0 2-.9 2-2V5c0-1.1-.9-2-2-2zM9 17H7v-7h2v7zm4 0h-2V7h2v10zm4 0h-2v-4h2v4z\"/>\n",
              "    </g>\n",
              "</svg>\n",
              "  </button>\n",
              "\n",
              "<style>\n",
              "  .colab-df-quickchart {\n",
              "      --bg-color: #E8F0FE;\n",
              "      --fill-color: #1967D2;\n",
              "      --hover-bg-color: #E2EBFA;\n",
              "      --hover-fill-color: #174EA6;\n",
              "      --disabled-fill-color: #AAA;\n",
              "      --disabled-bg-color: #DDD;\n",
              "  }\n",
              "\n",
              "  [theme=dark] .colab-df-quickchart {\n",
              "      --bg-color: #3B4455;\n",
              "      --fill-color: #D2E3FC;\n",
              "      --hover-bg-color: #434B5C;\n",
              "      --hover-fill-color: #FFFFFF;\n",
              "      --disabled-bg-color: #3B4455;\n",
              "      --disabled-fill-color: #666;\n",
              "  }\n",
              "\n",
              "  .colab-df-quickchart {\n",
              "    background-color: var(--bg-color);\n",
              "    border: none;\n",
              "    border-radius: 50%;\n",
              "    cursor: pointer;\n",
              "    display: none;\n",
              "    fill: var(--fill-color);\n",
              "    height: 32px;\n",
              "    padding: 0;\n",
              "    width: 32px;\n",
              "  }\n",
              "\n",
              "  .colab-df-quickchart:hover {\n",
              "    background-color: var(--hover-bg-color);\n",
              "    box-shadow: 0 1px 2px rgba(60, 64, 67, 0.3), 0 1px 3px 1px rgba(60, 64, 67, 0.15);\n",
              "    fill: var(--button-hover-fill-color);\n",
              "  }\n",
              "\n",
              "  .colab-df-quickchart-complete:disabled,\n",
              "  .colab-df-quickchart-complete:disabled:hover {\n",
              "    background-color: var(--disabled-bg-color);\n",
              "    fill: var(--disabled-fill-color);\n",
              "    box-shadow: none;\n",
              "  }\n",
              "\n",
              "  .colab-df-spinner {\n",
              "    border: 2px solid var(--fill-color);\n",
              "    border-color: transparent;\n",
              "    border-bottom-color: var(--fill-color);\n",
              "    animation:\n",
              "      spin 1s steps(1) infinite;\n",
              "  }\n",
              "\n",
              "  @keyframes spin {\n",
              "    0% {\n",
              "      border-color: transparent;\n",
              "      border-bottom-color: var(--fill-color);\n",
              "      border-left-color: var(--fill-color);\n",
              "    }\n",
              "    20% {\n",
              "      border-color: transparent;\n",
              "      border-left-color: var(--fill-color);\n",
              "      border-top-color: var(--fill-color);\n",
              "    }\n",
              "    30% {\n",
              "      border-color: transparent;\n",
              "      border-left-color: var(--fill-color);\n",
              "      border-top-color: var(--fill-color);\n",
              "      border-right-color: var(--fill-color);\n",
              "    }\n",
              "    40% {\n",
              "      border-color: transparent;\n",
              "      border-right-color: var(--fill-color);\n",
              "      border-top-color: var(--fill-color);\n",
              "    }\n",
              "    60% {\n",
              "      border-color: transparent;\n",
              "      border-right-color: var(--fill-color);\n",
              "    }\n",
              "    80% {\n",
              "      border-color: transparent;\n",
              "      border-right-color: var(--fill-color);\n",
              "      border-bottom-color: var(--fill-color);\n",
              "    }\n",
              "    90% {\n",
              "      border-color: transparent;\n",
              "      border-bottom-color: var(--fill-color);\n",
              "    }\n",
              "  }\n",
              "</style>\n",
              "\n",
              "  <script>\n",
              "    async function quickchart(key) {\n",
              "      const quickchartButtonEl =\n",
              "        document.querySelector('#' + key + ' button');\n",
              "      quickchartButtonEl.disabled = true;  // To prevent multiple clicks.\n",
              "      quickchartButtonEl.classList.add('colab-df-spinner');\n",
              "      try {\n",
              "        const charts = await google.colab.kernel.invokeFunction(\n",
              "            'suggestCharts', [key], {});\n",
              "      } catch (error) {\n",
              "        console.error('Error during call to suggestCharts:', error);\n",
              "      }\n",
              "      quickchartButtonEl.classList.remove('colab-df-spinner');\n",
              "      quickchartButtonEl.classList.add('colab-df-quickchart-complete');\n",
              "    }\n",
              "    (() => {\n",
              "      let quickchartButtonEl =\n",
              "        document.querySelector('#df-66fac597-3547-4606-9941-a212f9ed5b5e button');\n",
              "      quickchartButtonEl.style.display =\n",
              "        google.colab.kernel.accessAllowed ? 'block' : 'none';\n",
              "    })();\n",
              "  </script>\n",
              "</div>\n",
              "\n",
              "    </div>\n",
              "  </div>\n"
            ]
          },
          "metadata": {},
          "execution_count": 10
        }
      ]
    },
    {
      "cell_type": "code",
      "source": [
        "train_df.target.value_counts()"
      ],
      "metadata": {
        "colab": {
          "base_uri": "https://localhost:8080/"
        },
        "id": "J8NYPahddjqs",
        "outputId": "3ff4d68b-76a2-4294-924c-2e616e2eb4f9"
      },
      "execution_count": 11,
      "outputs": [
        {
          "output_type": "execute_result",
          "data": {
            "text/plain": [
              "METHODS        59353\n",
              "RESULTS        57953\n",
              "CONCLUSIONS    27168\n",
              "BACKGROUND     21727\n",
              "OBJECTIVE      13839\n",
              "Name: target, dtype: int64"
            ]
          },
          "metadata": {},
          "execution_count": 11
        }
      ]
    },
    {
      "cell_type": "code",
      "source": [
        "train_df.total_lines.plot.hist()"
      ],
      "metadata": {
        "colab": {
          "base_uri": "https://localhost:8080/",
          "height": 448
        },
        "id": "LjUBGOOGdjob",
        "outputId": "11b614cf-3728-4e04-8e10-5c25fa7bb051"
      },
      "execution_count": 12,
      "outputs": [
        {
          "output_type": "execute_result",
          "data": {
            "text/plain": [
              "<Axes: ylabel='Frequency'>"
            ]
          },
          "metadata": {},
          "execution_count": 12
        },
        {
          "output_type": "display_data",
          "data": {
            "text/plain": [
              "<Figure size 640x480 with 1 Axes>"
            ],
            "image/png": "[encoded data removed]"
          },
          "metadata": {}
        }
      ]
    },
    {
      "cell_type": "code",
      "source": [
        "train_sentences = train_df['text'].tolist()\n",
        "val_sentences = val_df['text'].tolist()\n",
        "test_sentences = test_df['text'].tolist()\n",
        "len(train_sentences), len(val_sentences), len(test_sentences)\n"
      ],
      "metadata": {
        "colab": {
          "base_uri": "https://localhost:8080/"
        },
        "id": "upkGd8KSdjmG",
        "outputId": "24bc20e5-45f7-44bb-835d-dadc1faddd3c"
      },
      "execution_count": 13,
      "outputs": [
        {
          "output_type": "execute_result",
          "data": {
            "text/plain": [
              "(180040, 30212, 30135)"
            ]
          },
          "metadata": {},
          "execution_count": 13
        }
      ]
    },
    {
      "cell_type": "code",
      "source": [
        "train_sentences[:10]"
      ],
      "metadata": {
        "colab": {
          "base_uri": "https://localhost:8080/"
        },
        "id": "kaEUYoI4djj-",
        "outputId": "71c1e7d4-e347-44ee-d38c-3c52228b5791"
      },
      "execution_count": 14,
      "outputs": [
        {
          "output_type": "execute_result",
          "data": {
            "text/plain": [
              "['To investigate the efficacy of @ weeks of daily low-dose oral prednisolone in improving pain , mobility , and systemic low-grade inflammation in the short term and whether the effect would be sustained at @ weeks in older adults with moderate to severe knee osteoarthritis ( OA ) .',\n",
              " 'A total of @ patients with primary knee OA were randomized @:@ ; @ received @ mg/day of prednisolone and @ received placebo for @ weeks .',\n",
              " 'Outcome measures included pain reduction and improvement in function scores and systemic inflammation markers .',\n",
              " 'Pain was assessed using the visual analog pain scale ( @-@ mm ) .',\n",
              " 'Secondary outcome measures included the Western Ontario and McMaster Universities Osteoarthritis Index scores , patient global assessment ( PGA ) of the severity of knee OA , and @-min walk distance ( @MWD ) .',\n",
              " 'Serum levels of interleukin @ ( IL-@ ) , IL-@ , tumor necrosis factor ( TNF ) - , and high-sensitivity C-reactive protein ( hsCRP ) were measured .',\n",
              " 'There was a clinically relevant reduction in the intervention group compared to the placebo group for knee pain , physical function , PGA , and @MWD at @ weeks .',\n",
              " 'The mean difference between treatment arms ( @ % CI ) was @ ( @-@ @ ) , p < @ ; @ ( @-@ @ ) , p < @ ; @ ( @-@ @ ) , p < @ ; and @ ( @-@ @ ) , p < @ , respectively .',\n",
              " 'Further , there was a clinically relevant reduction in the serum levels of IL-@ , IL-@ , TNF - , and hsCRP at @ weeks in the intervention group when compared to the placebo group .',\n",
              " 'These differences remained significant at @ weeks .']"
            ]
          },
          "metadata": {},
          "execution_count": 14
        }
      ]
    },
    {
      "cell_type": "markdown",
      "source": [
        "## Make numeric labels (ML models require numeric labels)"
      ],
      "metadata": {
        "id": "cMUX1jdE4lAF"
      }
    },
    {
      "cell_type": "code",
      "source": [
        "from sklearn.preprocessing import OneHotEncoder\n",
        "\n",
        "# Assuming you have a DataFrame with a 'target' column\n",
        "encoder = OneHotEncoder(sparse=False)\n",
        "\n",
        "# Reshape the target column to a 2D array\n",
        "train_labels_reshaped = train_df['target'].values.reshape(-1, 1)\n",
        "val_labels_reshaped = val_df['target'].values.reshape(-1, 1)\n",
        "test_labels_reshaped = test_df['target'].values.reshape(-1, 1)\n",
        "\n",
        "# Fit and transform the target column\n",
        "train_labels_one_hot = encoder.fit_transform(train_labels_reshaped)\n",
        "val_labels_one_hot = encoder.transform(val_labels_reshaped)\n",
        "test_labels_one_hot = encoder.transform(test_labels_reshaped)\n",
        "\n",
        "# Check the shapes\n",
        "print(\"Train labels shape:\", train_labels_one_hot.shape)\n",
        "print(\"Validation labels shape:\", val_labels_one_hot.shape)\n",
        "print(\"Test labels shape:\", test_labels_one_hot.shape)\n",
        "\n",
        "# Print the first 10 rows of train_labels\n",
        "print(\"Train labels (first 10 rows):\")\n",
        "print(train_labels_one_hot[:10])\n"
      ],
      "metadata": {
        "colab": {
          "base_uri": "https://localhost:8080/"
        },
        "id": "rIukpYPzdjhj",
        "outputId": "1dd0b2b4-1e8a-4ddf-ee8d-fb0d16b81a81"
      },
      "execution_count": 15,
      "outputs": [
        {
          "output_type": "stream",
          "name": "stdout",
          "text": [
            "Train labels shape: (180040, 5)\n",
            "Validation labels shape: (30212, 5)\n",
            "Test labels shape: (30135, 5)\n",
            "Train labels (first 10 rows):\n",
            "[[0. 0. 0. 1. 0.]\n",
            " [0. 0. 1. 0. 0.]\n",
            " [0. 0. 1. 0. 0.]\n",
            " [0. 0. 1. 0. 0.]\n",
            " [0. 0. 1. 0. 0.]\n",
            " [0. 0. 1. 0. 0.]\n",
            " [0. 0. 0. 0. 1.]\n",
            " [0. 0. 0. 0. 1.]\n",
            " [0. 0. 0. 0. 1.]\n",
            " [0. 0. 0. 0. 1.]]\n"
          ]
        },
        {
          "output_type": "stream",
          "name": "stderr",
          "text": [
            "/usr/local/lib/python3.10/dist-packages/sklearn/preprocessing/_encoders.py:868: FutureWarning: `sparse` was renamed to `sparse_output` in version 1.2 and will be removed in 1.4. `sparse_output` is ignored unless you leave `sparse` to its default value.\n",
            "  warnings.warn(\n"
          ]
        }
      ]
    },
    {
      "cell_type": "code",
      "source": [
        "# prompt: do the same as above, but use labelencoder\n",
        "\n",
        "from sklearn.preprocessing import LabelEncoder\n",
        "label_encoder = LabelEncoder()\n",
        "train_labels_encoder = label_encoder.fit_transform(train_df['target'])\n",
        "val_labels_encoder = label_encoder.transform(val_df['target'])\n",
        "test_labels_encoder = label_encoder.transform(test_df['target'])\n",
        "test_labels_encoder"
      ],
      "metadata": {
        "colab": {
          "base_uri": "https://localhost:8080/"
        },
        "id": "abF5g4lgdjfD",
        "outputId": "b19a33e1-3ca7-40eb-9ccd-837320fdd1fa"
      },
      "execution_count": 16,
      "outputs": [
        {
          "output_type": "execute_result",
          "data": {
            "text/plain": [
              "array([0, 4, 4, ..., 4, 4, 1])"
            ]
          },
          "metadata": {},
          "execution_count": 16
        }
      ]
    },
    {
      "cell_type": "code",
      "source": [
        "# Get class names and number of classes from LabelEncoder instance\n",
        "num_classes = len(label_encoder.classes_)\n",
        "class_names = label_encoder.classes_\n",
        "num_classes, class_names"
      ],
      "metadata": {
        "colab": {
          "base_uri": "https://localhost:8080/"
        },
        "id": "bGuQZRKJ7Po2",
        "outputId": "d5b98e45-0f19-41e8-dfac-8d77a61d73a4"
      },
      "execution_count": 17,
      "outputs": [
        {
          "output_type": "execute_result",
          "data": {
            "text/plain": [
              "(5,\n",
              " array(['BACKGROUND', 'CONCLUSIONS', 'METHODS', 'OBJECTIVE', 'RESULTS'],\n",
              "       dtype=object))"
            ]
          },
          "metadata": {},
          "execution_count": 17
        }
      ]
    },
    {
      "cell_type": "markdown",
      "source": [
        "## Creating a series of model experiments"
      ],
      "metadata": {
        "id": "VhOCWfBs8cQs"
      }
    },
    {
      "cell_type": "code",
      "source": [
        "from sklearn.feature_extraction.text import CountVectorizer\n",
        "from sklearn.naive_bayes import MultinomialNB\n",
        "from sklearn.pipeline import Pipeline\n",
        "from sklearn.metrics import accuracy_score, classification_report\n",
        "\n",
        "\n",
        "# Create a pipeline with CountVectorizer and Multinomial Naive Bayes\n",
        "model_0 = Pipeline([\n",
        "    ('vectorizer', CountVectorizer()),  # Convert text to a bag-of-words representation\n",
        "    ('classifier', MultinomialNB())      # Use Naive Bayes as the classifier\n",
        "])\n",
        "\n",
        "# Fit the model\n",
        "model_0.fit(train_sentences, train_labels_encoder)\n",
        "\n"
      ],
      "metadata": {
        "colab": {
          "base_uri": "https://localhost:8080/",
          "height": 125
        },
        "id": "0lxEX4j-djak",
        "outputId": "b941ce5f-76b4-4859-efc9-c197d2bca8ff"
      },
      "execution_count": 18,
      "outputs": [
        {
          "output_type": "execute_result",
          "data": {
            "text/plain": [
              "Pipeline(steps=[('vectorizer', CountVectorizer()),\n",
              "                ('classifier', MultinomialNB())])"
            ],
            "text/html": [
              "<style>#sk-container-id-1 {color: black;background-color: white;}#sk-container-id-1 pre{padding: 0;}#sk-container-id-1 div.sk-toggleable {background-color: white;}#sk-container-id-1 label.sk-toggleable__label {cursor: pointer;display: block;width: 100%;margin-bottom: 0;padding: 0.3em;box-sizing: border-box;text-align: center;}#sk-container-id-1 label.sk-toggleable__label-arrow:before {content: \"▸\";float: left;margin-right: 0.25em;color: #696969;}#sk-container-id-1 label.sk-toggleable__label-arrow:hover:before {color: black;}#sk-container-id-1 div.sk-estimator:hover label.sk-toggleable__label-arrow:before {color: black;}#sk-container-id-1 div.sk-toggleable__content {max-height: 0;max-width: 0;overflow: hidden;text-align: left;background-color: #f0f8ff;}#sk-container-id-1 div.sk-toggleable__content pre {margin: 0.2em;color: black;border-radius: 0.25em;background-color: #f0f8ff;}#sk-container-id-1 input.sk-toggleable__control:checked~div.sk-toggleable__content {max-height: 200px;max-width: 100%;overflow: auto;}#sk-container-id-1 input.sk-toggleable__control:checked~label.sk-toggleable__label-arrow:before {content: \"▾\";}#sk-container-id-1 div.sk-estimator input.sk-toggleable__control:checked~label.sk-toggleable__label {background-color: #d4ebff;}#sk-container-id-1 div.sk-label input.sk-toggleable__control:checked~label.sk-toggleable__label {background-color: #d4ebff;}#sk-container-id-1 input.sk-hidden--visually {border: 0;clip: rect(1px 1px 1px 1px);clip: rect(1px, 1px, 1px, 1px);height: 1px;margin: -1px;overflow: hidden;padding: 0;position: absolute;width: 1px;}#sk-container-id-1 div.sk-estimator {font-family: monospace;background-color: #f0f8ff;border: 1px dotted black;border-radius: 0.25em;box-sizing: border-box;margin-bottom: 0.5em;}#sk-container-id-1 div.sk-estimator:hover {background-color: #d4ebff;}#sk-container-id-1 div.sk-parallel-item::after {content: \"\";width: 100%;border-bottom: 1px solid gray;flex-grow: 1;}#sk-container-id-1 div.sk-label:hover label.sk-toggleable__label {background-color: #d4ebff;}#sk-container-id-1 div.sk-serial::before {content: \"\";position: absolute;border-left: 1px solid gray;box-sizing: border-box;top: 0;bottom: 0;left: 50%;z-index: 0;}#sk-container-id-1 div.sk-serial {display: flex;flex-direction: column;align-items: center;background-color: white;padding-right: 0.2em;padding-left: 0.2em;position: relative;}#sk-container-id-1 div.sk-item {position: relative;z-index: 1;}#sk-container-id-1 div.sk-parallel {display: flex;align-items: stretch;justify-content: center;background-color: white;position: relative;}#sk-container-id-1 div.sk-item::before, #sk-container-id-1 div.sk-parallel-item::before {content: \"\";position: absolute;border-left: 1px solid gray;box-sizing: border-box;top: 0;bottom: 0;left: 50%;z-index: -1;}#sk-container-id-1 div.sk-parallel-item {display: flex;flex-direction: column;z-index: 1;position: relative;background-color: white;}#sk-container-id-1 div.sk-parallel-item:first-child::after {align-self: flex-end;width: 50%;}#sk-container-id-1 div.sk-parallel-item:last-child::after {align-self: flex-start;width: 50%;}#sk-container-id-1 div.sk-parallel-item:only-child::after {width: 0;}#sk-container-id-1 div.sk-dashed-wrapped {border: 1px dashed gray;margin: 0 0.4em 0.5em 0.4em;box-sizing: border-box;padding-bottom: 0.4em;background-color: white;}#sk-container-id-1 div.sk-label label {font-family: monospace;font-weight: bold;display: inline-block;line-height: 1.2em;}#sk-container-id-1 div.sk-label-container {text-align: center;}#sk-container-id-1 div.sk-container {/* jupyter's `normalize.less` sets `[hidden] { display: none; }` but bootstrap.min.css set `[hidden] { display: none !important; }` so we also need the `!important` here to be able to override the default hidden behavior on the sphinx rendered scikit-learn.org. See: https://github.com/scikit-learn/scikit-learn/issues/21755 */display: inline-block !important;position: relative;}#sk-container-id-1 div.sk-text-repr-fallback {display: none;}</style><div id=\"sk-container-id-1\" class=\"sk-top-container\"><div class=\"sk-text-repr-fallback\"><pre>Pipeline(steps=[(&#x27;vectorizer&#x27;, CountVectorizer()),\n",
              "                (&#x27;classifier&#x27;, MultinomialNB())])</pre><b>In a Jupyter environment, please rerun this cell to show the HTML representation or trust the notebook. <br />On GitHub, the HTML representation is unable to render, please try loading this page with nbviewer.org.</b></div><div class=\"sk-container\" hidden><div class=\"sk-item sk-dashed-wrapped\"><div class=\"sk-label-container\"><div class=\"sk-label sk-toggleable\"><input class=\"sk-toggleable__control sk-hidden--visually\" id=\"sk-estimator-id-1\" type=\"checkbox\" ><label for=\"sk-estimator-id-1\" class=\"sk-toggleable__label sk-toggleable__label-arrow\">Pipeline</label><div class=\"sk-toggleable__content\"><pre>Pipeline(steps=[(&#x27;vectorizer&#x27;, CountVectorizer()),\n",
              "                (&#x27;classifier&#x27;, MultinomialNB())])</pre></div></div></div><div class=\"sk-serial\"><div class=\"sk-item\"><div class=\"sk-estimator sk-toggleable\"><input class=\"sk-toggleable__control sk-hidden--visually\" id=\"sk-estimator-id-2\" type=\"checkbox\" ><label for=\"sk-estimator-id-2\" class=\"sk-toggleable__label sk-toggleable__label-arrow\">CountVectorizer</label><div class=\"sk-toggleable__content\"><pre>CountVectorizer()</pre></div></div></div><div class=\"sk-item\"><div class=\"sk-estimator sk-toggleable\"><input class=\"sk-toggleable__control sk-hidden--visually\" id=\"sk-estimator-id-3\" type=\"checkbox\" ><label for=\"sk-estimator-id-3\" class=\"sk-toggleable__label sk-toggleable__label-arrow\">MultinomialNB</label><div class=\"sk-toggleable__content\"><pre>MultinomialNB()</pre></div></div></div></div></div></div></div>"
            ]
          },
          "metadata": {},
          "execution_count": 18
        }
      ]
    },
    {
      "cell_type": "code",
      "source": [
        "\n",
        "# Evaluate baseline on validation dataset\n",
        "model_0.score(X=val_sentences,\n",
        "              y=val_labels_encoder)"
      ],
      "metadata": {
        "colab": {
          "base_uri": "https://localhost:8080/"
        },
        "id": "SFgnFIqX7Xzc",
        "outputId": "b96d094b-ffe4-4c51-8209-c3c7c3b50b1a"
      },
      "execution_count": 19,
      "outputs": [
        {
          "output_type": "execute_result",
          "data": {
            "text/plain": [
              "0.765126439825235"
            ]
          },
          "metadata": {},
          "execution_count": 19
        }
      ]
    },
    {
      "cell_type": "code",
      "source": [
        "baseline_preds = model_0.predict(val_sentences)\n",
        "baseline_preds"
      ],
      "metadata": {
        "colab": {
          "base_uri": "https://localhost:8080/"
        },
        "id": "oKoUW7Jd7Xxc",
        "outputId": "58fa7b8e-a202-4041-f41e-54b6ac301bf2"
      },
      "execution_count": 20,
      "outputs": [
        {
          "output_type": "execute_result",
          "data": {
            "text/plain": [
              "array([0, 1, 3, ..., 4, 4, 0])"
            ]
          },
          "metadata": {},
          "execution_count": 20
        }
      ]
    },
    {
      "cell_type": "code",
      "source": [
        "from helper_functions import calculate_results\n",
        "baseline_results = calculate_results(\n",
        "    y_true=val_labels_encoder,\n",
        "    y_pred=baseline_preds\n",
        ")\n",
        "baseline_results"
      ],
      "metadata": {
        "colab": {
          "base_uri": "https://localhost:8080/"
        },
        "id": "PZb8l2BY7XvL",
        "outputId": "db42694f-7780-4392-df7a-700277aca075"
      },
      "execution_count": 21,
      "outputs": [
        {
          "output_type": "execute_result",
          "data": {
            "text/plain": [
              "{'accuracy': 76.5126439825235,\n",
              " 'precision': 0.7650764505306027,\n",
              " 'recall': 0.765126439825235,\n",
              " 'f1': 0.7649496950235074}"
            ]
          },
          "metadata": {},
          "execution_count": 21
        }
      ]
    },
    {
      "cell_type": "markdown",
      "source": [
        "## Preparing our data for deep sequence models"
      ],
      "metadata": {
        "id": "y49Wik9F_-rB"
      }
    },
    {
      "cell_type": "code",
      "source": [
        "from tensorflow.keras import layers\n",
        "\n"
      ],
      "metadata": {
        "id": "rHgAFYZA7Xsz"
      },
      "execution_count": 22,
      "outputs": []
    },
    {
      "cell_type": "code",
      "source": [
        "# prompt: check how long is each train_Sentences on average\n",
        "\n",
        "train_sentences_lengths = [len(sentence.split()) for sentence in train_sentences]\n",
        "avg_sent_len = sum(train_sentences_lengths) / len(train_sentences_lengths)\n",
        "print(f\"Average length of train sentences: {avg_sent_len}\")\n"
      ],
      "metadata": {
        "colab": {
          "base_uri": "https://localhost:8080/"
        },
        "id": "vRbqeAlz7Xqs",
        "outputId": "b5c1b939-2e21-4f10-82a3-00a7a676b651"
      },
      "execution_count": 23,
      "outputs": [
        {
          "output_type": "stream",
          "name": "stdout",
          "text": [
            "Average length of train sentences: 26.338269273494777\n"
          ]
        }
      ]
    },
    {
      "cell_type": "code",
      "source": [
        "# prompt: check the distribution of sentece lengths\n",
        "\n",
        "plt.hist(train_sentences_lengths)\n",
        "plt.xlabel(\"Sentence length\")\n",
        "plt.ylabel(\"Count\")\n",
        "plt.title(\"Distribution of sentence lengths in the training set\")\n",
        "plt.show()\n"
      ],
      "metadata": {
        "colab": {
          "base_uri": "https://localhost:8080/",
          "height": 472
        },
        "id": "gyJD_rlFAOjY",
        "outputId": "7401af79-5ca6-4aec-9c02-7aa376158987"
      },
      "execution_count": 24,
      "outputs": [
        {
          "output_type": "display_data",
          "data": {
            "text/plain": [
              "<Figure size 640x480 with 1 Axes>"
            ],
            "image/png": "[encoded data removed]"
          },
          "metadata": {}
        }
      ]
    },
    {
      "cell_type": "code",
      "source": [
        "# prompt:  use NumPy's percentile to find the value which covers 95% of the sentence lengths.\n",
        "\n",
        "import numpy as np\n",
        "output_seq_len = int(np.percentile(train_sentences_lengths, 95))\n",
        "output_seq_len"
      ],
      "metadata": {
        "colab": {
          "base_uri": "https://localhost:8080/"
        },
        "id": "9Mp9lcXWAgf4",
        "outputId": "6b20994c-a63a-474e-d8ce-117c8a203255"
      },
      "execution_count": 25,
      "outputs": [
        {
          "output_type": "execute_result",
          "data": {
            "text/plain": [
              "55"
            ]
          },
          "metadata": {},
          "execution_count": 25
        }
      ]
    },
    {
      "cell_type": "code",
      "source": [
        "train_sentences[:3]"
      ],
      "metadata": {
        "colab": {
          "base_uri": "https://localhost:8080/"
        },
        "id": "xbfqoldFAgdo",
        "outputId": "a44f302d-e64f-49b5-8166-05cd5ae9d03f"
      },
      "execution_count": 26,
      "outputs": [
        {
          "output_type": "execute_result",
          "data": {
            "text/plain": [
              "['To investigate the efficacy of @ weeks of daily low-dose oral prednisolone in improving pain , mobility , and systemic low-grade inflammation in the short term and whether the effect would be sustained at @ weeks in older adults with moderate to severe knee osteoarthritis ( OA ) .',\n",
              " 'A total of @ patients with primary knee OA were randomized @:@ ; @ received @ mg/day of prednisolone and @ received placebo for @ weeks .',\n",
              " 'Outcome measures included pain reduction and improvement in function scores and systemic inflammation markers .']"
            ]
          },
          "metadata": {},
          "execution_count": 26
        }
      ]
    },
    {
      "cell_type": "code",
      "source": [
        "train_sentences_lengths[:3]"
      ],
      "metadata": {
        "colab": {
          "base_uri": "https://localhost:8080/"
        },
        "id": "JKjCyoYpAgbg",
        "outputId": "0c376fbd-1b7a-46b6-dd57-51d32444831d"
      },
      "execution_count": 27,
      "outputs": [
        {
          "output_type": "execute_result",
          "data": {
            "text/plain": [
              "[49, 27, 15]"
            ]
          },
          "metadata": {},
          "execution_count": 27
        }
      ]
    },
    {
      "cell_type": "code",
      "source": [
        "[sentence.split() for sentence in train_sentences][:3]"
      ],
      "metadata": {
        "colab": {
          "base_uri": "https://localhost:8080/"
        },
        "id": "4tmcf5LTAgZB",
        "outputId": "7a2eaf2d-f435-4655-c76f-7e6a0d547818"
      },
      "execution_count": 28,
      "outputs": [
        {
          "output_type": "execute_result",
          "data": {
            "text/plain": [
              "[['To',\n",
              "  'investigate',\n",
              "  'the',\n",
              "  'efficacy',\n",
              "  'of',\n",
              "  '@',\n",
              "  'weeks',\n",
              "  'of',\n",
              "  'daily',\n",
              "  'low-dose',\n",
              "  'oral',\n",
              "  'prednisolone',\n",
              "  'in',\n",
              "  'improving',\n",
              "  'pain',\n",
              "  ',',\n",
              "  'mobility',\n",
              "  ',',\n",
              "  'and',\n",
              "  'systemic',\n",
              "  'low-grade',\n",
              "  'inflammation',\n",
              "  'in',\n",
              "  'the',\n",
              "  'short',\n",
              "  'term',\n",
              "  'and',\n",
              "  'whether',\n",
              "  'the',\n",
              "  'effect',\n",
              "  'would',\n",
              "  'be',\n",
              "  'sustained',\n",
              "  'at',\n",
              "  '@',\n",
              "  'weeks',\n",
              "  'in',\n",
              "  'older',\n",
              "  'adults',\n",
              "  'with',\n",
              "  'moderate',\n",
              "  'to',\n",
              "  'severe',\n",
              "  'knee',\n",
              "  'osteoarthritis',\n",
              "  '(',\n",
              "  'OA',\n",
              "  ')',\n",
              "  '.'],\n",
              " ['A',\n",
              "  'total',\n",
              "  'of',\n",
              "  '@',\n",
              "  'patients',\n",
              "  'with',\n",
              "  'primary',\n",
              "  'knee',\n",
              "  'OA',\n",
              "  'were',\n",
              "  'randomized',\n",
              "  '@:@',\n",
              "  ';',\n",
              "  '@',\n",
              "  'received',\n",
              "  '@',\n",
              "  'mg/day',\n",
              "  'of',\n",
              "  'prednisolone',\n",
              "  'and',\n",
              "  '@',\n",
              "  'received',\n",
              "  'placebo',\n",
              "  'for',\n",
              "  '@',\n",
              "  'weeks',\n",
              "  '.'],\n",
              " ['Outcome',\n",
              "  'measures',\n",
              "  'included',\n",
              "  'pain',\n",
              "  'reduction',\n",
              "  'and',\n",
              "  'improvement',\n",
              "  'in',\n",
              "  'function',\n",
              "  'scores',\n",
              "  'and',\n",
              "  'systemic',\n",
              "  'inflammation',\n",
              "  'markers',\n",
              "  '.']]"
            ]
          },
          "metadata": {},
          "execution_count": 28
        }
      ]
    },
    {
      "cell_type": "markdown",
      "source": [
        "## Create text vectorizer"
      ],
      "metadata": {
        "id": "9LD9S0v7D-xY"
      }
    },
    {
      "cell_type": "code",
      "source": [
        "max_tokens = 68000\n"
      ],
      "metadata": {
        "id": "Zf5udHyuAgWg"
      },
      "execution_count": 29,
      "outputs": []
    },
    {
      "cell_type": "code",
      "source": [
        "# prompt: create a text vectorizer using TextVectorization from tensorflow\n",
        "\n",
        "text_vectorizer = tf.keras.layers.TextVectorization(\n",
        "    max_tokens=max_tokens,\n",
        "    output_mode='int',\n",
        "    output_sequence_length=output_seq_len\n",
        ")\n",
        "text_vectorizer.adapt(train_sentences)"
      ],
      "metadata": {
        "id": "BRdsfmS9AgUp"
      },
      "execution_count": 30,
      "outputs": []
    },
    {
      "cell_type": "code",
      "source": [
        "import random\n",
        "target_sentence = random.choice(train_sentences)\n",
        "print(f\"Text:\\n{target_sentence}\")\n",
        "print(f\"\\nLength of text: {len(target_sentence.split())}\")\n",
        "print(f\"\\nVectorized text:\\n{text_vectorizer([target_sentence])}\")\n"
      ],
      "metadata": {
        "colab": {
          "base_uri": "https://localhost:8080/"
        },
        "id": "8O5PKGvJI3Xk",
        "outputId": "555d4071-2afd-4fed-cfa8-7348ccc6cdd0"
      },
      "execution_count": 31,
      "outputs": [
        {
          "output_type": "stream",
          "name": "stdout",
          "text": [
            "Text:\n",
            "Follow-up averaged longer than @ years .\n",
            "\n",
            "Length of text: 7\n",
            "\n",
            "Vectorized text:\n",
            "[[  94 4446  583   42   64    0    0    0    0    0    0    0    0    0\n",
            "     0    0    0    0    0    0    0    0    0    0    0    0    0    0\n",
            "     0    0    0    0    0    0    0    0    0    0    0    0    0    0\n",
            "     0    0    0    0    0    0    0    0    0    0    0    0    0]]\n"
          ]
        }
      ]
    },
    {
      "cell_type": "code",
      "source": [
        "# prompt: How many words in our training vocabulary?\\\n",
        "\n",
        "rct_20k_text_vocab = text_vectorizer.get_vocabulary()\n",
        "\n",
        "rct_20k_text_vocab[-5:], rct_20k_text_vocab[:5]"
      ],
      "metadata": {
        "id": "yynpUY-yI3VN",
        "colab": {
          "base_uri": "https://localhost:8080/"
        },
        "outputId": "d0518990-b6b9-4de3-c603-7ae9d1c3caa3"
      },
      "execution_count": 32,
      "outputs": [
        {
          "output_type": "execute_result",
          "data": {
            "text/plain": [
              "(['aainduced', 'aaigroup', 'aachener', 'aachen', 'aaacp'],\n",
              " ['', '[UNK]', 'the', 'and', 'of'])"
            ]
          },
          "metadata": {},
          "execution_count": 32
        }
      ]
    },
    {
      "cell_type": "code",
      "source": [
        "text_vectorizer.get_config()"
      ],
      "metadata": {
        "colab": {
          "base_uri": "https://localhost:8080/"
        },
        "id": "o15O4F1kZ1qF",
        "outputId": "b6047661-69e1-4709-e24b-af6e1305faaf"
      },
      "execution_count": 33,
      "outputs": [
        {
          "output_type": "execute_result",
          "data": {
            "text/plain": [
              "{'name': 'text_vectorization',\n",
              " 'trainable': True,\n",
              " 'dtype': 'string',\n",
              " 'batch_input_shape': (None,),\n",
              " 'max_tokens': 68000,\n",
              " 'standardize': 'lower_and_strip_punctuation',\n",
              " 'split': 'whitespace',\n",
              " 'ngrams': None,\n",
              " 'output_mode': 'int',\n",
              " 'output_sequence_length': 55,\n",
              " 'pad_to_max_tokens': False,\n",
              " 'sparse': False,\n",
              " 'ragged': False,\n",
              " 'vocabulary': None,\n",
              " 'idf_weights': None,\n",
              " 'encoding': 'utf-8',\n",
              " 'vocabulary_size': 64841}"
            ]
          },
          "metadata": {},
          "execution_count": 33
        }
      ]
    },
    {
      "cell_type": "markdown",
      "source": [
        "## Create custom text embedding"
      ],
      "metadata": {
        "id": "cklgPOitanGQ"
      }
    },
    {
      "cell_type": "code",
      "source": [
        "# prompt: Create token embedding layer\n",
        "\n",
        "embedding_dimension = 128\n",
        "\n",
        "token_embed = tf.keras.layers.Embedding(\n",
        "    input_dim=max_tokens,\n",
        "    output_dim=embedding_dimension,\n",
        "    embeddings_initializer='uniform',\n",
        "    mask_zero=True,\n",
        "    trainable=True\n",
        ")\n"
      ],
      "metadata": {
        "id": "KRYWdEGiZ1oC"
      },
      "execution_count": 34,
      "outputs": []
    },
    {
      "cell_type": "code",
      "source": [
        "# prompt: Showm embedding example with random sentence\n",
        "\n",
        "example_sentence = random.choice(train_sentences)\n",
        "print(f\"Example sentence: {example_sentence}\")\n",
        "example_sentence_vectors = text_vectorizer([example_sentence])\n",
        "print(f\"\\nExample sentence vectors: {example_sentence_vectors}\")\n",
        "example_sentence_embeddings = token_embed(example_sentence_vectors)\n",
        "print(f\"\\nExample sentence embeddings: {example_sentence_embeddings}\")\n"
      ],
      "metadata": {
        "colab": {
          "base_uri": "https://localhost:8080/"
        },
        "id": "5PJuOVjxZ1l8",
        "outputId": "884cf576-1cce-484e-a3fc-846f7e0a7f5c"
      },
      "execution_count": 35,
      "outputs": [
        {
          "output_type": "stream",
          "name": "stdout",
          "text": [
            "Example sentence: Chronic uncomplicated musculoskeletal pain in the spine ( cervical , thoracic or lumbar ) is highly prevalent and may severely limit the daily activities of those affected by it .\n",
            "\n",
            "Example sentence vectors: [[ 244 2916 2797   65    5    2 1559  883 2090   16 1244   20  862 1998\n",
            "     3   91 3553 1877    2  161  844    4  125  804   22  185    0    0\n",
            "     0    0    0    0    0    0    0    0    0    0    0    0    0    0\n",
            "     0    0    0    0    0    0    0    0    0    0    0    0    0]]\n",
            "\n",
            "Example sentence embeddings: [[[ 0.00532669 -0.01468052  0.02002029 ...  0.00913875 -0.03274727\n",
            "   -0.0014202 ]\n",
            "  [ 0.03400887 -0.01536564 -0.03037995 ... -0.00478303  0.03184548\n",
            "   -0.03259017]\n",
            "  [ 0.04823705 -0.02249981 -0.02784838 ...  0.0229564  -0.01422526\n",
            "   -0.03362747]\n",
            "  ...\n",
            "  [ 0.01365424 -0.0106044   0.02730041 ...  0.04756467  0.02407888\n",
            "   -0.03499037]\n",
            "  [ 0.01365424 -0.0106044   0.02730041 ...  0.04756467  0.02407888\n",
            "   -0.03499037]\n",
            "  [ 0.01365424 -0.0106044   0.02730041 ...  0.04756467  0.02407888\n",
            "   -0.03499037]]]\n"
          ]
        }
      ]
    },
    {
      "cell_type": "code",
      "source": [
        "# prompt: create datasets using tf.data from tensorflow with prefecth and batch\n",
        "batch_size = 32\n",
        "\n",
        "train_dataset = tf.data.Dataset.from_tensor_slices((train_sentences, train_labels_one_hot))\n",
        "train_dataset = train_dataset.shuffle(buffer_size=1024)\n",
        "train_dataset = train_dataset.batch(batch_size=batch_size)\n",
        "train_dataset = train_dataset.prefetch(buffer_size=tf.data.experimental.AUTOTUNE)\n",
        "\n",
        "val_dataset = tf.data.Dataset.from_tensor_slices((val_sentences, val_labels_one_hot))\n",
        "val_dataset = val_dataset.batch(batch_size=batch_size)\n",
        "val_dataset = val_dataset.prefetch(buffer_size=tf.data.experimental.AUTOTUNE)\n",
        "\n",
        "test_dataset = tf.data.Dataset.from_tensor_slices((test_sentences, test_labels_one_hot))\n",
        "test_dataset = test_dataset.batch(batch_size=batch_size)\n",
        "test_dataset = test_dataset.prefetch(buffer_size=tf.data.experimental.AUTOTUNE)\n"
      ],
      "metadata": {
        "id": "WvNV1IHbZ1jk"
      },
      "execution_count": 36,
      "outputs": []
    },
    {
      "cell_type": "markdown",
      "source": [
        "## Model 1: Conv1D with token embeddings"
      ],
      "metadata": {
        "id": "uumcTPgadFm3"
      }
    },
    {
      "cell_type": "code",
      "source": [
        "# prompt: Create 1D convolutional model to process sequences with functiona API\n",
        "\n",
        "inputs = layers.Input(shape=(1,), dtype=tf.string)\n",
        "text_vectors = text_vectorizer(inputs)\n",
        "token_embeddings = token_embed(text_vectors)\n",
        "x = layers.Conv1D(64, kernel_size=5, padding='same')(token_embeddings)\n",
        "x = layers.GlobalAveragePooling1D()(x)\n",
        "outputs = layers.Dense(num_classes, activation='softmax')(x)\n",
        "model_1 = tf.keras.Model(inputs, outputs)\n",
        "\n",
        "model_1.compile(\n",
        "    loss='categorical_crossentropy',\n",
        "    optimizer=tf.keras.optimizers.Adam(),\n",
        "    metrics=['accuracy']\n",
        ")\n"
      ],
      "metadata": {
        "id": "qzwEUW1jZ1hS"
      },
      "execution_count": 37,
      "outputs": []
    },
    {
      "cell_type": "code",
      "source": [
        "# Get summary of Conv1D model\n",
        "model_1.summary()"
      ],
      "metadata": {
        "colab": {
          "base_uri": "https://localhost:8080/"
        },
        "id": "rvXlEMbjZ1fF",
        "outputId": "150b6c0e-4589-4334-a336-c779369f244c"
      },
      "execution_count": 38,
      "outputs": [
        {
          "output_type": "stream",
          "name": "stdout",
          "text": [
            "Model: \"model\"\n",
            "_________________________________________________________________\n",
            " Layer (type)                Output Shape              Param #   \n",
            "=================================================================\n",
            " input_1 (InputLayer)        [(None, 1)]               0         \n",
            "                                                                 \n",
            " text_vectorization (TextVe  (None, 55)                0         \n",
            " ctorization)                                                    \n",
            "                                                                 \n",
            " embedding (Embedding)       (None, 55, 128)           8704000   \n",
            "                                                                 \n",
            " conv1d (Conv1D)             (None, 55, 64)            41024     \n",
            "                                                                 \n",
            " global_average_pooling1d (  (None, 64)                0         \n",
            " GlobalAveragePooling1D)                                         \n",
            "                                                                 \n",
            " dense (Dense)               (None, 5)                 325       \n",
            "                                                                 \n",
            "=================================================================\n",
            "Total params: 8745349 (33.36 MB)\n",
            "Trainable params: 8745349 (33.36 MB)\n",
            "Non-trainable params: 0 (0.00 Byte)\n",
            "_________________________________________________________________\n"
          ]
        }
      ]
    },
    {
      "cell_type": "code",
      "source": [
        "model_1_history = model_1.fit(\n",
        "    train_dataset,\n",
        "    steps_per_epoch=int(0.1*len(train_dataset)),\n",
        "    epochs=5,\n",
        "    validation_data=val_dataset,\n",
        "    validation_steps=int(0.1*len(val_dataset))\n",
        ")\n"
      ],
      "metadata": {
        "colab": {
          "base_uri": "https://localhost:8080/"
        },
        "id": "oG0EiVWAZ1cj",
        "outputId": "b5a5597c-615b-4ee7-d970-a0f9f2d3dafd"
      },
      "execution_count": 39,
      "outputs": [
        {
          "output_type": "stream",
          "name": "stdout",
          "text": [
            "Epoch 1/5\n",
            "562/562 [==============================] - 19s 29ms/step - loss: 0.8823 - accuracy: 0.6501 - val_loss: 0.6638 - val_accuracy: 0.7427\n",
            "Epoch 2/5\n",
            "562/562 [==============================] - 6s 11ms/step - loss: 0.6423 - accuracy: 0.7627 - val_loss: 0.6266 - val_accuracy: 0.7706\n",
            "Epoch 3/5\n",
            "562/562 [==============================] - 4s 8ms/step - loss: 0.6046 - accuracy: 0.7809 - val_loss: 0.5869 - val_accuracy: 0.7852\n",
            "Epoch 4/5\n",
            "562/562 [==============================] - 4s 7ms/step - loss: 0.5887 - accuracy: 0.7885 - val_loss: 0.5770 - val_accuracy: 0.7869\n",
            "Epoch 5/5\n",
            "562/562 [==============================] - 5s 9ms/step - loss: 0.5920 - accuracy: 0.7873 - val_loss: 0.5641 - val_accuracy: 0.7959\n"
          ]
        }
      ]
    },
    {
      "cell_type": "code",
      "source": [
        "# prompt: evaluate model and make predicitons\n",
        "\n",
        "model_1.evaluate(val_dataset)\n",
        "\n",
        "\n"
      ],
      "metadata": {
        "colab": {
          "base_uri": "https://localhost:8080/"
        },
        "id": "LfmyqiQlZ1ab",
        "outputId": "3e59e60e-6e1a-4b01-a12c-97adb3da4cb6"
      },
      "execution_count": 40,
      "outputs": [
        {
          "output_type": "stream",
          "name": "stdout",
          "text": [
            "945/945 [==============================] - 4s 4ms/step - loss: 0.5637 - accuracy: 0.7997\n"
          ]
        },
        {
          "output_type": "execute_result",
          "data": {
            "text/plain": [
              "[0.5637239217758179, 0.7997153401374817]"
            ]
          },
          "metadata": {},
          "execution_count": 40
        }
      ]
    },
    {
      "cell_type": "code",
      "source": [
        "model_1_probs =  model_1.predict(val_dataset)\n",
        "model_1_probs"
      ],
      "metadata": {
        "colab": {
          "base_uri": "https://localhost:8080/"
        },
        "id": "8RcX6noci3hj",
        "outputId": "93a4c0f4-d31e-461b-a107-7e29798d99c6"
      },
      "execution_count": 41,
      "outputs": [
        {
          "output_type": "stream",
          "name": "stdout",
          "text": [
            "945/945 [==============================] - 3s 3ms/step\n"
          ]
        },
        {
          "output_type": "execute_result",
          "data": {
            "text/plain": [
              "array([[5.77149093e-01, 1.51170954e-01, 5.98258451e-02, 1.27288491e-01,\n",
              "        8.45655948e-02],\n",
              "       [5.02923429e-01, 3.28791827e-01, 1.69312824e-02, 1.00869544e-01,\n",
              "        5.04839569e-02],\n",
              "       [1.72710642e-01, 4.32743272e-03, 1.92725263e-03, 8.21013391e-01,\n",
              "        2.13683434e-05],\n",
              "       ...,\n",
              "       [2.19538433e-05, 6.72176946e-04, 2.48229806e-03, 2.76499431e-05,\n",
              "        9.96795952e-01],\n",
              "       [1.16395064e-01, 1.97424755e-01, 1.34909391e-01, 4.27322648e-02,\n",
              "        5.08538544e-01],\n",
              "       [1.37361333e-01, 7.74614215e-01, 6.50050119e-02, 4.01366968e-03,\n",
              "        1.90058015e-02]], dtype=float32)"
            ]
          },
          "metadata": {},
          "execution_count": 41
        }
      ]
    },
    {
      "cell_type": "code",
      "source": [
        "model_1_preds = tf.argmax(model_1_probs, axis=1)\n",
        "model_1_preds"
      ],
      "metadata": {
        "colab": {
          "base_uri": "https://localhost:8080/"
        },
        "id": "AZf3edZlZ1YY",
        "outputId": "4659385d-3fbb-4e55-ebea-7f6a1384588d"
      },
      "execution_count": 42,
      "outputs": [
        {
          "output_type": "execute_result",
          "data": {
            "text/plain": [
              "<tf.Tensor: shape=(30212,), dtype=int64, numpy=array([0, 0, 3, ..., 4, 4, 1])>"
            ]
          },
          "metadata": {},
          "execution_count": 42
        }
      ]
    },
    {
      "cell_type": "code",
      "source": [
        "# Calculate model_1 results\n",
        "model_1_results = calculate_results(y_true=val_labels_encoder,\n",
        "                                    y_pred=model_1_preds)\n",
        "model_1_results"
      ],
      "metadata": {
        "colab": {
          "base_uri": "https://localhost:8080/"
        },
        "id": "aczALWOUjfM9",
        "outputId": "a0d6aeb3-277a-44b4-e0ce-ac10abd1cfab"
      },
      "execution_count": 43,
      "outputs": [
        {
          "output_type": "execute_result",
          "data": {
            "text/plain": [
              "{'accuracy': 79.97153448960678,\n",
              " 'precision': 0.8000947772881408,\n",
              " 'recall': 0.7997153448960678,\n",
              " 'f1': 0.796888251859607}"
            ]
          },
          "metadata": {},
          "execution_count": 43
        }
      ]
    },
    {
      "cell_type": "markdown",
      "source": [
        "## Model 2: Feature extraction with pretrained token embeddings"
      ],
      "metadata": {
        "id": "1ynwWb5fkC0d"
      }
    },
    {
      "cell_type": "code",
      "source": [
        "import tensorflow_hub  as hub\n",
        "\n",
        "tf_hub_embedding_layer = hub.KerasLayer(\"https://tfhub.dev/google/universal-sentence-encoder/4\",\n",
        "                                     trainable=False,\n",
        "                                     name='universal_sentence_encoder')\n"
      ],
      "metadata": {
        "id": "_uMOxf1cjfK-"
      },
      "execution_count": 44,
      "outputs": []
    },
    {
      "cell_type": "code",
      "source": [
        "_# prompt: test tf_hub_embedding_layer  with random sentecens\n",
        "\n",
        "sentences = ['The quick brown fox jumps over the lazy dog',\n",
        "             'The cow jumped over the moon',\n",
        "             'The man ate the apple',\n",
        "             'The dog chased the cat',\n",
        "             'The bird flew across the sky']\n",
        "\n",
        "# Convert sentences to vectors\n",
        "sentence_vectors = tf_hub_embedding_layer(sentences)\n",
        "sentence_vectors\n"
      ],
      "metadata": {
        "colab": {
          "base_uri": "https://localhost:8080/"
        },
        "id": "6VSKvqRsjfIr",
        "outputId": "4d33e005-ae3c-4acd-866e-84eb91f2372b"
      },
      "execution_count": 45,
      "outputs": [
        {
          "output_type": "execute_result",
          "data": {
            "text/plain": [
              "<tf.Tensor: shape=(5, 512), dtype=float32, numpy=\n",
              "array([[-0.03133016, -0.06338634, -0.01607502, ..., -0.03242781,\n",
              "        -0.0457574 ,  0.05370456],\n",
              "       [-0.0358599 , -0.0085492 , -0.01949548, ..., -0.03503276,\n",
              "        -0.02458061, -0.01660721],\n",
              "       [-0.03935239, -0.00093045, -0.01300263, ..., -0.01198967,\n",
              "         0.03388175, -0.05399774],\n",
              "       [-0.00519574,  0.01867533,  0.05785012, ...,  0.01643884,\n",
              "         0.0637878 ,  0.04247545],\n",
              "       [-0.04715706,  0.0572727 ,  0.06124469, ...,  0.01410193,\n",
              "        -0.01786574,  0.02743582]], dtype=float32)>"
            ]
          },
          "metadata": {},
          "execution_count": 45
        }
      ]
    },
    {
      "cell_type": "code",
      "source": [
        "# prompt: build a model 2 with tf_hub_embedding_layer as a functional strucure\n",
        "\n",
        "\n",
        "inputs = layers.Input(shape=[], dtype=tf.string)\n",
        "x = tf_hub_embedding_layer(inputs)\n",
        "x = layers.Dense(64, activation='relu')(x)\n",
        "outputs = layers.Dense(num_classes, activation='softmax')(x)\n",
        "model_2 = tf.keras.Model(inputs, outputs)\n"
      ],
      "metadata": {
        "id": "5MforwvwjfGn"
      },
      "execution_count": 46,
      "outputs": []
    },
    {
      "cell_type": "code",
      "source": [
        "# prompt: compile and fit molde 2\n",
        "\n",
        "model_2.compile(\n",
        "    loss='categorical_crossentropy',\n",
        "    optimizer=tf.keras.optimizers.Adam(),\n",
        "    metrics=['accuracy']\n",
        ")\n",
        "\n",
        "model_2_history = model_2.fit(\n",
        "    train_dataset,\n",
        "    steps_per_epoch=int(0.1*len(train_dataset)),\n",
        "    epochs=5,\n",
        "    validation_data=val_dataset,\n",
        "    validation_steps=int(0.1*len(val_dataset))\n",
        ")\n"
      ],
      "metadata": {
        "colab": {
          "base_uri": "https://localhost:8080/"
        },
        "id": "ukox5vJljfEj",
        "outputId": "5f95a240-2ad8-4898-cd0f-98478de9be72"
      },
      "execution_count": 47,
      "outputs": [
        {
          "output_type": "stream",
          "name": "stdout",
          "text": [
            "Epoch 1/5\n",
            "562/562 [==============================] - 11s 16ms/step - loss: 0.9490 - accuracy: 0.6313 - val_loss: 0.8153 - val_accuracy: 0.6842\n",
            "Epoch 2/5\n",
            "562/562 [==============================] - 7s 12ms/step - loss: 0.7784 - accuracy: 0.6943 - val_loss: 0.7644 - val_accuracy: 0.7021\n",
            "Epoch 3/5\n",
            "562/562 [==============================] - 9s 15ms/step - loss: 0.7662 - accuracy: 0.7061 - val_loss: 0.7483 - val_accuracy: 0.7134\n",
            "Epoch 4/5\n",
            "562/562 [==============================] - 9s 16ms/step - loss: 0.7389 - accuracy: 0.7165 - val_loss: 0.7341 - val_accuracy: 0.7174\n",
            "Epoch 5/5\n",
            "562/562 [==============================] - 7s 12ms/step - loss: 0.7486 - accuracy: 0.7140 - val_loss: 0.7155 - val_accuracy: 0.7227\n"
          ]
        }
      ]
    },
    {
      "cell_type": "code",
      "source": [
        "# prompt: evaluate and make predictions with model 2\n",
        "\n",
        "model_2.evaluate(val_dataset)\n",
        "\n",
        "\n",
        "\n",
        "model_2_probs = model_2.predict(val_dataset)\n",
        "model_2_probs\n",
        "model_2_preds = tf.argmax(model_2_probs, axis=1)\n",
        "model_2_preds\n",
        "# Calculate model_2 results\n",
        "model_2_results = calculate_results(y_true=val_labels_encoder,\n",
        "                                    y_pred=model_2_preds)\n",
        "model_2_results\n"
      ],
      "metadata": {
        "colab": {
          "base_uri": "https://localhost:8080/"
        },
        "id": "9Sa-nqzVjfBz",
        "outputId": "6fe69c50-568e-41a3-be4e-ce0bfd676dd4"
      },
      "execution_count": 48,
      "outputs": [
        {
          "output_type": "stream",
          "name": "stdout",
          "text": [
            "945/945 [==============================] - 11s 12ms/step - loss: 0.7213 - accuracy: 0.7250\n",
            "945/945 [==============================] - 10s 11ms/step\n"
          ]
        },
        {
          "output_type": "execute_result",
          "data": {
            "text/plain": [
              "{'accuracy': 72.50430292598968,\n",
              " 'precision': 0.7226554673353053,\n",
              " 'recall': 0.7250430292598967,\n",
              " 'f1': 0.7216072981257485}"
            ]
          },
          "metadata": {},
          "execution_count": 48
        }
      ]
    },
    {
      "cell_type": "markdown",
      "source": [
        "## Model 3: Conv1D with character embeddings"
      ],
      "metadata": {
        "id": "Z-IzxXnsr763"
      }
    },
    {
      "cell_type": "code",
      "source": [
        "# prompt: Make function to split sentences into characters vand join them with a space\n",
        "\n",
        "def sentence_to_characters(sentence):\n",
        "  \"\"\"\n",
        "  Split a sentence into characters and join them with a space.\n",
        "  This is to make the sentence compatible with the character embedding layer.\n",
        "  \"\"\"\n",
        "  return ' '.join(list(sentence))\n",
        "\n",
        "\n",
        "sentence_to_characters(target_sentence)"
      ],
      "metadata": {
        "id": "z6H-8vG9r6-o",
        "colab": {
          "base_uri": "https://localhost:8080/",
          "height": 36
        },
        "outputId": "4339ea25-04ed-4349-ca14-57f8228f0878"
      },
      "execution_count": 49,
      "outputs": [
        {
          "output_type": "execute_result",
          "data": {
            "text/plain": [
              "'F o l l o w - u p   a v e r a g e d   l o n g e r   t h a n   @   y e a r s   .'"
            ],
            "application/vnd.google.colaboratory.intrinsic+json": {
              "type": "string"
            }
          },
          "metadata": {},
          "execution_count": 49
        }
      ]
    },
    {
      "cell_type": "code",
      "source": [
        "# prompt: split sequence level data splits into character level data splits\n",
        "\n",
        "train_sentences_characters = [sentence_to_characters(sentence) for sentence in train_sentences]\n",
        "val_sentences_characters = [sentence_to_characters(sentence) for sentence in val_sentences]\n",
        "test_sentences_characters = [sentence_to_characters(sentence) for sentence in test_sentences]\n"
      ],
      "metadata": {
        "id": "9BNjhxtDnjkf"
      },
      "execution_count": 50,
      "outputs": []
    },
    {
      "cell_type": "code",
      "source": [
        "test_sentences_characters[1]"
      ],
      "metadata": {
        "colab": {
          "base_uri": "https://localhost:8080/",
          "height": 88
        },
        "id": "qoj4oCtonjhf",
        "outputId": "e632e455-4fe0-49ed-8b6f-972e5ed7d965"
      },
      "execution_count": 51,
      "outputs": [
        {
          "output_type": "execute_result",
          "data": {
            "text/plain": [
              "'A   p o s t   h o c   a n a l y s i s   w a s   c o n d u c t e d   w i t h   t h e   u s e   o f   d a t a   f r o m   t h e   E v a l u a t i o n   S t u d y   o f   C o n g e s t i v e   H e a r t   F a i l u r e   a n d   P u l m o n a r y   A r t e r y   C a t h e t e r i z a t i o n   E f f e c t i v e n e s s   (   E S C A P E   )   .'"
            ],
            "application/vnd.google.colaboratory.intrinsic+json": {
              "type": "string"
            }
          },
          "metadata": {},
          "execution_count": 51
        }
      ]
    },
    {
      "cell_type": "code",
      "source": [
        "char_lens = [len(sentence) for sentence in train_sentences]\n",
        "mean_char_len = np.mean(char_lens)\n",
        "mean_char_len"
      ],
      "metadata": {
        "colab": {
          "base_uri": "https://localhost:8080/"
        },
        "id": "TiWqeKlfnje4",
        "outputId": "c589c058-7fbe-4a9f-c522-e721f9fbe283"
      },
      "execution_count": 52,
      "outputs": [
        {
          "output_type": "execute_result",
          "data": {
            "text/plain": [
              "149.3662574983337"
            ]
          },
          "metadata": {},
          "execution_count": 52
        }
      ]
    },
    {
      "cell_type": "code",
      "source": [
        "char_lens[:3]"
      ],
      "metadata": {
        "colab": {
          "base_uri": "https://localhost:8080/"
        },
        "id": "OgDYOOTBo_zH",
        "outputId": "a375fad5-c3c6-4bed-b5b6-8b5066014604"
      },
      "execution_count": 53,
      "outputs": [
        {
          "output_type": "execute_result",
          "data": {
            "text/plain": [
              "[281, 137, 111]"
            ]
          },
          "metadata": {},
          "execution_count": 53
        }
      ]
    },
    {
      "cell_type": "code",
      "source": [
        "# prompt: check the distibution of our sequences at character level\n",
        "\n",
        "plt.hist(char_lens)\n",
        "plt.xlabel(\"Character length\")\n",
        "plt.ylabel(\"Count\")\n",
        "plt.title(\"Distribution of character lengths in the training set\")\n",
        "plt.show()\n"
      ],
      "metadata": {
        "colab": {
          "base_uri": "https://localhost:8080/",
          "height": 472
        },
        "id": "OEL5unFOnjco",
        "outputId": "2624e2fd-9235-4a00-dcb9-16f78ff44440"
      },
      "execution_count": 54,
      "outputs": [
        {
          "output_type": "display_data",
          "data": {
            "text/plain": [
              "<Figure size 640x480 with 1 Axes>"
            ],
            "image/png": "[encoded data removed]"
          },
          "metadata": {}
        }
      ]
    },
    {
      "cell_type": "code",
      "source": [
        "# prompt: get the 95 percent\n",
        "\n",
        "output_seq_char_len = int(np.percentile(char_lens, 95))\n",
        "output_seq_char_len"
      ],
      "metadata": {
        "colab": {
          "base_uri": "https://localhost:8080/"
        },
        "id": "7XUk-gFlnjaA",
        "outputId": "6dc7ebdb-62a8-45c7-910b-724745134076"
      },
      "execution_count": 55,
      "outputs": [
        {
          "output_type": "execute_result",
          "data": {
            "text/plain": [
              "290"
            ]
          },
          "metadata": {},
          "execution_count": 55
        }
      ]
    },
    {
      "cell_type": "code",
      "source": [
        "# prompt: Get all keyboard characters for char-level embedding\n",
        "\n",
        "import string\n",
        "all_characters = list(string.ascii_lowercase + string.punctuation +string.digits + ' ')\n",
        "all_characters"
      ],
      "metadata": {
        "colab": {
          "base_uri": "https://localhost:8080/"
        },
        "id": "g-nGeybxnjXn",
        "outputId": "bbf70858-2d32-41c7-c173-f9bef17927d2"
      },
      "execution_count": 56,
      "outputs": [
        {
          "output_type": "execute_result",
          "data": {
            "text/plain": [
              "['a',\n",
              " 'b',\n",
              " 'c',\n",
              " 'd',\n",
              " 'e',\n",
              " 'f',\n",
              " 'g',\n",
              " 'h',\n",
              " 'i',\n",
              " 'j',\n",
              " 'k',\n",
              " 'l',\n",
              " 'm',\n",
              " 'n',\n",
              " 'o',\n",
              " 'p',\n",
              " 'q',\n",
              " 'r',\n",
              " 's',\n",
              " 't',\n",
              " 'u',\n",
              " 'v',\n",
              " 'w',\n",
              " 'x',\n",
              " 'y',\n",
              " 'z',\n",
              " '!',\n",
              " '\"',\n",
              " '#',\n",
              " '$',\n",
              " '%',\n",
              " '&',\n",
              " \"'\",\n",
              " '(',\n",
              " ')',\n",
              " '*',\n",
              " '+',\n",
              " ',',\n",
              " '-',\n",
              " '.',\n",
              " '/',\n",
              " ':',\n",
              " ';',\n",
              " '<',\n",
              " '=',\n",
              " '>',\n",
              " '?',\n",
              " '@',\n",
              " '[',\n",
              " '\\\\',\n",
              " ']',\n",
              " '^',\n",
              " '_',\n",
              " '`',\n",
              " '{',\n",
              " '|',\n",
              " '}',\n",
              " '~',\n",
              " '0',\n",
              " '1',\n",
              " '2',\n",
              " '3',\n",
              " '4',\n",
              " '5',\n",
              " '6',\n",
              " '7',\n",
              " '8',\n",
              " '9',\n",
              " ' ']"
            ]
          },
          "metadata": {},
          "execution_count": 56
        }
      ]
    },
    {
      "cell_type": "code",
      "source": [
        "NUM_CHAR_TOKENS = len(all_characters) + 1\n",
        "char_vectorizer = tf.keras.layers.TextVectorization(\n",
        "    max_tokens=NUM_CHAR_TOKENS,\n",
        "    output_sequence_length=output_seq_char_len,\n",
        "    standardize='lower_and_strip_punctuation',\n",
        "    name='char_vectorizer'\n",
        ")\n",
        "\n",
        "char_vectorizer.adapt(train_sentences_characters)"
      ],
      "metadata": {
        "id": "e_eFFARZnjVQ"
      },
      "execution_count": 57,
      "outputs": []
    },
    {
      "cell_type": "code",
      "source": [
        "# prompt: Check character vocabulary characteristics\n",
        "\n",
        "char_vocab = char_vectorizer.get_vocabulary()\n",
        "char_vocab[:5], char_vocab[-5:]"
      ],
      "metadata": {
        "colab": {
          "base_uri": "https://localhost:8080/"
        },
        "id": "IMYda4Pfrlb1",
        "outputId": "17ecba2b-5976-478b-d110-e84a1e651bf3"
      },
      "execution_count": 58,
      "outputs": [
        {
          "output_type": "execute_result",
          "data": {
            "text/plain": [
              "(['', '[UNK]', 'e', 't', 'i'], ['k', 'x', 'z', 'q', 'j'])"
            ]
          },
          "metadata": {},
          "execution_count": 58
        }
      ]
    },
    {
      "cell_type": "code",
      "source": [
        "# prompt: test a random senteces\n",
        "\n",
        "random_sentence = random.choice(train_sentences)\n",
        "print(f\"Example sentence: {random_sentence}\")\n",
        "example_sentence_characters = sentence_to_characters(random_sentence)\n",
        "print(f\"\\nExample sentence characters: {example_sentence_characters}\")\n",
        "example_sentence_char_vectors = char_vectorizer(example_sentence_characters)\n",
        "print(f\"\\nExample sentence character vectors: {example_sentence_char_vectors}\")\n"
      ],
      "metadata": {
        "colab": {
          "base_uri": "https://localhost:8080/"
        },
        "id": "wp8zjyllrlZl",
        "outputId": "c3c608b6-193a-40fa-b02a-b81e658037d8"
      },
      "execution_count": 59,
      "outputs": [
        {
          "output_type": "stream",
          "name": "stdout",
          "text": [
            "Example sentence: The need for additional rescue analgesic , duration of functional recovery , and adverse effects were assessed for the first @ days after surgery .\n",
            "\n",
            "Example sentence characters: T h e   n e e d   f o r   a d d i t i o n a l   r e s c u e   a n a l g e s i c   ,   d u r a t i o n   o f   f u n c t i o n a l   r e c o v e r y   ,   a n d   a d v e r s e   e f f e c t s   w e r e   a s s e s s e d   f o r   t h e   f i r s t   @   d a y s   a f t e r   s u r g e r y   .\n",
            "\n",
            "Example sentence character vectors: [ 3 13  2  6  2  2 10 17  7  8  5 10 10  4  3  4  7  6  5 12  8  2  9 11\n",
            " 16  2  5  6  5 12 18  2  9  4 11 10 16  8  5  3  4  7  6  7 17 17 16  6\n",
            " 11  3  4  7  6  5 12  8  2 11  7 21  2  8 19  5  6 10  5 10 21  2  8  9\n",
            "  2  2 17 17  2 11  3  9 20  2  8  2  5  9  9  2  9  9  2 10 17  7  8  3\n",
            " 13  2 17  4  8  9  3 10  5 19  9  5 17  3  2  8  9 16  8 18  2  8 19  0\n",
            "  0  0  0  0  0  0  0  0  0  0  0  0  0  0  0  0  0  0  0  0  0  0  0  0\n",
            "  0  0  0  0  0  0  0  0  0  0  0  0  0  0  0  0  0  0  0  0  0  0  0  0\n",
            "  0  0  0  0  0  0  0  0  0  0  0  0  0  0  0  0  0  0  0  0  0  0  0  0\n",
            "  0  0  0  0  0  0  0  0  0  0  0  0  0  0  0  0  0  0  0  0  0  0  0  0\n",
            "  0  0  0  0  0  0  0  0  0  0  0  0  0  0  0  0  0  0  0  0  0  0  0  0\n",
            "  0  0  0  0  0  0  0  0  0  0  0  0  0  0  0  0  0  0  0  0  0  0  0  0\n",
            "  0  0  0  0  0  0  0  0  0  0  0  0  0  0  0  0  0  0  0  0  0  0  0  0\n",
            "  0  0]\n"
          ]
        }
      ]
    },
    {
      "cell_type": "markdown",
      "source": [
        "## Creating a character-level embedding\n"
      ],
      "metadata": {
        "id": "LPFZAc41uxJU"
      }
    },
    {
      "cell_type": "code",
      "source": [
        "# prompt: create a character level embedding\n",
        "\n",
        "char_embed = layers.Embedding(input_dim=NUM_CHAR_TOKENS,\n",
        "                                output_dim=25,\n",
        "                              mask_zero=True,\n",
        "                                name='char_embed')\n"
      ],
      "metadata": {
        "id": "4lnN-tx4rlXl"
      },
      "execution_count": 60,
      "outputs": []
    },
    {
      "cell_type": "code",
      "source": [
        "# prompt: test out char_embed with a random sentence and use prints to see each stage\n",
        "\n",
        "random_sentence = random.choice(train_sentences)\n",
        "print(f\"Example sentence: {random_sentence}\")\n",
        "example_sentence_characters = sentence_to_characters(random_sentence)\n",
        "print(f\"\\nExample sentence characters: {example_sentence_characters}\")\n",
        "example_sentence_char_vectors = char_vectorizer(example_sentence_characters)\n",
        "print(f\"\\nExample sentence character vectors: {example_sentence_char_vectors}\")\n",
        "example_char_embed_output = char_embed(example_sentence_char_vectors)\n",
        "print(f\"\\nExample sentence character embedding output: {example_char_embed_output}\")\n",
        "example_char_embed_output.shape"
      ],
      "metadata": {
        "colab": {
          "base_uri": "https://localhost:8080/"
        },
        "id": "4zbIqJtRrlU-",
        "outputId": "75ef6d6a-6007-48f3-9e8c-5c38b9a971bd"
      },
      "execution_count": 61,
      "outputs": [
        {
          "output_type": "stream",
          "name": "stdout",
          "text": [
            "Example sentence: Vaginal and urinary symptoms , and quality of life improved postoperatively in each group .\n",
            "\n",
            "Example sentence characters: V a g i n a l   a n d   u r i n a r y   s y m p t o m s   ,   a n d   q u a l i t y   o f   l i f e   i m p r o v e d   p o s t o p e r a t i v e l y   i n   e a c h   g r o u p   .\n",
            "\n",
            "Example sentence character vectors: [21  5 18  4  6  5 12  5  6 10 16  8  4  6  5  8 19  9 19 15 14  3  7 15\n",
            "  9  5  6 10 26 16  5 12  4  3 19  7 17 12  4 17  2  4 15 14  8  7 21  2\n",
            " 10 14  7  9  3  7 14  2  8  5  3  4 21  2 12 19  4  6  2  5 11 13 18  8\n",
            "  7 16 14  0  0  0  0  0  0  0  0  0  0  0  0  0  0  0  0  0  0  0  0  0\n",
            "  0  0  0  0  0  0  0  0  0  0  0  0  0  0  0  0  0  0  0  0  0  0  0  0\n",
            "  0  0  0  0  0  0  0  0  0  0  0  0  0  0  0  0  0  0  0  0  0  0  0  0\n",
            "  0  0  0  0  0  0  0  0  0  0  0  0  0  0  0  0  0  0  0  0  0  0  0  0\n",
            "  0  0  0  0  0  0  0  0  0  0  0  0  0  0  0  0  0  0  0  0  0  0  0  0\n",
            "  0  0  0  0  0  0  0  0  0  0  0  0  0  0  0  0  0  0  0  0  0  0  0  0\n",
            "  0  0  0  0  0  0  0  0  0  0  0  0  0  0  0  0  0  0  0  0  0  0  0  0\n",
            "  0  0  0  0  0  0  0  0  0  0  0  0  0  0  0  0  0  0  0  0  0  0  0  0\n",
            "  0  0  0  0  0  0  0  0  0  0  0  0  0  0  0  0  0  0  0  0  0  0  0  0\n",
            "  0  0]\n",
            "\n",
            "Example sentence character embedding output: [[ 2.6217811e-03 -2.5082380e-05  8.1524365e-03 ...  4.0212050e-03\n",
            "   4.4808362e-02  3.9070215e-02]\n",
            " [ 1.0297466e-02 -4.3953788e-02  1.9520748e-02 ... -2.7192581e-02\n",
            "   4.2606417e-02 -2.6555598e-02]\n",
            " [-3.8833488e-02 -1.4753617e-02 -2.3652304e-02 ...  3.9041042e-03\n",
            "  -2.7426315e-02  2.6321482e-02]\n",
            " ...\n",
            " [-2.8393103e-02 -3.6416698e-02 -3.3024181e-02 ...  3.3526991e-02\n",
            "   5.0082579e-03  3.8025919e-02]\n",
            " [-2.8393103e-02 -3.6416698e-02 -3.3024181e-02 ...  3.3526991e-02\n",
            "   5.0082579e-03  3.8025919e-02]\n",
            " [-2.8393103e-02 -3.6416698e-02 -3.3024181e-02 ...  3.3526991e-02\n",
            "   5.0082579e-03  3.8025919e-02]]\n"
          ]
        },
        {
          "output_type": "execute_result",
          "data": {
            "text/plain": [
              "TensorShape([290, 25])"
            ]
          },
          "metadata": {},
          "execution_count": 61
        }
      ]
    },
    {
      "cell_type": "markdown",
      "source": [
        "## Building a Conv1D model to fit on character embeddings\n"
      ],
      "metadata": {
        "id": "hn0KJFPtwDpD"
      }
    },
    {
      "cell_type": "code",
      "source": [
        "# prompt: make a conv1d model only using chars\n",
        "\n",
        "inputs = layers.Input(shape=(1,), dtype=tf.string)\n",
        "char_vectors = char_vectorizer(inputs)\n",
        "char_embeddings = char_embed(char_vectors)\n",
        "x = layers.Conv1D(64, kernel_size=5, padding='same')(char_embeddings)\n",
        "x = layers.GlobalMaxPool1D()(x)\n",
        "outputs = layers.Dense(num_classes, activation='softmax')(x)\n",
        "model_3 = tf.keras.Model(inputs, outputs)\n",
        "\n",
        "model_3.compile(\n",
        "    loss='categorical_crossentropy',\n",
        "    optimizer=tf.keras.optimizers.Adam(),\n",
        "    metrics=['accuracy']\n",
        ")\n",
        "\n",
        "model_3.summary()\n"
      ],
      "metadata": {
        "colab": {
          "base_uri": "https://localhost:8080/"
        },
        "id": "lPaZt-ItrlQw",
        "outputId": "c92807ae-1455-4714-862f-51d44fafef73"
      },
      "execution_count": 62,
      "outputs": [
        {
          "output_type": "stream",
          "name": "stdout",
          "text": [
            "Model: \"model_2\"\n",
            "_________________________________________________________________\n",
            " Layer (type)                Output Shape              Param #   \n",
            "=================================================================\n",
            " input_3 (InputLayer)        [(None, 1)]               0         \n",
            "                                                                 \n",
            " char_vectorizer (TextVecto  (None, 290)               0         \n",
            " rization)                                                       \n",
            "                                                                 \n",
            " char_embed (Embedding)      (None, 290, 25)           1750      \n",
            "                                                                 \n",
            " conv1d_1 (Conv1D)           (None, 290, 64)           8064      \n",
            "                                                                 \n",
            " global_max_pooling1d (Glob  (None, 64)                0         \n",
            " alMaxPooling1D)                                                 \n",
            "                                                                 \n",
            " dense_3 (Dense)             (None, 5)                 325       \n",
            "                                                                 \n",
            "=================================================================\n",
            "Total params: 10139 (39.61 KB)\n",
            "Trainable params: 10139 (39.61 KB)\n",
            "Non-trainable params: 0 (0.00 Byte)\n",
            "_________________________________________________________________\n"
          ]
        }
      ]
    },
    {
      "cell_type": "code",
      "source": [
        "# prompt: now create a character level batched and prefetched dataset using tf.Data\n",
        "\n",
        "char_batch = 32\n",
        "train_char_dataset  = tf.data.Dataset.from_tensor_slices((train_sentences_characters, train_labels_one_hot))\n",
        "train_char_dataset  = train_char_dataset.shuffle(buffer_size=1024).batch(char_batch).prefetch(tf.data.AUTOTUNE)\n",
        "\n",
        "val_char_dataset = tf.data.Dataset.from_tensor_slices((val_sentences_characters, val_labels_one_hot))\n",
        "val_char_dataset = val_char_dataset.batch(char_batch).prefetch(tf.data.AUTOTUNE)\n",
        "\n",
        "test_char_dataset = tf.data.Dataset.from_tensor_slices((test_sentences_characters, test_labels_one_hot))\n",
        "test_char_dataset = test_char_dataset.batch(char_batch).prefetch(tf.data.AUTOTUNE)\n"
      ],
      "metadata": {
        "id": "g9EVZ9hiwrb6"
      },
      "execution_count": 63,
      "outputs": []
    },
    {
      "cell_type": "code",
      "source": [
        "model_3_history = model_3.fit(\n",
        "    train_char_dataset,\n",
        "    steps_per_epoch=int(0.1*len(train_char_dataset)),\n",
        "    epochs=5,\n",
        "    validation_data=val_char_dataset,\n",
        "    validation_steps=int(0.1*len(val_char_dataset))\n",
        ")\n"
      ],
      "metadata": {
        "colab": {
          "base_uri": "https://localhost:8080/"
        },
        "id": "A4FduiDzwmVr",
        "outputId": "4418f8cc-da53-4750-91bc-8eabd80e1fe6"
      },
      "execution_count": 64,
      "outputs": [
        {
          "output_type": "stream",
          "name": "stdout",
          "text": [
            "Epoch 1/5\n",
            "562/562 [==============================] - 5s 7ms/step - loss: 1.2440 - accuracy: 0.4932 - val_loss: 1.0377 - val_accuracy: 0.5824\n",
            "Epoch 2/5\n",
            "562/562 [==============================] - 3s 6ms/step - loss: 0.9908 - accuracy: 0.6033 - val_loss: 0.9339 - val_accuracy: 0.6223\n",
            "Epoch 3/5\n",
            "562/562 [==============================] - 3s 6ms/step - loss: 0.9151 - accuracy: 0.6442 - val_loss: 0.8727 - val_accuracy: 0.6546\n",
            "Epoch 4/5\n",
            "562/562 [==============================] - 3s 5ms/step - loss: 0.8644 - accuracy: 0.6633 - val_loss: 0.8382 - val_accuracy: 0.6745\n",
            "Epoch 5/5\n",
            "562/562 [==============================] - 4s 7ms/step - loss: 0.8487 - accuracy: 0.6691 - val_loss: 0.8132 - val_accuracy: 0.6825\n"
          ]
        }
      ]
    },
    {
      "cell_type": "code",
      "source": [
        "model_3.evaluate(val_char_dataset)\n"
      ],
      "metadata": {
        "colab": {
          "base_uri": "https://localhost:8080/"
        },
        "id": "_Kai-MlTrlMN",
        "outputId": "0e903dbd-a663-4162-e0b4-4a59a69bd8e0"
      },
      "execution_count": 65,
      "outputs": [
        {
          "output_type": "stream",
          "name": "stdout",
          "text": [
            "945/945 [==============================] - 3s 3ms/step - loss: 0.8229 - accuracy: 0.6836\n"
          ]
        },
        {
          "output_type": "execute_result",
          "data": {
            "text/plain": [
              "[0.8228756189346313, 0.6836025714874268]"
            ]
          },
          "metadata": {},
          "execution_count": 65
        }
      ]
    },
    {
      "cell_type": "code",
      "source": [
        "\n",
        "model_3_probs = model_3.predict(val_char_dataset)\n",
        "model_3_probs\n",
        "model_3_preds = tf.argmax(model_3_probs, axis=1)\n",
        "model_3_preds\n",
        "# Calculate model_3 results\n",
        "model_3_results = calculate_results(y_true=val_labels_encoder,\n",
        "                                    y_pred=model_3_preds)\n",
        "model_3_results"
      ],
      "metadata": {
        "colab": {
          "base_uri": "https://localhost:8080/"
        },
        "id": "QeWSr0QPz3ah",
        "outputId": "fb081147-5340-4104-ea3c-3dc7f2401cc5"
      },
      "execution_count": 66,
      "outputs": [
        {
          "output_type": "stream",
          "name": "stdout",
          "text": [
            "945/945 [==============================] - 3s 3ms/step\n"
          ]
        },
        {
          "output_type": "execute_result",
          "data": {
            "text/plain": [
              "{'accuracy': 68.3602542036277,\n",
              " 'precision': 0.6841588337056546,\n",
              " 'recall': 0.683602542036277,\n",
              " 'f1': 0.6791566125793015}"
            ]
          },
          "metadata": {},
          "execution_count": 66
        }
      ]
    },
    {
      "cell_type": "markdown",
      "source": [
        "## Model 4: Combining pretrained token embeddings + character embeddings (hybrid embedding layer)"
      ],
      "metadata": {
        "id": "Bn23PpCg0ReS"
      }
    },
    {
      "cell_type": "code",
      "source": [
        "#1. Set up token inputs/model\n",
        "token_inputs = layers.Input(shape=[], dtype=tf.string, name='token_inputs')\n",
        "token_embeddings = tf_hub_embedding_layer(token_inputs)\n",
        "token_output = layers.Dense(128, activation='relu')(token_embeddings)\n",
        "token_model = tf.keras.Model(inputs=token_inputs,\n",
        "                             outputs=token_output)\n",
        "\n",
        "#2. Set up char inputs/model\n",
        "char_inputs = layers.Input(shape=(1,), dtype=tf.string, name='char_inputs')\n",
        "char_vectors = char_vectorizer(char_inputs)\n",
        "char_embeddings = char_embed(char_vectors)\n",
        "char_bi_lstm = layers.Bidirectional(layers.LSTM(25))(char_embeddings)\n",
        "\n",
        "char_model = tf.keras.Model(inputs=char_inputs,\n",
        "                            outputs=char_bi_lstm)\n",
        "\n",
        "from tensorflow.keras import layers\n",
        "\n",
        "# Assuming token_output and char_bi_lstm are your input layers or tensors\n",
        "token_char_concat = layers.Concatenate(name='token_char_hybrid')([token_model.output, char_model.output])\n",
        "\n",
        "#4. Create output layers\n",
        "combine_dropout = layers.Dropout(0.5)(token_char_concat)\n",
        "combined_dense = layers.Dense(200, activation='relu')(combine_dropout)\n",
        "final_dropout = layers.Dropout(0.5)(combined_dense)\n",
        "output_layer = layers.Dense(num_classes, activation='softmax')(final_dropout)\n",
        "\n",
        "#5. Construct model with char and token inputs\n",
        "model_4 = tf.keras.Model(inputs=[token_model.input, char_model.input],\n",
        "                         outputs=output_layer,\n",
        "                         name='model_4_token_and_char_embedding')\n"
      ],
      "metadata": {
        "id": "GTqU4dXNwGyr"
      },
      "execution_count": 67,
      "outputs": []
    },
    {
      "cell_type": "code",
      "source": [
        "model_4.summary()"
      ],
      "metadata": {
        "colab": {
          "base_uri": "https://localhost:8080/"
        },
        "id": "y_Oa7gnswGwj",
        "outputId": "b613e812-b333-49eb-ce39-67c45d1164a7"
      },
      "execution_count": 68,
      "outputs": [
        {
          "output_type": "stream",
          "name": "stdout",
          "text": [
            "Model: \"model_4_token_and_char_embedding\"\n",
            "__________________________________________________________________________________________________\n",
            " Layer (type)                Output Shape                 Param #   Connected to                  \n",
            "==================================================================================================\n",
            " char_inputs (InputLayer)    [(None, 1)]                  0         []                            \n",
            "                                                                                                  \n",
            " token_inputs (InputLayer)   [(None,)]                    0         []                            \n",
            "                                                                                                  \n",
            " char_vectorizer (TextVecto  (None, 290)                  0         ['char_inputs[0][0]']         \n",
            " rization)                                                                                        \n",
            "                                                                                                  \n",
            " universal_sentence_encoder  (None, 512)                  2567978   ['token_inputs[0][0]']        \n",
            "  (KerasLayer)                                            24                                      \n",
            "                                                                                                  \n",
            " char_embed (Embedding)      (None, 290, 25)              1750      ['char_vectorizer[1][0]']     \n",
            "                                                                                                  \n",
            " dense_4 (Dense)             (None, 128)                  65664     ['universal_sentence_encoder[1\n",
            "                                                                    ][0]']                        \n",
            "                                                                                                  \n",
            " bidirectional (Bidirection  (None, 50)                   10200     ['char_embed[1][0]']          \n",
            " al)                                                                                              \n",
            "                                                                                                  \n",
            " token_char_hybrid (Concate  (None, 178)                  0         ['dense_4[0][0]',             \n",
            " nate)                                                               'bidirectional[0][0]']       \n",
            "                                                                                                  \n",
            " dropout (Dropout)           (None, 178)                  0         ['token_char_hybrid[0][0]']   \n",
            "                                                                                                  \n",
            " dense_5 (Dense)             (None, 200)                  35800     ['dropout[0][0]']             \n",
            "                                                                                                  \n",
            " dropout_1 (Dropout)         (None, 200)                  0         ['dense_5[0][0]']             \n",
            "                                                                                                  \n",
            " dense_6 (Dense)             (None, 5)                    1005      ['dropout_1[0][0]']           \n",
            "                                                                                                  \n",
            "==================================================================================================\n",
            "Total params: 256912243 (980.04 MB)\n",
            "Trainable params: 114419 (446.95 KB)\n",
            "Non-trainable params: 256797824 (979.61 MB)\n",
            "__________________________________________________________________________________________________\n"
          ]
        }
      ]
    },
    {
      "cell_type": "code",
      "source": [
        "# Plot hybrid token and character model\n",
        "from keras.utils import plot_model\n",
        "plot_model(model_4)"
      ],
      "metadata": {
        "colab": {
          "base_uri": "https://localhost:8080/",
          "height": 856
        },
        "id": "x7F_2tdpwGuL",
        "outputId": "da787c5d-5486-4493-ef34-59b357f5858c"
      },
      "execution_count": 69,
      "outputs": [
        {
          "output_type": "execute_result",
          "data": {
            "image/png": "[encoded data removed]",
            "text/plain": [
              "<IPython.core.display.Image object>"
            ]
          },
          "metadata": {},
          "execution_count": 69
        }
      ]
    },
    {
      "cell_type": "code",
      "source": [
        "# prompt: compile model 4\n",
        "\n",
        "model_4.compile(\n",
        "    loss='categorical_crossentropy',\n",
        "    optimizer=tf.keras.optimizers.Adam(),\n",
        "    metrics=['accuracy']\n",
        ")\n"
      ],
      "metadata": {
        "id": "CfmDrs7nOz_T"
      },
      "execution_count": 70,
      "outputs": []
    },
    {
      "cell_type": "code",
      "source": [
        "\n",
        "# Combine chars and tokens into a dataset\n",
        "train_char_token_data = tf.data.Dataset.from_tensor_slices((train_sentences, train_sentences_characters)) # make data\n",
        "train_char_token_labels = tf.data.Dataset.from_tensor_slices(train_labels_one_hot) # make labels\n",
        "train_char_token_dataset = tf.data.Dataset.zip((train_char_token_data, train_char_token_labels)) # combine data and labels\n",
        "\n",
        "\n",
        "\n",
        "# Prefetch and batch train data\n",
        "train_char_token_dataset = train_char_token_dataset.batch(32)"
      ],
      "metadata": {
        "id": "1bFbIXF4Oz9m"
      },
      "execution_count": 71,
      "outputs": []
    },
    {
      "cell_type": "code",
      "source": [
        "# Repeat same steps validation data\n",
        "val_char_token_data = tf.data.Dataset.from_tensor_slices((val_sentences, val_sentences_characters))\n",
        "val_char_token_labels = tf.data.Dataset.from_tensor_slices(val_labels_one_hot)\n",
        "val_char_token_dataset = tf.data.Dataset.zip((val_char_token_data, val_char_token_labels))\n",
        "val_char_token_dataset = val_char_token_dataset.batch(32).prefetch(tf.data.AUTOTUNE)\n"
      ],
      "metadata": {
        "id": "aa0QWrQ8Oz7m"
      },
      "execution_count": 72,
      "outputs": []
    },
    {
      "cell_type": "code",
      "source": [
        "\n",
        "# Check out training char and token embedding dataset\n",
        "train_char_token_dataset, val_char_token_dataset"
      ],
      "metadata": {
        "colab": {
          "base_uri": "https://localhost:8080/"
        },
        "id": "gYyI7Ej11vGH",
        "outputId": "1653d4c7-922f-4631-8e03-1deefd51583d"
      },
      "execution_count": 73,
      "outputs": [
        {
          "output_type": "execute_result",
          "data": {
            "text/plain": [
              "(<_BatchDataset element_spec=((TensorSpec(shape=(None,), dtype=tf.string, name=None), TensorSpec(shape=(None,), dtype=tf.string, name=None)), TensorSpec(shape=(None, 5), dtype=tf.float64, name=None))>,\n",
              " <_PrefetchDataset element_spec=((TensorSpec(shape=(None,), dtype=tf.string, name=None), TensorSpec(shape=(None,), dtype=tf.string, name=None)), TensorSpec(shape=(None, 5), dtype=tf.float64, name=None))>)"
            ]
          },
          "metadata": {},
          "execution_count": 73
        }
      ]
    },
    {
      "cell_type": "code",
      "source": [
        "# prompt: fit model 4\n",
        "\n",
        "history_4 = model_4.fit(\n",
        "    train_char_token_dataset,\n",
        "    steps_per_epoch=int(0.1*len(train_char_token_dataset)),\n",
        "    epochs=5,\n",
        "    validation_data=val_char_token_dataset,\n",
        "    validation_steps=int(0.1*len(val_char_token_dataset))\n",
        ")\n"
      ],
      "metadata": {
        "colab": {
          "base_uri": "https://localhost:8080/"
        },
        "id": "E4SuLNZY1vCN",
        "outputId": "8515584f-d3f1-4f97-bb8a-bcb3cafbfb8c"
      },
      "execution_count": 74,
      "outputs": [
        {
          "output_type": "stream",
          "name": "stdout",
          "text": [
            "Epoch 1/5\n",
            "562/562 [==============================] - 42s 53ms/step - loss: 0.9706 - accuracy: 0.6158 - val_loss: 0.7702 - val_accuracy: 0.7064\n",
            "Epoch 2/5\n",
            "562/562 [==============================] - 27s 48ms/step - loss: 0.7920 - accuracy: 0.6927 - val_loss: 0.7110 - val_accuracy: 0.7287\n",
            "Epoch 3/5\n",
            "562/562 [==============================] - 26s 46ms/step - loss: 0.7666 - accuracy: 0.7045 - val_loss: 0.6854 - val_accuracy: 0.7420\n",
            "Epoch 4/5\n",
            "562/562 [==============================] - 33s 60ms/step - loss: 0.7371 - accuracy: 0.7194 - val_loss: 0.6633 - val_accuracy: 0.7477\n",
            "Epoch 5/5\n",
            "562/562 [==============================] - 49s 87ms/step - loss: 0.7385 - accuracy: 0.7201 - val_loss: 0.6475 - val_accuracy: 0.7520\n"
          ]
        }
      ]
    },
    {
      "cell_type": "code",
      "source": [
        "# prompt: evaluate and make predictions with model 4\n",
        "\n",
        "model_4.evaluate(val_char_token_dataset)\n",
        "\n"
      ],
      "metadata": {
        "colab": {
          "base_uri": "https://localhost:8080/"
        },
        "id": "Kmg8KRz71vAI",
        "outputId": "cd1983e6-603c-4a60-8500-2fc43668b957"
      },
      "execution_count": 75,
      "outputs": [
        {
          "output_type": "stream",
          "name": "stdout",
          "text": [
            "945/945 [==============================] - 36s 38ms/step - loss: 0.6572 - accuracy: 0.7492\n"
          ]
        },
        {
          "output_type": "execute_result",
          "data": {
            "text/plain": [
              "[0.6572403907775879, 0.7492387294769287]"
            ]
          },
          "metadata": {},
          "execution_count": 75
        }
      ]
    },
    {
      "cell_type": "code",
      "source": [
        "model_4_probs = model_4.predict(val_char_token_dataset)\n",
        "model_4_preds = tf.argmax(model_4_probs, axis=1)\n",
        "model_4_results = calculate_results(y_true=val_labels_encoder,\n",
        "                                    y_pred=model_4_preds)\n",
        "model_4_results"
      ],
      "metadata": {
        "colab": {
          "base_uri": "https://localhost:8080/"
        },
        "id": "GQyX9bwU1u93",
        "outputId": "5e5bb47b-b6f1-4158-90f2-8f9f61ce5748"
      },
      "execution_count": 76,
      "outputs": [
        {
          "output_type": "stream",
          "name": "stdout",
          "text": [
            "945/945 [==============================] - 39s 37ms/step\n"
          ]
        },
        {
          "output_type": "execute_result",
          "data": {
            "text/plain": [
              "{'accuracy': 74.92387130941349,\n",
              " 'precision': 0.7465960522998955,\n",
              " 'recall': 0.7492387130941348,\n",
              " 'f1': 0.7437204283479378}"
            ]
          },
          "metadata": {},
          "execution_count": 76
        }
      ]
    },
    {
      "cell_type": "markdown",
      "source": [
        "## Model 5: Transfer Learning with pretrained token embeddings + character embeddings + positional embeddings"
      ],
      "metadata": {
        "id": "NcMcW0GN7kF9"
      }
    },
    {
      "cell_type": "code",
      "source": [
        "train_df.head()"
      ],
      "metadata": {
        "colab": {
          "base_uri": "https://localhost:8080/",
          "height": 258
        },
        "id": "cSiUreSJ1u7Z",
        "outputId": "4e40dc01-f50e-4055-e916-e8d714ca40c6"
      },
      "execution_count": 77,
      "outputs": [
        {
          "output_type": "execute_result",
          "data": {
            "text/plain": [
              "   line_number     target                                               text  \\\n",
              "0            1  OBJECTIVE  To investigate the efficacy of @ weeks of dail...   \n",
              "1            2    METHODS  A total of @ patients with primary knee OA wer...   \n",
              "2            3    METHODS  Outcome measures included pain reduction and i...   \n",
              "3            4    METHODS  Pain was assessed using the visual analog pain...   \n",
              "4            5    METHODS  Secondary outcome measures included the Wester...   \n",
              "\n",
              "   total_lines  \n",
              "0           12  \n",
              "1           12  \n",
              "2           12  \n",
              "3           12  \n",
              "4           12  "
            ],
            "text/html": [
              "\n",
              "  <div id=\"df-7bb12fdf-1a3a-417c-8772-f76ba520cc25\" class=\"colab-df-container\">\n",
              "    <div>\n",
              "<style scoped>\n",
              "    .dataframe tbody tr th:only-of-type {\n",
              "        vertical-align: middle;\n",
              "    }\n",
              "\n",
              "    .dataframe tbody tr th {\n",
              "        vertical-align: top;\n",
              "    }\n",
              "\n",
              "    .dataframe thead th {\n",
              "        text-align: right;\n",
              "    }\n",
              "</style>\n",
              "<table border=\"1\" class=\"dataframe\">\n",
              "  <thead>\n",
              "    <tr style=\"text-align: right;\">\n",
              "      <th></th>\n",
              "      <th>line_number</th>\n",
              "      <th>target</th>\n",
              "      <th>text</th>\n",
              "      <th>total_lines</th>\n",
              "    </tr>\n",
              "  </thead>\n",
              "  <tbody>\n",
              "    <tr>\n",
              "      <th>0</th>\n",
              "      <td>1</td>\n",
              "      <td>OBJECTIVE</td>\n",
              "      <td>To investigate the efficacy of @ weeks of dail...</td>\n",
              "      <td>12</td>\n",
              "    </tr>\n",
              "    <tr>\n",
              "      <th>1</th>\n",
              "      <td>2</td>\n",
              "      <td>METHODS</td>\n",
              "      <td>A total of @ patients with primary knee OA wer...</td>\n",
              "      <td>12</td>\n",
              "    </tr>\n",
              "    <tr>\n",
              "      <th>2</th>\n",
              "      <td>3</td>\n",
              "      <td>METHODS</td>\n",
              "      <td>Outcome measures included pain reduction and i...</td>\n",
              "      <td>12</td>\n",
              "    </tr>\n",
              "    <tr>\n",
              "      <th>3</th>\n",
              "      <td>4</td>\n",
              "      <td>METHODS</td>\n",
              "      <td>Pain was assessed using the visual analog pain...</td>\n",
              "      <td>12</td>\n",
              "    </tr>\n",
              "    <tr>\n",
              "      <th>4</th>\n",
              "      <td>5</td>\n",
              "      <td>METHODS</td>\n",
              "      <td>Secondary outcome measures included the Wester...</td>\n",
              "      <td>12</td>\n",
              "    </tr>\n",
              "  </tbody>\n",
              "</table>\n",
              "</div>\n",
              "    <div class=\"colab-df-buttons\">\n",
              "\n",
              "  <div class=\"colab-df-container\">\n",
              "    <button class=\"colab-df-convert\" onclick=\"convertToInteractive('df-7bb12fdf-1a3a-417c-8772-f76ba520cc25')\"\n",
              "            title=\"Convert this dataframe to an interactive table.\"\n",
              "            style=\"display:none;\">\n",
              "\n",
              "  <svg xmlns=\"http://www.w3.org/2000/svg\" height=\"24px\" viewBox=\"0 -960 960 960\">\n",
              "    <path d=\"M120-120v-720h720v720H120Zm60-500h600v-160H180v160Zm220 220h160v-160H400v160Zm0 220h160v-160H400v160ZM180-400h160v-160H180v160Zm440 0h160v-160H620v160ZM180-180h160v-160H180v160Zm440 0h160v-160H620v160Z\"/>\n",
              "  </svg>\n",
              "    </button>\n",
              "\n",
              "  <style>\n",
              "    .colab-df-container {\n",
              "      display:flex;\n",
              "      gap: 12px;\n",
              "    }\n",
              "\n",
              "    .colab-df-convert {\n",
              "      background-color: #E8F0FE;\n",
              "      border: none;\n",
              "      border-radius: 50%;\n",
              "      cursor: pointer;\n",
              "      display: none;\n",
              "      fill: #1967D2;\n",
              "      height: 32px;\n",
              "      padding: 0 0 0 0;\n",
              "      width: 32px;\n",
              "    }\n",
              "\n",
              "    .colab-df-convert:hover {\n",
              "      background-color: #E2EBFA;\n",
              "      box-shadow: 0px 1px 2px rgba(60, 64, 67, 0.3), 0px 1px 3px 1px rgba(60, 64, 67, 0.15);\n",
              "      fill: #174EA6;\n",
              "    }\n",
              "\n",
              "    .colab-df-buttons div {\n",
              "      margin-bottom: 4px;\n",
              "    }\n",
              "\n",
              "    [theme=dark] .colab-df-convert {\n",
              "      background-color: #3B4455;\n",
              "      fill: #D2E3FC;\n",
              "    }\n",
              "\n",
              "    [theme=dark] .colab-df-convert:hover {\n",
              "      background-color: #434B5C;\n",
              "      box-shadow: 0px 1px 3px 1px rgba(0, 0, 0, 0.15);\n",
              "      filter: drop-shadow(0px 1px 2px rgba(0, 0, 0, 0.3));\n",
              "      fill: #FFFFFF;\n",
              "    }\n",
              "  </style>\n",
              "\n",
              "    <script>\n",
              "      const buttonEl =\n",
              "        document.querySelector('#df-7bb12fdf-1a3a-417c-8772-f76ba520cc25 button.colab-df-convert');\n",
              "      buttonEl.style.display =\n",
              "        google.colab.kernel.accessAllowed ? 'block' : 'none';\n",
              "\n",
              "      async function convertToInteractive(key) {\n",
              "        const element = document.querySelector('#df-7bb12fdf-1a3a-417c-8772-f76ba520cc25');\n",
              "        const dataTable =\n",
              "          await google.colab.kernel.invokeFunction('convertToInteractive',\n",
              "                                                    [key], {});\n",
              "        if (!dataTable) return;\n",
              "\n",
              "        const docLinkHtml = 'Like what you see? Visit the ' +\n",
              "          '<a target=\"_blank\" href=https://colab.research.google.com/notebooks/data_table.ipynb>data table notebook</a>'\n",
              "          + ' to learn more about interactive tables.';\n",
              "        element.innerHTML = '';\n",
              "        dataTable['output_type'] = 'display_data';\n",
              "        await google.colab.output.renderOutput(dataTable, element);\n",
              "        const docLink = document.createElement('div');\n",
              "        docLink.innerHTML = docLinkHtml;\n",
              "        element.appendChild(docLink);\n",
              "      }\n",
              "    </script>\n",
              "  </div>\n",
              "\n",
              "\n",
              "<div id=\"df-b07ac834-10b8-4ee6-bfeb-e1ea69c527c2\">\n",
              "  <button class=\"colab-df-quickchart\" onclick=\"quickchart('df-b07ac834-10b8-4ee6-bfeb-e1ea69c527c2')\"\n",
              "            title=\"Suggest charts\"\n",
              "            style=\"display:none;\">\n",
              "\n",
              "<svg xmlns=\"http://www.w3.org/2000/svg\" height=\"24px\"viewBox=\"0 0 24 24\"\n",
              "     width=\"24px\">\n",
              "    <g>\n",
              "        <path d=\"M19 3H5c-1.1 0-2 .9-2 2v14c0 1.1.9 2 2 2h14c1.1 0 2-.9 2-2V5c0-1.1-.9-2-2-2zM9 17H7v-7h2v7zm4 0h-2V7h2v10zm4 0h-2v-4h2v4z\"/>\n",
              "    </g>\n",
              "</svg>\n",
              "  </button>\n",
              "\n",
              "<style>\n",
              "  .colab-df-quickchart {\n",
              "      --bg-color: #E8F0FE;\n",
              "      --fill-color: #1967D2;\n",
              "      --hover-bg-color: #E2EBFA;\n",
              "      --hover-fill-color: #174EA6;\n",
              "      --disabled-fill-color: #AAA;\n",
              "      --disabled-bg-color: #DDD;\n",
              "  }\n",
              "\n",
              "  [theme=dark] .colab-df-quickchart {\n",
              "      --bg-color: #3B4455;\n",
              "      --fill-color: #D2E3FC;\n",
              "      --hover-bg-color: #434B5C;\n",
              "      --hover-fill-color: #FFFFFF;\n",
              "      --disabled-bg-color: #3B4455;\n",
              "      --disabled-fill-color: #666;\n",
              "  }\n",
              "\n",
              "  .colab-df-quickchart {\n",
              "    background-color: var(--bg-color);\n",
              "    border: none;\n",
              "    border-radius: 50%;\n",
              "    cursor: pointer;\n",
              "    display: none;\n",
              "    fill: var(--fill-color);\n",
              "    height: 32px;\n",
              "    padding: 0;\n",
              "    width: 32px;\n",
              "  }\n",
              "\n",
              "  .colab-df-quickchart:hover {\n",
              "    background-color: var(--hover-bg-color);\n",
              "    box-shadow: 0 1px 2px rgba(60, 64, 67, 0.3), 0 1px 3px 1px rgba(60, 64, 67, 0.15);\n",
              "    fill: var(--button-hover-fill-color);\n",
              "  }\n",
              "\n",
              "  .colab-df-quickchart-complete:disabled,\n",
              "  .colab-df-quickchart-complete:disabled:hover {\n",
              "    background-color: var(--disabled-bg-color);\n",
              "    fill: var(--disabled-fill-color);\n",
              "    box-shadow: none;\n",
              "  }\n",
              "\n",
              "  .colab-df-spinner {\n",
              "    border: 2px solid var(--fill-color);\n",
              "    border-color: transparent;\n",
              "    border-bottom-color: var(--fill-color);\n",
              "    animation:\n",
              "      spin 1s steps(1) infinite;\n",
              "  }\n",
              "\n",
              "  @keyframes spin {\n",
              "    0% {\n",
              "      border-color: transparent;\n",
              "      border-bottom-color: var(--fill-color);\n",
              "      border-left-color: var(--fill-color);\n",
              "    }\n",
              "    20% {\n",
              "      border-color: transparent;\n",
              "      border-left-color: var(--fill-color);\n",
              "      border-top-color: var(--fill-color);\n",
              "    }\n",
              "    30% {\n",
              "      border-color: transparent;\n",
              "      border-left-color: var(--fill-color);\n",
              "      border-top-color: var(--fill-color);\n",
              "      border-right-color: var(--fill-color);\n",
              "    }\n",
              "    40% {\n",
              "      border-color: transparent;\n",
              "      border-right-color: var(--fill-color);\n",
              "      border-top-color: var(--fill-color);\n",
              "    }\n",
              "    60% {\n",
              "      border-color: transparent;\n",
              "      border-right-color: var(--fill-color);\n",
              "    }\n",
              "    80% {\n",
              "      border-color: transparent;\n",
              "      border-right-color: var(--fill-color);\n",
              "      border-bottom-color: var(--fill-color);\n",
              "    }\n",
              "    90% {\n",
              "      border-color: transparent;\n",
              "      border-bottom-color: var(--fill-color);\n",
              "    }\n",
              "  }\n",
              "</style>\n",
              "\n",
              "  <script>\n",
              "    async function quickchart(key) {\n",
              "      const quickchartButtonEl =\n",
              "        document.querySelector('#' + key + ' button');\n",
              "      quickchartButtonEl.disabled = true;  // To prevent multiple clicks.\n",
              "      quickchartButtonEl.classList.add('colab-df-spinner');\n",
              "      try {\n",
              "        const charts = await google.colab.kernel.invokeFunction(\n",
              "            'suggestCharts', [key], {});\n",
              "      } catch (error) {\n",
              "        console.error('Error during call to suggestCharts:', error);\n",
              "      }\n",
              "      quickchartButtonEl.classList.remove('colab-df-spinner');\n",
              "      quickchartButtonEl.classList.add('colab-df-quickchart-complete');\n",
              "    }\n",
              "    (() => {\n",
              "      let quickchartButtonEl =\n",
              "        document.querySelector('#df-b07ac834-10b8-4ee6-bfeb-e1ea69c527c2 button');\n",
              "      quickchartButtonEl.style.display =\n",
              "        google.colab.kernel.accessAllowed ? 'block' : 'none';\n",
              "    })();\n",
              "  </script>\n",
              "</div>\n",
              "\n",
              "    </div>\n",
              "  </div>\n"
            ]
          },
          "metadata": {},
          "execution_count": 77
        }
      ]
    },
    {
      "cell_type": "code",
      "source": [
        "train_df[\"line_number\"].value_counts()"
      ],
      "metadata": {
        "colab": {
          "base_uri": "https://localhost:8080/"
        },
        "id": "ufcXbwE-1u43",
        "outputId": "059e9b40-ab26-4abf-d74c-c48cd6dae06f"
      },
      "execution_count": 78,
      "outputs": [
        {
          "output_type": "execute_result",
          "data": {
            "text/plain": [
              "1     15000\n",
              "2     15000\n",
              "3     15000\n",
              "4     15000\n",
              "5     14992\n",
              "6     14949\n",
              "7     14758\n",
              "8     14279\n",
              "9     13346\n",
              "10    11981\n",
              "11    10041\n",
              "12     7892\n",
              "13     5853\n",
              "14     4152\n",
              "15     2835\n",
              "16     1861\n",
              "17     1188\n",
              "18      751\n",
              "19      462\n",
              "20      286\n",
              "21      162\n",
              "22      101\n",
              "23       66\n",
              "24       33\n",
              "25       22\n",
              "26       14\n",
              "27        7\n",
              "28        4\n",
              "29        3\n",
              "30        1\n",
              "31        1\n",
              "Name: line_number, dtype: int64"
            ]
          },
          "metadata": {},
          "execution_count": 78
        }
      ]
    },
    {
      "cell_type": "code",
      "source": [
        "train_line_numbers_one_hot = tf.one_hot(train_df[\"line_number\"].to_numpy(), depth=15)\n",
        "val_line_numbers_one_hot = tf.one_hot(val_df[\"line_number\"].to_numpy(), depth=15)\n",
        "test_line_numbers_one_hot = tf.one_hot(test_df[\"line_number\"].to_numpy(), depth=15)\n"
      ],
      "metadata": {
        "id": "otDQ38dJOz5d"
      },
      "execution_count": 79,
      "outputs": []
    },
    {
      "cell_type": "code",
      "source": [
        "train_line_numbers_one_hot"
      ],
      "metadata": {
        "colab": {
          "base_uri": "https://localhost:8080/"
        },
        "id": "vWnme1u49ymc",
        "outputId": "bdcfb5ee-ccc2-4018-a453-8e8dd79cbbf2"
      },
      "execution_count": 80,
      "outputs": [
        {
          "output_type": "execute_result",
          "data": {
            "text/plain": [
              "<tf.Tensor: shape=(180040, 15), dtype=float32, numpy=\n",
              "array([[0., 1., 0., ..., 0., 0., 0.],\n",
              "       [0., 0., 1., ..., 0., 0., 0.],\n",
              "       [0., 0., 0., ..., 0., 0., 0.],\n",
              "       ...,\n",
              "       [0., 0., 0., ..., 0., 0., 0.],\n",
              "       [0., 0., 0., ..., 0., 0., 0.],\n",
              "       [0., 0., 0., ..., 1., 0., 0.]], dtype=float32)>"
            ]
          },
          "metadata": {},
          "execution_count": 80
        }
      ]
    },
    {
      "cell_type": "code",
      "source": [
        "# Use TensorFlow to create one-hot-encoded tensors of our \"total_lines\" column\n",
        "train_total_lines_one_hot = tf.one_hot(train_df[\"total_lines\"].to_numpy(), depth=20)\n",
        "val_total_lines_one_hot = tf.one_hot(val_df[\"total_lines\"].to_numpy(), depth=20)\n",
        "test_total_lines_one_hot = tf.one_hot(test_df[\"total_lines\"].to_numpy(), depth=20)\n",
        "\n",
        "# Check shape and samples of total lines one-hot tensor\n",
        "train_total_lines_one_hot.shape, train_total_lines_one_hot[:10]\n"
      ],
      "metadata": {
        "colab": {
          "base_uri": "https://localhost:8080/"
        },
        "id": "mqI2Z3Pk9ykM",
        "outputId": "f97d3148-54a8-4297-cd77-da627b03bcb6"
      },
      "execution_count": 81,
      "outputs": [
        {
          "output_type": "execute_result",
          "data": {
            "text/plain": [
              "(TensorShape([180040, 20]),\n",
              " <tf.Tensor: shape=(10, 20), dtype=float32, numpy=\n",
              " array([[0., 0., 0., 0., 0., 0., 0., 0., 0., 0., 0., 0., 1., 0., 0., 0.,\n",
              "         0., 0., 0., 0.],\n",
              "        [0., 0., 0., 0., 0., 0., 0., 0., 0., 0., 0., 0., 1., 0., 0., 0.,\n",
              "         0., 0., 0., 0.],\n",
              "        [0., 0., 0., 0., 0., 0., 0., 0., 0., 0., 0., 0., 1., 0., 0., 0.,\n",
              "         0., 0., 0., 0.],\n",
              "        [0., 0., 0., 0., 0., 0., 0., 0., 0., 0., 0., 0., 1., 0., 0., 0.,\n",
              "         0., 0., 0., 0.],\n",
              "        [0., 0., 0., 0., 0., 0., 0., 0., 0., 0., 0., 0., 1., 0., 0., 0.,\n",
              "         0., 0., 0., 0.],\n",
              "        [0., 0., 0., 0., 0., 0., 0., 0., 0., 0., 0., 0., 1., 0., 0., 0.,\n",
              "         0., 0., 0., 0.],\n",
              "        [0., 0., 0., 0., 0., 0., 0., 0., 0., 0., 0., 0., 1., 0., 0., 0.,\n",
              "         0., 0., 0., 0.],\n",
              "        [0., 0., 0., 0., 0., 0., 0., 0., 0., 0., 0., 0., 1., 0., 0., 0.,\n",
              "         0., 0., 0., 0.],\n",
              "        [0., 0., 0., 0., 0., 0., 0., 0., 0., 0., 0., 0., 1., 0., 0., 0.,\n",
              "         0., 0., 0., 0.],\n",
              "        [0., 0., 0., 0., 0., 0., 0., 0., 0., 0., 0., 0., 1., 0., 0., 0.,\n",
              "         0., 0., 0., 0.]], dtype=float32)>)"
            ]
          },
          "metadata": {},
          "execution_count": 81
        }
      ]
    },
    {
      "cell_type": "markdown",
      "source": [
        "## Building a tribrid embedding model\n"
      ],
      "metadata": {
        "id": "8yFQ7UIbKHCc"
      }
    },
    {
      "cell_type": "code",
      "source": [
        "# Token inputs\n",
        "token_inputs = layers.Input(shape=[], dtype='string', name='token_inputs')\n",
        "token_embeddings = tf_hub_embedding_layer(token_inputs)\n",
        "token_outputs = layers.Dense(128, activation='relu')(token_embeddings)\n",
        "token_model = tf.keras.Model(token_inputs, token_embeddings)\n",
        "\n",
        "# 2. Char inputs\n",
        "char_inputs = layers.Input(shape=(1,), dtype='string', name='char_inputs')\n",
        "char_vectors = char_vectorizer(char_inputs)\n",
        "char_embeddings = char_embed(char_vectors)\n",
        "char_bi_lstm = layers.Bidirectional(layers.LSTM(32))(char_embeddings)\n",
        "char_model = tf.keras.Model(char_inputs, char_bi_lstm)\n",
        "\n",
        "# 3. Line number inputs\n",
        "line_number_inputs = layers.Input(shape=(15), dtype=tf.int32, name='line_number_inputs')\n",
        "x = layers.Dense(32, activation='relu')(line_number_inputs)\n",
        "line_number_model = tf.keras.Model(inputs=line_number_inputs, outputs=x)\n",
        "\n",
        "# 4. Total lines inputs\n",
        "total_lines_inputs = layers.Input(shape=(20,), dtype=tf.int32, name='total_lines_inputs')\n",
        "y = layers.Dense(32, activation = 'relu')(total_lines_inputs)\n",
        "total_line_model = tf.keras.Model(total_lines_inputs, y)\n",
        "\n",
        "# 5. Combine token and char embeddings into a hybrid embedding\n",
        "combined_embeddings = layers.Concatenate(name='token_char_hybrid')([\n",
        "    token_model.output,\n",
        "    char_model.output\n",
        "])\n",
        "\n",
        "z = layers.Dense(256, activation='relu')(combined_embeddings)\n",
        "z = layers.Dropout(0.5)(z)\n",
        "\n",
        "# 6. Combine positional embeddings with combined token and char models\n",
        "z = layers.Concatenate(name='token_char_positional_embedding')([\n",
        "    line_number_model.output,\n",
        "    total_line_model.output,\n",
        "    z\n",
        "])\n",
        "\n",
        "# 7. Create output layers\n",
        "output_layer = layers.Dense(5, activation='softmax', name='output_layer')(z)\n",
        "\n",
        "\n",
        "# 8. Put together model\n",
        "model_5 = tf.keras.Model(inputs=[line_number_model.input,\n",
        "                                 total_line_model.input,\n",
        "                                 token_model.input,\n",
        "                                 char_model.input],\n",
        "                         outputs=output_layer)\n"
      ],
      "metadata": {
        "id": "ShYS2fCg9yhr"
      },
      "execution_count": 82,
      "outputs": []
    },
    {
      "cell_type": "code",
      "source": [
        "model_5.summary()\n"
      ],
      "metadata": {
        "colab": {
          "base_uri": "https://localhost:8080/"
        },
        "id": "boQV9JcEKggy",
        "outputId": "c351f258-f26c-4845-f2f4-6fe3f37b798b"
      },
      "execution_count": 83,
      "outputs": [
        {
          "output_type": "stream",
          "name": "stdout",
          "text": [
            "Model: \"model_9\"\n",
            "__________________________________________________________________________________________________\n",
            " Layer (type)                Output Shape                 Param #   Connected to                  \n",
            "==================================================================================================\n",
            " char_inputs (InputLayer)    [(None, 1)]                  0         []                            \n",
            "                                                                                                  \n",
            " char_vectorizer (TextVecto  (None, 290)                  0         ['char_inputs[0][0]']         \n",
            " rization)                                                                                        \n",
            "                                                                                                  \n",
            " token_inputs (InputLayer)   [(None,)]                    0         []                            \n",
            "                                                                                                  \n",
            " char_embed (Embedding)      (None, 290, 25)              1750      ['char_vectorizer[2][0]']     \n",
            "                                                                                                  \n",
            " universal_sentence_encoder  (None, 512)                  2567978   ['token_inputs[0][0]']        \n",
            "  (KerasLayer)                                            24                                      \n",
            "                                                                                                  \n",
            " bidirectional_1 (Bidirecti  (None, 64)                   14848     ['char_embed[2][0]']          \n",
            " onal)                                                                                            \n",
            "                                                                                                  \n",
            " token_char_hybrid (Concate  (None, 576)                  0         ['universal_sentence_encoder[2\n",
            " nate)                                                              ][0]',                        \n",
            "                                                                     'bidirectional_1[0][0]']     \n",
            "                                                                                                  \n",
            " line_number_inputs (InputL  [(None, 15)]                 0         []                            \n",
            " ayer)                                                                                            \n",
            "                                                                                                  \n",
            " total_lines_inputs (InputL  [(None, 20)]                 0         []                            \n",
            " ayer)                                                                                            \n",
            "                                                                                                  \n",
            " dense_10 (Dense)            (None, 256)                  147712    ['token_char_hybrid[0][0]']   \n",
            "                                                                                                  \n",
            " dense_8 (Dense)             (None, 32)                   512       ['line_number_inputs[0][0]']  \n",
            "                                                                                                  \n",
            " dense_9 (Dense)             (None, 32)                   672       ['total_lines_inputs[0][0]']  \n",
            "                                                                                                  \n",
            " dropout_2 (Dropout)         (None, 256)                  0         ['dense_10[0][0]']            \n",
            "                                                                                                  \n",
            " token_char_positional_embe  (None, 320)                  0         ['dense_8[0][0]',             \n",
            " dding (Concatenate)                                                 'dense_9[0][0]',             \n",
            "                                                                     'dropout_2[0][0]']           \n",
            "                                                                                                  \n",
            " output_layer (Dense)        (None, 5)                    1605      ['token_char_positional_embedd\n",
            "                                                                    ing[0][0]']                   \n",
            "                                                                                                  \n",
            "==================================================================================================\n",
            "Total params: 256964923 (980.24 MB)\n",
            "Trainable params: 167099 (652.73 KB)\n",
            "Non-trainable params: 256797824 (979.61 MB)\n",
            "__________________________________________________________________________________________________\n"
          ]
        }
      ]
    },
    {
      "cell_type": "code",
      "source": [
        "# Plot the token, char, positional embedding model\n",
        "from tensorflow.keras.utils import plot_model\n",
        "plot_model(model_5)"
      ],
      "metadata": {
        "colab": {
          "base_uri": "https://localhost:8080/",
          "height": 560
        },
        "id": "wVpeEjpVKge7",
        "outputId": "f0263dd4-3cae-49ec-f9be-8659f2d8022b"
      },
      "execution_count": 84,
      "outputs": [
        {
          "output_type": "execute_result",
          "data": {
            "image/png": "[encoded data removed]",
            "text/plain": [
              "<IPython.core.display.Image object>"
            ]
          },
          "metadata": {},
          "execution_count": 84
        }
      ]
    },
    {
      "cell_type": "code",
      "source": [
        "# Compile token, char, positional embedding model\n",
        "model_5.compile(loss=tf.keras.losses.CategoricalCrossentropy(label_smoothing=0.2), # add label smoothing (examples which are really confident get smoothed a little)\n",
        "                optimizer=tf.keras.optimizers.Adam(),\n",
        "                metrics=[\"accuracy\"])"
      ],
      "metadata": {
        "id": "KfGahiyrKgbl"
      },
      "execution_count": 85,
      "outputs": []
    },
    {
      "cell_type": "code",
      "source": [
        "\n",
        "# Create training and validation datasets (all four kinds of inputs)\n",
        "train_pos_char_token_data = tf.data.Dataset.from_tensor_slices((train_line_numbers_one_hot, # line numbers\n",
        "                                                                train_total_lines_one_hot, # total lines\n",
        "                                                                train_sentences, # train tokens\n",
        "                                                                train_sentences_characters)) # train chars\n",
        "train_pos_char_token_labels = tf.data.Dataset.from_tensor_slices(train_labels_one_hot) # train labels\n",
        "train_pos_char_token_dataset = tf.data.Dataset.zip((train_pos_char_token_data, train_pos_char_token_labels)) # combine data and labels\n",
        "train_pos_char_token_dataset = train_pos_char_token_dataset.batch(32).prefetch(tf.data.AUTOTUNE) # turn into batches and prefetch appropriately\n",
        "\n",
        "# Validation dataset\n",
        "val_pos_char_token_data = tf.data.Dataset.from_tensor_slices((val_line_numbers_one_hot,\n",
        "                                                              val_total_lines_one_hot,\n",
        "                                                              val_sentences,\n",
        "                                                              val_sentences_characters))\n",
        "val_pos_char_token_labels = tf.data.Dataset.from_tensor_slices(val_labels_one_hot)\n",
        "val_pos_char_token_dataset = tf.data.Dataset.zip((val_pos_char_token_data, val_pos_char_token_labels))\n",
        "val_pos_char_token_dataset = val_pos_char_token_dataset.batch(32).prefetch(tf.data.AUTOTUNE) # turn into batches and prefetch appropriately\n",
        "\n",
        "# Check input shapes\n",
        "train_pos_char_token_dataset, val_pos_char_token_dataset"
      ],
      "metadata": {
        "colab": {
          "base_uri": "https://localhost:8080/"
        },
        "id": "67LLDOVTPWx6",
        "outputId": "dd796d69-1611-4286-848f-2fd5bf1f52af"
      },
      "execution_count": 86,
      "outputs": [
        {
          "output_type": "execute_result",
          "data": {
            "text/plain": [
              "(<_PrefetchDataset element_spec=((TensorSpec(shape=(None, 15), dtype=tf.float32, name=None), TensorSpec(shape=(None, 20), dtype=tf.float32, name=None), TensorSpec(shape=(None,), dtype=tf.string, name=None), TensorSpec(shape=(None,), dtype=tf.string, name=None)), TensorSpec(shape=(None, 5), dtype=tf.float64, name=None))>,\n",
              " <_PrefetchDataset element_spec=((TensorSpec(shape=(None, 15), dtype=tf.float32, name=None), TensorSpec(shape=(None, 20), dtype=tf.float32, name=None), TensorSpec(shape=(None,), dtype=tf.string, name=None), TensorSpec(shape=(None,), dtype=tf.string, name=None)), TensorSpec(shape=(None, 5), dtype=tf.float64, name=None))>)"
            ]
          },
          "metadata": {},
          "execution_count": 86
        }
      ]
    },
    {
      "cell_type": "code",
      "source": [
        "train_pos_char_token_dataset, val_pos_char_token_dataset"
      ],
      "metadata": {
        "colab": {
          "base_uri": "https://localhost:8080/"
        },
        "id": "M8cTm27JPWvu",
        "outputId": "69c072db-9ea5-4424-9073-d20f557b418f"
      },
      "execution_count": 87,
      "outputs": [
        {
          "output_type": "execute_result",
          "data": {
            "text/plain": [
              "(<_PrefetchDataset element_spec=((TensorSpec(shape=(None, 15), dtype=tf.float32, name=None), TensorSpec(shape=(None, 20), dtype=tf.float32, name=None), TensorSpec(shape=(None,), dtype=tf.string, name=None), TensorSpec(shape=(None,), dtype=tf.string, name=None)), TensorSpec(shape=(None, 5), dtype=tf.float64, name=None))>,\n",
              " <_PrefetchDataset element_spec=((TensorSpec(shape=(None, 15), dtype=tf.float32, name=None), TensorSpec(shape=(None, 20), dtype=tf.float32, name=None), TensorSpec(shape=(None,), dtype=tf.string, name=None), TensorSpec(shape=(None,), dtype=tf.string, name=None)), TensorSpec(shape=(None, 5), dtype=tf.float64, name=None))>)"
            ]
          },
          "metadata": {},
          "execution_count": 87
        }
      ]
    },
    {
      "cell_type": "code",
      "source": [
        "# Fit the token, char and positional embedding model\n",
        "history_model_5 = model_5.fit(train_pos_char_token_dataset,\n",
        "                              steps_per_epoch=int(0.1 * len(train_pos_char_token_dataset)),\n",
        "                              epochs=5,\n",
        "                              validation_data=val_pos_char_token_dataset,\n",
        "                              validation_steps=int(0.1 * len(val_pos_char_token_dataset)))\n"
      ],
      "metadata": {
        "colab": {
          "base_uri": "https://localhost:8080/"
        },
        "id": "fVfCyqbVPWtg",
        "outputId": "faee8b1c-d3eb-47e0-f7e6-6b7429f7bf08"
      },
      "execution_count": null,
      "outputs": [
        {
          "output_type": "stream",
          "name": "stdout",
          "text": [
            "Epoch 1/5\n",
            "562/562 [==============================] - 42s 56ms/step - loss: 1.0984 - accuracy: 0.7271 - val_loss: 0.9877 - val_accuracy: 0.8002\n",
            "Epoch 2/5\n",
            "562/562 [==============================] - 31s 56ms/step - loss: 0.9758 - accuracy: 0.8099 - val_loss: 0.9574 - val_accuracy: 0.8238\n",
            "Epoch 3/5\n",
            "562/562 [==============================] - 25s 44ms/step - loss: 0.9611 - accuracy: 0.8186 - val_loss: 0.9491 - val_accuracy: 0.8291\n",
            "Epoch 4/5\n",
            "562/562 [==============================] - 29s 52ms/step - loss: 0.9520 - accuracy: 0.8293 - val_loss: 0.9387 - val_accuracy: 0.8251\n",
            "Epoch 5/5\n",
            "491/562 [=========================>....] - ETA: 3s - loss: 0.9458 - accuracy: 0.8335"
          ]
        }
      ]
    },
    {
      "cell_type": "code",
      "source": [
        "# prompt: evaluate and predict with model 5\n",
        "\n",
        "history_model_5.history\n",
        "# Evaluate the model on the test set\n",
        "model_5.evaluate(val_pos_char_token_dataset)\n",
        "\n"
      ],
      "metadata": {
        "id": "36hBbBrZPWq4"
      },
      "execution_count": null,
      "outputs": []
    },
    {
      "cell_type": "code",
      "source": [
        "# Make predictions on the test set\n",
        "model_5_probs = model_5.predict(val_pos_char_token_dataset)\n",
        "\n"
      ],
      "metadata": {
        "id": "z9KlX5-WPWnQ"
      },
      "execution_count": null,
      "outputs": []
    },
    {
      "cell_type": "code",
      "source": [
        "model_5_preds = tf.argmax(model_5_probs, axis=1)\n",
        "model_5_preds\n",
        "\n",
        "model_5_results = calculate_results(\n",
        "    val_labels_encoder,\n",
        "    model_5_preds\n",
        ")"
      ],
      "metadata": {
        "id": "djS5w8LPKgWz"
      },
      "execution_count": null,
      "outputs": []
    },
    {
      "cell_type": "code",
      "source": [
        "model_5_results"
      ],
      "metadata": {
        "id": "mU7z3jsjKgUz"
      },
      "execution_count": null,
      "outputs": []
    },
    {
      "cell_type": "markdown",
      "source": [
        "## Compare model results"
      ],
      "metadata": {
        "id": "YmMdrrJjV13N"
      }
    },
    {
      "cell_type": "code",
      "source": [
        "# prompt: # Combine model resuls from variable calculate_results for each model into a dataframe\n",
        "\n",
        "models = ['baseline_model',\"Model 1\", \"Model 2\", \"Model 3\", \"Model 4\", \"Model 5\"]\n",
        "results = [baseline_results,model_1_results, model_2_results, model_3_results, model_4_results, model_5_results]\n",
        "all_model_results = pd.DataFrame(results, index=models)\n",
        "all_model_results.index.name = \"Model\"\n",
        "all_model_results.columns = [\"Accuracy\", \"F1 Score\", \"Precision\", \"Recall\"]\n",
        "all_model_results['Accuracy'] = all_model_results['Accuracy'] / 100\n",
        "all_model_results"
      ],
      "metadata": {
        "id": "lqsDjjS0V4wv"
      },
      "execution_count": null,
      "outputs": []
    },
    {
      "cell_type": "code",
      "source": [
        "all_model_results.plot(kind=\"bar\", figsize=(10, 7)).legend(bbox_to_anchor=(1.0, 1.0));\n"
      ],
      "metadata": {
        "id": "81E7sxiwV5D3"
      },
      "execution_count": null,
      "outputs": []
    },
    {
      "cell_type": "code",
      "source": [
        "all_model_results.sort_values(\"F1 Score\", ascending=False)[\"F1 Score\"].plot(kind=\"bar\", figsize=(10, 7));\n"
      ],
      "metadata": {
        "id": "Hd7HN2ssV5Bv"
      },
      "execution_count": null,
      "outputs": []
    },
    {
      "cell_type": "markdown",
      "source": [
        "## Save and load best perfrmoing model"
      ],
      "metadata": {
        "id": "Z_1XUWwlalUr"
      }
    },
    {
      "cell_type": "code",
      "source": [
        "model_5.save('skimlit_tribrid_model')"
      ],
      "metadata": {
        "id": "_9TaZl8FV4_d"
      },
      "execution_count": null,
      "outputs": []
    },
    {
      "cell_type": "markdown",
      "source": [
        "## Test model 5"
      ],
      "metadata": {
        "id": "ELDyuiUDbLgl"
      }
    },
    {
      "cell_type": "code",
      "source": [
        "# Create test dataset batch and prefetched\n",
        "test_pos_char_token_data = tf.data.Dataset.from_tensor_slices((test_line_numbers_one_hot,\n",
        "                                                               test_total_lines_one_hot,\n",
        "                                                               test_sentences,\n",
        "                                                               test_sentences_characters))\n",
        "test_pos_char_token_labels = tf.data.Dataset.from_tensor_slices(test_labels_one_hot)\n",
        "test_pos_char_token_dataset = tf.data.Dataset.zip((test_pos_char_token_data, test_pos_char_token_labels))\n",
        "test_pos_char_token_dataset = test_pos_char_token_dataset.batch(32).prefetch(tf.data.AUTOTUNE)\n",
        "\n",
        "# Check shapes\n",
        "test_pos_char_token_dataset"
      ],
      "metadata": {
        "id": "NOaZrDjeV44e"
      },
      "execution_count": null,
      "outputs": []
    },
    {
      "cell_type": "code",
      "source": [
        "test_pred_probs = model_5.predict(test_pos_char_token_dataset,\n",
        "                                       verbose=1)\n",
        "test_preds = tf.argmax(test_pred_probs, axis=1)\n",
        "test_preds[:10]"
      ],
      "metadata": {
        "id": "8XWFpi5eV42J"
      },
      "execution_count": null,
      "outputs": []
    },
    {
      "cell_type": "markdown",
      "source": [
        "## Find most wrong"
      ],
      "metadata": {
        "id": "kwxXLLeDwruA"
      }
    },
    {
      "cell_type": "code",
      "source": [
        "test_pred_classes = [label_encoder.classes_[pred] for pred in test_preds]\n",
        "test_pred_classes[:20]"
      ],
      "metadata": {
        "id": "FLD5FikWV4zu"
      },
      "execution_count": null,
      "outputs": []
    },
    {
      "cell_type": "code",
      "source": [
        "test_df['prediction'] = test_pred_classes\n",
        "test_df['pred_prob'] = tf.reduce_max(test_pred_probs, axis=1)\n",
        "test_df['correct'] = test_df['prediction'] == test_df['target']\n",
        "test_df.head()"
      ],
      "metadata": {
        "id": "BHURwiiJbX5a"
      },
      "execution_count": null,
      "outputs": []
    },
    {
      "cell_type": "code",
      "source": [
        "top_100_wrong = test_df[test_df['correct']==False].sort_values(by='pred_prob', ascending=False)[:100]\n",
        "top_100_wrong"
      ],
      "metadata": {
        "id": "C908MxLubX2i"
      },
      "execution_count": null,
      "outputs": []
    },
    {
      "cell_type": "code",
      "source": [
        "# prompt: make a code to visualize the target, text, line_number, total_lines, predictions_preds, etc from top_100_wrong using print methods\n",
        "\n",
        "for row in top_100_wrong[:10].iterrows():\n",
        "  print(\"Target:\", row[1]['target'])\n",
        "  print(\"Text:\", row[1]['text'])\n",
        "  print(\"Line number:\", row[1]['line_number'])\n",
        "  print(\"Total lines:\", row[1]['total_lines'])\n",
        "  print(\"Prediction:\", row[1]['prediction'])\n",
        "  print(\"Predicted probability:\", row[1]['pred_prob'])\n",
        "  print(\"Correct:\", row[1]['correct'])\n",
        "  print()\n"
      ],
      "metadata": {
        "id": "nViVY26UbXzS"
      },
      "execution_count": null,
      "outputs": []
    },
    {
      "cell_type": "markdown",
      "source": [
        "## Make example predictions\n"
      ],
      "metadata": {
        "id": "LuuQ3-ok3jIG"
      }
    },
    {
      "cell_type": "code",
      "source": [
        "\n",
        "import json\n",
        "\n",
        "# Download and open example abstracts (copy and pasted from PubMed)\n",
        "!wget https://raw.githubusercontent.com/mrdbourke/tensorflow-deep-learning/main/extras/skimlit_example_abstracts.json\n",
        "\n",
        "with open(\"skimlit_example_abstracts.json\", \"r\") as f:\n",
        "  example_abstracts = json.load(f)\n",
        "\n",
        "example_abstracts"
      ],
      "metadata": {
        "id": "SpyQOszf3UYH"
      },
      "execution_count": null,
      "outputs": []
    },
    {
      "cell_type": "code",
      "source": [
        "abstracts = pd.DataFrame(example_abstracts)\n",
        "abstracts"
      ],
      "metadata": {
        "id": "fEKVS89F3UUP"
      },
      "execution_count": null,
      "outputs": []
    },
    {
      "cell_type": "code",
      "source": [
        "from spacy.lang.en import English\n",
        "from spacy.pipeline.sentencizer import Sentencizer\n",
        "\n",
        "nlp = English()\n",
        "sentencizer = Sentencizer()  # create an instance of Sentencizer\n",
        "\n",
        "# Change this line to add the Sentencizer using its string name\n",
        "nlp.add_pipe('sentencizer')\n",
        "\n",
        "doc = nlp(example_abstracts[0][\"abstract\"])\n",
        "abstract_lines = [str(sent) for sent in list(doc.sents)]\n",
        "print(abstract_lines)\n"
      ],
      "metadata": {
        "id": "2cBQjxr03UQn"
      },
      "execution_count": null,
      "outputs": []
    },
    {
      "cell_type": "code",
      "source": [
        "total_lines_in_sample = len(abstract_lines)\n",
        "\n",
        "sample_lines = []\n",
        "\n",
        "for i, line in enumerate(abstract_lines):\n",
        "  sample_dict = {}\n",
        "  sample_dict['text'] = str(line)\n",
        "  sample_dict['line_number'] = i\n",
        "  sample_dict['total_lines'] = total_lines_in_sample - 1\n",
        "  sample_lines.append(sample_dict)\n",
        "sample_lines\n"
      ],
      "metadata": {
        "id": "bHisKfDr3UM_"
      },
      "execution_count": null,
      "outputs": []
    },
    {
      "cell_type": "code",
      "source": [
        "test_abstract_line_numbers = [line['line_number'] for line in sample_lines]\n",
        "print(test_abstract_line_numbers[:5])\n",
        "test_abstract_line_numbers_one_hot = tf.one_hot(test_abstract_line_numbers, depth=15)\n",
        "test_abstract_line_numbers_one_hot"
      ],
      "metadata": {
        "id": "6JZ97yQm3UJX"
      },
      "execution_count": null,
      "outputs": []
    },
    {
      "cell_type": "code",
      "source": [
        "# Get all total_lines values from sample abstract\n",
        "test_abstract_total_lines = [line[\"total_lines\"] for line in sample_lines]\n",
        "# One-hot encode to same depth as training data, so model accepts right input shape\n",
        "test_abstract_total_lines_one_hot = tf.one_hot(test_abstract_total_lines, depth=20)\n",
        "test_abstract_total_lines_one_hot"
      ],
      "metadata": {
        "id": "zCvfuNJk3UFm"
      },
      "execution_count": null,
      "outputs": []
    },
    {
      "cell_type": "code",
      "source": [
        "# Split abstract lines into characters\n",
        "abstract_chars = [sentence_to_characters(sentence) for sentence in abstract_lines]\n",
        "abstract_chars"
      ],
      "metadata": {
        "id": "1y8eOYHp3UCG"
      },
      "execution_count": null,
      "outputs": []
    },
    {
      "cell_type": "code",
      "source": [
        " tf.constant(abstract_lines)"
      ],
      "metadata": {
        "id": "VwUtmJqBNOSt"
      },
      "execution_count": null,
      "outputs": []
    },
    {
      "cell_type": "code",
      "source": [
        "%%time\n",
        "test_abstract_pred_probs = model_5.predict(x=(test_abstract_line_numbers_one_hot,\n",
        "                                                   test_abstract_total_lines_one_hot,\n",
        "                                                   tf.constant(abstract_lines),\n",
        "                                                   tf.constant(abstract_chars)))\n",
        "test_abstract_pred_probs"
      ],
      "metadata": {
        "id": "dub6VeWZys9m"
      },
      "execution_count": null,
      "outputs": []
    },
    {
      "cell_type": "code",
      "source": [
        "test_abstract_preds = tf.argmax(test_abstract_pred_probs, axis=1)\n",
        "test_abstract_preds[:5]"
      ],
      "metadata": {
        "id": "910hjfMcys7I"
      },
      "execution_count": null,
      "outputs": []
    },
    {
      "cell_type": "code",
      "source": [
        "test_abstract_pred_classes = [label_encoder.classes_[i] for i in test_abstract_preds]\n",
        "test_abstract_pred_classes[:5]"
      ],
      "metadata": {
        "id": "zhFMxikj9bum"
      },
      "execution_count": null,
      "outputs": []
    },
    {
      "cell_type": "code",
      "source": [
        "for i, line in enumerate(abstract_lines):\n",
        "  print(f\"{test_abstract_pred_classes[i]}: {line}\")"
      ],
      "metadata": {
        "id": "LDwDYLFJ9bsW"
      },
      "execution_count": null,
      "outputs": []
    },
    {
      "cell_type": "code",
      "source": [],
      "metadata": {
        "id": "8NdU5hnV9bqG"
      },
      "execution_count": null,
      "outputs": []
    },
    {
      "cell_type": "code",
      "source": [],
      "metadata": {
        "id": "0RcFIfdy9bnf"
      },
      "execution_count": null,
      "outputs": []
    }
  ]
}