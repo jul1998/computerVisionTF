{
  "nbformat": 4,
  "nbformat_minor": 0,
  "metadata": {
    "colab": {
      "provenance": [],
      "gpuType": "T4"
    },
    "kernelspec": {
      "name": "python3",
      "display_name": "Python 3"
    },
    "language_info": {
      "name": "python"
    },
    "accelerator": "GPU"
  },
  "cells": [
    {
      "cell_type": "code",
      "execution_count": 7,
      "metadata": {
        "id": "22SYzQlfcXaf"
      },
      "outputs": [],
      "source": [
        "\n",
        "# Import required libraries\n",
        "import tensorflow as tf\n",
        "import pandas as pd\n",
        "import matplotlib.pyplot as plt"
      ]
    },
    {
      "cell_type": "code",
      "source": [
        "(x_train, y_train), (x_test, y_test) = tf.keras.datasets.boston_housing.load_data(\n",
        "    path='boston_housing.npz', test_split=0.2, seed=113\n",
        ")"
      ],
      "metadata": {
        "colab": {
          "base_uri": "https://localhost:8080/"
        },
        "id": "tfmPfDMoccYu",
        "outputId": "f201d157-4a99-41cd-ce29-fc75a4c8b349"
      },
      "execution_count": 3,
      "outputs": [
        {
          "output_type": "stream",
          "name": "stdout",
          "text": [
            "Downloading data from https://storage.googleapis.com/tensorflow/tf-keras-datasets/boston_housing.npz\n",
            "57026/57026 [==============================] - 0s 0us/step\n"
          ]
        }
      ]
    },
    {
      "cell_type": "code",
      "source": [
        "len(x_train), len(y_train), len(x_test), len(y_test)"
      ],
      "metadata": {
        "colab": {
          "base_uri": "https://localhost:8080/"
        },
        "id": "31_qoWZgccW_",
        "outputId": "6d844cac-7f02-4e3f-c1b7-0a43e063ed2b"
      },
      "execution_count": 4,
      "outputs": [
        {
          "output_type": "execute_result",
          "data": {
            "text/plain": [
              "(404, 404, 102, 102)"
            ]
          },
          "metadata": {},
          "execution_count": 4
        }
      ]
    },
    {
      "cell_type": "code",
      "source": [
        "x_train[:10]"
      ],
      "metadata": {
        "colab": {
          "base_uri": "https://localhost:8080/"
        },
        "id": "ZrI3n2fkdHp3",
        "outputId": "72a23ccf-98a9-4880-981b-a4e9915ec308"
      },
      "execution_count": 5,
      "outputs": [
        {
          "output_type": "execute_result",
          "data": {
            "text/plain": [
              "array([[1.23247e+00, 0.00000e+00, 8.14000e+00, 0.00000e+00, 5.38000e-01,\n",
              "        6.14200e+00, 9.17000e+01, 3.97690e+00, 4.00000e+00, 3.07000e+02,\n",
              "        2.10000e+01, 3.96900e+02, 1.87200e+01],\n",
              "       [2.17700e-02, 8.25000e+01, 2.03000e+00, 0.00000e+00, 4.15000e-01,\n",
              "        7.61000e+00, 1.57000e+01, 6.27000e+00, 2.00000e+00, 3.48000e+02,\n",
              "        1.47000e+01, 3.95380e+02, 3.11000e+00],\n",
              "       [4.89822e+00, 0.00000e+00, 1.81000e+01, 0.00000e+00, 6.31000e-01,\n",
              "        4.97000e+00, 1.00000e+02, 1.33250e+00, 2.40000e+01, 6.66000e+02,\n",
              "        2.02000e+01, 3.75520e+02, 3.26000e+00],\n",
              "       [3.96100e-02, 0.00000e+00, 5.19000e+00, 0.00000e+00, 5.15000e-01,\n",
              "        6.03700e+00, 3.45000e+01, 5.98530e+00, 5.00000e+00, 2.24000e+02,\n",
              "        2.02000e+01, 3.96900e+02, 8.01000e+00],\n",
              "       [3.69311e+00, 0.00000e+00, 1.81000e+01, 0.00000e+00, 7.13000e-01,\n",
              "        6.37600e+00, 8.84000e+01, 2.56710e+00, 2.40000e+01, 6.66000e+02,\n",
              "        2.02000e+01, 3.91430e+02, 1.46500e+01],\n",
              "       [2.83920e-01, 0.00000e+00, 7.38000e+00, 0.00000e+00, 4.93000e-01,\n",
              "        5.70800e+00, 7.43000e+01, 4.72110e+00, 5.00000e+00, 2.87000e+02,\n",
              "        1.96000e+01, 3.91130e+02, 1.17400e+01],\n",
              "       [9.18702e+00, 0.00000e+00, 1.81000e+01, 0.00000e+00, 7.00000e-01,\n",
              "        5.53600e+00, 1.00000e+02, 1.58040e+00, 2.40000e+01, 6.66000e+02,\n",
              "        2.02000e+01, 3.96900e+02, 2.36000e+01],\n",
              "       [4.09740e+00, 0.00000e+00, 1.95800e+01, 0.00000e+00, 8.71000e-01,\n",
              "        5.46800e+00, 1.00000e+02, 1.41180e+00, 5.00000e+00, 4.03000e+02,\n",
              "        1.47000e+01, 3.96900e+02, 2.64200e+01],\n",
              "       [2.15505e+00, 0.00000e+00, 1.95800e+01, 0.00000e+00, 8.71000e-01,\n",
              "        5.62800e+00, 1.00000e+02, 1.51660e+00, 5.00000e+00, 4.03000e+02,\n",
              "        1.47000e+01, 1.69270e+02, 1.66500e+01],\n",
              "       [1.62864e+00, 0.00000e+00, 2.18900e+01, 0.00000e+00, 6.24000e-01,\n",
              "        5.01900e+00, 1.00000e+02, 1.43940e+00, 4.00000e+00, 4.37000e+02,\n",
              "        2.12000e+01, 3.96900e+02, 3.44100e+01]])"
            ]
          },
          "metadata": {},
          "execution_count": 5
        }
      ]
    },
    {
      "cell_type": "code",
      "source": [
        "from tensorflow.keras.layers import Dense\n",
        "from tensorflow.keras import Sequential\n",
        "\n",
        "model_1 = Sequential(\n",
        "    [Dense(1)]\n",
        ")\n",
        "\n",
        "model_1.compile(loss=tf.keras.losses.mae,\n",
        "                optimizer=tf.keras.optimizers.SGD(),\n",
        "                metrics=['mae'])\n",
        "\n",
        "model_1_history = model_1.fit(x_train, y_train, epochs=50)"
      ],
      "metadata": {
        "colab": {
          "base_uri": "https://localhost:8080/"
        },
        "id": "DvyFClItdHnO",
        "outputId": "172c10a5-6c31-45b3-e804-966fa83c391f"
      },
      "execution_count": 19,
      "outputs": [
        {
          "output_type": "stream",
          "name": "stdout",
          "text": [
            "Epoch 1/50\n",
            "13/13 [==============================] - 0s 2ms/step - loss: 1386.6002 - mae: 1386.6002\n",
            "Epoch 2/50\n",
            "13/13 [==============================] - 0s 2ms/step - loss: 1487.4205 - mae: 1487.4205\n",
            "Epoch 3/50\n",
            "13/13 [==============================] - 0s 2ms/step - loss: 1491.9393 - mae: 1491.9393\n",
            "Epoch 4/50\n",
            "13/13 [==============================] - 0s 2ms/step - loss: 1484.8751 - mae: 1484.8751\n",
            "Epoch 5/50\n",
            "13/13 [==============================] - 0s 2ms/step - loss: 1471.9315 - mae: 1471.9315\n",
            "Epoch 6/50\n",
            "13/13 [==============================] - 0s 2ms/step - loss: 1470.1669 - mae: 1470.1669\n",
            "Epoch 7/50\n",
            "13/13 [==============================] - 0s 2ms/step - loss: 1422.5758 - mae: 1422.5758\n",
            "Epoch 8/50\n",
            "13/13 [==============================] - 0s 2ms/step - loss: 1492.8005 - mae: 1492.8005\n",
            "Epoch 9/50\n",
            "13/13 [==============================] - 0s 2ms/step - loss: 1464.9215 - mae: 1464.9215\n",
            "Epoch 10/50\n",
            "13/13 [==============================] - 0s 2ms/step - loss: 1502.2240 - mae: 1502.2240\n",
            "Epoch 11/50\n",
            "13/13 [==============================] - 0s 2ms/step - loss: 1434.6619 - mae: 1434.6619\n",
            "Epoch 12/50\n",
            "13/13 [==============================] - 0s 2ms/step - loss: 1424.7426 - mae: 1424.7426\n",
            "Epoch 13/50\n",
            "13/13 [==============================] - 0s 2ms/step - loss: 1450.0841 - mae: 1450.0841\n",
            "Epoch 14/50\n",
            "13/13 [==============================] - 0s 2ms/step - loss: 1492.3049 - mae: 1492.3049\n",
            "Epoch 15/50\n",
            "13/13 [==============================] - 0s 2ms/step - loss: 1436.0677 - mae: 1436.0677\n",
            "Epoch 16/50\n",
            "13/13 [==============================] - 0s 2ms/step - loss: 1489.1055 - mae: 1489.1055\n",
            "Epoch 17/50\n",
            "13/13 [==============================] - 0s 2ms/step - loss: 1444.4952 - mae: 1444.4952\n",
            "Epoch 18/50\n",
            "13/13 [==============================] - 0s 2ms/step - loss: 1459.6505 - mae: 1459.6505\n",
            "Epoch 19/50\n",
            "13/13 [==============================] - 0s 2ms/step - loss: 1372.9009 - mae: 1372.9009\n",
            "Epoch 20/50\n",
            "13/13 [==============================] - 0s 2ms/step - loss: 1447.1626 - mae: 1447.1626\n",
            "Epoch 21/50\n",
            "13/13 [==============================] - 0s 2ms/step - loss: 1484.7188 - mae: 1484.7188\n",
            "Epoch 22/50\n",
            "13/13 [==============================] - 0s 2ms/step - loss: 1471.5424 - mae: 1471.5424\n",
            "Epoch 23/50\n",
            "13/13 [==============================] - 0s 2ms/step - loss: 1496.8907 - mae: 1496.8907\n",
            "Epoch 24/50\n",
            "13/13 [==============================] - 0s 2ms/step - loss: 1476.2606 - mae: 1476.2606\n",
            "Epoch 25/50\n",
            "13/13 [==============================] - 0s 2ms/step - loss: 1466.3329 - mae: 1466.3329\n",
            "Epoch 26/50\n",
            "13/13 [==============================] - 0s 2ms/step - loss: 1388.0186 - mae: 1388.0186\n",
            "Epoch 27/50\n",
            "13/13 [==============================] - 0s 2ms/step - loss: 1453.4490 - mae: 1453.4490\n",
            "Epoch 28/50\n",
            "13/13 [==============================] - 0s 2ms/step - loss: 1429.2733 - mae: 1429.2733\n",
            "Epoch 29/50\n",
            "13/13 [==============================] - 0s 2ms/step - loss: 1458.8289 - mae: 1458.8289\n",
            "Epoch 30/50\n",
            "13/13 [==============================] - 0s 2ms/step - loss: 1487.2125 - mae: 1487.2125\n",
            "Epoch 31/50\n",
            "13/13 [==============================] - 0s 2ms/step - loss: 1470.7441 - mae: 1470.7441\n",
            "Epoch 32/50\n",
            "13/13 [==============================] - 0s 2ms/step - loss: 1489.0068 - mae: 1489.0068\n",
            "Epoch 33/50\n",
            "13/13 [==============================] - 0s 2ms/step - loss: 1423.3671 - mae: 1423.3671\n",
            "Epoch 34/50\n",
            "13/13 [==============================] - 0s 2ms/step - loss: 1539.5149 - mae: 1539.5149\n",
            "Epoch 35/50\n",
            "13/13 [==============================] - 0s 3ms/step - loss: 1454.2909 - mae: 1454.2909\n",
            "Epoch 36/50\n",
            "13/13 [==============================] - 0s 2ms/step - loss: 1535.2817 - mae: 1535.2817\n",
            "Epoch 37/50\n",
            "13/13 [==============================] - 0s 2ms/step - loss: 1421.0117 - mae: 1421.0117\n",
            "Epoch 38/50\n",
            "13/13 [==============================] - 0s 2ms/step - loss: 1465.2504 - mae: 1465.2504\n",
            "Epoch 39/50\n",
            "13/13 [==============================] - 0s 2ms/step - loss: 1517.6539 - mae: 1517.6539\n",
            "Epoch 40/50\n",
            "13/13 [==============================] - 0s 2ms/step - loss: 1491.8644 - mae: 1491.8644\n",
            "Epoch 41/50\n",
            "13/13 [==============================] - 0s 2ms/step - loss: 1491.1254 - mae: 1491.1254\n",
            "Epoch 42/50\n",
            "13/13 [==============================] - 0s 2ms/step - loss: 1428.2018 - mae: 1428.2018\n",
            "Epoch 43/50\n",
            "13/13 [==============================] - 0s 2ms/step - loss: 1503.5835 - mae: 1503.5835\n",
            "Epoch 44/50\n",
            "13/13 [==============================] - 0s 2ms/step - loss: 1436.8427 - mae: 1436.8427\n",
            "Epoch 45/50\n",
            "13/13 [==============================] - 0s 2ms/step - loss: 1504.4365 - mae: 1504.4365\n",
            "Epoch 46/50\n",
            "13/13 [==============================] - 0s 2ms/step - loss: 1438.8252 - mae: 1438.8252\n",
            "Epoch 47/50\n",
            "13/13 [==============================] - 0s 2ms/step - loss: 1484.1434 - mae: 1484.1434\n",
            "Epoch 48/50\n",
            "13/13 [==============================] - 0s 2ms/step - loss: 1491.6000 - mae: 1491.6000\n",
            "Epoch 49/50\n",
            "13/13 [==============================] - 0s 2ms/step - loss: 1410.6946 - mae: 1410.6946\n",
            "Epoch 50/50\n",
            "13/13 [==============================] - 0s 2ms/step - loss: 1520.4242 - mae: 1520.4242\n"
          ]
        }
      ]
    },
    {
      "cell_type": "code",
      "source": [
        "model_1_eval = model_1.evaluate(x_test, y_test)"
      ],
      "metadata": {
        "colab": {
          "base_uri": "https://localhost:8080/"
        },
        "id": "lTfFBKPAdHlG",
        "outputId": "5497f63b-183c-46be-ff07-19cca5e56037"
      },
      "execution_count": 20,
      "outputs": [
        {
          "output_type": "stream",
          "name": "stdout",
          "text": [
            "4/4 [==============================] - 0s 4ms/step - loss: 1199.4001 - mae: 1199.4001\n"
          ]
        }
      ]
    },
    {
      "cell_type": "code",
      "source": [
        "model_1_eval"
      ],
      "metadata": {
        "colab": {
          "base_uri": "https://localhost:8080/"
        },
        "id": "f-wgHIiwefpG",
        "outputId": "130d725c-9c2c-47c9-80a4-7be08659759d"
      },
      "execution_count": 21,
      "outputs": [
        {
          "output_type": "execute_result",
          "data": {
            "text/plain": [
              "[1199.400146484375, 1199.400146484375]"
            ]
          },
          "metadata": {},
          "execution_count": 21
        }
      ]
    },
    {
      "cell_type": "code",
      "source": [
        "pd.DataFrame(model_1_history.history).plot()\n",
        "plt.ylabel('loss')\n",
        "plt.xlabel('epochs')"
      ],
      "metadata": {
        "colab": {
          "base_uri": "https://localhost:8080/",
          "height": 466
        },
        "id": "OqxArw4mefnW",
        "outputId": "61b41fcd-4f22-4bea-f37a-bf3ea25a3cb6"
      },
      "execution_count": 22,
      "outputs": [
        {
          "output_type": "execute_result",
          "data": {
            "text/plain": [
              "Text(0.5, 0, 'epochs')"
            ]
          },
          "metadata": {},
          "execution_count": 22
        },
        {
          "output_type": "display_data",
          "data": {
            "text/plain": [
              "<Figure size 640x480 with 1 Axes>"
            ],
            "image/png": "[encoded data removed]"
          },
          "metadata": {}
        }
      ]
    },
    {
      "cell_type": "code",
      "source": [
        "from tensorflow.keras.layers import Dense\n",
        "from tensorflow.keras import Sequential\n",
        "\n",
        "model_2 = Sequential([\n",
        "     Dense(20, activation='relu'),\n",
        "     Dense(1)\n",
        "])\n",
        "\n",
        "model_2.compile(loss=tf.keras.losses.mae,\n",
        "                optimizer=tf.keras.optimizers.SGD(),\n",
        "                metrics=['mae'])\n",
        "\n",
        "model_2_history = model_2.fit(x_train, y_train, epochs=30)"
      ],
      "metadata": {
        "colab": {
          "base_uri": "https://localhost:8080/"
        },
        "id": "6hXO_DC-eflO",
        "outputId": "d96e8040-0aa4-4da5-f919-4ffd2ad528c9"
      },
      "execution_count": 28,
      "outputs": [
        {
          "output_type": "stream",
          "name": "stdout",
          "text": [
            "Epoch 1/30\n",
            "13/13 [==============================] - 1s 3ms/step - loss: 184.3213 - mae: 184.3213\n",
            "Epoch 2/30\n",
            "13/13 [==============================] - 0s 2ms/step - loss: 26.9320 - mae: 26.9320\n",
            "Epoch 3/30\n",
            "13/13 [==============================] - 0s 2ms/step - loss: 22.1218 - mae: 22.1218\n",
            "Epoch 4/30\n",
            "13/13 [==============================] - 0s 2ms/step - loss: 21.9918 - mae: 21.9918\n",
            "Epoch 5/30\n",
            "13/13 [==============================] - 0s 3ms/step - loss: 21.8618 - mae: 21.8618\n",
            "Epoch 6/30\n",
            "13/13 [==============================] - 0s 2ms/step - loss: 21.7318 - mae: 21.7318\n",
            "Epoch 7/30\n",
            "13/13 [==============================] - 0s 3ms/step - loss: 21.6018 - mae: 21.6018\n",
            "Epoch 8/30\n",
            "13/13 [==============================] - 0s 2ms/step - loss: 21.4718 - mae: 21.4718\n",
            "Epoch 9/30\n",
            "13/13 [==============================] - 0s 3ms/step - loss: 21.3418 - mae: 21.3418\n",
            "Epoch 10/30\n",
            "13/13 [==============================] - 0s 3ms/step - loss: 21.2118 - mae: 21.2118\n",
            "Epoch 11/30\n",
            "13/13 [==============================] - 0s 3ms/step - loss: 21.0818 - mae: 21.0818\n",
            "Epoch 12/30\n",
            "13/13 [==============================] - 0s 3ms/step - loss: 20.9518 - mae: 20.9518\n",
            "Epoch 13/30\n",
            "13/13 [==============================] - 0s 3ms/step - loss: 20.8218 - mae: 20.8218\n",
            "Epoch 14/30\n",
            "13/13 [==============================] - 0s 2ms/step - loss: 20.6918 - mae: 20.6918\n",
            "Epoch 15/30\n",
            "13/13 [==============================] - 0s 3ms/step - loss: 20.5618 - mae: 20.5618\n",
            "Epoch 16/30\n",
            "13/13 [==============================] - 0s 3ms/step - loss: 20.4318 - mae: 20.4318\n",
            "Epoch 17/30\n",
            "13/13 [==============================] - 0s 3ms/step - loss: 20.3018 - mae: 20.3018\n",
            "Epoch 18/30\n",
            "13/13 [==============================] - 0s 2ms/step - loss: 20.1718 - mae: 20.1718\n",
            "Epoch 19/30\n",
            "13/13 [==============================] - 0s 2ms/step - loss: 20.0418 - mae: 20.0418\n",
            "Epoch 20/30\n",
            "13/13 [==============================] - 0s 4ms/step - loss: 19.9118 - mae: 19.9118\n",
            "Epoch 21/30\n",
            "13/13 [==============================] - 0s 2ms/step - loss: 19.7818 - mae: 19.7818\n",
            "Epoch 22/30\n",
            "13/13 [==============================] - 0s 2ms/step - loss: 19.6518 - mae: 19.6518\n",
            "Epoch 23/30\n",
            "13/13 [==============================] - 0s 2ms/step - loss: 19.5218 - mae: 19.5218\n",
            "Epoch 24/30\n",
            "13/13 [==============================] - 0s 2ms/step - loss: 19.3918 - mae: 19.3918\n",
            "Epoch 25/30\n",
            "13/13 [==============================] - 0s 2ms/step - loss: 19.2618 - mae: 19.2618\n",
            "Epoch 26/30\n",
            "13/13 [==============================] - 0s 2ms/step - loss: 19.1318 - mae: 19.1318\n",
            "Epoch 27/30\n",
            "13/13 [==============================] - 0s 2ms/step - loss: 19.0018 - mae: 19.0018\n",
            "Epoch 28/30\n",
            "13/13 [==============================] - 0s 2ms/step - loss: 18.8718 - mae: 18.8718\n",
            "Epoch 29/30\n",
            "13/13 [==============================] - 0s 2ms/step - loss: 18.7418 - mae: 18.7418\n",
            "Epoch 30/30\n",
            "13/13 [==============================] - 0s 2ms/step - loss: 18.6118 - mae: 18.6118\n"
          ]
        }
      ]
    },
    {
      "cell_type": "code",
      "source": [
        "pd.DataFrame(model_2_history.history).plot()\n",
        "plt.ylabel('loss')\n",
        "plt.xlabel('epochs')"
      ],
      "metadata": {
        "colab": {
          "base_uri": "https://localhost:8080/",
          "height": 466
        },
        "id": "9rGwD5KZfAbQ",
        "outputId": "a566ad9e-39ad-4b5f-cffb-d46b0df027e7"
      },
      "execution_count": 29,
      "outputs": [
        {
          "output_type": "execute_result",
          "data": {
            "text/plain": [
              "Text(0.5, 0, 'epochs')"
            ]
          },
          "metadata": {},
          "execution_count": 29
        },
        {
          "output_type": "display_data",
          "data": {
            "text/plain": [
              "<Figure size 640x480 with 1 Axes>"
            ],
            "image/png": "[encoded data removed]"
          },
          "metadata": {}
        }
      ]
    },
    {
      "cell_type": "markdown",
      "source": [
        "## Fashion mnist"
      ],
      "metadata": {
        "id": "1siFwvYWiUWo"
      }
    },
    {
      "cell_type": "code",
      "source": [
        "import tensorflow as tf\n",
        "from tensorflow.keras.datasets import fashion_mnist\n",
        "\n",
        "# The data has already been sorted into training and test sets for us\n",
        "(train_data, train_labels), (test_data, test_labels) = fashion_mnist.load_data()\n",
        ""
      ],
      "metadata": {
        "colab": {
          "base_uri": "https://localhost:8080/"
        },
        "id": "qD4JvKu5fAZe",
        "outputId": "ee055efd-a9ee-40d8-96fc-bae1b3d627bb"
      },
      "execution_count": 31,
      "outputs": [
        {
          "output_type": "stream",
          "name": "stdout",
          "text": [
            "Downloading data from https://storage.googleapis.com/tensorflow/tf-keras-datasets/train-labels-idx1-ubyte.gz\n",
            "29515/29515 [==============================] - 0s 0us/step\n",
            "Downloading data from https://storage.googleapis.com/tensorflow/tf-keras-datasets/train-images-idx3-ubyte.gz\n",
            "26421880/26421880 [==============================] - 0s 0us/step\n",
            "Downloading data from https://storage.googleapis.com/tensorflow/tf-keras-datasets/t10k-labels-idx1-ubyte.gz\n",
            "5148/5148 [==============================] - 0s 0us/step\n",
            "Downloading data from https://storage.googleapis.com/tensorflow/tf-keras-datasets/t10k-images-idx3-ubyte.gz\n",
            "4422102/4422102 [==============================] - 0s 0us/step\n"
          ]
        }
      ]
    },
    {
      "cell_type": "code",
      "source": [
        "# Show the first training example\n",
        "print(f\"Training sample:\\n{train_data[0]}\\n\")\n",
        "print(f\"Training label: {train_labels[0]}\")"
      ],
      "metadata": {
        "colab": {
          "base_uri": "https://localhost:8080/"
        },
        "id": "bEJXtTkqfAXW",
        "outputId": "1cefc2ed-337e-476d-ad21-84bf20cce76d"
      },
      "execution_count": 32,
      "outputs": [
        {
          "output_type": "stream",
          "name": "stdout",
          "text": [
            "Training sample:\n",
            "[[  0   0   0   0   0   0   0   0   0   0   0   0   0   0   0   0   0   0\n",
            "    0   0   0   0   0   0   0   0   0   0]\n",
            " [  0   0   0   0   0   0   0   0   0   0   0   0   0   0   0   0   0   0\n",
            "    0   0   0   0   0   0   0   0   0   0]\n",
            " [  0   0   0   0   0   0   0   0   0   0   0   0   0   0   0   0   0   0\n",
            "    0   0   0   0   0   0   0   0   0   0]\n",
            " [  0   0   0   0   0   0   0   0   0   0   0   0   1   0   0  13  73   0\n",
            "    0   1   4   0   0   0   0   1   1   0]\n",
            " [  0   0   0   0   0   0   0   0   0   0   0   0   3   0  36 136 127  62\n",
            "   54   0   0   0   1   3   4   0   0   3]\n",
            " [  0   0   0   0   0   0   0   0   0   0   0   0   6   0 102 204 176 134\n",
            "  144 123  23   0   0   0   0  12  10   0]\n",
            " [  0   0   0   0   0   0   0   0   0   0   0   0   0   0 155 236 207 178\n",
            "  107 156 161 109  64  23  77 130  72  15]\n",
            " [  0   0   0   0   0   0   0   0   0   0   0   1   0  69 207 223 218 216\n",
            "  216 163 127 121 122 146 141  88 172  66]\n",
            " [  0   0   0   0   0   0   0   0   0   1   1   1   0 200 232 232 233 229\n",
            "  223 223 215 213 164 127 123 196 229   0]\n",
            " [  0   0   0   0   0   0   0   0   0   0   0   0   0 183 225 216 223 228\n",
            "  235 227 224 222 224 221 223 245 173   0]\n",
            " [  0   0   0   0   0   0   0   0   0   0   0   0   0 193 228 218 213 198\n",
            "  180 212 210 211 213 223 220 243 202   0]\n",
            " [  0   0   0   0   0   0   0   0   0   1   3   0  12 219 220 212 218 192\n",
            "  169 227 208 218 224 212 226 197 209  52]\n",
            " [  0   0   0   0   0   0   0   0   0   0   6   0  99 244 222 220 218 203\n",
            "  198 221 215 213 222 220 245 119 167  56]\n",
            " [  0   0   0   0   0   0   0   0   0   4   0   0  55 236 228 230 228 240\n",
            "  232 213 218 223 234 217 217 209  92   0]\n",
            " [  0   0   1   4   6   7   2   0   0   0   0   0 237 226 217 223 222 219\n",
            "  222 221 216 223 229 215 218 255  77   0]\n",
            " [  0   3   0   0   0   0   0   0   0  62 145 204 228 207 213 221 218 208\n",
            "  211 218 224 223 219 215 224 244 159   0]\n",
            " [  0   0   0   0  18  44  82 107 189 228 220 222 217 226 200 205 211 230\n",
            "  224 234 176 188 250 248 233 238 215   0]\n",
            " [  0  57 187 208 224 221 224 208 204 214 208 209 200 159 245 193 206 223\n",
            "  255 255 221 234 221 211 220 232 246   0]\n",
            " [  3 202 228 224 221 211 211 214 205 205 205 220 240  80 150 255 229 221\n",
            "  188 154 191 210 204 209 222 228 225   0]\n",
            " [ 98 233 198 210 222 229 229 234 249 220 194 215 217 241  65  73 106 117\n",
            "  168 219 221 215 217 223 223 224 229  29]\n",
            " [ 75 204 212 204 193 205 211 225 216 185 197 206 198 213 240 195 227 245\n",
            "  239 223 218 212 209 222 220 221 230  67]\n",
            " [ 48 203 183 194 213 197 185 190 194 192 202 214 219 221 220 236 225 216\n",
            "  199 206 186 181 177 172 181 205 206 115]\n",
            " [  0 122 219 193 179 171 183 196 204 210 213 207 211 210 200 196 194 191\n",
            "  195 191 198 192 176 156 167 177 210  92]\n",
            " [  0   0  74 189 212 191 175 172 175 181 185 188 189 188 193 198 204 209\n",
            "  210 210 211 188 188 194 192 216 170   0]\n",
            " [  2   0   0   0  66 200 222 237 239 242 246 243 244 221 220 193 191 179\n",
            "  182 182 181 176 166 168  99  58   0   0]\n",
            " [  0   0   0   0   0   0   0  40  61  44  72  41  35   0   0   0   0   0\n",
            "    0   0   0   0   0   0   0   0   0   0]\n",
            " [  0   0   0   0   0   0   0   0   0   0   0   0   0   0   0   0   0   0\n",
            "    0   0   0   0   0   0   0   0   0   0]\n",
            " [  0   0   0   0   0   0   0   0   0   0   0   0   0   0   0   0   0   0\n",
            "    0   0   0   0   0   0   0   0   0   0]]\n",
            "\n",
            "Training label: 9\n"
          ]
        }
      ]
    },
    {
      "cell_type": "code",
      "source": [
        "train_data.shape, train_labels.shape, test_data.shape, test_labels.shape\n"
      ],
      "metadata": {
        "colab": {
          "base_uri": "https://localhost:8080/"
        },
        "id": "SuDTFwLGfAVe",
        "outputId": "2bf0fcf7-fe2b-44ba-f4e8-ff80ccc86e03"
      },
      "execution_count": 33,
      "outputs": [
        {
          "output_type": "execute_result",
          "data": {
            "text/plain": [
              "((60000, 28, 28), (60000,), (10000, 28, 28), (10000,))"
            ]
          },
          "metadata": {},
          "execution_count": 33
        }
      ]
    },
    {
      "cell_type": "code",
      "source": [
        "plt.imshow(train_data[7])"
      ],
      "metadata": {
        "colab": {
          "base_uri": "https://localhost:8080/",
          "height": 447
        },
        "id": "ofH5q8IEfATm",
        "outputId": "896c6e42-ae26-498b-92c2-3dd85a3ec69a"
      },
      "execution_count": 35,
      "outputs": [
        {
          "output_type": "execute_result",
          "data": {
            "text/plain": [
              "<matplotlib.image.AxesImage at 0x7ef8d4225c30>"
            ]
          },
          "metadata": {},
          "execution_count": 35
        },
        {
          "output_type": "display_data",
          "data": {
            "text/plain": [
              "<Figure size 640x480 with 1 Axes>"
            ],
            "image/png": "[encoded data removed]"
          },
          "metadata": {}
        }
      ]
    },
    {
      "cell_type": "code",
      "source": [
        "\n",
        "class_names = ['T-shirt/top', 'Trouser', 'Pullover', 'Dress', 'Coat',\n",
        "               'Sandal', 'Shirt', 'Sneaker', 'Bag', 'Ankle boot']\n",
        "# How many classes are there (this'll be our output shape)?\n",
        "len(class_names)"
      ],
      "metadata": {
        "colab": {
          "base_uri": "https://localhost:8080/"
        },
        "id": "PSpKLlP-fARe",
        "outputId": "f1e75aa5-1d89-47bc-aa0d-0363aa32b7e9"
      },
      "execution_count": 37,
      "outputs": [
        {
          "output_type": "execute_result",
          "data": {
            "text/plain": [
              "10"
            ]
          },
          "metadata": {},
          "execution_count": 37
        }
      ]
    },
    {
      "cell_type": "code",
      "source": [
        "# Set random seed\n",
        "tf.random.set_seed(42)\n",
        "\n",
        "# Create the model\n",
        "model_13 = tf.keras.Sequential([\n",
        "  tf.keras.layers.Flatten(input_shape=(28, 28)), # input layer (we had to reshape 28x28 to 784)\n",
        "  tf.keras.layers.Dense(4, activation=\"relu\"),\n",
        "  tf.keras.layers.Dense(4, activation=\"relu\"),\n",
        "  tf.keras.layers.Dense(10, activation=\"softmax\") # output shape is 10, activation is softmax\n",
        "])\n",
        "\n",
        "# Compile the model\n",
        "model_13.compile(loss=tf.keras.losses.SparseCategoricalCrossentropy(),\n",
        "                 optimizer=tf.keras.optimizers.Adam(),\n",
        "                 metrics=[\"accuracy\"])\n",
        "\n",
        "# Create the learning rate callback\n",
        "lr_scheduler = tf.keras.callbacks.LearningRateScheduler(lambda epoch: 1e-3 * 10**(epoch/20))\n",
        "\n",
        "# Fit the model\n",
        "find_lr_history = model_13.fit(train_data,\n",
        "                               train_labels,\n",
        "                               epochs=20, # model already doing pretty good with current LR, probably don't need 100 epochs\n",
        "                               validation_data=(test_data, test_labels),\n",
        "                               callbacks=[lr_scheduler])"
      ],
      "metadata": {
        "colab": {
          "base_uri": "https://localhost:8080/"
        },
        "id": "0RJ6RcBojeXg",
        "outputId": "369346e6-9faa-44d4-9960-3a0381a5f844"
      },
      "execution_count": 40,
      "outputs": [
        {
          "output_type": "stream",
          "name": "stdout",
          "text": [
            "Epoch 1/20\n",
            "1875/1875 [==============================] - 5s 2ms/step - loss: 1.9597 - accuracy: 0.2179 - val_loss: 1.7387 - val_accuracy: 0.2462 - lr: 0.0010\n",
            "Epoch 2/20\n",
            "1875/1875 [==============================] - 4s 2ms/step - loss: 1.6855 - accuracy: 0.2797 - val_loss: 1.6616 - val_accuracy: 0.2787 - lr: 0.0011\n",
            "Epoch 3/20\n",
            "1875/1875 [==============================] - 7s 4ms/step - loss: 1.6326 - accuracy: 0.2884 - val_loss: 1.6026 - val_accuracy: 0.2985 - lr: 0.0013\n",
            "Epoch 4/20\n",
            "1875/1875 [==============================] - 4s 2ms/step - loss: 1.6072 - accuracy: 0.2905 - val_loss: 1.5912 - val_accuracy: 0.2952 - lr: 0.0014\n",
            "Epoch 5/20\n",
            "1875/1875 [==============================] - 4s 2ms/step - loss: 1.6040 - accuracy: 0.2932 - val_loss: 1.6559 - val_accuracy: 0.2782 - lr: 0.0016\n",
            "Epoch 6/20\n",
            "1875/1875 [==============================] - 5s 3ms/step - loss: 1.6033 - accuracy: 0.2890 - val_loss: 1.5836 - val_accuracy: 0.3091 - lr: 0.0018\n",
            "Epoch 7/20\n",
            "1875/1875 [==============================] - 4s 2ms/step - loss: 1.6088 - accuracy: 0.2887 - val_loss: 1.5837 - val_accuracy: 0.3013 - lr: 0.0020\n",
            "Epoch 8/20\n",
            "1875/1875 [==============================] - 4s 2ms/step - loss: 1.6001 - accuracy: 0.2939 - val_loss: 1.5913 - val_accuracy: 0.2865 - lr: 0.0022\n",
            "Epoch 9/20\n",
            "1875/1875 [==============================] - 4s 2ms/step - loss: 1.6023 - accuracy: 0.2908 - val_loss: 1.6789 - val_accuracy: 0.2815 - lr: 0.0025\n",
            "Epoch 10/20\n",
            "1875/1875 [==============================] - 5s 3ms/step - loss: 1.6184 - accuracy: 0.2925 - val_loss: 1.5775 - val_accuracy: 0.2940 - lr: 0.0028\n",
            "Epoch 11/20\n",
            "1875/1875 [==============================] - 4s 2ms/step - loss: 1.5953 - accuracy: 0.2817 - val_loss: 1.5969 - val_accuracy: 0.2809 - lr: 0.0032\n",
            "Epoch 12/20\n",
            "1875/1875 [==============================] - 4s 2ms/step - loss: 1.5955 - accuracy: 0.2930 - val_loss: 1.5843 - val_accuracy: 0.2922 - lr: 0.0035\n",
            "Epoch 13/20\n",
            "1875/1875 [==============================] - 5s 3ms/step - loss: 1.5847 - accuracy: 0.3133 - val_loss: 1.5714 - val_accuracy: 0.3320 - lr: 0.0040\n",
            "Epoch 14/20\n",
            "1875/1875 [==============================] - 4s 2ms/step - loss: 1.5925 - accuracy: 0.3160 - val_loss: 1.5586 - val_accuracy: 0.3332 - lr: 0.0045\n",
            "Epoch 15/20\n",
            "1875/1875 [==============================] - 4s 2ms/step - loss: 1.5961 - accuracy: 0.3108 - val_loss: 1.5842 - val_accuracy: 0.3106 - lr: 0.0050\n",
            "Epoch 16/20\n",
            "1875/1875 [==============================] - 5s 3ms/step - loss: 1.5825 - accuracy: 0.3144 - val_loss: 1.5803 - val_accuracy: 0.3254 - lr: 0.0056\n",
            "Epoch 17/20\n",
            "1875/1875 [==============================] - 4s 2ms/step - loss: 1.5810 - accuracy: 0.3245 - val_loss: 1.5879 - val_accuracy: 0.3353 - lr: 0.0063\n",
            "Epoch 18/20\n",
            "1875/1875 [==============================] - 4s 2ms/step - loss: 1.5972 - accuracy: 0.3120 - val_loss: 1.5580 - val_accuracy: 0.3400 - lr: 0.0071\n",
            "Epoch 19/20\n",
            "1875/1875 [==============================] - 5s 3ms/step - loss: 1.6383 - accuracy: 0.2935 - val_loss: 1.5939 - val_accuracy: 0.3205 - lr: 0.0079\n",
            "Epoch 20/20\n",
            "1875/1875 [==============================] - 4s 2ms/step - loss: 1.6033 - accuracy: 0.3092 - val_loss: 1.5984 - val_accuracy: 0.3323 - lr: 0.0089\n"
          ]
        }
      ]
    },
    {
      "cell_type": "code",
      "source": [
        "train_data.min(), train_data.max()"
      ],
      "metadata": {
        "colab": {
          "base_uri": "https://localhost:8080/"
        },
        "id": "0Om6StUOlJT_",
        "outputId": "ab205c39-048c-4230-8bc6-52786c3ba2be"
      },
      "execution_count": 41,
      "outputs": [
        {
          "output_type": "execute_result",
          "data": {
            "text/plain": [
              "(0, 255)"
            ]
          },
          "metadata": {},
          "execution_count": 41
        }
      ]
    },
    {
      "cell_type": "code",
      "source": [
        "train_data = train_data / 255.0\n",
        "test_data = test_data / 255.0\n",
        "\n",
        "train_data.min(), train_data.max()"
      ],
      "metadata": {
        "colab": {
          "base_uri": "https://localhost:8080/"
        },
        "id": "C0JHJ-pHkl9x",
        "outputId": "1823a20d-23df-40a0-fca2-a3b60386103e"
      },
      "execution_count": 42,
      "outputs": [
        {
          "output_type": "execute_result",
          "data": {
            "text/plain": [
              "(0.0, 1.0)"
            ]
          },
          "metadata": {},
          "execution_count": 42
        }
      ]
    },
    {
      "cell_type": "code",
      "source": [
        "train_labels[:10]"
      ],
      "metadata": {
        "colab": {
          "base_uri": "https://localhost:8080/"
        },
        "id": "RHkcHJVgmHbw",
        "outputId": "3a0cbb67-3e2a-4d9e-f237-87c2bd7ab1e4"
      },
      "execution_count": 43,
      "outputs": [
        {
          "output_type": "execute_result",
          "data": {
            "text/plain": [
              "array([9, 0, 0, 3, 0, 2, 7, 2, 5, 5], dtype=uint8)"
            ]
          },
          "metadata": {},
          "execution_count": 43
        }
      ]
    },
    {
      "cell_type": "code",
      "source": [
        "model_14 = Sequential([\n",
        "    tf.keras.layers.Flatten(input_shape=(28, 28)),\n",
        "    Dense(4, activation='relu'),\n",
        "    Dense(4, activation='relu'),\n",
        "    Dense(10, activation='softmax')\n",
        "])\n",
        "\n",
        "model_14.compile(\n",
        "    loss=tf.keras.losses.SparseCategoricalCrossentropy(),\n",
        "    optimizer=tf.keras.optimizers.Adam(),\n",
        "    metrics=['accuracy']\n",
        ")\n",
        "\n"
      ],
      "metadata": {
        "id": "f-jFdwmtjeVX"
      },
      "execution_count": 50,
      "outputs": []
    },
    {
      "cell_type": "code",
      "source": [
        "model_14.summary()"
      ],
      "metadata": {
        "colab": {
          "base_uri": "https://localhost:8080/"
        },
        "id": "cUAQILKKjeTX",
        "outputId": "693f46b1-da1c-47ea-a46a-bc43a3ee8219"
      },
      "execution_count": 51,
      "outputs": [
        {
          "output_type": "stream",
          "name": "stdout",
          "text": [
            "Model: \"sequential_17\"\n",
            "_________________________________________________________________\n",
            " Layer (type)                Output Shape              Param #   \n",
            "=================================================================\n",
            " flatten_3 (Flatten)         (None, 784)               0         \n",
            "                                                                 \n",
            " dense_39 (Dense)            (None, 4)                 3140      \n",
            "                                                                 \n",
            " dense_40 (Dense)            (None, 4)                 20        \n",
            "                                                                 \n",
            " dense_41 (Dense)            (None, 10)                50        \n",
            "                                                                 \n",
            "=================================================================\n",
            "Total params: 3210 (12.54 KB)\n",
            "Trainable params: 3210 (12.54 KB)\n",
            "Non-trainable params: 0 (0.00 Byte)\n",
            "_________________________________________________________________\n"
          ]
        }
      ]
    },
    {
      "cell_type": "code",
      "source": [
        "model_14_history = model_14.fit(\n",
        "    train_data,\n",
        "    train_labels,\n",
        "    epochs=20,\n",
        "    validation_data=(test_data, test_labels)\n",
        ")"
      ],
      "metadata": {
        "colab": {
          "base_uri": "https://localhost:8080/"
        },
        "id": "avK6mjuVjeRR",
        "outputId": "f4ada765-bf39-4944-e79b-dcfdb47a9de5"
      },
      "execution_count": 52,
      "outputs": [
        {
          "output_type": "stream",
          "name": "stdout",
          "text": [
            "Epoch 1/20\n",
            "1875/1875 [==============================] - 6s 3ms/step - loss: 1.2124 - accuracy: 0.6152 - val_loss: 0.8954 - val_accuracy: 0.7174\n",
            "Epoch 2/20\n",
            "1875/1875 [==============================] - 4s 2ms/step - loss: 0.8060 - accuracy: 0.7396 - val_loss: 0.7664 - val_accuracy: 0.7562\n",
            "Epoch 3/20\n",
            "1875/1875 [==============================] - 4s 2ms/step - loss: 0.7087 - accuracy: 0.7650 - val_loss: 0.7055 - val_accuracy: 0.7676\n",
            "Epoch 4/20\n",
            "1875/1875 [==============================] - 6s 3ms/step - loss: 0.6578 - accuracy: 0.7790 - val_loss: 0.6684 - val_accuracy: 0.7840\n",
            "Epoch 5/20\n",
            "1875/1875 [==============================] - 4s 2ms/step - loss: 0.6290 - accuracy: 0.7870 - val_loss: 0.6615 - val_accuracy: 0.7792\n",
            "Epoch 6/20\n",
            "1875/1875 [==============================] - 4s 2ms/step - loss: 0.6081 - accuracy: 0.7930 - val_loss: 0.6579 - val_accuracy: 0.7824\n",
            "Epoch 7/20\n",
            "1875/1875 [==============================] - 5s 3ms/step - loss: 0.5966 - accuracy: 0.7971 - val_loss: 0.6315 - val_accuracy: 0.7858\n",
            "Epoch 8/20\n",
            "1875/1875 [==============================] - 4s 2ms/step - loss: 0.5833 - accuracy: 0.8028 - val_loss: 0.6168 - val_accuracy: 0.7976\n",
            "Epoch 9/20\n",
            "1875/1875 [==============================] - 4s 2ms/step - loss: 0.5749 - accuracy: 0.8064 - val_loss: 0.6006 - val_accuracy: 0.8025\n",
            "Epoch 10/20\n",
            "1875/1875 [==============================] - 6s 3ms/step - loss: 0.5680 - accuracy: 0.8074 - val_loss: 0.6038 - val_accuracy: 0.8023\n",
            "Epoch 11/20\n",
            "1875/1875 [==============================] - 4s 2ms/step - loss: 0.5621 - accuracy: 0.8108 - val_loss: 0.6032 - val_accuracy: 0.8010\n",
            "Epoch 12/20\n",
            "1875/1875 [==============================] - 4s 2ms/step - loss: 0.5553 - accuracy: 0.8113 - val_loss: 0.5919 - val_accuracy: 0.8063\n",
            "Epoch 13/20\n",
            "1875/1875 [==============================] - 5s 3ms/step - loss: 0.5518 - accuracy: 0.8135 - val_loss: 0.5828 - val_accuracy: 0.8081\n",
            "Epoch 14/20\n",
            "1875/1875 [==============================] - 4s 2ms/step - loss: 0.5475 - accuracy: 0.8145 - val_loss: 0.5894 - val_accuracy: 0.8072\n",
            "Epoch 15/20\n",
            "1875/1875 [==============================] - 4s 2ms/step - loss: 0.5436 - accuracy: 0.8162 - val_loss: 0.5849 - val_accuracy: 0.8095\n",
            "Epoch 16/20\n",
            "1875/1875 [==============================] - 6s 3ms/step - loss: 0.5397 - accuracy: 0.8172 - val_loss: 0.5787 - val_accuracy: 0.8125\n",
            "Epoch 17/20\n",
            "1875/1875 [==============================] - 4s 2ms/step - loss: 0.5363 - accuracy: 0.8181 - val_loss: 0.5799 - val_accuracy: 0.8078\n",
            "Epoch 18/20\n",
            "1875/1875 [==============================] - 5s 3ms/step - loss: 0.5354 - accuracy: 0.8184 - val_loss: 0.5734 - val_accuracy: 0.8149\n",
            "Epoch 19/20\n",
            "1875/1875 [==============================] - 5s 3ms/step - loss: 0.5327 - accuracy: 0.8195 - val_loss: 0.5819 - val_accuracy: 0.8087\n",
            "Epoch 20/20\n",
            "1875/1875 [==============================] - 4s 2ms/step - loss: 0.5305 - accuracy: 0.8198 - val_loss: 0.5759 - val_accuracy: 0.8136\n"
          ]
        }
      ]
    },
    {
      "cell_type": "code",
      "source": [
        "# Make predictions with the most recent model\n",
        "y_probs = model_14.predict(test_data) # \"probs\" is short for probabilities\n",
        "\n",
        "# View the first 5 predictions\n",
        "y_probs[:5]"
      ],
      "metadata": {
        "colab": {
          "base_uri": "https://localhost:8080/"
        },
        "id": "4_Utcq2xjeO3",
        "outputId": "2ab82b88-4654-4443-e43a-87081e418a73"
      },
      "execution_count": 53,
      "outputs": [
        {
          "output_type": "stream",
          "name": "stdout",
          "text": [
            "313/313 [==============================] - 1s 3ms/step\n"
          ]
        },
        {
          "output_type": "execute_result",
          "data": {
            "text/plain": [
              "array([[2.9444777e-10, 3.2622448e-13, 7.3886054e-14, 4.7680687e-10,\n",
              "        3.4432197e-09, 3.9204338e-01, 1.6719389e-08, 6.3913204e-02,\n",
              "        8.5490244e-04, 5.4318863e-01],\n",
              "       [4.1971105e-04, 7.7245319e-18, 7.8600240e-01, 1.2631435e-07,\n",
              "        2.9959863e-02, 4.1078393e-18, 1.8361148e-01, 1.0258604e-37,\n",
              "        6.3270850e-06, 2.3639928e-36],\n",
              "       [1.1494144e-02, 9.5230573e-01, 4.5965548e-04, 2.3806542e-02,\n",
              "        1.3124858e-04, 8.3672814e-03, 2.6268701e-03, 5.5211812e-04,\n",
              "        1.8824676e-04, 6.8258152e-05],\n",
              "       [1.1494144e-02, 9.5230573e-01, 4.5965548e-04, 2.3806542e-02,\n",
              "        1.3124858e-04, 8.3672814e-03, 2.6268701e-03, 5.5211812e-04,\n",
              "        1.8824676e-04, 6.8258152e-05],\n",
              "       [2.7522036e-01, 2.1343499e-06, 8.4577806e-02, 2.5862610e-04,\n",
              "        2.9516106e-03, 3.1654471e-07, 6.3227344e-01, 3.0973629e-17,\n",
              "        4.7157696e-03, 2.8032585e-15]], dtype=float32)"
            ]
          },
          "metadata": {},
          "execution_count": 53
        }
      ]
    },
    {
      "cell_type": "code",
      "source": [
        "y_probs[5].argmax(), class_names[y_probs[0].argmax()]"
      ],
      "metadata": {
        "colab": {
          "base_uri": "https://localhost:8080/"
        },
        "id": "jL3jt2z_jeMu",
        "outputId": "6695a1e6-c292-4d19-90d9-104d6f4be87a"
      },
      "execution_count": 54,
      "outputs": [
        {
          "output_type": "execute_result",
          "data": {
            "text/plain": [
              "(1, 'Ankle boot')"
            ]
          },
          "metadata": {},
          "execution_count": 54
        }
      ]
    },
    {
      "cell_type": "code",
      "source": [
        "import random\n",
        "\n",
        "def plot_random_image(model, images, true_labels, classes):\n",
        "  i = random.randint(0, len(images))\n",
        "\n",
        "  target_image = images[i]\n",
        "  pred_probs = model.predict(target_image.reshape(1,28,28))\n",
        "  pred_label = classes[pred_probs.argmax()]\n",
        "  true_label = classes[true_labels[i]]\n",
        "\n",
        "  plt.imshow(target_image, cmap=plt.cm.binary)\n",
        "\n",
        "  if pred_label == true_label:\n",
        "    color = 'green'\n",
        "  else:\n",
        "    color = 'red'\n",
        "\n",
        "  # Add xlabel information (prediction/true label)\n",
        "  plt.xlabel(\"Pred: {} {:2.0f}% (True: {})\".format(pred_label,\n",
        "                                                   100*tf.reduce_max(pred_probs),\n",
        "                                                   true_label),\n",
        "             color=color) # set the color to green or red"
      ],
      "metadata": {
        "id": "p3o5bUGQjeKe"
      },
      "execution_count": 58,
      "outputs": []
    },
    {
      "cell_type": "code",
      "source": [
        "# Check out a random image as well as its prediction\n",
        "plot_random_image(model=model_14,\n",
        "                  images=test_data,\n",
        "                  true_labels=test_labels,\n",
        "                  classes=class_names)"
      ],
      "metadata": {
        "colab": {
          "base_uri": "https://localhost:8080/",
          "height": 466
        },
        "id": "DWjRJ69MjeIP",
        "outputId": "30b2a8bc-853f-455d-898a-39ef22ccb924"
      },
      "execution_count": 60,
      "outputs": [
        {
          "output_type": "stream",
          "name": "stdout",
          "text": [
            "1/1 [==============================] - 0s 19ms/step\n"
          ]
        },
        {
          "output_type": "display_data",
          "data": {
            "text/plain": [
              "<Figure size 640x480 with 1 Axes>"
            ],
            "image/png": "[encoded data removed]"
          },
          "metadata": {}
        }
      ]
    }
  ]
}