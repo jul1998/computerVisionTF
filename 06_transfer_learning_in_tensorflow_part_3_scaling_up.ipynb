{
  "nbformat": 4,
  "nbformat_minor": 0,
  "metadata": {
    "colab": {
      "provenance": [],
      "gpuType": "T4"
    },
    "kernelspec": {
      "name": "python3",
      "display_name": "Python 3"
    },
    "language_info": {
      "name": "python"
    },
    "accelerator": "GPU"
  },
  "cells": [
    {
      "cell_type": "code",
      "execution_count": 2,
      "metadata": {
        "colab": {
          "base_uri": "https://localhost:8080/"
        },
        "id": "stWyH4vgHcAs",
        "outputId": "137ddff0-cc98-410c-84cf-22dfcf0e9dbb"
      },
      "outputs": [
        {
          "output_type": "stream",
          "name": "stdout",
          "text": [
            "Wed Nov  1 04:36:37 2023       \n",
            "+-----------------------------------------------------------------------------+\n",
            "| NVIDIA-SMI 525.105.17   Driver Version: 525.105.17   CUDA Version: 12.0     |\n",
            "|-------------------------------+----------------------+----------------------+\n",
            "| GPU  Name        Persistence-M| Bus-Id        Disp.A | Volatile Uncorr. ECC |\n",
            "| Fan  Temp  Perf  Pwr:Usage/Cap|         Memory-Usage | GPU-Util  Compute M. |\n",
            "|                               |                      |               MIG M. |\n",
            "|===============================+======================+======================|\n",
            "|   0  Tesla T4            Off  | 00000000:00:04.0 Off |                    0 |\n",
            "| N/A   39C    P8     9W /  70W |      0MiB / 15360MiB |      0%      Default |\n",
            "|                               |                      |                  N/A |\n",
            "+-------------------------------+----------------------+----------------------+\n",
            "                                                                               \n",
            "+-----------------------------------------------------------------------------+\n",
            "| Processes:                                                                  |\n",
            "|  GPU   GI   CI        PID   Type   Process name                  GPU Memory |\n",
            "|        ID   ID                                                   Usage      |\n",
            "|=============================================================================|\n",
            "|  No running processes found                                                 |\n",
            "+-----------------------------------------------------------------------------+\n"
          ]
        }
      ],
      "source": [
        "!nvidia-smi"
      ]
    },
    {
      "cell_type": "code",
      "source": [
        "## Creating helper functions\n",
        "!wget https://raw.githubusercontent.com/mrdbourke/tensorflow-deep-learning/main/extras/helper_functions.py\n"
      ],
      "metadata": {
        "colab": {
          "base_uri": "https://localhost:8080/"
        },
        "id": "xURY8tIDI6A4",
        "outputId": "8b40f15f-52f4-4b27-cf23-b90dff5ef3b5"
      },
      "execution_count": 3,
      "outputs": [
        {
          "output_type": "stream",
          "name": "stdout",
          "text": [
            "--2023-11-01 04:36:38--  https://raw.githubusercontent.com/mrdbourke/tensorflow-deep-learning/main/extras/helper_functions.py\n",
            "Resolving raw.githubusercontent.com (raw.githubusercontent.com)... 185.199.108.133, 185.199.109.133, 185.199.110.133, ...\n",
            "Connecting to raw.githubusercontent.com (raw.githubusercontent.com)|185.199.108.133|:443... connected.\n",
            "HTTP request sent, awaiting response... 200 OK\n",
            "Length: 10246 (10K) [text/plain]\n",
            "Saving to: ‘helper_functions.py’\n",
            "\n",
            "\rhelper_functions.py   0%[                    ]       0  --.-KB/s               \rhelper_functions.py 100%[===================>]  10.01K  --.-KB/s    in 0s      \n",
            "\n",
            "2023-11-01 04:36:38 (48.8 MB/s) - ‘helper_functions.py’ saved [10246/10246]\n",
            "\n"
          ]
        }
      ]
    },
    {
      "cell_type": "code",
      "source": [
        "# Import series of helper functions for the notebook (we've created/used these in previous notebooks)\n",
        "from helper_functions import create_tensorboard_callback, plot_loss_curves, unzip_data, compare_historys, walk_through_dir\n",
        "\n"
      ],
      "metadata": {
        "id": "DhiDbkpcI5-w"
      },
      "execution_count": 4,
      "outputs": []
    },
    {
      "cell_type": "markdown",
      "source": [
        "## 101 Food Classes: working with less data\n",
        "\n",
        "Our goal is to beat the original Food101 paper with 10% of the training\n",
        "data"
      ],
      "metadata": {
        "id": "KbRtEzXWJorx"
      }
    },
    {
      "cell_type": "code",
      "source": [
        "\n",
        "# Download data from Google Storage (already preformatted)\n",
        "!wget https://storage.googleapis.com/ztm_tf_course/food_vision/101_food_classes_10_percent.zip\n",
        "\n",
        "unzip_data(\"101_food_classes_10_percent.zip\")\n",
        "\n",
        "train_dir = \"101_food_classes_10_percent/train/\"\n",
        "test_dir = \"101_food_classes_10_percent/test/\""
      ],
      "metadata": {
        "colab": {
          "base_uri": "https://localhost:8080/"
        },
        "id": "r3y9eQFMI58h",
        "outputId": "dc5fd74f-6006-4f3b-c1b5-0e264a56d916"
      },
      "execution_count": 5,
      "outputs": [
        {
          "output_type": "stream",
          "name": "stdout",
          "text": [
            "--2023-11-01 04:36:49--  https://storage.googleapis.com/ztm_tf_course/food_vision/101_food_classes_10_percent.zip\n",
            "Resolving storage.googleapis.com (storage.googleapis.com)... 172.217.219.207, 209.85.146.207, 209.85.147.207, ...\n",
            "Connecting to storage.googleapis.com (storage.googleapis.com)|172.217.219.207|:443... connected.\n",
            "HTTP request sent, awaiting response... 200 OK\n",
            "Length: 1625420029 (1.5G) [application/zip]\n",
            "Saving to: ‘101_food_classes_10_percent.zip’\n",
            "\n",
            "101_food_classes_10 100%[===================>]   1.51G   162MB/s    in 14s     \n",
            "\n",
            "2023-11-01 04:37:03 (112 MB/s) - ‘101_food_classes_10_percent.zip’ saved [1625420029/1625420029]\n",
            "\n"
          ]
        }
      ]
    },
    {
      "cell_type": "code",
      "source": [
        "# How many images/classes are there?\n",
        "walk_through_dir(\"/content/101_food_classes_10_percent\")"
      ],
      "metadata": {
        "id": "IMGDoBWPI56Q",
        "colab": {
          "base_uri": "https://localhost:8080/"
        },
        "outputId": "24e7fd39-1885-4537-a06c-9377166990d0"
      },
      "execution_count": 6,
      "outputs": [
        {
          "output_type": "stream",
          "name": "stdout",
          "text": [
            "There are 2 directories and 0 images in '/content/101_food_classes_10_percent'.\n",
            "There are 101 directories and 0 images in '/content/101_food_classes_10_percent/test'.\n",
            "There are 0 directories and 250 images in '/content/101_food_classes_10_percent/test/lobster_roll_sandwich'.\n",
            "There are 0 directories and 250 images in '/content/101_food_classes_10_percent/test/tiramisu'.\n",
            "There are 0 directories and 250 images in '/content/101_food_classes_10_percent/test/fried_rice'.\n",
            "There are 0 directories and 250 images in '/content/101_food_classes_10_percent/test/carrot_cake'.\n",
            "There are 0 directories and 250 images in '/content/101_food_classes_10_percent/test/ramen'.\n",
            "There are 0 directories and 250 images in '/content/101_food_classes_10_percent/test/caesar_salad'.\n",
            "There are 0 directories and 250 images in '/content/101_food_classes_10_percent/test/mussels'.\n",
            "There are 0 directories and 250 images in '/content/101_food_classes_10_percent/test/panna_cotta'.\n",
            "There are 0 directories and 250 images in '/content/101_food_classes_10_percent/test/spaghetti_carbonara'.\n",
            "There are 0 directories and 250 images in '/content/101_food_classes_10_percent/test/waffles'.\n",
            "There are 0 directories and 250 images in '/content/101_food_classes_10_percent/test/hamburger'.\n",
            "There are 0 directories and 250 images in '/content/101_food_classes_10_percent/test/beef_tartare'.\n",
            "There are 0 directories and 250 images in '/content/101_food_classes_10_percent/test/ice_cream'.\n",
            "There are 0 directories and 250 images in '/content/101_food_classes_10_percent/test/chocolate_cake'.\n",
            "There are 0 directories and 250 images in '/content/101_food_classes_10_percent/test/apple_pie'.\n",
            "There are 0 directories and 250 images in '/content/101_food_classes_10_percent/test/bibimbap'.\n",
            "There are 0 directories and 250 images in '/content/101_food_classes_10_percent/test/paella'.\n",
            "There are 0 directories and 250 images in '/content/101_food_classes_10_percent/test/ceviche'.\n",
            "There are 0 directories and 250 images in '/content/101_food_classes_10_percent/test/creme_brulee'.\n",
            "There are 0 directories and 250 images in '/content/101_food_classes_10_percent/test/tacos'.\n",
            "There are 0 directories and 250 images in '/content/101_food_classes_10_percent/test/french_fries'.\n",
            "There are 0 directories and 250 images in '/content/101_food_classes_10_percent/test/shrimp_and_grits'.\n",
            "There are 0 directories and 250 images in '/content/101_food_classes_10_percent/test/pork_chop'.\n",
            "There are 0 directories and 250 images in '/content/101_food_classes_10_percent/test/takoyaki'.\n",
            "There are 0 directories and 250 images in '/content/101_food_classes_10_percent/test/poutine'.\n",
            "There are 0 directories and 250 images in '/content/101_food_classes_10_percent/test/miso_soup'.\n",
            "There are 0 directories and 250 images in '/content/101_food_classes_10_percent/test/fish_and_chips'.\n",
            "There are 0 directories and 250 images in '/content/101_food_classes_10_percent/test/greek_salad'.\n",
            "There are 0 directories and 250 images in '/content/101_food_classes_10_percent/test/lasagna'.\n",
            "There are 0 directories and 250 images in '/content/101_food_classes_10_percent/test/breakfast_burrito'.\n",
            "There are 0 directories and 250 images in '/content/101_food_classes_10_percent/test/ravioli'.\n",
            "There are 0 directories and 250 images in '/content/101_food_classes_10_percent/test/risotto'.\n",
            "There are 0 directories and 250 images in '/content/101_food_classes_10_percent/test/club_sandwich'.\n",
            "There are 0 directories and 250 images in '/content/101_food_classes_10_percent/test/sashimi'.\n",
            "There are 0 directories and 250 images in '/content/101_food_classes_10_percent/test/strawberry_shortcake'.\n",
            "There are 0 directories and 250 images in '/content/101_food_classes_10_percent/test/hot_and_sour_soup'.\n",
            "There are 0 directories and 250 images in '/content/101_food_classes_10_percent/test/omelette'.\n",
            "There are 0 directories and 250 images in '/content/101_food_classes_10_percent/test/baby_back_ribs'.\n",
            "There are 0 directories and 250 images in '/content/101_food_classes_10_percent/test/clam_chowder'.\n",
            "There are 0 directories and 250 images in '/content/101_food_classes_10_percent/test/beignets'.\n",
            "There are 0 directories and 250 images in '/content/101_food_classes_10_percent/test/bread_pudding'.\n",
            "There are 0 directories and 250 images in '/content/101_food_classes_10_percent/test/seaweed_salad'.\n",
            "There are 0 directories and 250 images in '/content/101_food_classes_10_percent/test/croque_madame'.\n",
            "There are 0 directories and 250 images in '/content/101_food_classes_10_percent/test/red_velvet_cake'.\n",
            "There are 0 directories and 250 images in '/content/101_food_classes_10_percent/test/chocolate_mousse'.\n",
            "There are 0 directories and 250 images in '/content/101_food_classes_10_percent/test/grilled_salmon'.\n",
            "There are 0 directories and 250 images in '/content/101_food_classes_10_percent/test/prime_rib'.\n",
            "There are 0 directories and 250 images in '/content/101_food_classes_10_percent/test/beef_carpaccio'.\n",
            "There are 0 directories and 250 images in '/content/101_food_classes_10_percent/test/frozen_yogurt'.\n",
            "There are 0 directories and 250 images in '/content/101_food_classes_10_percent/test/donuts'.\n",
            "There are 0 directories and 250 images in '/content/101_food_classes_10_percent/test/edamame'.\n",
            "There are 0 directories and 250 images in '/content/101_food_classes_10_percent/test/tuna_tartare'.\n",
            "There are 0 directories and 250 images in '/content/101_food_classes_10_percent/test/hummus'.\n",
            "There are 0 directories and 250 images in '/content/101_food_classes_10_percent/test/huevos_rancheros'.\n",
            "There are 0 directories and 250 images in '/content/101_food_classes_10_percent/test/grilled_cheese_sandwich'.\n",
            "There are 0 directories and 250 images in '/content/101_food_classes_10_percent/test/eggs_benedict'.\n",
            "There are 0 directories and 250 images in '/content/101_food_classes_10_percent/test/filet_mignon'.\n",
            "There are 0 directories and 250 images in '/content/101_food_classes_10_percent/test/nachos'.\n",
            "There are 0 directories and 250 images in '/content/101_food_classes_10_percent/test/caprese_salad'.\n",
            "There are 0 directories and 250 images in '/content/101_food_classes_10_percent/test/french_onion_soup'.\n",
            "There are 0 directories and 250 images in '/content/101_food_classes_10_percent/test/pad_thai'.\n",
            "There are 0 directories and 250 images in '/content/101_food_classes_10_percent/test/cheese_plate'.\n",
            "There are 0 directories and 250 images in '/content/101_food_classes_10_percent/test/garlic_bread'.\n",
            "There are 0 directories and 250 images in '/content/101_food_classes_10_percent/test/fried_calamari'.\n",
            "There are 0 directories and 250 images in '/content/101_food_classes_10_percent/test/cup_cakes'.\n",
            "There are 0 directories and 250 images in '/content/101_food_classes_10_percent/test/beet_salad'.\n",
            "There are 0 directories and 250 images in '/content/101_food_classes_10_percent/test/french_toast'.\n",
            "There are 0 directories and 250 images in '/content/101_food_classes_10_percent/test/sushi'.\n",
            "There are 0 directories and 250 images in '/content/101_food_classes_10_percent/test/guacamole'.\n",
            "There are 0 directories and 250 images in '/content/101_food_classes_10_percent/test/macaroni_and_cheese'.\n",
            "There are 0 directories and 250 images in '/content/101_food_classes_10_percent/test/steak'.\n",
            "There are 0 directories and 250 images in '/content/101_food_classes_10_percent/test/churros'.\n",
            "There are 0 directories and 250 images in '/content/101_food_classes_10_percent/test/gnocchi'.\n",
            "There are 0 directories and 250 images in '/content/101_food_classes_10_percent/test/falafel'.\n",
            "There are 0 directories and 250 images in '/content/101_food_classes_10_percent/test/lobster_bisque'.\n",
            "There are 0 directories and 250 images in '/content/101_food_classes_10_percent/test/baklava'.\n",
            "There are 0 directories and 250 images in '/content/101_food_classes_10_percent/test/crab_cakes'.\n",
            "There are 0 directories and 250 images in '/content/101_food_classes_10_percent/test/spring_rolls'.\n",
            "There are 0 directories and 250 images in '/content/101_food_classes_10_percent/test/dumplings'.\n",
            "There are 0 directories and 250 images in '/content/101_food_classes_10_percent/test/escargots'.\n",
            "There are 0 directories and 250 images in '/content/101_food_classes_10_percent/test/bruschetta'.\n",
            "There are 0 directories and 250 images in '/content/101_food_classes_10_percent/test/chicken_quesadilla'.\n",
            "There are 0 directories and 250 images in '/content/101_food_classes_10_percent/test/pho'.\n",
            "There are 0 directories and 250 images in '/content/101_food_classes_10_percent/test/chicken_curry'.\n",
            "There are 0 directories and 250 images in '/content/101_food_classes_10_percent/test/chicken_wings'.\n",
            "There are 0 directories and 250 images in '/content/101_food_classes_10_percent/test/onion_rings'.\n",
            "There are 0 directories and 250 images in '/content/101_food_classes_10_percent/test/cannoli'.\n",
            "There are 0 directories and 250 images in '/content/101_food_classes_10_percent/test/cheesecake'.\n",
            "There are 0 directories and 250 images in '/content/101_food_classes_10_percent/test/peking_duck'.\n",
            "There are 0 directories and 250 images in '/content/101_food_classes_10_percent/test/gyoza'.\n",
            "There are 0 directories and 250 images in '/content/101_food_classes_10_percent/test/pancakes'.\n",
            "There are 0 directories and 250 images in '/content/101_food_classes_10_percent/test/scallops'.\n",
            "There are 0 directories and 250 images in '/content/101_food_classes_10_percent/test/spaghetti_bolognese'.\n",
            "There are 0 directories and 250 images in '/content/101_food_classes_10_percent/test/macarons'.\n",
            "There are 0 directories and 250 images in '/content/101_food_classes_10_percent/test/foie_gras'.\n",
            "There are 0 directories and 250 images in '/content/101_food_classes_10_percent/test/pizza'.\n",
            "There are 0 directories and 250 images in '/content/101_food_classes_10_percent/test/deviled_eggs'.\n",
            "There are 0 directories and 250 images in '/content/101_food_classes_10_percent/test/samosa'.\n",
            "There are 0 directories and 250 images in '/content/101_food_classes_10_percent/test/pulled_pork_sandwich'.\n",
            "There are 0 directories and 250 images in '/content/101_food_classes_10_percent/test/oysters'.\n",
            "There are 0 directories and 250 images in '/content/101_food_classes_10_percent/test/hot_dog'.\n",
            "There are 101 directories and 0 images in '/content/101_food_classes_10_percent/train'.\n",
            "There are 0 directories and 75 images in '/content/101_food_classes_10_percent/train/lobster_roll_sandwich'.\n",
            "There are 0 directories and 75 images in '/content/101_food_classes_10_percent/train/tiramisu'.\n",
            "There are 0 directories and 75 images in '/content/101_food_classes_10_percent/train/fried_rice'.\n",
            "There are 0 directories and 75 images in '/content/101_food_classes_10_percent/train/carrot_cake'.\n",
            "There are 0 directories and 75 images in '/content/101_food_classes_10_percent/train/ramen'.\n",
            "There are 0 directories and 75 images in '/content/101_food_classes_10_percent/train/caesar_salad'.\n",
            "There are 0 directories and 75 images in '/content/101_food_classes_10_percent/train/mussels'.\n",
            "There are 0 directories and 75 images in '/content/101_food_classes_10_percent/train/panna_cotta'.\n",
            "There are 0 directories and 75 images in '/content/101_food_classes_10_percent/train/spaghetti_carbonara'.\n",
            "There are 0 directories and 75 images in '/content/101_food_classes_10_percent/train/waffles'.\n",
            "There are 0 directories and 75 images in '/content/101_food_classes_10_percent/train/hamburger'.\n",
            "There are 0 directories and 75 images in '/content/101_food_classes_10_percent/train/beef_tartare'.\n",
            "There are 0 directories and 75 images in '/content/101_food_classes_10_percent/train/ice_cream'.\n",
            "There are 0 directories and 75 images in '/content/101_food_classes_10_percent/train/chocolate_cake'.\n",
            "There are 0 directories and 75 images in '/content/101_food_classes_10_percent/train/apple_pie'.\n",
            "There are 0 directories and 75 images in '/content/101_food_classes_10_percent/train/bibimbap'.\n",
            "There are 0 directories and 75 images in '/content/101_food_classes_10_percent/train/paella'.\n",
            "There are 0 directories and 75 images in '/content/101_food_classes_10_percent/train/ceviche'.\n",
            "There are 0 directories and 75 images in '/content/101_food_classes_10_percent/train/creme_brulee'.\n",
            "There are 0 directories and 75 images in '/content/101_food_classes_10_percent/train/tacos'.\n",
            "There are 0 directories and 75 images in '/content/101_food_classes_10_percent/train/french_fries'.\n",
            "There are 0 directories and 75 images in '/content/101_food_classes_10_percent/train/shrimp_and_grits'.\n",
            "There are 0 directories and 75 images in '/content/101_food_classes_10_percent/train/pork_chop'.\n",
            "There are 0 directories and 75 images in '/content/101_food_classes_10_percent/train/takoyaki'.\n",
            "There are 0 directories and 75 images in '/content/101_food_classes_10_percent/train/poutine'.\n",
            "There are 0 directories and 75 images in '/content/101_food_classes_10_percent/train/miso_soup'.\n",
            "There are 0 directories and 75 images in '/content/101_food_classes_10_percent/train/fish_and_chips'.\n",
            "There are 0 directories and 75 images in '/content/101_food_classes_10_percent/train/greek_salad'.\n",
            "There are 0 directories and 75 images in '/content/101_food_classes_10_percent/train/lasagna'.\n",
            "There are 0 directories and 75 images in '/content/101_food_classes_10_percent/train/breakfast_burrito'.\n",
            "There are 0 directories and 75 images in '/content/101_food_classes_10_percent/train/ravioli'.\n",
            "There are 0 directories and 75 images in '/content/101_food_classes_10_percent/train/risotto'.\n",
            "There are 0 directories and 75 images in '/content/101_food_classes_10_percent/train/club_sandwich'.\n",
            "There are 0 directories and 75 images in '/content/101_food_classes_10_percent/train/sashimi'.\n",
            "There are 0 directories and 75 images in '/content/101_food_classes_10_percent/train/strawberry_shortcake'.\n",
            "There are 0 directories and 75 images in '/content/101_food_classes_10_percent/train/hot_and_sour_soup'.\n",
            "There are 0 directories and 75 images in '/content/101_food_classes_10_percent/train/omelette'.\n",
            "There are 0 directories and 75 images in '/content/101_food_classes_10_percent/train/baby_back_ribs'.\n",
            "There are 0 directories and 75 images in '/content/101_food_classes_10_percent/train/clam_chowder'.\n",
            "There are 0 directories and 75 images in '/content/101_food_classes_10_percent/train/beignets'.\n",
            "There are 0 directories and 75 images in '/content/101_food_classes_10_percent/train/bread_pudding'.\n",
            "There are 0 directories and 75 images in '/content/101_food_classes_10_percent/train/seaweed_salad'.\n",
            "There are 0 directories and 75 images in '/content/101_food_classes_10_percent/train/croque_madame'.\n",
            "There are 0 directories and 75 images in '/content/101_food_classes_10_percent/train/red_velvet_cake'.\n",
            "There are 0 directories and 75 images in '/content/101_food_classes_10_percent/train/chocolate_mousse'.\n",
            "There are 0 directories and 75 images in '/content/101_food_classes_10_percent/train/grilled_salmon'.\n",
            "There are 0 directories and 75 images in '/content/101_food_classes_10_percent/train/prime_rib'.\n",
            "There are 0 directories and 75 images in '/content/101_food_classes_10_percent/train/beef_carpaccio'.\n",
            "There are 0 directories and 75 images in '/content/101_food_classes_10_percent/train/frozen_yogurt'.\n",
            "There are 0 directories and 75 images in '/content/101_food_classes_10_percent/train/donuts'.\n",
            "There are 0 directories and 75 images in '/content/101_food_classes_10_percent/train/edamame'.\n",
            "There are 0 directories and 75 images in '/content/101_food_classes_10_percent/train/tuna_tartare'.\n",
            "There are 0 directories and 75 images in '/content/101_food_classes_10_percent/train/hummus'.\n",
            "There are 0 directories and 75 images in '/content/101_food_classes_10_percent/train/huevos_rancheros'.\n",
            "There are 0 directories and 75 images in '/content/101_food_classes_10_percent/train/grilled_cheese_sandwich'.\n",
            "There are 0 directories and 75 images in '/content/101_food_classes_10_percent/train/eggs_benedict'.\n",
            "There are 0 directories and 75 images in '/content/101_food_classes_10_percent/train/filet_mignon'.\n",
            "There are 0 directories and 75 images in '/content/101_food_classes_10_percent/train/nachos'.\n",
            "There are 0 directories and 75 images in '/content/101_food_classes_10_percent/train/caprese_salad'.\n",
            "There are 0 directories and 75 images in '/content/101_food_classes_10_percent/train/french_onion_soup'.\n",
            "There are 0 directories and 75 images in '/content/101_food_classes_10_percent/train/pad_thai'.\n",
            "There are 0 directories and 75 images in '/content/101_food_classes_10_percent/train/cheese_plate'.\n",
            "There are 0 directories and 75 images in '/content/101_food_classes_10_percent/train/garlic_bread'.\n",
            "There are 0 directories and 75 images in '/content/101_food_classes_10_percent/train/fried_calamari'.\n",
            "There are 0 directories and 75 images in '/content/101_food_classes_10_percent/train/cup_cakes'.\n",
            "There are 0 directories and 75 images in '/content/101_food_classes_10_percent/train/beet_salad'.\n",
            "There are 0 directories and 75 images in '/content/101_food_classes_10_percent/train/french_toast'.\n",
            "There are 0 directories and 75 images in '/content/101_food_classes_10_percent/train/sushi'.\n",
            "There are 0 directories and 75 images in '/content/101_food_classes_10_percent/train/guacamole'.\n",
            "There are 0 directories and 75 images in '/content/101_food_classes_10_percent/train/macaroni_and_cheese'.\n",
            "There are 0 directories and 75 images in '/content/101_food_classes_10_percent/train/steak'.\n",
            "There are 0 directories and 75 images in '/content/101_food_classes_10_percent/train/churros'.\n",
            "There are 0 directories and 75 images in '/content/101_food_classes_10_percent/train/gnocchi'.\n",
            "There are 0 directories and 75 images in '/content/101_food_classes_10_percent/train/falafel'.\n",
            "There are 0 directories and 75 images in '/content/101_food_classes_10_percent/train/lobster_bisque'.\n",
            "There are 0 directories and 75 images in '/content/101_food_classes_10_percent/train/baklava'.\n",
            "There are 0 directories and 75 images in '/content/101_food_classes_10_percent/train/crab_cakes'.\n",
            "There are 0 directories and 75 images in '/content/101_food_classes_10_percent/train/spring_rolls'.\n",
            "There are 0 directories and 75 images in '/content/101_food_classes_10_percent/train/dumplings'.\n",
            "There are 0 directories and 75 images in '/content/101_food_classes_10_percent/train/escargots'.\n",
            "There are 0 directories and 75 images in '/content/101_food_classes_10_percent/train/bruschetta'.\n",
            "There are 0 directories and 75 images in '/content/101_food_classes_10_percent/train/chicken_quesadilla'.\n",
            "There are 0 directories and 75 images in '/content/101_food_classes_10_percent/train/pho'.\n",
            "There are 0 directories and 75 images in '/content/101_food_classes_10_percent/train/chicken_curry'.\n",
            "There are 0 directories and 75 images in '/content/101_food_classes_10_percent/train/chicken_wings'.\n",
            "There are 0 directories and 75 images in '/content/101_food_classes_10_percent/train/onion_rings'.\n",
            "There are 0 directories and 75 images in '/content/101_food_classes_10_percent/train/cannoli'.\n",
            "There are 0 directories and 75 images in '/content/101_food_classes_10_percent/train/cheesecake'.\n",
            "There are 0 directories and 75 images in '/content/101_food_classes_10_percent/train/peking_duck'.\n",
            "There are 0 directories and 75 images in '/content/101_food_classes_10_percent/train/gyoza'.\n",
            "There are 0 directories and 75 images in '/content/101_food_classes_10_percent/train/pancakes'.\n",
            "There are 0 directories and 75 images in '/content/101_food_classes_10_percent/train/scallops'.\n",
            "There are 0 directories and 75 images in '/content/101_food_classes_10_percent/train/spaghetti_bolognese'.\n",
            "There are 0 directories and 75 images in '/content/101_food_classes_10_percent/train/macarons'.\n",
            "There are 0 directories and 75 images in '/content/101_food_classes_10_percent/train/foie_gras'.\n",
            "There are 0 directories and 75 images in '/content/101_food_classes_10_percent/train/pizza'.\n",
            "There are 0 directories and 75 images in '/content/101_food_classes_10_percent/train/deviled_eggs'.\n",
            "There are 0 directories and 75 images in '/content/101_food_classes_10_percent/train/samosa'.\n",
            "There are 0 directories and 75 images in '/content/101_food_classes_10_percent/train/pulled_pork_sandwich'.\n",
            "There are 0 directories and 75 images in '/content/101_food_classes_10_percent/train/oysters'.\n",
            "There are 0 directories and 75 images in '/content/101_food_classes_10_percent/train/hot_dog'.\n"
          ]
        }
      ]
    },
    {
      "cell_type": "code",
      "source": [
        "# Setup data inputs\n",
        "import tensorflow as tf\n",
        "IMG_SIZE = (224, 224)\n",
        "train_data_all_10_percent = tf.keras.preprocessing.image_dataset_from_directory(\n",
        "    train_dir,\n",
        "    label_mode=\"categorical\",\n",
        "    image_size=IMG_SIZE\n",
        ")\n",
        "test_data = tf.keras.preprocessing.image_dataset_from_directory(\n",
        "    test_dir,\n",
        "    label_mode=\"categorical\",\n",
        "    image_size=IMG_SIZE,\n",
        "    shuffle=False\n",
        ")\n",
        "\n"
      ],
      "metadata": {
        "colab": {
          "base_uri": "https://localhost:8080/"
        },
        "id": "F2h8hc9qI53o",
        "outputId": "b5634f08-55d6-47d7-85d6-7e8a457d829d"
      },
      "execution_count": 7,
      "outputs": [
        {
          "output_type": "stream",
          "name": "stdout",
          "text": [
            "Found 7575 files belonging to 101 classes.\n",
            "Found 25250 files belonging to 101 classes.\n"
          ]
        }
      ]
    },
    {
      "cell_type": "markdown",
      "source": [
        "## Train a big dog model with transfer learning on 10% of 101 food classes\n",
        "\n",
        "Here are the steps we are going to take:\n",
        "* Create a ModelCheckpoint callback\n",
        "* Create a data augmentation layers\n",
        "* Build a headless (no top layers) Functional EficcientNetB0 backboned-model\n",
        "* Compile our model\n",
        "* Feature extract 5 full passes"
      ],
      "metadata": {
        "id": "kI31H2dBK7sQ"
      }
    },
    {
      "cell_type": "code",
      "source": [
        "#  Create model checkpoint callback\n",
        "checkpoint_path = \"101_classes_10_percent_data_model_checkpint\"\n",
        "checkpoint_callback = tf.keras.callbacks.ModelCheckpoint(\n",
        "    checkpoint_path,\n",
        "    save_best_only=True,\n",
        "    monitor=\"val_accuracy\",\n",
        "    save_weights_only=True\n",
        "    )"
      ],
      "metadata": {
        "id": "XPlB38kTI51Q"
      },
      "execution_count": 8,
      "outputs": []
    },
    {
      "cell_type": "code",
      "source": [
        "# Create data augmentation layer to incorporate it right into the model\n",
        "from tensorflow.keras import layers\n",
        "from tensorflow.keras.layers.experimental import preprocessing\n",
        "from tensorflow.keras import Sequential\n",
        "\n",
        "\n",
        "# Set up data augmentation\n",
        "data_augmentation = Sequential([\n",
        "    preprocessing.RandomFlip(\"horizontal\"),\n",
        "    preprocessing.RandomRotation(0.2),\n",
        "    preprocessing.RandomHeight(0.2),\n",
        "     preprocessing.RandomWidth(0.2),\n",
        "     preprocessing.RandomZoom(0.2),\n",
        "], name=\"data_augmentation\")\n",
        "\n",
        "\n"
      ],
      "metadata": {
        "id": "fwp5Ss5II5yp"
      },
      "execution_count": 9,
      "outputs": []
    },
    {
      "cell_type": "code",
      "source": [
        "# set up base model\n",
        "\n",
        "base_model = tf.keras.applications.EfficientNetB0(include_top=False)\n",
        "base_model.trainable = False\n",
        "\n",
        "# Setup model architecture\n",
        "inputs= layers.Input(shape=(224, 224, 3), name=\"input_layer\")\n",
        "x = data_augmentation(inputs)\n",
        "x = base_model(x, training=False) # Put the base model in inference mode\n",
        "x = layers.GlobalAveragePooling2D(name=\"global_avg_pool_layer\")(x)\n",
        "outputs = layers.Dense(len(test_data.class_names), activation='softmax', name=\"output_layer\")(x)\n",
        "\n",
        "model = tf.keras.Model(inputs, outputs)"
      ],
      "metadata": {
        "id": "fE54hH8LI5wR",
        "colab": {
          "base_uri": "https://localhost:8080/"
        },
        "outputId": "f979a72b-a72c-4cc1-fdfd-6a4b1aa0da03"
      },
      "execution_count": 10,
      "outputs": [
        {
          "output_type": "stream",
          "name": "stdout",
          "text": [
            "Downloading data from https://storage.googleapis.com/keras-applications/efficientnetb0_notop.h5\n",
            "16705208/16705208 [==============================] - 0s 0us/step\n"
          ]
        }
      ]
    },
    {
      "cell_type": "code",
      "source": [
        "model.summary()"
      ],
      "metadata": {
        "colab": {
          "base_uri": "https://localhost:8080/"
        },
        "id": "jyoLo7dTRfkg",
        "outputId": "52ea25d6-fe90-4843-c789-a9a4b80f0e60"
      },
      "execution_count": 11,
      "outputs": [
        {
          "output_type": "stream",
          "name": "stdout",
          "text": [
            "Model: \"model\"\n",
            "_________________________________________________________________\n",
            " Layer (type)                Output Shape              Param #   \n",
            "=================================================================\n",
            " input_layer (InputLayer)    [(None, 224, 224, 3)]     0         \n",
            "                                                                 \n",
            " data_augmentation (Sequent  (None, None, None, 3)     0         \n",
            " ial)                                                            \n",
            "                                                                 \n",
            " efficientnetb0 (Functional  (None, None, None, 1280   4049571   \n",
            " )                           )                                   \n",
            "                                                                 \n",
            " global_avg_pool_layer (Glo  (None, 1280)              0         \n",
            " balAveragePooling2D)                                            \n",
            "                                                                 \n",
            " output_layer (Dense)        (None, 101)               129381    \n",
            "                                                                 \n",
            "=================================================================\n",
            "Total params: 4178952 (15.94 MB)\n",
            "Trainable params: 129381 (505.39 KB)\n",
            "Non-trainable params: 4049571 (15.45 MB)\n",
            "_________________________________________________________________\n"
          ]
        }
      ]
    },
    {
      "cell_type": "code",
      "source": [
        "# Compile model\n",
        "model.compile(\n",
        "    loss=tf.keras.losses.BinaryCrossentropy(),\n",
        "    optimizer=tf.keras.optimizers.Adam(),\n",
        "    metrics=['accuracy']\n",
        ")\n"
      ],
      "metadata": {
        "id": "EIrKRzNyRfiZ"
      },
      "execution_count": 12,
      "outputs": []
    },
    {
      "cell_type": "code",
      "source": [
        "# Fit model\n",
        "\n",
        "history_10_percent = model.fit(\n",
        "    train_data_all_10_percent,\n",
        "    epochs=3,\n",
        "    validation_data=test_data,\n",
        "    validation_steps=int(0.15 * len(test_data)), # Valide only on 15 off test data\n",
        "    callbacks=[checkpoint_callback]\n",
        "    )"
      ],
      "metadata": {
        "colab": {
          "base_uri": "https://localhost:8080/"
        },
        "id": "p7GMvz7hRfgQ",
        "outputId": "01a3f4ad-761e-49e4-d564-51eb0b31e2da"
      },
      "execution_count": 13,
      "outputs": [
        {
          "output_type": "stream",
          "name": "stdout",
          "text": [
            "Epoch 1/3\n",
            "237/237 [==============================] - 117s 426ms/step - loss: 0.0872 - accuracy: 0.1465 - val_loss: 0.0498 - val_accuracy: 0.2876\n",
            "Epoch 2/3\n",
            "237/237 [==============================] - 77s 321ms/step - loss: 0.0463 - accuracy: 0.3979 - val_loss: 0.0422 - val_accuracy: 0.4153\n",
            "Epoch 3/3\n",
            "237/237 [==============================] - 68s 283ms/step - loss: 0.0388 - accuracy: 0.4974 - val_loss: 0.0384 - val_accuracy: 0.4738\n"
          ]
        }
      ]
    },
    {
      "cell_type": "code",
      "source": [
        "# Evaluate on the wole test dataset\n",
        "feature_extraction_results = model.evaluate(test_data)\n",
        "feature_extraction_results"
      ],
      "metadata": {
        "colab": {
          "base_uri": "https://localhost:8080/"
        },
        "id": "0S3iXeHFp3tn",
        "outputId": "c86ce776-28a7-4733-85b6-323f7df3dac1"
      },
      "execution_count": 14,
      "outputs": [
        {
          "output_type": "stream",
          "name": "stdout",
          "text": [
            "790/790 [==============================] - 59s 74ms/step - loss: 0.0379 - accuracy: 0.5307\n"
          ]
        },
        {
          "output_type": "execute_result",
          "data": {
            "text/plain": [
              "[0.03787759691476822, 0.5307326912879944]"
            ]
          },
          "metadata": {},
          "execution_count": 14
        }
      ]
    },
    {
      "cell_type": "code",
      "source": [
        "plot_loss_curves(history_10_percent)"
      ],
      "metadata": {
        "colab": {
          "base_uri": "https://localhost:8080/",
          "height": 927
        },
        "id": "nTKiOlQcZA8M",
        "outputId": "76407978-0dd1-4214-d9ee-78cbafc76ce1"
      },
      "execution_count": 15,
      "outputs": [
        {
          "output_type": "display_data",
          "data": {
            "text/plain": [
              "<Figure size 640x480 with 1 Axes>"
            ],
            "image/png": "[encoded data removed]"
          },
          "metadata": {}
        },
        {
          "output_type": "display_data",
          "data": {
            "text/plain": [
              "<Figure size 640x480 with 1 Axes>"
            ],
            "image/png": "[encoded data removed]"
          },
          "metadata": {}
        }
      ]
    },
    {
      "cell_type": "markdown",
      "source": [
        "## Fine tuning"
      ],
      "metadata": {
        "id": "jskyU7DZk-M4"
      }
    },
    {
      "cell_type": "code",
      "source": [
        "# Unfreze all of the layers in the base model\n",
        "base_model.trainable = True\n",
        "\n",
        "# Refreeze every layer except last 5\n",
        "for layer in base_model.layers[:-5]:\n",
        "  layer.trainable = False\n",
        ""
      ],
      "metadata": {
        "id": "am-nmyhCZA5f"
      },
      "execution_count": 16,
      "outputs": []
    },
    {
      "cell_type": "code",
      "source": [
        "# Recompile model with lower rate since we are fine tuning\n",
        "model.compile(\n",
        "    loss=tf.keras.losses.BinaryCrossentropy(),\n",
        "    optimizer=tf.keras.optimizers.Adam(learning_rate=0.0001),\n",
        "    metrics=['accuracy']\n",
        ")"
      ],
      "metadata": {
        "id": "EWjyUu8GZA28"
      },
      "execution_count": 17,
      "outputs": []
    },
    {
      "cell_type": "code",
      "source": [
        "# What layer in the model are trainable\n",
        "for layer in model.layers:\n",
        "  print(layer.name, layer.trainable)"
      ],
      "metadata": {
        "colab": {
          "base_uri": "https://localhost:8080/"
        },
        "id": "A_CUQwLqZA0j",
        "outputId": "c33f9a24-1b5f-4f97-c03a-6393f280ebdb"
      },
      "execution_count": 18,
      "outputs": [
        {
          "output_type": "stream",
          "name": "stdout",
          "text": [
            "input_layer True\n",
            "data_augmentation True\n",
            "efficientnetb0 True\n",
            "global_avg_pool_layer True\n",
            "output_layer True\n"
          ]
        }
      ]
    },
    {
      "cell_type": "code",
      "source": [
        "# Check which layers are trainable in our base model\n",
        "for layer_number, layer in enumerate(model.layers[2].layers):\n",
        "  print(layer_number, layer.name, layer.trainable)"
      ],
      "metadata": {
        "id": "3GQ5Wr-LZAyU"
      },
      "execution_count": null,
      "outputs": []
    },
    {
      "cell_type": "code",
      "source": [
        "# Fine tune for 5 more epochs\n",
        "fine_tune_epochs = 5 # Model has already 5 epochs (feature extration)\n",
        "\n",
        "history_all_classes_10_percent_fine_tune = model.fit(\n",
        "   train_data_all_10_percent,\n",
        "    epochs=fine_tune_epochs,\n",
        "   initial_epoch=history_10_percent.epoch[-1],\n",
        "    validation_data=test_data,\n",
        "    validation_steps=int(0.15 * len(test_data)), # Valide only on 15 off test data\n",
        "    callbacks=[checkpoint_callback]\n",
        "\n",
        ")"
      ],
      "metadata": {
        "colab": {
          "base_uri": "https://localhost:8080/"
        },
        "id": "HkIsdGIamLGf",
        "outputId": "124f4023-3f87-43e8-aefa-fac755a2bf82"
      },
      "execution_count": 22,
      "outputs": [
        {
          "output_type": "stream",
          "name": "stdout",
          "text": [
            "Epoch 3/5\n",
            "237/237 [==============================] - 64s 269ms/step - loss: 0.0276 - accuracy: 0.5773 - val_loss: 0.0298 - val_accuracy: 0.5079\n",
            "Epoch 4/5\n",
            "237/237 [==============================] - 64s 269ms/step - loss: 0.0252 - accuracy: 0.5995 - val_loss: 0.0285 - val_accuracy: 0.5236\n",
            "Epoch 5/5\n",
            "237/237 [==============================] - 53s 222ms/step - loss: 0.0236 - accuracy: 0.6255 - val_loss: 0.0278 - val_accuracy: 0.5336\n"
          ]
        }
      ]
    },
    {
      "cell_type": "code",
      "source": [
        "all_classes_10_percent_fine_tune_results = model.evaluate(test_data)\n",
        "all_classes_10_percent_fine_tune_results"
      ],
      "metadata": {
        "colab": {
          "base_uri": "https://localhost:8080/"
        },
        "id": "l9DgIpEvmLEA",
        "outputId": "6b13278c-ad4c-4cb4-e942-d1d36c9fcddc"
      },
      "execution_count": 23,
      "outputs": [
        {
          "output_type": "stream",
          "name": "stdout",
          "text": [
            "790/790 [==============================] - 62s 78ms/step - loss: 0.0248 - accuracy: 0.5870\n"
          ]
        },
        {
          "output_type": "execute_result",
          "data": {
            "text/plain": [
              "[0.024769574403762817, 0.5870494842529297]"
            ]
          },
          "metadata": {},
          "execution_count": 23
        }
      ]
    },
    {
      "cell_type": "code",
      "source": [
        "# Compare histories of feature extraction with fine tunning\n",
        "compare_historys(history_10_percent, history_all_classes_10_percent_fine_tune, 5)"
      ],
      "metadata": {
        "colab": {
          "base_uri": "https://localhost:8080/",
          "height": 665
        },
        "id": "n94omnwlmLB3",
        "outputId": "a2f12eb0-1bdf-4684-caf1-3c71dbd77643"
      },
      "execution_count": 24,
      "outputs": [
        {
          "output_type": "display_data",
          "data": {
            "text/plain": [
              "<Figure size 800x800 with 2 Axes>"
            ],
            "image/png": "[encoded data removed]"
          },
          "metadata": {}
        }
      ]
    },
    {
      "cell_type": "markdown",
      "source": [
        "## Saving and loading model\n"
      ],
      "metadata": {
        "id": "JRBkRDAlssyt"
      }
    },
    {
      "cell_type": "code",
      "source": [
        "# Save our fine tuning model"
      ],
      "metadata": {
        "id": "Yz_NBOP3mK_o"
      },
      "execution_count": 25,
      "outputs": []
    },
    {
      "cell_type": "code",
      "source": [
        "model.save(\"/content/drive/MyDrive/TF Models/01_f00d_classes_10_percent\")"
      ],
      "metadata": {
        "id": "OUgaZlfmmK9Q"
      },
      "execution_count": 27,
      "outputs": []
    },
    {
      "cell_type": "code",
      "source": [
        "# Load and evaluate saved model\n",
        "loaded_model = tf.keras.models.load_model(\"/content/drive/MyDrive/TF Models/01_f00d_classes_10_percent\")"
      ],
      "metadata": {
        "id": "xoAFODW-mK6_"
      },
      "execution_count": 28,
      "outputs": []
    },
    {
      "cell_type": "code",
      "source": [
        "# Evalaute loaded model and compare perfomance\n",
        "loaded_model_results = loaded_model.evaluate(test_data)\n",
        "loaded_model_results"
      ],
      "metadata": {
        "colab": {
          "base_uri": "https://localhost:8080/"
        },
        "id": "UaLRXDSOs1KR",
        "outputId": "c071aa5f-4a12-40af-9490-fd09d94e8bfa"
      },
      "execution_count": 29,
      "outputs": [
        {
          "output_type": "stream",
          "name": "stdout",
          "text": [
            "790/790 [==============================] - 62s 76ms/step - loss: 0.0248 - accuracy: 0.5870\n"
          ]
        },
        {
          "output_type": "execute_result",
          "data": {
            "text/plain": [
              "[0.024769574403762817, 0.5870494842529297]"
            ]
          },
          "metadata": {},
          "execution_count": 29
        }
      ]
    },
    {
      "cell_type": "code",
      "source": [
        "all_classes_10_percent_fine_tune_results"
      ],
      "metadata": {
        "colab": {
          "base_uri": "https://localhost:8080/"
        },
        "id": "SxA42vhstrqk",
        "outputId": "a51a1bcd-8320-4577-db3e-57d99571f5c7"
      },
      "execution_count": 30,
      "outputs": [
        {
          "output_type": "execute_result",
          "data": {
            "text/plain": [
              "[0.024769574403762817, 0.5870494842529297]"
            ]
          },
          "metadata": {},
          "execution_count": 30
        }
      ]
    },
    {
      "cell_type": "code",
      "source": [],
      "metadata": {
        "id": "9WqnxnLDwe6D"
      },
      "execution_count": 31,
      "outputs": []
    },
    {
      "cell_type": "code",
      "source": [
        "loaded_model_results == all_classes_10_percent_fine_tune_results"
      ],
      "metadata": {
        "colab": {
          "base_uri": "https://localhost:8080/"
        },
        "id": "4AYCRlpcs1H9",
        "outputId": "0a92ba18-9ba8-4b34-9b96-074e0504463c"
      },
      "execution_count": 32,
      "outputs": [
        {
          "output_type": "execute_result",
          "data": {
            "text/plain": [
              "True"
            ]
          },
          "metadata": {},
          "execution_count": 32
        }
      ]
    },
    {
      "cell_type": "markdown",
      "source": [
        "## Evaluation the performance of the big model across all data"
      ],
      "metadata": {
        "id": "nGHX8FhWOxuZ"
      }
    },
    {
      "cell_type": "code",
      "source": [
        "import tensorflow as tf\n",
        "\n",
        "# Download pre-trained model from Google Storage (like a cooking show, I trained this model earlier, so the results may be different than above)\n",
        "!wget https://storage.googleapis.com/ztm_tf_course/food_vision/06_101_food_class_10_percent_saved_big_dog_model.zip\n",
        "saved_model_path = \"06_101_food_class_10_percent_saved_big_dog_model.zip\"\n",
        "unzip_data(saved_model_path)\n",
        "\n",
        "# Note: loading a model will output a lot of 'WARNINGS', these can be ignored: https://www.tensorflow.org/tutorials/keras/save_and_load#save_checkpoints_during_training\n",
        "# There's also a thread on GitHub trying to fix these warnings: https://github.com/tensorflow/tensorflow/issues/40166\n",
        "# model = tf.keras.models.load_model(\"drive/My Drive/tensorflow_course/101_food_class_10_percent_saved_big_dog_model/\") # path to drive model\n",
        "model = tf.keras.models.load_model(saved_model_path.split(\".\")[0]) # don't include \".zip\" in loaded model path\n"
      ],
      "metadata": {
        "id": "c2o8ngFRs1Ft"
      },
      "execution_count": null,
      "outputs": []
    },
    {
      "cell_type": "code",
      "source": [
        "\n",
        "# Check to see if loaded model is a trained model\n",
        "loaded_loss, loaded_accuracy = model.evaluate(test_data)\n",
        "loaded_loss, loaded_accuracy"
      ],
      "metadata": {
        "colab": {
          "base_uri": "https://localhost:8080/"
        },
        "id": "B4RIyFo1s1Dr",
        "outputId": "93d6749a-6514-4efd-d34e-41ed7177a0a7"
      },
      "execution_count": 34,
      "outputs": [
        {
          "output_type": "stream",
          "name": "stdout",
          "text": [
            "790/790 [==============================] - 64s 79ms/step - loss: 1.8027 - accuracy: 0.6078\n"
          ]
        },
        {
          "output_type": "execute_result",
          "data": {
            "text/plain": [
              "(1.8027206659317017, 0.6077623963356018)"
            ]
          },
          "metadata": {},
          "execution_count": 34
        }
      ]
    },
    {
      "cell_type": "markdown",
      "source": [
        "## Making predictions with trained model"
      ],
      "metadata": {
        "id": "9m9iB4enP1SC"
      }
    },
    {
      "cell_type": "code",
      "source": [
        "preds_probs = model.predict(test_data, verbose=1)"
      ],
      "metadata": {
        "colab": {
          "base_uri": "https://localhost:8080/"
        },
        "id": "vm_PSBZys1BW",
        "outputId": "b7af2e21-b84b-48e8-938c-69bd7ab60a5f"
      },
      "execution_count": 35,
      "outputs": [
        {
          "output_type": "stream",
          "name": "stdout",
          "text": [
            "790/790 [==============================] - 64s 79ms/step\n"
          ]
        }
      ]
    },
    {
      "cell_type": "code",
      "source": [
        "# How many predictions are there?\n",
        "len(preds_probs)"
      ],
      "metadata": {
        "colab": {
          "base_uri": "https://localhost:8080/"
        },
        "id": "MLdUmd8ys0-1",
        "outputId": "e036d2a6-ffa3-4432-e6b5-9e1847ddcdd9"
      },
      "execution_count": 37,
      "outputs": [
        {
          "output_type": "execute_result",
          "data": {
            "text/plain": [
              "25250"
            ]
          },
          "metadata": {},
          "execution_count": 37
        }
      ]
    },
    {
      "cell_type": "code",
      "source": [
        "preds_probs.shape"
      ],
      "metadata": {
        "colab": {
          "base_uri": "https://localhost:8080/"
        },
        "id": "fPEgXCKBs08l",
        "outputId": "e33b2681-80f6-4791-f15c-b69af4dcc6c6"
      },
      "execution_count": 38,
      "outputs": [
        {
          "output_type": "execute_result",
          "data": {
            "text/plain": [
              "(25250, 101)"
            ]
          },
          "metadata": {},
          "execution_count": 38
        }
      ]
    },
    {
      "cell_type": "code",
      "source": [
        "# Lets see what the first 10 predictions look like\n",
        "preds_probs[:10]"
      ],
      "metadata": {
        "colab": {
          "base_uri": "https://localhost:8080/"
        },
        "id": "L5kc0zMes06V",
        "outputId": "f1ad6437-dab5-4e3c-80fe-0872ad7ce45f"
      },
      "execution_count": 39,
      "outputs": [
        {
          "output_type": "execute_result",
          "data": {
            "text/plain": [
              "array([[5.9542079e-02, 3.5742114e-06, 4.1377071e-02, ..., 1.4138705e-09,\n",
              "        8.3530424e-05, 3.0897493e-03],\n",
              "       [9.6401680e-01, 1.3753272e-09, 8.4780494e-04, ..., 5.4286946e-05,\n",
              "        7.8362065e-12, 9.8466024e-10],\n",
              "       [9.5925868e-01, 3.2533771e-05, 1.4867012e-03, ..., 7.1891407e-07,\n",
              "        5.4397475e-07, 4.0276118e-05],\n",
              "       ...,\n",
              "       [4.7313249e-01, 1.2931206e-07, 1.4805582e-03, ..., 5.9750117e-04,\n",
              "        6.6969209e-05, 2.3469403e-05],\n",
              "       [4.4571843e-02, 4.7265397e-07, 1.2258503e-01, ..., 6.3498451e-06,\n",
              "        7.5318876e-06, 3.6778769e-03],\n",
              "       [7.2438902e-01, 1.9249717e-09, 5.2310897e-05, ..., 1.2291410e-03,\n",
              "        1.5792732e-09, 9.6395481e-05]], dtype=float32)"
            ]
          },
          "metadata": {},
          "execution_count": 39
        }
      ]
    },
    {
      "cell_type": "code",
      "source": [
        "preds_probs[0], sum(preds_probs[0])"
      ],
      "metadata": {
        "colab": {
          "base_uri": "https://localhost:8080/"
        },
        "id": "K7SmIdYqQwtZ",
        "outputId": "9f7f612c-be4f-45c7-b99b-3f053683c0ce"
      },
      "execution_count": 41,
      "outputs": [
        {
          "output_type": "execute_result",
          "data": {
            "text/plain": [
              "(array([5.9542079e-02, 3.5742114e-06, 4.1377071e-02, 1.0660534e-09,\n",
              "        8.1614422e-09, 8.6639478e-09, 8.0927344e-07, 8.5652732e-07,\n",
              "        1.9859108e-05, 8.0977674e-07, 3.1727800e-09, 9.8673911e-07,\n",
              "        2.8532281e-04, 7.8048890e-10, 7.4230117e-04, 3.8916227e-05,\n",
              "        6.4740480e-06, 2.4977348e-06, 3.7891161e-05, 2.0678284e-07,\n",
              "        1.5538406e-05, 8.1507324e-07, 2.6230616e-06, 2.0010684e-07,\n",
              "        8.3827518e-07, 5.4215925e-06, 3.7390960e-06, 1.3150530e-08,\n",
              "        2.7761441e-03, 2.8051916e-05, 6.8562017e-10, 2.5574853e-05,\n",
              "        1.6688927e-04, 7.6406986e-10, 4.0452811e-04, 1.3150683e-08,\n",
              "        1.7957391e-06, 1.4448174e-06, 2.3062844e-02, 8.2466693e-07,\n",
              "        8.5365679e-07, 1.7138593e-06, 7.0525425e-06, 1.8402130e-08,\n",
              "        2.8553373e-07, 7.9483443e-06, 2.0681530e-06, 1.8525149e-07,\n",
              "        3.3619703e-08, 3.1522504e-04, 1.0410941e-05, 8.5448431e-07,\n",
              "        8.4741855e-01, 1.0555424e-05, 4.4094787e-07, 3.7404032e-05,\n",
              "        3.5306188e-05, 3.2488941e-05, 6.7314730e-05, 1.2852589e-08,\n",
              "        2.6219654e-10, 1.0318089e-05, 8.5743537e-05, 1.0569885e-06,\n",
              "        2.1293431e-06, 3.7637546e-05, 7.5972999e-08, 2.5340484e-04,\n",
              "        9.2905839e-07, 1.2598184e-04, 6.2621652e-06, 1.2458726e-08,\n",
              "        4.0519761e-05, 6.8728362e-08, 1.2546279e-06, 5.2887579e-08,\n",
              "        7.5424772e-08, 7.5398566e-05, 7.7540280e-05, 6.4026000e-07,\n",
              "        9.9033286e-07, 2.2225964e-05, 1.5013904e-05, 1.4038487e-07,\n",
              "        1.2232555e-05, 1.9044720e-02, 4.9999551e-05, 4.6226301e-06,\n",
              "        1.5388237e-07, 3.3824190e-07, 3.9228327e-09, 1.6563671e-07,\n",
              "        8.1320599e-05, 4.8965248e-06, 2.4068254e-07, 2.3124088e-05,\n",
              "        3.1040542e-04, 3.1379997e-05, 1.4138705e-09, 8.3530424e-05,\n",
              "        3.0897493e-03], dtype=float32),\n",
              " 1.0000000551614674)"
            ]
          },
          "metadata": {},
          "execution_count": 41
        }
      ]
    },
    {
      "cell_type": "markdown",
      "source": [
        "Our model outputs a prediction probability array"
      ],
      "metadata": {
        "id": "h4uDjDI2RKhJ"
      }
    },
    {
      "cell_type": "code",
      "source": [
        "# We get one prediction per class\n",
        "print(f\"Number of prediction probs for sample 0: {len(preds_probs[0])}\")\n",
        "print(f\"What predictions prob sample 0 looks like:\\n {preds_probs[0]}\")\n",
        "print(f\"The class with the highes predicted prob by the model sample 0: {preds_probs[0].argmax()}\")"
      ],
      "metadata": {
        "colab": {
          "base_uri": "https://localhost:8080/"
        },
        "id": "vZWCOeIzQwgj",
        "outputId": "95eddfc2-cc3c-4915-a0b4-fbd4bd910b61"
      },
      "execution_count": 42,
      "outputs": [
        {
          "output_type": "stream",
          "name": "stdout",
          "text": [
            "Number of prediction probs for sample 0: 101\n",
            "What predictions prob sample 0 looks like:\n",
            " [5.9542079e-02 3.5742114e-06 4.1377071e-02 1.0660534e-09 8.1614422e-09\n",
            " 8.6639478e-09 8.0927344e-07 8.5652732e-07 1.9859108e-05 8.0977674e-07\n",
            " 3.1727800e-09 9.8673911e-07 2.8532281e-04 7.8048890e-10 7.4230117e-04\n",
            " 3.8916227e-05 6.4740480e-06 2.4977348e-06 3.7891161e-05 2.0678284e-07\n",
            " 1.5538406e-05 8.1507324e-07 2.6230616e-06 2.0010684e-07 8.3827518e-07\n",
            " 5.4215925e-06 3.7390960e-06 1.3150530e-08 2.7761441e-03 2.8051916e-05\n",
            " 6.8562017e-10 2.5574853e-05 1.6688927e-04 7.6406986e-10 4.0452811e-04\n",
            " 1.3150683e-08 1.7957391e-06 1.4448174e-06 2.3062844e-02 8.2466693e-07\n",
            " 8.5365679e-07 1.7138593e-06 7.0525425e-06 1.8402130e-08 2.8553373e-07\n",
            " 7.9483443e-06 2.0681530e-06 1.8525149e-07 3.3619703e-08 3.1522504e-04\n",
            " 1.0410941e-05 8.5448431e-07 8.4741855e-01 1.0555424e-05 4.4094787e-07\n",
            " 3.7404032e-05 3.5306188e-05 3.2488941e-05 6.7314730e-05 1.2852589e-08\n",
            " 2.6219654e-10 1.0318089e-05 8.5743537e-05 1.0569885e-06 2.1293431e-06\n",
            " 3.7637546e-05 7.5972999e-08 2.5340484e-04 9.2905839e-07 1.2598184e-04\n",
            " 6.2621652e-06 1.2458726e-08 4.0519761e-05 6.8728362e-08 1.2546279e-06\n",
            " 5.2887579e-08 7.5424772e-08 7.5398566e-05 7.7540280e-05 6.4026000e-07\n",
            " 9.9033286e-07 2.2225964e-05 1.5013904e-05 1.4038487e-07 1.2232555e-05\n",
            " 1.9044720e-02 4.9999551e-05 4.6226301e-06 1.5388237e-07 3.3824190e-07\n",
            " 3.9228327e-09 1.6563671e-07 8.1320599e-05 4.8965248e-06 2.4068254e-07\n",
            " 2.3124088e-05 3.1040542e-04 3.1379997e-05 1.4138705e-09 8.3530424e-05\n",
            " 3.0897493e-03]\n",
            "The class with the highes predicted prob by the model sample 0: 52\n"
          ]
        }
      ]
    },
    {
      "cell_type": "code",
      "source": [
        "test_data.class_names[52]"
      ],
      "metadata": {
        "colab": {
          "base_uri": "https://localhost:8080/",
          "height": 35
        },
        "id": "AV8pLh6xQwfY",
        "outputId": "70b289e2-112f-4be0-9c1f-839b9efc3208"
      },
      "execution_count": 43,
      "outputs": [
        {
          "output_type": "execute_result",
          "data": {
            "text/plain": [
              "'gyoza'"
            ],
            "application/vnd.google.colaboratory.intrinsic+json": {
              "type": "string"
            }
          },
          "metadata": {},
          "execution_count": 43
        }
      ]
    },
    {
      "cell_type": "code",
      "source": [
        "pred_classes = preds_probs.argmax(axis=1)\n",
        "\n",
        "# How they look\n",
        "pred_classes"
      ],
      "metadata": {
        "colab": {
          "base_uri": "https://localhost:8080/"
        },
        "id": "sqyI8D-1QweC",
        "outputId": "bc72f560-71c6-40d8-fb0e-e43540fd15d3"
      },
      "execution_count": 45,
      "outputs": [
        {
          "output_type": "execute_result",
          "data": {
            "text/plain": [
              "array([ 52,   0,   0, ..., 100,  94, 100])"
            ]
          },
          "metadata": {},
          "execution_count": 45
        }
      ]
    },
    {
      "cell_type": "code",
      "source": [
        "len(pred_classes)"
      ],
      "metadata": {
        "colab": {
          "base_uri": "https://localhost:8080/"
        },
        "id": "kmHJb9HQQwYY",
        "outputId": "0583ea4f-0279-4935-cd4c-ce263c73e5cb"
      },
      "execution_count": 46,
      "outputs": [
        {
          "output_type": "execute_result",
          "data": {
            "text/plain": [
              "25250"
            ]
          },
          "metadata": {},
          "execution_count": 46
        }
      ]
    }
  ]
}